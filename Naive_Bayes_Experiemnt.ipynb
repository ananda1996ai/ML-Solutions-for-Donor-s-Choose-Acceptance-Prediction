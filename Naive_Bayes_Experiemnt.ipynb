{
  "nbformat": 4,
  "nbformat_minor": 0,
  "metadata": {
    "colab": {
      "name": "Naive_Bayes_Experiemnt.ipynb",
      "provenance": [],
      "collapsed_sections": [
        "6JpBeZ5CF1oM",
        "gNkaETDts87r",
        "9CGvoMkuHEY1",
        "HearN_5n2E4P",
        "6aq89j4kNQ8S",
        "ON-RL1-Ievc8"
      ],
      "machine_shape": "hm",
      "include_colab_link": true
    },
    "kernelspec": {
      "name": "python3",
      "display_name": "Python 3"
    },
    "accelerator": "TPU"
  },
  "cells": [
    {
      "cell_type": "markdown",
      "metadata": {
        "id": "view-in-github",
        "colab_type": "text"
      },
      "source": [
        "<a href=\"https://colab.research.google.com/github/ananda1996ai/ML-Solutions-for-Donors-Choose-Acceptance-Prediction/blob/master/Naive_Bayes_Experiemnt.ipynb\" target=\"_parent\"><img src=\"https://colab.research.google.com/assets/colab-badge.svg\" alt=\"Open In Colab\"/></a>"
      ]
    },
    {
      "cell_type": "markdown",
      "metadata": {
        "id": "QAzddpf0F2Wm",
        "colab_type": "text"
      },
      "source": [
        "# Naive Bayes Experiment"
      ]
    },
    {
      "cell_type": "markdown",
      "metadata": {
        "id": "etNpzy7rCyl2",
        "colab_type": "text"
      },
      "source": [
        "<p>\n",
        "DonorsChoose.org receives hundreds of thousands of project proposals each year for classroom projects in need of funding. Right now, a large number of volunteers is needed to manually screen each submission before it's approved to be posted on the DonorsChoose.org website.\n",
        "</p>\n",
        "<p>\n",
        "    Next year, DonorsChoose.org expects to receive close to 500,000 project proposals. As a result, there are three main problems they need to solve:\n",
        "<ul>\n",
        "<li>\n",
        "    How to scale current manual processes and resources to screen 500,000 projects so that they can be posted as quickly and as efficiently as possible</li>\n",
        "    <li>How to increase the consistency of project vetting across different volunteers to improve the experience for teachers</li>\n",
        "    <li>How to focus volunteer time on the applications that need the most assistance</li>\n",
        "    </ul>\n",
        "</p>    \n",
        "<p>\n",
        "The goal of the competition is to predict whether or not a DonorsChoose.org project proposal submitted by a teacher will be approved, using the text of project descriptions as well as additional metadata about the project, teacher, and school. DonorsChoose.org can then use this information to identify projects most likely to need further review before approval.\n",
        "</p>"
      ]
    },
    {
      "cell_type": "markdown",
      "metadata": {
        "id": "kO2Kg7TgCyl4",
        "colab_type": "text"
      },
      "source": [
        "## About the DonorsChoose Data Set\n",
        "\n",
        "The `train.csv` data set provided by DonorsChoose contains the following features:\n",
        "\n",
        "Feature | Description \n",
        "----------|---------------\n",
        "**`project_id`** | A unique identifier for the proposed project. **Example:** `p036502`   \n",
        "**`project_title`**    | Title of the project. **Examples:**<br><ul><li><code>Art Will Make You Happy!</code></li><li><code>First Grade Fun</code></li></ul> \n",
        "**`project_grade_category`** | Grade level of students for which the project is targeted. One of the following enumerated values: <br/><ul><li><code>Grades PreK-2</code></li><li><code>Grades 3-5</code></li><li><code>Grades 6-8</code></li><li><code>Grades 9-12</code></li></ul>  \n",
        " **`project_subject_categories`** | One or more (comma-separated) subject categories for the project from the following enumerated list of values:  <br/><ul><li><code>Applied Learning</code></li><li><code>Care &amp; Hunger</code></li><li><code>Health &amp; Sports</code></li><li><code>History &amp; Civics</code></li><li><code>Literacy &amp; Language</code></li><li><code>Math &amp; Science</code></li><li><code>Music &amp; The Arts</code></li><li><code>Special Needs</code></li><li><code>Warmth</code></li></ul><br/> **Examples:** <br/><ul><li><code>Music &amp; The Arts</code></li><li><code>Literacy &amp; Language, Math &amp; Science</code></li>  \n",
        "  **`school_state`** | State where school is located ([Two-letter U.S. postal code](https://en.wikipedia.org/wiki/List_of_U.S._state_abbreviations#Postal_codes)). **Example:** `WY`\n",
        "**`project_subject_subcategories`** | One or more (comma-separated) subject subcategories for the project. **Examples:** <br/><ul><li><code>Literacy</code></li><li><code>Literature &amp; Writing, Social Sciences</code></li></ul> \n",
        "**`project_resource_summary`** | An explanation of the resources needed for the project. **Example:** <br/><ul><li><code>My students need hands on literacy materials to manage sensory needs!</code</li></ul> \n",
        "**`project_essay_1`**    | First application essay<sup>*</sup>  \n",
        "**`project_essay_2`**    | Second application essay<sup>*</sup> \n",
        "**`project_essay_3`**    | Third application essay<sup>*</sup> \n",
        "**`project_essay_4`**    | Fourth application essay<sup>*</sup> \n",
        "**`project_submitted_datetime`** | Datetime when project application was submitted. **Example:** `2016-04-28 12:43:56.245`   \n",
        "**`teacher_id`** | A unique identifier for the teacher of the proposed project. **Example:** `bdf8baa8fedef6bfeec7ae4ff1c15c56`  \n",
        "**`teacher_prefix`** | Teacher's title. One of the following enumerated values: <br/><ul><li><code>nan</code></li><li><code>Dr.</code></li><li><code>Mr.</code></li><li><code>Mrs.</code></li><li><code>Ms.</code></li><li><code>Teacher.</code></li></ul>  \n",
        "**`teacher_number_of_previously_posted_projects`** | Number of project applications previously submitted by the same teacher. **Example:** `2` \n",
        "\n",
        "<sup>*</sup> See the section <b>Notes on the Essay Data</b> for more details about these features.\n",
        "\n",
        "Additionally, the `resources.csv` data set provides more data about the resources required for each project. Each line in this file represents a resource required by a project:\n",
        "\n",
        "Feature | Description \n",
        "----------|---------------\n",
        "**`id`** | A `project_id` value from the `train.csv` file.  **Example:** `p036502`   \n",
        "**`description`** | Desciption of the resource. **Example:** `Tenor Saxophone Reeds, Box of 25`   \n",
        "**`quantity`** | Quantity of the resource required. **Example:** `3`   \n",
        "**`price`** | Price of the resource required. **Example:** `9.95`   \n",
        "\n",
        "**Note:** Many projects require multiple resources. The `id` value corresponds to a `project_id` in train.csv, so you use it as a key to retrieve all resources needed for a project:\n",
        "\n",
        "The data set contains the following label (the value you will attempt to predict):\n",
        "\n",
        "Label | Description\n",
        "----------|---------------\n",
        "`project_is_approved` | A binary flag indicating whether DonorsChoose approved the project. A value of `0` indicates the project was not approved, and a value of `1` indicates the project was approved."
      ]
    },
    {
      "cell_type": "markdown",
      "metadata": {
        "id": "dBGA_YStCyl6",
        "colab_type": "text"
      },
      "source": [
        "### Notes on the Essay Data\n",
        "\n",
        "<ul>\n",
        "Prior to May 17, 2016, the prompts for the essays were as follows:\n",
        "<li>__project_essay_1:__ \"Introduce us to your classroom\"</li>\n",
        "<li>__project_essay_2:__ \"Tell us more about your students\"</li>\n",
        "<li>__project_essay_3:__ \"Describe how your students will use the materials you're requesting\"</li>\n",
        "<li>__project_essay_3:__ \"Close by sharing why your project will make a difference\"</li>\n",
        "</ul>\n",
        "\n",
        "\n",
        "<ul>\n",
        "Starting on May 17, 2016, the number of essays was reduced from 4 to 2, and the prompts for the first 2 essays were changed to the following:<br>\n",
        "<li>__project_essay_1:__ \"Describe your students: What makes your students special? Specific details about their background, your neighborhood, and your school are all helpful.\"</li>\n",
        "<li>__project_essay_2:__ \"About your project: How will these materials make a difference in your students' learning and improve their school lives?\"</li>\n",
        "<br>For all projects with project_submitted_datetime of 2016-05-17 and later, the values of project_essay_3 and project_essay_4 will be NaN.\n",
        "</ul>\n"
      ]
    },
    {
      "cell_type": "code",
      "metadata": {
        "id": "EctBRI5OFyWq",
        "colab_type": "code",
        "outputId": "c40bc174-6b35-418e-e08a-7a52b22ff685",
        "colab": {
          "base_uri": "https://localhost:8080/",
          "height": 50
        }
      },
      "source": [
        "%matplotlib inline\n",
        "import warnings\n",
        "warnings.filterwarnings(\"ignore\")\n",
        "\n",
        "import pandas as pd\n",
        "import numpy as np\n",
        "import nltk\n",
        "import re\n",
        "import os\n",
        "import pickle\n",
        "\n",
        "nltk.download('stopwords')\n",
        "from nltk.corpus import stopwords\n",
        "\n",
        "from tqdm import tqdm\n",
        "import matplotlib.pyplot as plt\n",
        "import seaborn as sns\n",
        "import math\n",
        "\n",
        "from sklearn.feature_extraction.text import TfidfVectorizer\n",
        "from sklearn.feature_extraction.text import CountVectorizer\n",
        "from sklearn.preprocessing import Normalizer\n",
        "from collections import Counter\n",
        "from tqdm import tqdm\n",
        "\n",
        "from scipy import sparse\n",
        "\n",
        "from sklearn.externals import joblib\n",
        "\n",
        "import matplotlib.pyplot as plt\n",
        "from sklearn.utils import resample\n",
        "from sklearn.model_selection import train_test_split\n",
        "from sklearn.naive_bayes import MultinomialNB\n",
        "\n",
        "from sklearn.metrics import roc_auc_score\n",
        "from sklearn.metrics import confusion_matrix\n",
        "from sklearn import metrics\n",
        "from sklearn.metrics import roc_curve, auc\n",
        "\n",
        "from numpy.random import seed\n",
        "seed(1)\n",
        "\n",
        "from sklearn.model_selection import GridSearchCV\n",
        "from scipy.stats import randint as sp_randint\n",
        "from sklearn.model_selection import RandomizedSearchCV\n",
        "\n",
        "from prettytable import PrettyTable\n",
        "from prettytable import ALL"
      ],
      "execution_count": 0,
      "outputs": [
        {
          "output_type": "stream",
          "text": [
            "[nltk_data] Downloading package stopwords to /root/nltk_data...\n",
            "[nltk_data]   Package stopwords is already up-to-date!\n"
          ],
          "name": "stdout"
        }
      ]
    },
    {
      "cell_type": "code",
      "metadata": {
        "id": "yzfJt0fkotl_",
        "colab_type": "code",
        "outputId": "919a268e-4b9b-4534-899e-1af2eae40789",
        "colab": {
          "base_uri": "https://localhost:8080/",
          "height": 121
        }
      },
      "source": [
        "from google.colab import drive\n",
        "drive.mount('/content/drive/')"
      ],
      "execution_count": 0,
      "outputs": [
        {
          "output_type": "stream",
          "text": [
            "Go to this URL in a browser: https://accounts.google.com/o/oauth2/auth?client_id=947318989803-6bn6qk8qdgf4n4g3pfee6491hc0brc4i.apps.googleusercontent.com&redirect_uri=urn%3Aietf%3Awg%3Aoauth%3A2.0%3Aoob&scope=email%20https%3A%2F%2Fwww.googleapis.com%2Fauth%2Fdocs.test%20https%3A%2F%2Fwww.googleapis.com%2Fauth%2Fdrive%20https%3A%2F%2Fwww.googleapis.com%2Fauth%2Fdrive.photos.readonly%20https%3A%2F%2Fwww.googleapis.com%2Fauth%2Fpeopleapi.readonly&response_type=code\n",
            "\n",
            "Enter your authorization code:\n",
            "··········\n",
            "Mounted at /content/drive/\n"
          ],
          "name": "stdout"
        }
      ]
    },
    {
      "cell_type": "markdown",
      "metadata": {
        "id": "6JpBeZ5CF1oM",
        "colab_type": "text"
      },
      "source": [
        "## 1. Getting Data"
      ]
    },
    {
      "cell_type": "markdown",
      "metadata": {
        "id": "49lorjooGFM-",
        "colab_type": "text"
      },
      "source": [
        "### 1.1 Load Datasets"
      ]
    },
    {
      "cell_type": "code",
      "metadata": {
        "id": "1af5E2-b1HyH",
        "colab_type": "code",
        "outputId": "ca97817d-a6d2-4d82-c468-d41bb5955ea2",
        "colab": {
          "base_uri": "https://localhost:8080/"
        }
      },
      "source": [
        "project_data = pd.read_csv(\"/content/drive/My Drive/Assignment_2 drive dwnld/train_data.csv\")\n",
        "resource_data = pd.read_csv(\"/content/drive/My Drive/Assignment_2 drive dwnld/resources.csv\")\n",
        "\n",
        "price_data = resource_data.groupby('id').agg({'price':'sum', 'quantity':'sum'}).reset_index()\n",
        "dataset = pd.merge(project_data, price_data, on='id', how='left')\n",
        "\n",
        "dataset.shape"
      ],
      "execution_count": 0,
      "outputs": [
        {
          "output_type": "execute_result",
          "data": {
            "text/plain": [
              "(109248, 19)"
            ]
          },
          "metadata": {
            "tags": []
          },
          "execution_count": 3
        }
      ]
    },
    {
      "cell_type": "code",
      "metadata": {
        "id": "lWMgrrwTVCRW",
        "colab_type": "code",
        "outputId": "da82dde4-4509-4e93-8a7f-795ac4f72c75",
        "colab": {
          "base_uri": "https://localhost:8080/"
        }
      },
      "source": [
        "dataset.head(2)"
      ],
      "execution_count": 0,
      "outputs": [
        {
          "output_type": "execute_result",
          "data": {
            "text/html": [
              "<div>\n",
              "<style scoped>\n",
              "    .dataframe tbody tr th:only-of-type {\n",
              "        vertical-align: middle;\n",
              "    }\n",
              "\n",
              "    .dataframe tbody tr th {\n",
              "        vertical-align: top;\n",
              "    }\n",
              "\n",
              "    .dataframe thead th {\n",
              "        text-align: right;\n",
              "    }\n",
              "</style>\n",
              "<table border=\"1\" class=\"dataframe\">\n",
              "  <thead>\n",
              "    <tr style=\"text-align: right;\">\n",
              "      <th></th>\n",
              "      <th>Unnamed: 0</th>\n",
              "      <th>id</th>\n",
              "      <th>teacher_id</th>\n",
              "      <th>teacher_prefix</th>\n",
              "      <th>school_state</th>\n",
              "      <th>project_submitted_datetime</th>\n",
              "      <th>project_grade_category</th>\n",
              "      <th>project_subject_categories</th>\n",
              "      <th>project_subject_subcategories</th>\n",
              "      <th>project_title</th>\n",
              "      <th>project_essay_1</th>\n",
              "      <th>project_essay_2</th>\n",
              "      <th>project_essay_3</th>\n",
              "      <th>project_essay_4</th>\n",
              "      <th>project_resource_summary</th>\n",
              "      <th>teacher_number_of_previously_posted_projects</th>\n",
              "      <th>project_is_approved</th>\n",
              "      <th>price</th>\n",
              "      <th>quantity</th>\n",
              "    </tr>\n",
              "  </thead>\n",
              "  <tbody>\n",
              "    <tr>\n",
              "      <th>0</th>\n",
              "      <td>160221</td>\n",
              "      <td>p253737</td>\n",
              "      <td>c90749f5d961ff158d4b4d1e7dc665fc</td>\n",
              "      <td>Mrs.</td>\n",
              "      <td>IN</td>\n",
              "      <td>2016-12-05 13:43:57</td>\n",
              "      <td>Grades PreK-2</td>\n",
              "      <td>Literacy &amp; Language</td>\n",
              "      <td>ESL, Literacy</td>\n",
              "      <td>Educational Support for English Learners at Home</td>\n",
              "      <td>My students are English learners that are work...</td>\n",
              "      <td>\\\"The limits of your language are the limits o...</td>\n",
              "      <td>NaN</td>\n",
              "      <td>NaN</td>\n",
              "      <td>My students need opportunities to practice beg...</td>\n",
              "      <td>0</td>\n",
              "      <td>0</td>\n",
              "      <td>154.6</td>\n",
              "      <td>23</td>\n",
              "    </tr>\n",
              "    <tr>\n",
              "      <th>1</th>\n",
              "      <td>140945</td>\n",
              "      <td>p258326</td>\n",
              "      <td>897464ce9ddc600bced1151f324dd63a</td>\n",
              "      <td>Mr.</td>\n",
              "      <td>FL</td>\n",
              "      <td>2016-10-25 09:22:10</td>\n",
              "      <td>Grades 6-8</td>\n",
              "      <td>History &amp; Civics, Health &amp; Sports</td>\n",
              "      <td>Civics &amp; Government, Team Sports</td>\n",
              "      <td>Wanted: Projector for Hungry Learners</td>\n",
              "      <td>Our students arrive to our school eager to lea...</td>\n",
              "      <td>The projector we need for our school is very c...</td>\n",
              "      <td>NaN</td>\n",
              "      <td>NaN</td>\n",
              "      <td>My students need a projector to help with view...</td>\n",
              "      <td>7</td>\n",
              "      <td>1</td>\n",
              "      <td>299.0</td>\n",
              "      <td>1</td>\n",
              "    </tr>\n",
              "  </tbody>\n",
              "</table>\n",
              "</div>"
            ],
            "text/plain": [
              "   Unnamed: 0       id  ...  price quantity\n",
              "0      160221  p253737  ...  154.6       23\n",
              "1      140945  p258326  ...  299.0        1\n",
              "\n",
              "[2 rows x 19 columns]"
            ]
          },
          "metadata": {
            "tags": []
          },
          "execution_count": 4
        }
      ]
    },
    {
      "cell_type": "markdown",
      "metadata": {
        "id": "nhVavBN_X_Qd",
        "colab_type": "text"
      },
      "source": [
        "### 1.2 Dataset Cleaning and pre-processing"
      ]
    },
    {
      "cell_type": "markdown",
      "metadata": {
        "id": "9lhFHImI746N",
        "colab_type": "text"
      },
      "source": [
        "#### 1.2.1 Dropping irrelevant data"
      ]
    },
    {
      "cell_type": "code",
      "metadata": {
        "id": "boa4YEYLcI08",
        "colab_type": "code",
        "colab": {}
      },
      "source": [
        "#For the purposes of classification, the columns 'unnamed', 'id', and 'teacher_id' must be dropped as they are unique for each record and will cause over-fitting.\n",
        "#For classification, we'll consider only numerical features, categorical features, and text festures. Thus we also drop date-time information.\n",
        "\n",
        "dataset.drop(['Unnamed: 0', 'id', 'teacher_id', 'project_submitted_datetime'], axis=1, inplace=True)\n",
        "\n",
        "#As KNN is not suitable for large datasets, we downsample to 50K points from the original dataset.\n",
        "\n",
        "dataset = resample(dataset, n_samples=50000, replace=False, stratify=dataset['project_is_approved'].values)\n",
        "dataset = dataset.reset_index()\n",
        "dataset.drop(['index'], axis=1, inplace=True)"
      ],
      "execution_count": 0,
      "outputs": []
    },
    {
      "cell_type": "code",
      "metadata": {
        "id": "UTbUoT__pynG",
        "colab_type": "code",
        "outputId": "d6aaa79b-05ef-4a2a-831d-d84a7533e532",
        "colab": {
          "base_uri": "https://localhost:8080/"
        }
      },
      "source": [
        "print(dataset.shape)\n",
        "dataset.head(2)"
      ],
      "execution_count": 0,
      "outputs": [
        {
          "output_type": "stream",
          "text": [
            "(50000, 15)\n"
          ],
          "name": "stdout"
        },
        {
          "output_type": "execute_result",
          "data": {
            "text/html": [
              "<div>\n",
              "<style scoped>\n",
              "    .dataframe tbody tr th:only-of-type {\n",
              "        vertical-align: middle;\n",
              "    }\n",
              "\n",
              "    .dataframe tbody tr th {\n",
              "        vertical-align: top;\n",
              "    }\n",
              "\n",
              "    .dataframe thead th {\n",
              "        text-align: right;\n",
              "    }\n",
              "</style>\n",
              "<table border=\"1\" class=\"dataframe\">\n",
              "  <thead>\n",
              "    <tr style=\"text-align: right;\">\n",
              "      <th></th>\n",
              "      <th>teacher_prefix</th>\n",
              "      <th>school_state</th>\n",
              "      <th>project_grade_category</th>\n",
              "      <th>project_subject_categories</th>\n",
              "      <th>project_subject_subcategories</th>\n",
              "      <th>project_title</th>\n",
              "      <th>project_essay_1</th>\n",
              "      <th>project_essay_2</th>\n",
              "      <th>project_essay_3</th>\n",
              "      <th>project_essay_4</th>\n",
              "      <th>project_resource_summary</th>\n",
              "      <th>teacher_number_of_previously_posted_projects</th>\n",
              "      <th>project_is_approved</th>\n",
              "      <th>price</th>\n",
              "      <th>quantity</th>\n",
              "    </tr>\n",
              "  </thead>\n",
              "  <tbody>\n",
              "    <tr>\n",
              "      <th>0</th>\n",
              "      <td>Mrs.</td>\n",
              "      <td>TX</td>\n",
              "      <td>Grades PreK-2</td>\n",
              "      <td>Health &amp; Sports, Literacy &amp; Language</td>\n",
              "      <td>Health &amp; Wellness, Literature &amp; Writing</td>\n",
              "      <td>Wiggle While You Learn: Flexible Seating Optio...</td>\n",
              "      <td>My second graders have learned to work coopera...</td>\n",
              "      <td>In today's classroom, we as teachers cater to ...</td>\n",
              "      <td>NaN</td>\n",
              "      <td>NaN</td>\n",
              "      <td>My students need flexible seating options that...</td>\n",
              "      <td>6</td>\n",
              "      <td>1</td>\n",
              "      <td>291.30</td>\n",
              "      <td>16</td>\n",
              "    </tr>\n",
              "    <tr>\n",
              "      <th>1</th>\n",
              "      <td>Mrs.</td>\n",
              "      <td>LA</td>\n",
              "      <td>Grades PreK-2</td>\n",
              "      <td>Literacy &amp; Language, Applied Learning</td>\n",
              "      <td>Literacy, Other</td>\n",
              "      <td>Autism Listens</td>\n",
              "      <td>are completely amazing, and teach me everyday!...</td>\n",
              "      <td>In an Autism classroom we model all day to the...</td>\n",
              "      <td>NaN</td>\n",
              "      <td>NaN</td>\n",
              "      <td>My students need a Listening Center to help br...</td>\n",
              "      <td>0</td>\n",
              "      <td>1</td>\n",
              "      <td>367.99</td>\n",
              "      <td>4</td>\n",
              "    </tr>\n",
              "  </tbody>\n",
              "</table>\n",
              "</div>"
            ],
            "text/plain": [
              "  teacher_prefix school_state  ...   price quantity\n",
              "0           Mrs.           TX  ...  291.30       16\n",
              "1           Mrs.           LA  ...  367.99        4\n",
              "\n",
              "[2 rows x 15 columns]"
            ]
          },
          "metadata": {
            "tags": []
          },
          "execution_count": 6
        }
      ]
    },
    {
      "cell_type": "markdown",
      "metadata": {
        "id": "9MIW-5A78AhZ",
        "colab_type": "text"
      },
      "source": [
        "#### 1.2.2 Text pre-processing"
      ]
    },
    {
      "cell_type": "code",
      "metadata": {
        "id": "vzLI_9oFmXDx",
        "colab_type": "code",
        "outputId": "d2eb13e2-9269-4605-fc04-dbe0eab9b1b1",
        "colab": {
          "base_uri": "https://localhost:8080/"
        }
      },
      "source": [
        "# https://stackoverflow.com/a/47091490/4084039\n",
        "import re\n",
        "\n",
        "def decontracted(phrase):\n",
        "  # specific\n",
        "  phrase = re.sub(r\"won't\", \"will not\", phrase)\n",
        "  phrase = re.sub(r\"can\\'t\", \"can not\", phrase)\n",
        "\n",
        "  # general\n",
        "  phrase = re.sub(r\"n\\'t\", \" not\", phrase)\n",
        "  phrase = re.sub(r\"\\'re\", \" are\", phrase)\n",
        "  phrase = re.sub(r\"\\'s\", \" is\", phrase)\n",
        "  phrase = re.sub(r\"\\'d\", \" would\", phrase)\n",
        "  phrase = re.sub(r\"\\'ll\", \" will\", phrase)\n",
        "  phrase = re.sub(r\"\\'t\", \" not\", phrase)\n",
        "  phrase = re.sub(r\"\\'ve\", \" have\", phrase)\n",
        "  phrase = re.sub(r\"\\'m\", \" am\", phrase)\n",
        "  return phrase\n",
        "\n",
        "sw = set(stopwords.words('english')) #Using NLTK list of stopwords.\n",
        "\n",
        "#PRE-PROCESSING ON ESSAYS\n",
        "\n",
        "dataset[\"essay\"] = dataset[\"project_essay_1\"].map(str) + dataset[\"project_essay_2\"].map(str) + dataset[\"project_essay_3\"].map(str) + dataset[\"project_essay_4\"].map(str)\n",
        "\n",
        "dataset.drop(['project_essay_1', 'project_essay_2', 'project_essay_3', 'project_essay_4'], axis=1, inplace=True)\n",
        "\n",
        "preprocessed_essays = []\n",
        "for sentence in tqdm(dataset['essay'].values):\n",
        "  sent = decontracted(sentence)\n",
        "  sent = sent.replace('\\\\r', ' ')\n",
        "  sent = sent.replace('\\\\\"', ' ')\n",
        "  sent = sent.replace('\\\\n', ' ')\n",
        "  sent = re.sub('[^A-Za-z0-9]+', ' ', sent)\n",
        "  # https://gist.github.com/sebleier/554280\n",
        "  sent = ' '.join(w for w in sent.split() if w not in sw)\n",
        "  preprocessed_essays.append(sent.lower().strip())\n",
        "    \n",
        "dataset[\"essay\"] = preprocessed_essays  "
      ],
      "execution_count": 0,
      "outputs": [
        {
          "output_type": "stream",
          "text": [
            "100%|██████████| 50000/50000 [00:06<00:00, 7228.21it/s]\n"
          ],
          "name": "stderr"
        }
      ]
    },
    {
      "cell_type": "code",
      "metadata": {
        "id": "LUS4ia-qFUgP",
        "colab_type": "code",
        "outputId": "25e2125d-75be-4d92-a7a7-9df482d25707",
        "colab": {
          "base_uri": "https://localhost:8080/"
        }
      },
      "source": [
        "#PRE-PROCESSING ON TITLES\n",
        "\n",
        "preprocessed_titles = []\n",
        "\n",
        "for sentence in tqdm(dataset['project_title'].values):\n",
        "  sent = decontracted(sentence)\n",
        "  sent = sent.replace('\\\\r', ' ')\n",
        "  sent = sent.replace('\\\\\"', ' ')\n",
        "  sent = sent.replace('\\\\n', ' ')\n",
        "  sent = re.sub('[^A-Za-z0-9]+', ' ', sent)\n",
        "  # https://gist.github.com/sebleier/554280\n",
        "  sent = ' '.join(w for w in sent.split() if w not in sw)\n",
        "  preprocessed_titles.append(sent.lower().strip())\n",
        "  \n",
        "dataset[\"project_title\"] = preprocessed_titles"
      ],
      "execution_count": 0,
      "outputs": [
        {
          "output_type": "stream",
          "text": [
            "100%|██████████| 50000/50000 [00:00<00:00, 75173.18it/s]\n"
          ],
          "name": "stderr"
        }
      ]
    },
    {
      "cell_type": "code",
      "metadata": {
        "id": "zBbU0UzNGOFm",
        "colab_type": "code",
        "outputId": "05bf6ddb-eb0b-4bd7-a6f2-0c1d74d86cfa",
        "colab": {
          "base_uri": "https://localhost:8080/"
        }
      },
      "source": [
        "#PRE_PROCESSING ON RESOURCE SUMMARY\n",
        "\n",
        "preprocessed_summary = []\n",
        "\n",
        "for sentence in tqdm(dataset['project_resource_summary'].values):\n",
        "  sent = decontracted(sentence)\n",
        "  sent = sent.replace('\\\\r', ' ')\n",
        "  sent = sent.replace('\\\\\"', ' ')\n",
        "  sent = sent.replace('\\\\n', ' ')\n",
        "  sent = re.sub('[^A-Za-z0-9]+', ' ', sent)\n",
        "  # https://gist.github.com/sebleier/554280\n",
        "  sent = ' '.join(w for w in sent.split() if w not in sw)\n",
        "  preprocessed_summary.append(sent.lower().strip())\n",
        "  \n",
        "dataset['project_resource_summary'] = preprocessed_summary"
      ],
      "execution_count": 0,
      "outputs": [
        {
          "output_type": "stream",
          "text": [
            "100%|██████████| 50000/50000 [00:01<00:00, 47751.78it/s]\n"
          ],
          "name": "stderr"
        }
      ]
    },
    {
      "cell_type": "markdown",
      "metadata": {
        "id": "G5-jzum9MbOr",
        "colab_type": "text"
      },
      "source": [
        "#### 1.2.3 Categorical data cleaning"
      ]
    },
    {
      "cell_type": "code",
      "metadata": {
        "id": "wUvtnwcdJZp2",
        "colab_type": "code",
        "colab": {}
      },
      "source": [
        "#Cleaning TEACHER_PREFIXES\n",
        "\n",
        "dataset['teacher_prefix'].fillna('NA', inplace=True)\n",
        "dataset['teacher_prefix'] = dataset['teacher_prefix'].apply(lambda s: s.replace('.', ''))"
      ],
      "execution_count": 0,
      "outputs": []
    },
    {
      "cell_type": "code",
      "metadata": {
        "id": "vVCF-G-MOa81",
        "colab_type": "code",
        "colab": {}
      },
      "source": [
        "#Cleaning PROJECT_GRADE_CATEGORIES\n",
        "\n",
        "dataset['project_grade_category'] = dataset['project_grade_category'].apply(lambda s: re.sub(r'[\\s\\-]+', '_', s))"
      ],
      "execution_count": 0,
      "outputs": []
    },
    {
      "cell_type": "code",
      "metadata": {
        "id": "imjoWyM0RFjr",
        "colab_type": "code",
        "outputId": "a927702b-d8d3-466d-e5e6-ea2d11d41e30",
        "colab": {
          "base_uri": "https://localhost:8080/"
        }
      },
      "source": [
        "#Cleaning PROJECT_SUBJECT_CATEGORIES\n",
        "\n",
        "cat_list = []\n",
        "for category in tqdm(dataset['project_subject_categories'].values):\n",
        "  temp = \"\"\n",
        "  for j in category.split(','):\n",
        "    \n",
        "      if 'The' in j.split(): \n",
        "          j=j.replace('The','')\n",
        "          \n",
        "      j = j.replace(' ','')\n",
        "      \n",
        "      temp+=j.strip()+\" \"\n",
        "      \n",
        "      temp = temp.replace('&','_')\n",
        "      \n",
        "  cat_list.append(temp.strip())\n",
        "  \n",
        "dataset['clean_categories'] = cat_list\n",
        "dataset.drop('project_subject_categories', axis=1, inplace=True)"
      ],
      "execution_count": 0,
      "outputs": [
        {
          "output_type": "stream",
          "text": [
            "100%|██████████| 50000/50000 [00:00<00:00, 456867.99it/s]\n"
          ],
          "name": "stderr"
        }
      ]
    },
    {
      "cell_type": "code",
      "metadata": {
        "id": "BXtEKpTdTDhF",
        "colab_type": "code",
        "outputId": "96d6f721-65d9-401e-d962-8f4a97e052d7",
        "colab": {
          "base_uri": "https://localhost:8080/"
        }
      },
      "source": [
        "#Cleaning PROJECT_SUBJECT_SUBCATEGORY\n",
        "\n",
        "subcat_list = []\n",
        "for subcategory in tqdm(dataset['project_subject_subcategories'].values):\n",
        "  temp = \"\"\n",
        "  for j in subcategory.split(','):\n",
        "    \n",
        "      if 'The' in j.split(): \n",
        "          j=j.replace('The','')\n",
        "          \n",
        "      j = j.replace(' ','')\n",
        "      \n",
        "      temp+=j.strip()+\" \"\n",
        "      \n",
        "      temp = temp.replace('&','_')\n",
        "      \n",
        "  subcat_list.append(temp.strip())\n",
        "  \n",
        "dataset['clean_subcategories'] = subcat_list\n",
        "dataset.drop('project_subject_subcategories', axis=1, inplace=True)"
      ],
      "execution_count": 0,
      "outputs": [
        {
          "output_type": "stream",
          "text": [
            "100%|██████████| 50000/50000 [00:00<00:00, 436631.95it/s]\n"
          ],
          "name": "stderr"
        }
      ]
    },
    {
      "cell_type": "code",
      "metadata": {
        "id": "942CC_5ETktp",
        "colab_type": "code",
        "outputId": "42318452-a73c-421f-8424-a945e9420cf7",
        "colab": {
          "base_uri": "https://localhost:8080/"
        }
      },
      "source": [
        "dataset.head(3)"
      ],
      "execution_count": 0,
      "outputs": [
        {
          "output_type": "execute_result",
          "data": {
            "text/html": [
              "<div>\n",
              "<style scoped>\n",
              "    .dataframe tbody tr th:only-of-type {\n",
              "        vertical-align: middle;\n",
              "    }\n",
              "\n",
              "    .dataframe tbody tr th {\n",
              "        vertical-align: top;\n",
              "    }\n",
              "\n",
              "    .dataframe thead th {\n",
              "        text-align: right;\n",
              "    }\n",
              "</style>\n",
              "<table border=\"1\" class=\"dataframe\">\n",
              "  <thead>\n",
              "    <tr style=\"text-align: right;\">\n",
              "      <th></th>\n",
              "      <th>teacher_prefix</th>\n",
              "      <th>school_state</th>\n",
              "      <th>project_grade_category</th>\n",
              "      <th>project_title</th>\n",
              "      <th>project_resource_summary</th>\n",
              "      <th>teacher_number_of_previously_posted_projects</th>\n",
              "      <th>project_is_approved</th>\n",
              "      <th>price</th>\n",
              "      <th>quantity</th>\n",
              "      <th>essay</th>\n",
              "      <th>clean_categories</th>\n",
              "      <th>clean_subcategories</th>\n",
              "    </tr>\n",
              "  </thead>\n",
              "  <tbody>\n",
              "    <tr>\n",
              "      <th>0</th>\n",
              "      <td>Mrs</td>\n",
              "      <td>TX</td>\n",
              "      <td>Grades_PreK_2</td>\n",
              "      <td>wiggle while you learn flexible seating option...</td>\n",
              "      <td>my students need flexible seating options incl...</td>\n",
              "      <td>6</td>\n",
              "      <td>1</td>\n",
              "      <td>291.30</td>\n",
              "      <td>16</td>\n",
              "      <td>my second graders learned work cooperatively w...</td>\n",
              "      <td>Health_Sports Literacy_Language</td>\n",
              "      <td>Health_Wellness Literature_Writing</td>\n",
              "    </tr>\n",
              "    <tr>\n",
              "      <th>1</th>\n",
              "      <td>Mrs</td>\n",
              "      <td>LA</td>\n",
              "      <td>Grades_PreK_2</td>\n",
              "      <td>autism listens</td>\n",
              "      <td>my students need listening center help broaden...</td>\n",
              "      <td>0</td>\n",
              "      <td>1</td>\n",
              "      <td>367.99</td>\n",
              "      <td>4</td>\n",
              "      <td>completely amazing teach everyday they bravely...</td>\n",
              "      <td>Literacy_Language AppliedLearning</td>\n",
              "      <td>Literacy Other</td>\n",
              "    </tr>\n",
              "    <tr>\n",
              "      <th>2</th>\n",
              "      <td>Ms</td>\n",
              "      <td>CA</td>\n",
              "      <td>Grades_6_8</td>\n",
              "      <td>keep me active</td>\n",
              "      <td>my students need sports equipment keep active ...</td>\n",
              "      <td>33</td>\n",
              "      <td>1</td>\n",
              "      <td>78.97</td>\n",
              "      <td>16</td>\n",
              "      <td>our students come diverse backgrounds over 90 ...</td>\n",
              "      <td>Health_Sports</td>\n",
              "      <td>Gym_Fitness</td>\n",
              "    </tr>\n",
              "  </tbody>\n",
              "</table>\n",
              "</div>"
            ],
            "text/plain": [
              "  teacher_prefix  ...                 clean_subcategories\n",
              "0            Mrs  ...  Health_Wellness Literature_Writing\n",
              "1            Mrs  ...                      Literacy Other\n",
              "2             Ms  ...                         Gym_Fitness\n",
              "\n",
              "[3 rows x 12 columns]"
            ]
          },
          "metadata": {
            "tags": []
          },
          "execution_count": 14
        }
      ]
    },
    {
      "cell_type": "code",
      "metadata": {
        "id": "UYt-HGw0Tnvv",
        "colab_type": "code",
        "outputId": "182207e1-c463-4faf-d7c1-d29eb83f6827",
        "colab": {
          "base_uri": "https://localhost:8080/"
        }
      },
      "source": [
        "dataset.shape"
      ],
      "execution_count": 0,
      "outputs": [
        {
          "output_type": "execute_result",
          "data": {
            "text/plain": [
              "(50000, 12)"
            ]
          },
          "metadata": {
            "tags": []
          },
          "execution_count": 15
        }
      ]
    },
    {
      "cell_type": "markdown",
      "metadata": {
        "id": "Qmaj_lfFW3sE",
        "colab_type": "text"
      },
      "source": [
        "#### 1.2.4 Cleaning numerical data"
      ]
    },
    {
      "cell_type": "code",
      "metadata": {
        "id": "HhHn9goUW8vY",
        "colab_type": "code",
        "outputId": "235d5fc0-17a2-4ef4-c24b-45627beaf797",
        "colab": {
          "base_uri": "https://localhost:8080/"
        }
      },
      "source": [
        "#Checking if any of the numerical features have missing values...\n",
        "isnan = []\n",
        "for f in ('teacher_number_of_previously_posted_projects', 'price', 'quantity'):\n",
        "  isnan.append(dataset[f].isna().values.any())\n",
        "  \n",
        "any(isnan)"
      ],
      "execution_count": 0,
      "outputs": [
        {
          "output_type": "execute_result",
          "data": {
            "text/plain": [
              "False"
            ]
          },
          "metadata": {
            "tags": []
          },
          "execution_count": 16
        }
      ]
    },
    {
      "cell_type": "markdown",
      "metadata": {
        "id": "5K-K8Wn0Zfd8",
        "colab_type": "text"
      },
      "source": [
        "Thus we do not have any missing values in numerical data. No cleaning required."
      ]
    },
    {
      "cell_type": "markdown",
      "metadata": {
        "id": "vIs9wvzLGKkK",
        "colab_type": "text"
      },
      "source": [
        "### 1.3 Divide data into Train, Test using Stratified Sampling"
      ]
    },
    {
      "cell_type": "code",
      "metadata": {
        "id": "kYYGJBblN2QC",
        "colab_type": "code",
        "outputId": "e16316c0-5552-42ca-9cf2-e171011afb90",
        "colab": {
          "base_uri": "https://localhost:8080/"
        }
      },
      "source": [
        "train_df = resample(dataset, n_samples=40000, replace=False, stratify=dataset['project_is_approved'].values)\n",
        "\n",
        "train_df.shape"
      ],
      "execution_count": 0,
      "outputs": [
        {
          "output_type": "execute_result",
          "data": {
            "text/plain": [
              "(40000, 12)"
            ]
          },
          "metadata": {
            "tags": []
          },
          "execution_count": 17
        }
      ]
    },
    {
      "cell_type": "code",
      "metadata": {
        "colab_type": "code",
        "outputId": "846bae9b-ea26-49e3-fdc7-f3317b0e7e8c",
        "id": "LZoaMfCW6oEY",
        "colab": {
          "base_uri": "https://localhost:8080/"
        }
      },
      "source": [
        "dataset_idx = pd.Index(dataset.index.values)\n",
        "train_idx = pd.Index(train_df.index.values)\n",
        "rem_idx = dataset_idx.difference(train_idx)\n",
        "\n",
        "test_df = dataset.iloc[rem_idx]\n",
        "\n",
        "test_df.shape"
      ],
      "execution_count": 0,
      "outputs": [
        {
          "output_type": "execute_result",
          "data": {
            "text/plain": [
              "(10000, 12)"
            ]
          },
          "metadata": {
            "tags": []
          },
          "execution_count": 18
        }
      ]
    },
    {
      "cell_type": "markdown",
      "metadata": {
        "id": "yTK2rfE0GaRr",
        "colab_type": "text"
      },
      "source": [
        "### 1.4 Balance the Train data"
      ]
    },
    {
      "cell_type": "code",
      "metadata": {
        "id": "ZcSzOc2QyhP4",
        "colab_type": "code",
        "outputId": "a9c7ac93-e57b-4b0d-a98b-c40aba2acecc",
        "colab": {
          "base_uri": "https://localhost:8080/"
        }
      },
      "source": [
        "train_df['project_is_approved'].value_counts()"
      ],
      "execution_count": 0,
      "outputs": [
        {
          "output_type": "execute_result",
          "data": {
            "text/plain": [
              "1    33943\n",
              "0     6057\n",
              "Name: project_is_approved, dtype: int64"
            ]
          },
          "metadata": {
            "tags": []
          },
          "execution_count": 19
        }
      ]
    },
    {
      "cell_type": "code",
      "metadata": {
        "id": "hqV1iiIYnjA7",
        "colab_type": "code",
        "colab": {}
      },
      "source": [
        "#Now we balance the dataset by upsampling the minority class points. \n",
        "\n",
        "minor_data = train_df[train_df['project_is_approved']==0]\n",
        "major_data = train_df[train_df['project_is_approved']==1]\n",
        "\n",
        "minor_data_upsampled = resample(minor_data, n_samples=33943)   #Equal to the size of major class\n",
        "\n",
        "balanced_train_df = pd.concat([major_data, minor_data_upsampled])\n",
        "\n",
        "#Now, to set the dataset to a mangeable size, we sample 100K points from the balanced train data stratified on class labels.\n",
        "train_df = resample(balanced_train_df, n_samples=40000, replace=False, stratify=balanced_train_df['project_is_approved'].values)"
      ],
      "execution_count": 0,
      "outputs": []
    },
    {
      "cell_type": "code",
      "metadata": {
        "id": "fHLEQVTXlvaa",
        "colab_type": "code",
        "outputId": "7c62cb57-6647-4273-d17b-1237296dc693",
        "colab": {
          "base_uri": "https://localhost:8080/"
        }
      },
      "source": [
        "#Now the train dataset is exactly balanced\n",
        "\n",
        "train_df['project_is_approved'].value_counts()"
      ],
      "execution_count": 0,
      "outputs": [
        {
          "output_type": "execute_result",
          "data": {
            "text/plain": [
              "1    20000\n",
              "0    20000\n",
              "Name: project_is_approved, dtype: int64"
            ]
          },
          "metadata": {
            "tags": []
          },
          "execution_count": 21
        }
      ]
    },
    {
      "cell_type": "code",
      "metadata": {
        "id": "Sq2LR_uTp7aM",
        "colab_type": "code",
        "outputId": "954d9f55-9626-48fc-86ed-9e1462f99fd9",
        "colab": {
          "base_uri": "https://localhost:8080/"
        }
      },
      "source": [
        "train_df.head(2)"
      ],
      "execution_count": 0,
      "outputs": [
        {
          "output_type": "execute_result",
          "data": {
            "text/html": [
              "<div>\n",
              "<style scoped>\n",
              "    .dataframe tbody tr th:only-of-type {\n",
              "        vertical-align: middle;\n",
              "    }\n",
              "\n",
              "    .dataframe tbody tr th {\n",
              "        vertical-align: top;\n",
              "    }\n",
              "\n",
              "    .dataframe thead th {\n",
              "        text-align: right;\n",
              "    }\n",
              "</style>\n",
              "<table border=\"1\" class=\"dataframe\">\n",
              "  <thead>\n",
              "    <tr style=\"text-align: right;\">\n",
              "      <th></th>\n",
              "      <th>teacher_prefix</th>\n",
              "      <th>school_state</th>\n",
              "      <th>project_grade_category</th>\n",
              "      <th>project_title</th>\n",
              "      <th>project_resource_summary</th>\n",
              "      <th>teacher_number_of_previously_posted_projects</th>\n",
              "      <th>project_is_approved</th>\n",
              "      <th>price</th>\n",
              "      <th>quantity</th>\n",
              "      <th>essay</th>\n",
              "      <th>clean_categories</th>\n",
              "      <th>clean_subcategories</th>\n",
              "    </tr>\n",
              "  </thead>\n",
              "  <tbody>\n",
              "    <tr>\n",
              "      <th>26419</th>\n",
              "      <td>Teacher</td>\n",
              "      <td>NC</td>\n",
              "      <td>Grades_6_8</td>\n",
              "      <td>hand bound interactive journals</td>\n",
              "      <td>my students need f handmade book binding tools...</td>\n",
              "      <td>2</td>\n",
              "      <td>1</td>\n",
              "      <td>34.09</td>\n",
              "      <td>43</td>\n",
              "      <td>as teacher large expanding school district stu...</td>\n",
              "      <td>AppliedLearning</td>\n",
              "      <td>College_CareerPrep EarlyDevelopment</td>\n",
              "    </tr>\n",
              "    <tr>\n",
              "      <th>29100</th>\n",
              "      <td>Ms</td>\n",
              "      <td>MI</td>\n",
              "      <td>Grades_9_12</td>\n",
              "      <td>read like champion</td>\n",
              "      <td>my students need classroom library foster love...</td>\n",
              "      <td>1</td>\n",
              "      <td>1</td>\n",
              "      <td>453.96</td>\n",
              "      <td>21</td>\n",
              "      <td>this fall i walking new school first chemistry...</td>\n",
              "      <td>Math_Science Literacy_Language</td>\n",
              "      <td>AppliedSciences Literacy</td>\n",
              "    </tr>\n",
              "  </tbody>\n",
              "</table>\n",
              "</div>"
            ],
            "text/plain": [
              "      teacher_prefix  ...                  clean_subcategories\n",
              "26419        Teacher  ...  College_CareerPrep EarlyDevelopment\n",
              "29100             Ms  ...             AppliedSciences Literacy\n",
              "\n",
              "[2 rows x 12 columns]"
            ]
          },
          "metadata": {
            "tags": []
          },
          "execution_count": 22
        }
      ]
    },
    {
      "cell_type": "markdown",
      "metadata": {
        "id": "gNkaETDts87r",
        "colab_type": "text"
      },
      "source": [
        "## Features for classification"
      ]
    },
    {
      "cell_type": "markdown",
      "metadata": {
        "id": "MIutN6mctJx4",
        "colab_type": "text"
      },
      "source": [
        "For classification, we are going to consider\n",
        "\n",
        "   - school_state : categorical data (One-hot encoded)\n",
        "   - clean_categories : categorical data (One-hot encoded)\n",
        "   - clean_subcategories : categorical data (One-hot encoded)\n",
        "   - project_grade_category : categorical data (One-hot encoded)\n",
        "   - teacher_prefix : categorical data (One-hot encoded)\n",
        "\n",
        "   - **project_title : text data (BOW, TFIDF, AVG_W2V, TFIDF_W2V)**\n",
        "   - **essay : text data (BOW, TFIDF, AVG_W2V, TFIDF_W2V)**\n",
        "   \n",
        "   - quantity : numerical (optional) (Vectorized)\n",
        "   - teacher_number_of_previously_posted_projects : numerical (Vectorized)\n",
        "   - price : numerical (Vectorized)"
      ]
    },
    {
      "cell_type": "markdown",
      "metadata": {
        "id": "pWvXZF_aGkR8",
        "colab_type": "text"
      },
      "source": [
        "## 2. Encoding Data"
      ]
    },
    {
      "cell_type": "markdown",
      "metadata": {
        "id": "9CGvoMkuHEY1",
        "colab_type": "text"
      },
      "source": [
        "### 2.1 Create all encoders using Train data"
      ]
    },
    {
      "cell_type": "markdown",
      "metadata": {
        "id": "O2fsN-v1uM85",
        "colab_type": "text"
      },
      "source": [
        "#### 2.1.1 Vectorizers for categorical data (One-hot encoders)"
      ]
    },
    {
      "cell_type": "code",
      "metadata": {
        "id": "Xz-KPrtxZyt-",
        "colab_type": "code",
        "outputId": "9899dfae-2921-4155-858c-5f931e28c604",
        "colab": {
          "base_uri": "https://localhost:8080/",
          "height": 54
        }
      },
      "source": [
        "#Vectorizer for CLEAN_CATEGORIES\n",
        "\n",
        "cat_list = set()\n",
        "\n",
        "for categories in train_df['clean_categories'].values:\n",
        "  for word in categories.split():\n",
        "    cat_list.add(word)\n",
        "\n",
        "cat_vectorizer = CountVectorizer(vocabulary=list(cat_list), lowercase=False, binary=True)\n",
        "cat_vectorizer.fit(train_df['clean_categories'].values)\n",
        "print(cat_vectorizer.get_feature_names())"
      ],
      "execution_count": 0,
      "outputs": [
        {
          "output_type": "stream",
          "text": [
            "['Math_Science', 'SpecialNeeds', 'Care_Hunger', 'Literacy_Language', 'AppliedLearning', 'Warmth', 'Health_Sports', 'Music_Arts', 'History_Civics']\n"
          ],
          "name": "stdout"
        }
      ]
    },
    {
      "cell_type": "code",
      "metadata": {
        "id": "9vR4giiQ4Eda",
        "colab_type": "code",
        "outputId": "5cd6741f-7193-42f2-a1a0-bb08a5f2008f",
        "colab": {
          "base_uri": "https://localhost:8080/",
          "height": 54
        }
      },
      "source": [
        "#Vectorizer for CLEAN_SUBCATEGORIES\n",
        "\n",
        "subcat_list = set()\n",
        "\n",
        "for subcategories in train_df['clean_subcategories'].values:\n",
        "  for word in subcategories.split():\n",
        "    subcat_list.add(word)\n",
        "\n",
        "subcat_vectorizer = CountVectorizer(vocabulary=list(subcat_list), lowercase=False, binary=True)\n",
        "subcat_vectorizer.fit(train_df['clean_subcategories'].values)\n",
        "print(subcat_vectorizer.get_feature_names())"
      ],
      "execution_count": 0,
      "outputs": [
        {
          "output_type": "stream",
          "text": [
            "['SpecialNeeds', 'Health_Wellness', 'NutritionEducation', 'Extracurricular', 'College_CareerPrep', 'Economics', 'Warmth', 'TeamSports', 'Health_LifeScience', 'ParentInvolvement', 'SocialSciences', 'CharacterEducation', 'History_Geography', 'FinancialLiteracy', 'Civics_Government', 'Literacy', 'ESL', 'CommunityService', 'Literature_Writing', 'EarlyDevelopment', 'VisualArts', 'ForeignLanguages', 'AppliedSciences', 'PerformingArts', 'Care_Hunger', 'Mathematics', 'Gym_Fitness', 'Music', 'Other', 'EnvironmentalScience']\n"
          ],
          "name": "stdout"
        }
      ]
    },
    {
      "cell_type": "code",
      "metadata": {
        "id": "pkd9QIQk458V",
        "colab_type": "code",
        "outputId": "69db8dfc-7fba-4943-9778-a32cb28eb5ad",
        "colab": {
          "base_uri": "https://localhost:8080/",
          "height": 34
        }
      },
      "source": [
        "#Vectorizer for PROJECT_GRADE_CATEGORIES\n",
        "\n",
        "grades_list = set(train_df['project_grade_category'].values)\n",
        "\n",
        "grade_vectorizer = CountVectorizer(vocabulary=list(grades_list), lowercase=False, binary=True)\n",
        "grade_vectorizer.fit(train_df['project_grade_category'].values)\n",
        "print(grade_vectorizer.get_feature_names())"
      ],
      "execution_count": 0,
      "outputs": [
        {
          "output_type": "stream",
          "text": [
            "['Grades_3_5', 'Grades_PreK_2', 'Grades_6_8', 'Grades_9_12']\n"
          ],
          "name": "stdout"
        }
      ]
    },
    {
      "cell_type": "code",
      "metadata": {
        "id": "K6tfULFG5l80",
        "colab_type": "code",
        "outputId": "c97b6f3c-e54a-4b3f-be69-19af131b4e0d",
        "colab": {
          "base_uri": "https://localhost:8080/",
          "height": 54
        }
      },
      "source": [
        "#Vectorizer for SCHOOL_STATE\n",
        "\n",
        "state_list = set(train_df['school_state'].values)\n",
        "\n",
        "state_vectorizer = CountVectorizer(vocabulary=list(state_list), lowercase=False, binary=True)\n",
        "state_vectorizer.fit(train_df['school_state'].values)\n",
        "print(state_vectorizer.get_feature_names())"
      ],
      "execution_count": 0,
      "outputs": [
        {
          "output_type": "stream",
          "text": [
            "['MA', 'AR', 'VA', 'TX', 'CT', 'LA', 'UT', 'MN', 'NJ', 'HI', 'DC', 'VT', 'IL', 'CA', 'SC', 'IA', 'DE', 'MO', 'RI', 'CO', 'ID', 'MS', 'NY', 'AZ', 'NE', 'IN', 'AK', 'KY', 'WA', 'TN', 'ME', 'NV', 'NH', 'NC', 'ND', 'KS', 'MD', 'FL', 'WI', 'WV', 'NM', 'OR', 'SD', 'GA', 'OK', 'WY', 'MI', 'OH', 'PA', 'MT', 'AL']\n"
          ],
          "name": "stdout"
        }
      ]
    },
    {
      "cell_type": "code",
      "metadata": {
        "id": "Csh465Tw6YsN",
        "colab_type": "code",
        "outputId": "5c548998-3357-42ee-a885-8fa23f2bdcf6",
        "colab": {
          "base_uri": "https://localhost:8080/",
          "height": 34
        }
      },
      "source": [
        "#Vectorizer for TEACHER_PREFIX\n",
        "\n",
        "prefix_list = set(train_df['teacher_prefix'].values)\n",
        "\n",
        "pf_vectorizer = CountVectorizer(vocabulary=list(prefix_list), lowercase=False, binary=True)\n",
        "pf_vectorizer.fit(train_df['teacher_prefix'].values)\n",
        "print(pf_vectorizer.get_feature_names())"
      ],
      "execution_count": 0,
      "outputs": [
        {
          "output_type": "stream",
          "text": [
            "['Mrs', 'Dr', 'Teacher', 'Mr', 'Ms']\n"
          ],
          "name": "stdout"
        }
      ]
    },
    {
      "cell_type": "markdown",
      "metadata": {
        "id": "bZaFrce9a_2a",
        "colab_type": "text"
      },
      "source": [
        "#### 2.1.2 Vectorizers for text data (BOW, TFIDF, AVG_W2V, TFIDF_W2V)"
      ]
    },
    {
      "cell_type": "code",
      "metadata": {
        "id": "JuJJ8HJ5bJcH",
        "colab_type": "code",
        "colab": {}
      },
      "source": [
        "#BOW vectorizer for PROJECT_TITLE\n",
        "\n",
        "vectorizer = CountVectorizer(min_df=5, max_features=500)\n",
        "bow_vectrzr_title = vectorizer.fit(train_df['project_title'].values)"
      ],
      "execution_count": 0,
      "outputs": []
    },
    {
      "cell_type": "code",
      "metadata": {
        "id": "nZFevkYg0qYW",
        "colab_type": "code",
        "colab": {}
      },
      "source": [
        "#BOW vectorizer for ESSAY\n",
        "\n",
        "vectorizer = CountVectorizer(min_df=5, max_features=5000)\n",
        "bow_vectrzr_essay = vectorizer.fit(train_df['essay'].values)"
      ],
      "execution_count": 0,
      "outputs": []
    },
    {
      "cell_type": "code",
      "metadata": {
        "id": "OiTpHJu1wUhT",
        "colab_type": "code",
        "colab": {}
      },
      "source": [
        "#TFIDF vectorizer for PROJECT_TITLE\n",
        "\n",
        "vectorizer = TfidfVectorizer(min_df=5, max_features=500)\n",
        "tfidf_vectrzr_title = vectorizer.fit(train_df['project_title'].values)"
      ],
      "execution_count": 0,
      "outputs": []
    },
    {
      "cell_type": "code",
      "metadata": {
        "id": "X4NQzeOl007M",
        "colab_type": "code",
        "colab": {}
      },
      "source": [
        "#TFIDF vectorizer for ESSAY\n",
        "\n",
        "vectorizer = TfidfVectorizer(min_df=5, max_features=5000)\n",
        "tfidf_vectrzr_essay = vectorizer.fit(train_df['essay'].values)"
      ],
      "execution_count": 0,
      "outputs": []
    },
    {
      "cell_type": "markdown",
      "metadata": {
        "id": "cwThcXGZkpeQ",
        "colab_type": "text"
      },
      "source": [
        "#### 2.1.3 Vectorizers for numerical data"
      ]
    },
    {
      "cell_type": "code",
      "metadata": {
        "id": "TolCgwu5kzRq",
        "colab_type": "code",
        "outputId": "8f3b0f67-9bbc-466b-9c51-da34e3f9d648",
        "colab": {
          "base_uri": "https://localhost:8080/",
          "height": 34
        }
      },
      "source": [
        "#For PRICE\n",
        "\n",
        "price_scalar = Normalizer()\n",
        "price_scalar.fit(train_df['price'].values.reshape(1,-1))\n",
        "\n",
        "\n",
        "#For QUANTITY\n",
        "\n",
        "quantity_scalar = Normalizer()\n",
        "quantity_scalar.fit(train_df['quantity'].values.reshape(1,-1))\n",
        "\n",
        "\n",
        "#For TEACHER_NUMBER_OF_PREVIOUSLY_POSTED_PROJECTS\n",
        "\n",
        "ppost_scalar = Normalizer()\n",
        "ppost_scalar.fit(train_df['teacher_number_of_previously_posted_projects'].values.reshape(1,-1))"
      ],
      "execution_count": 0,
      "outputs": [
        {
          "output_type": "execute_result",
          "data": {
            "text/plain": [
              "Normalizer(copy=True, norm='l2')"
            ]
          },
          "metadata": {
            "tags": []
          },
          "execution_count": 32
        }
      ]
    },
    {
      "cell_type": "markdown",
      "metadata": {
        "id": "NtVV9iJWHMwj",
        "colab_type": "text"
      },
      "source": [
        "### 2.2 Transform Train & Test data: Generate four training sets; Four val sets; Four Test sets"
      ]
    },
    {
      "cell_type": "markdown",
      "metadata": {
        "id": "HearN_5n2E4P",
        "colab_type": "text"
      },
      "source": [
        "#### 2.2.1. Transforming categorical features"
      ]
    },
    {
      "cell_type": "code",
      "metadata": {
        "id": "9o93BO9E4BPd",
        "colab_type": "code",
        "colab": {}
      },
      "source": [
        "train_df_clean_categories = cat_vectorizer.transform(train_df['clean_categories'].values)\n",
        "test_df_clean_categories = cat_vectorizer.transform(test_df['clean_categories'].values)\n",
        "\n",
        "train_df_clean_subcategories = subcat_vectorizer.transform(train_df['clean_subcategories'].values)\n",
        "test_df_clean_subcategories = subcat_vectorizer.transform(test_df['clean_subcategories'].values)\n",
        "\n",
        "train_df_project_grade_category = grade_vectorizer.transform(train_df['project_grade_category'].values)\n",
        "test_df_project_grade_category = grade_vectorizer.transform(test_df['project_grade_category'].values)\n",
        "\n",
        "train_df_school_state = state_vectorizer.transform(train_df['school_state'].values)\n",
        "test_df_school_state = state_vectorizer.transform(test_df['school_state'].values)\n",
        "\n",
        "train_df_teacher_prefix = pf_vectorizer.transform(train_df['teacher_prefix'].values)\n",
        "test_df_teacher_prefix = pf_vectorizer.transform(test_df['teacher_prefix'].values)"
      ],
      "execution_count": 0,
      "outputs": []
    },
    {
      "cell_type": "markdown",
      "metadata": {
        "id": "93agJSeGj5xg",
        "colab_type": "text"
      },
      "source": [
        "#### 2.2.2 Transforming (vectorizing) numerical features"
      ]
    },
    {
      "cell_type": "code",
      "metadata": {
        "id": "AFhwoaAYkKX9",
        "colab_type": "code",
        "colab": {}
      },
      "source": [
        "train_df_price = price_scalar.transform(train_df['price'].values.reshape(1, -1)).reshape(-1, 1)\n",
        "test_df_price = price_scalar.transform(test_df['price'].values.reshape(1, -1)).reshape(-1, 1)\n",
        "\n",
        "train_df_quantity = quantity_scalar.transform(train_df['quantity'].values.reshape(1, -1)).reshape(-1, 1)\n",
        "test_df_quantity = quantity_scalar.transform(test_df['quantity'].values.reshape(1, -1)).reshape(-1, 1)\n",
        "\n",
        "train_df_pposts = ppost_scalar.transform(train_df['teacher_number_of_previously_posted_projects'].values.reshape(1, -1)).reshape(-1, 1)\n",
        "test_df_pposts = ppost_scalar.transform(test_df['teacher_number_of_previously_posted_projects'].values.reshape(1, -1)).reshape(-1, 1)"
      ],
      "execution_count": 0,
      "outputs": []
    },
    {
      "cell_type": "markdown",
      "metadata": {
        "colab_type": "text",
        "id": "o1SnFAsanor7"
      },
      "source": [
        "#### 2.2.3 Transforming text data"
      ]
    },
    {
      "cell_type": "code",
      "metadata": {
        "id": "JSmcm08DnsRC",
        "colab_type": "code",
        "colab": {}
      },
      "source": [
        "#For PROJECT_TITLE\n",
        "\n",
        "#BOW\n",
        "title_train_bow = bow_vectrzr_title.transform(train_df['project_title'].values)\n",
        "title_test_bow = bow_vectrzr_title.transform(test_df['project_title'].values)\n",
        "\n",
        "#TFIDF\n",
        "title_train_tfidf = tfidf_vectrzr_title.transform(train_df['project_title'].values)\n",
        "title_test_tfidf = tfidf_vectrzr_title.transform(test_df['project_title'].values)"
      ],
      "execution_count": 0,
      "outputs": []
    },
    {
      "cell_type": "code",
      "metadata": {
        "id": "tPq8yY98wJin",
        "colab_type": "code",
        "colab": {}
      },
      "source": [
        "#For ESSAY\n",
        "\n",
        "#BOW\n",
        "essay_train_bow = bow_vectrzr_essay.transform(train_df['essay'].values)\n",
        "essay_test_bow = bow_vectrzr_essay.transform(test_df['essay'].values)\n",
        "\n",
        "#TFIDF\n",
        "essay_train_tfidf = tfidf_vectrzr_essay.transform(train_df['essay'].values)\n",
        "essay_test_tfidf = tfidf_vectrzr_essay.transform(test_df['essay'].values)"
      ],
      "execution_count": 0,
      "outputs": []
    },
    {
      "cell_type": "markdown",
      "metadata": {
        "id": "6y0JNPwzB61i",
        "colab_type": "text"
      },
      "source": [
        "#### 2.2.4 Generating the sets of data"
      ]
    },
    {
      "cell_type": "code",
      "metadata": {
        "id": "W9IJbJM0CN5D",
        "colab_type": "code",
        "colab": {}
      },
      "source": [
        "#SET_1: categorical, numerical features + project_title(BOW) + preprocessed_essay (BOW)\n",
        "train_set_1x = sparse.hstack((train_df_teacher_prefix, train_df_school_state, train_df_project_grade_category, train_df_clean_categories, train_df_clean_subcategories, train_df_price, train_df_quantity, train_df_pposts, title_train_bow, essay_train_bow)) \n",
        "train_set_1y = train_df['project_is_approved'].to_numpy()\n",
        "\n",
        "test_set_1x = sparse.hstack((test_df_teacher_prefix, test_df_school_state, test_df_project_grade_category, test_df_clean_categories, test_df_clean_subcategories, test_df_price, test_df_quantity, test_df_pposts, title_test_bow, essay_test_bow)) \n",
        "test_set_1y = test_df['project_is_approved'].to_numpy()"
      ],
      "execution_count": 0,
      "outputs": []
    },
    {
      "cell_type": "code",
      "metadata": {
        "id": "vUAgyVkpZR5I",
        "colab_type": "code",
        "colab": {}
      },
      "source": [
        "#SET_2: categorical, numerical features + project_title(TFIDF) + preprocessed_essay (TFIDF)\n",
        "train_set_2x = sparse.hstack((train_df_teacher_prefix, train_df_school_state, train_df_project_grade_category, train_df_clean_categories, train_df_clean_subcategories, train_df_price, train_df_quantity, train_df_pposts, title_train_tfidf, essay_train_tfidf))\n",
        "train_set_2y = train_df['project_is_approved'].to_numpy()\n",
        "\n",
        "test_set_2x = sparse.hstack((test_df_teacher_prefix, test_df_school_state, test_df_project_grade_category, test_df_clean_categories, test_df_clean_subcategories, test_df_price, test_df_quantity, test_df_pposts, title_test_tfidf, essay_test_tfidf))\n",
        "test_set_2y = test_df['project_is_approved'].to_numpy()"
      ],
      "execution_count": 0,
      "outputs": []
    },
    {
      "cell_type": "code",
      "metadata": {
        "id": "aVE0Qe9whosZ",
        "colab_type": "code",
        "outputId": "93d52612-532e-463a-9377-04cc220d8faa",
        "colab": {
          "base_uri": "https://localhost:8080/",
          "height": 151
        }
      },
      "source": [
        "print(train_set_1x.shape)\n",
        "print(test_set_1x.shape)\n",
        "print(train_set_2x.shape)\n",
        "print(test_set_2x.shape)\n",
        "print(train_set_1y.shape)\n",
        "print(train_set_2y.shape)\n",
        "print(test_set_1y.shape)\n",
        "print(test_set_2y.shape)"
      ],
      "execution_count": 0,
      "outputs": [
        {
          "output_type": "stream",
          "text": [
            "(40000, 5602)\n",
            "(10000, 5602)\n",
            "(40000, 5602)\n",
            "(10000, 5602)\n",
            "(40000,)\n",
            "(40000,)\n",
            "(10000,)\n",
            "(10000,)\n"
          ],
          "name": "stdout"
        }
      ]
    },
    {
      "cell_type": "markdown",
      "metadata": {
        "id": "seDkQPjIM4y8",
        "colab_type": "text"
      },
      "source": [
        "## 3. Applying Naive Bayes"
      ]
    },
    {
      "cell_type": "markdown",
      "metadata": {
        "id": "IGt4579JNJZP",
        "colab_type": "text"
      },
      "source": [
        "### 3.1 Cross-validation for hyperparameter tuning and selection of alpha"
      ]
    },
    {
      "cell_type": "code",
      "metadata": {
        "id": "XZjLbaim9rxc",
        "colab_type": "code",
        "outputId": "9bd8bd80-b528-41cf-ac33-a02dda13617d",
        "colab": {
          "base_uri": "https://localhost:8080/"
        }
      },
      "source": [
        "#For SET_1\n",
        "\n",
        "nb_model = MultinomialNB()\n",
        "parameters = {'alpha':[10**x for x in range(-4,5)]}\n",
        "clf = RandomizedSearchCV(nb_model, parameters, cv=3, scoring='roc_auc', return_train_score=True)\n",
        "clf.fit(train_set_1x, train_set_1y)\n",
        "\n",
        "results = pd.DataFrame.from_dict(clf.cv_results_)\n",
        "results = results.sort_values(['mean_test_score'], ascending=False)\n",
        "\n",
        "train_auc= results['mean_train_score']\n",
        "train_auc_std= results['std_train_score']\n",
        "cv_auc = results['mean_test_score'] \n",
        "cv_auc_std= results['std_test_score']\n",
        "K =  results['param_alpha']\n",
        "K = K.map(lambda a: math.log10(1/a))\n",
        "\n",
        "plt.plot(K, train_auc, label='Train AUC')\n",
        "plt.plot(K, cv_auc, label='CV AUC')\n",
        "plt.scatter(K, train_auc, label='Train AUC points')\n",
        "plt.scatter(K, cv_auc, label='CV AUC points')\n",
        "\n",
        "plt.legend()\n",
        "plt.xlabel(\"K: hyperparameter\")\n",
        "plt.ylabel(\"AUC\")\n",
        "plt.title(\"Hyper parameter Vs AUC plot\")\n",
        "plt.grid()\n",
        "plt.show()\n",
        "\n",
        "results.head(2)"
      ],
      "execution_count": 0,
      "outputs": [
        {
          "output_type": "display_data",
          "data": {
            "image/png": "[encoded data removed]",
            "text/plain": [
              "<Figure size 432x288 with 1 Axes>"
            ]
          },
          "metadata": {
            "tags": []
          }
        },
        {
          "output_type": "execute_result",
          "data": {
            "text/html": [
              "<div>\n",
              "<style scoped>\n",
              "    .dataframe tbody tr th:only-of-type {\n",
              "        vertical-align: middle;\n",
              "    }\n",
              "\n",
              "    .dataframe tbody tr th {\n",
              "        vertical-align: top;\n",
              "    }\n",
              "\n",
              "    .dataframe thead th {\n",
              "        text-align: right;\n",
              "    }\n",
              "</style>\n",
              "<table border=\"1\" class=\"dataframe\">\n",
              "  <thead>\n",
              "    <tr style=\"text-align: right;\">\n",
              "      <th></th>\n",
              "      <th>mean_fit_time</th>\n",
              "      <th>std_fit_time</th>\n",
              "      <th>mean_score_time</th>\n",
              "      <th>std_score_time</th>\n",
              "      <th>param_alpha</th>\n",
              "      <th>params</th>\n",
              "      <th>split0_test_score</th>\n",
              "      <th>split1_test_score</th>\n",
              "      <th>split2_test_score</th>\n",
              "      <th>mean_test_score</th>\n",
              "      <th>std_test_score</th>\n",
              "      <th>rank_test_score</th>\n",
              "      <th>split0_train_score</th>\n",
              "      <th>split1_train_score</th>\n",
              "      <th>split2_train_score</th>\n",
              "      <th>mean_train_score</th>\n",
              "      <th>std_train_score</th>\n",
              "    </tr>\n",
              "  </thead>\n",
              "  <tbody>\n",
              "    <tr>\n",
              "      <th>1</th>\n",
              "      <td>0.036899</td>\n",
              "      <td>0.000102</td>\n",
              "      <td>0.014273</td>\n",
              "      <td>0.000027</td>\n",
              "      <td>0.001</td>\n",
              "      <td>{'alpha': 0.001}</td>\n",
              "      <td>0.747372</td>\n",
              "      <td>0.744126</td>\n",
              "      <td>0.737221</td>\n",
              "      <td>0.742906</td>\n",
              "      <td>0.004233</td>\n",
              "      <td>1</td>\n",
              "      <td>0.780730</td>\n",
              "      <td>0.782142</td>\n",
              "      <td>0.783947</td>\n",
              "      <td>0.782273</td>\n",
              "      <td>0.001317</td>\n",
              "    </tr>\n",
              "    <tr>\n",
              "      <th>0</th>\n",
              "      <td>0.040391</td>\n",
              "      <td>0.004822</td>\n",
              "      <td>0.014469</td>\n",
              "      <td>0.000193</td>\n",
              "      <td>0.0001</td>\n",
              "      <td>{'alpha': 0.0001}</td>\n",
              "      <td>0.747372</td>\n",
              "      <td>0.744120</td>\n",
              "      <td>0.737222</td>\n",
              "      <td>0.742905</td>\n",
              "      <td>0.004232</td>\n",
              "      <td>2</td>\n",
              "      <td>0.780731</td>\n",
              "      <td>0.782143</td>\n",
              "      <td>0.783948</td>\n",
              "      <td>0.782274</td>\n",
              "      <td>0.001316</td>\n",
              "    </tr>\n",
              "  </tbody>\n",
              "</table>\n",
              "</div>"
            ],
            "text/plain": [
              "   mean_fit_time  std_fit_time  ...  mean_train_score  std_train_score\n",
              "1       0.036899      0.000102  ...          0.782273         0.001317\n",
              "0       0.040391      0.004822  ...          0.782274         0.001316\n",
              "\n",
              "[2 rows x 17 columns]"
            ]
          },
          "metadata": {
            "tags": []
          },
          "execution_count": 40
        }
      ]
    },
    {
      "cell_type": "markdown",
      "metadata": {
        "id": "lz9LQb0uHIXw",
        "colab_type": "text"
      },
      "source": [
        "We observe that for SET_1, **alpha= 10^(-2)** gives the highest AUC on test data and least difference between train and validation AUC scores."
      ]
    },
    {
      "cell_type": "code",
      "metadata": {
        "id": "aaS4BE5hpTpV",
        "colab_type": "code",
        "colab": {}
      },
      "source": [
        "A_1 = 10**(-2)"
      ],
      "execution_count": 0,
      "outputs": []
    },
    {
      "cell_type": "code",
      "metadata": {
        "id": "uNDdAjX8FGlg",
        "colab_type": "code",
        "outputId": "95591dc8-cd01-4357-d072-9668f766f10e",
        "colab": {
          "base_uri": "https://localhost:8080/"
        }
      },
      "source": [
        "#For SET_2\n",
        "\n",
        "nb_model = MultinomialNB()\n",
        "parameters = {'alpha':[10**x for x in range(-4,5)]}\n",
        "clf = RandomizedSearchCV(nb_model, parameters, cv=3, scoring='roc_auc', return_train_score=True)\n",
        "clf.fit(train_set_2x, train_set_2y)\n",
        "\n",
        "results = pd.DataFrame.from_dict(clf.cv_results_)\n",
        "results = results.sort_values(['mean_test_score'], ascending=False)\n",
        "\n",
        "train_auc= results['mean_train_score']\n",
        "train_auc_std= results['std_train_score']\n",
        "cv_auc = results['mean_test_score'] \n",
        "cv_auc_std= results['std_test_score']\n",
        "K =  results['param_alpha']\n",
        "K = K.map(lambda a: math.log10(1/a))\n",
        "\n",
        "plt.plot(K, train_auc, label='Train AUC')\n",
        "plt.plot(K, cv_auc, label='CV AUC')\n",
        "plt.scatter(K, train_auc, label='Train AUC points')\n",
        "plt.scatter(K, cv_auc, label='CV AUC points')\n",
        "\n",
        "plt.legend()\n",
        "plt.xlabel(\"K: hyperparameter\")\n",
        "plt.ylabel(\"AUC\")\n",
        "plt.title(\"Hyper parameter Vs AUC plot\")\n",
        "plt.grid()\n",
        "plt.show()\n",
        "\n",
        "results.head(2)"
      ],
      "execution_count": 0,
      "outputs": [
        {
          "output_type": "display_data",
          "data": {
            "image/png": "[encoded data removed]",
            "text/plain": [
              "<Figure size 432x288 with 1 Axes>"
            ]
          },
          "metadata": {
            "tags": []
          }
        },
        {
          "output_type": "execute_result",
          "data": {
            "text/html": [
              "<div>\n",
              "<style scoped>\n",
              "    .dataframe tbody tr th:only-of-type {\n",
              "        vertical-align: middle;\n",
              "    }\n",
              "\n",
              "    .dataframe tbody tr th {\n",
              "        vertical-align: top;\n",
              "    }\n",
              "\n",
              "    .dataframe thead th {\n",
              "        text-align: right;\n",
              "    }\n",
              "</style>\n",
              "<table border=\"1\" class=\"dataframe\">\n",
              "  <thead>\n",
              "    <tr style=\"text-align: right;\">\n",
              "      <th></th>\n",
              "      <th>mean_fit_time</th>\n",
              "      <th>std_fit_time</th>\n",
              "      <th>mean_score_time</th>\n",
              "      <th>std_score_time</th>\n",
              "      <th>param_alpha</th>\n",
              "      <th>params</th>\n",
              "      <th>split0_test_score</th>\n",
              "      <th>split1_test_score</th>\n",
              "      <th>split2_test_score</th>\n",
              "      <th>mean_test_score</th>\n",
              "      <th>std_test_score</th>\n",
              "      <th>rank_test_score</th>\n",
              "      <th>split0_train_score</th>\n",
              "      <th>split1_train_score</th>\n",
              "      <th>split2_train_score</th>\n",
              "      <th>mean_train_score</th>\n",
              "      <th>std_train_score</th>\n",
              "    </tr>\n",
              "  </thead>\n",
              "  <tbody>\n",
              "    <tr>\n",
              "      <th>0</th>\n",
              "      <td>0.035859</td>\n",
              "      <td>0.000354</td>\n",
              "      <td>0.014375</td>\n",
              "      <td>0.000079</td>\n",
              "      <td>0.0001</td>\n",
              "      <td>{'alpha': 0.0001}</td>\n",
              "      <td>0.723896</td>\n",
              "      <td>0.715288</td>\n",
              "      <td>0.710810</td>\n",
              "      <td>0.716665</td>\n",
              "      <td>0.00543</td>\n",
              "      <td>1</td>\n",
              "      <td>0.755483</td>\n",
              "      <td>0.759530</td>\n",
              "      <td>0.759537</td>\n",
              "      <td>0.758184</td>\n",
              "      <td>0.00191</td>\n",
              "    </tr>\n",
              "    <tr>\n",
              "      <th>1</th>\n",
              "      <td>0.035951</td>\n",
              "      <td>0.000153</td>\n",
              "      <td>0.014462</td>\n",
              "      <td>0.000020</td>\n",
              "      <td>0.001</td>\n",
              "      <td>{'alpha': 0.001}</td>\n",
              "      <td>0.723891</td>\n",
              "      <td>0.715283</td>\n",
              "      <td>0.710805</td>\n",
              "      <td>0.716660</td>\n",
              "      <td>0.00543</td>\n",
              "      <td>2</td>\n",
              "      <td>0.755474</td>\n",
              "      <td>0.759523</td>\n",
              "      <td>0.759529</td>\n",
              "      <td>0.758176</td>\n",
              "      <td>0.00191</td>\n",
              "    </tr>\n",
              "  </tbody>\n",
              "</table>\n",
              "</div>"
            ],
            "text/plain": [
              "   mean_fit_time  std_fit_time  ...  mean_train_score  std_train_score\n",
              "0       0.035859      0.000354  ...          0.758184          0.00191\n",
              "1       0.035951      0.000153  ...          0.758176          0.00191\n",
              "\n",
              "[2 rows x 17 columns]"
            ]
          },
          "metadata": {
            "tags": []
          },
          "execution_count": 42
        }
      ]
    },
    {
      "cell_type": "markdown",
      "metadata": {
        "id": "LuuhZjP8ecqm",
        "colab_type": "text"
      },
      "source": [
        "We observe that on SET_2, **alpha = 10^(-1)** gives the highest AUC on test data and the least difference between train and validation AUC scores."
      ]
    },
    {
      "cell_type": "code",
      "metadata": {
        "id": "J49Ddv0TepHe",
        "colab_type": "code",
        "colab": {}
      },
      "source": [
        "A_2 = 10**(-1)"
      ],
      "execution_count": 0,
      "outputs": []
    },
    {
      "cell_type": "markdown",
      "metadata": {
        "id": "6aq89j4kNQ8S",
        "colab_type": "text"
      },
      "source": [
        "### 4.2 Apply Naive Bayes to all datasets"
      ]
    },
    {
      "cell_type": "code",
      "metadata": {
        "id": "J-XAD15Q-Byy",
        "colab_type": "code",
        "outputId": "b8ec22b2-1673-4ad3-f0ba-e34db9c09ec2",
        "colab": {
          "base_uri": "https://localhost:8080/"
        }
      },
      "source": [
        "nb_model_1 = MultinomialNB(alpha=A_1)\n",
        "nb_model_1.fit(train_set_1x, train_set_1y)"
      ],
      "execution_count": 0,
      "outputs": [
        {
          "output_type": "execute_result",
          "data": {
            "text/plain": [
              "MultinomialNB(alpha=0.01, class_prior=None, fit_prior=True)"
            ]
          },
          "metadata": {
            "tags": []
          },
          "execution_count": 44
        }
      ]
    },
    {
      "cell_type": "code",
      "metadata": {
        "id": "hiCZqtvw-JQR",
        "colab_type": "code",
        "outputId": "79a0ed39-4613-427d-d6e9-69d0df9b175e",
        "colab": {
          "base_uri": "https://localhost:8080/"
        }
      },
      "source": [
        "nb_model_2 = MultinomialNB(alpha=A_2)\n",
        "nb_model_2.fit(train_set_2x, train_set_2y)"
      ],
      "execution_count": 0,
      "outputs": [
        {
          "output_type": "execute_result",
          "data": {
            "text/plain": [
              "MultinomialNB(alpha=0.1, class_prior=None, fit_prior=True)"
            ]
          },
          "metadata": {
            "tags": []
          },
          "execution_count": 45
        }
      ]
    },
    {
      "cell_type": "markdown",
      "metadata": {
        "id": "Pkw2LAfLOc1g",
        "colab_type": "text"
      },
      "source": [
        "## 5. Test Models"
      ]
    },
    {
      "cell_type": "markdown",
      "metadata": {
        "id": "tEgoRiwwOysO",
        "colab_type": "text"
      },
      "source": [
        "### 5.1 Predict in batches on test data (Prediction in small batches)"
      ]
    },
    {
      "cell_type": "code",
      "metadata": {
        "id": "6pogAOgAS9Cg",
        "colab_type": "code",
        "colab": {}
      },
      "source": [
        "from sklearn.metrics import roc_curve, auc, confusion_matrix\n",
        "\n",
        "def find_best_threshold(threshold, fpr, tpr):\n",
        "  t = threshold[np.argmax(tpr*(1-fpr))]\n",
        "  # (tpr*(1-fpr)) will be maximum if your fpr is very low and tpr is very high\n",
        "  print(\"The maximum value of tpr*(1-fpr) is \", max(tpr*(1-fpr)), \"for threshold:\", np.round(t,3))\n",
        "  return t\n",
        "\n",
        "def predict_with_best_t(proba, threshold):\n",
        "  predictions = []\n",
        "  for i in proba:\n",
        "    if i>=threshold:\n",
        "      predictions.append(1)\n",
        "    else:\n",
        "      predictions.append(0)\n",
        "  return predictions"
      ],
      "execution_count": 0,
      "outputs": []
    },
    {
      "cell_type": "code",
      "metadata": {
        "id": "3XfEKW6QViCx",
        "colab_type": "code",
        "outputId": "45f5b6ed-2aa5-4bcd-c1a7-4d3bd71d3fe7",
        "colab": {
          "base_uri": "https://localhost:8080/",
          "height": 665
        }
      },
      "source": [
        "y_train_pred = nb_model_1.predict_proba(train_set_1x)[:,1]\n",
        "y_test_pred = nb_model_1.predict_proba(test_set_1x)[:,1]\n",
        "\n",
        "train_fpr, train_tpr, tr_thresholds = roc_curve(train_set_1y, y_train_pred)\n",
        "test_fpr, test_tpr, te_thresholds = roc_curve(test_set_1y, y_test_pred)\n",
        "\n",
        "tr_auc_1 = auc(train_fpr, train_tpr)\n",
        "te_auc_1 = auc(test_fpr, test_tpr)\n",
        "\n",
        "plt.plot(train_fpr, train_tpr, label=\"Train AUC =\"+str(tr_auc_1))\n",
        "plt.plot(test_fpr, test_tpr, label=\"Test AUC =\"+str(te_auc_1))\n",
        "plt.legend()\n",
        "plt.xlabel(\"False Positive Rate\")\n",
        "plt.ylabel(\"True Positive Rate\")\n",
        "plt.title(\"ROC CURVE FOR Naive Bayes ON TEST SET 1\")\n",
        "plt.grid()\n",
        "plt.show()\n",
        "\n",
        "print(\"*\"*100+'\\n')\n",
        "print(\"CONFUSION MATRIX FOR TRAIN DATA:\")\n",
        "best_t = find_best_threshold(tr_thresholds, train_fpr, train_tpr)\n",
        "conf_mat = confusion_matrix(train_set_1y, predict_with_best_t(y_train_pred, best_t))\n",
        "conf_table = PrettyTable()\n",
        "conf_table.hrules = ALL\n",
        "conf_table.field_names = ['', 'PREDICTED NO', 'PREDICTED YES']\n",
        "conf_table.add_row(['ACTUAL NO', conf_mat[0][0], conf_mat[0][1]])\n",
        "conf_table.add_row(['ACTUAL YES', conf_mat[1][0], conf_mat[1][1]])\n",
        "print(conf_table)\n",
        "print(\"*\"*100+'\\n')\n",
        "print(\"CONFUSION MATRIX FOR TEST DATA:\")\n",
        "best_t = find_best_threshold(te_thresholds, test_fpr, test_tpr)\n",
        "conf_mat = confusion_matrix(test_set_1y, predict_with_best_t(y_test_pred, best_t))\n",
        "conf_table = PrettyTable()\n",
        "conf_table.hrules = ALL\n",
        "conf_table.field_names = ['', 'PREDICTED NO', 'PREDICTED YES']\n",
        "conf_table.add_row(['ACTUAL NO', conf_mat[0][0], conf_mat[0][1]])\n",
        "conf_table.add_row(['ACTUAL YES', conf_mat[1][0], conf_mat[1][1]])\n",
        "print(conf_table)"
      ],
      "execution_count": 0,
      "outputs": [
        {
          "output_type": "display_data",
          "data": {
            "image/png": "[encoded data removed]",
            "text/plain": [
              "<Figure size 432x288 with 1 Axes>"
            ]
          },
          "metadata": {
            "tags": []
          }
        },
        {
          "output_type": "stream",
          "text": [
            "****************************************************************************************************\n",
            "\n",
            "CONFUSION MATRIX FOR TRAIN DATA:\n",
            "The maximum value of tpr*(1-fpr) is  0.49816338250000003 for threshold: 0.461\n",
            "+------------+--------------+---------------+\n",
            "|            | PREDICTED NO | PREDICTED YES |\n",
            "+------------+--------------+---------------+\n",
            "| ACTUAL NO  |    13961     |      6039     |\n",
            "+------------+--------------+---------------+\n",
            "| ACTUAL YES |     5727     |     14273     |\n",
            "+------------+--------------+---------------+\n",
            "****************************************************************************************************\n",
            "\n",
            "CONFUSION MATRIX FOR TEST DATA:\n",
            "The maximum value of tpr*(1-fpr) is  0.4269208963648574 for threshold: 0.556\n",
            "+------------+--------------+---------------+\n",
            "|            | PREDICTED NO | PREDICTED YES |\n",
            "+------------+--------------+---------------+\n",
            "| ACTUAL NO  |     972      |      542      |\n",
            "+------------+--------------+---------------+\n",
            "| ACTUAL YES |     2843     |      5643     |\n",
            "+------------+--------------+---------------+\n"
          ],
          "name": "stdout"
        }
      ]
    },
    {
      "cell_type": "code",
      "metadata": {
        "colab_type": "code",
        "id": "AFWA58lSXVoZ",
        "outputId": "355da060-1149-4543-ed65-2fbe21d12303",
        "colab": {
          "base_uri": "https://localhost:8080/",
          "height": 665
        }
      },
      "source": [
        "y_train_pred = nb_model_2.predict_proba(train_set_2x)[:,1]\n",
        "y_test_pred = nb_model_2.predict_proba(test_set_2x)[:,1]\n",
        "\n",
        "train_fpr, train_tpr, tr_thresholds = roc_curve(train_set_2y, y_train_pred)\n",
        "test_fpr, test_tpr, te_thresholds = roc_curve(test_set_2y, y_test_pred)\n",
        "\n",
        "tr_auc_2 = auc(train_fpr, train_tpr)\n",
        "te_auc_2 = auc(test_fpr, test_tpr)\n",
        "\n",
        "plt.plot(train_fpr, train_tpr, label=\"Train AUC =\"+str(tr_auc_2))\n",
        "plt.plot(test_fpr, test_tpr, label=\"Test AUC =\"+str(te_auc_2))\n",
        "plt.legend()\n",
        "plt.xlabel(\"False Positive Rate\")\n",
        "plt.ylabel(\"True Positive Rate\")\n",
        "plt.title(\"ROC CURVE FOR Naive Bayes ON TEST SET 2\")\n",
        "plt.grid()\n",
        "plt.show()\n",
        "\n",
        "print(\"*\"*100+'\\n')\n",
        "print(\"CONFUSION MATRIX FOR TRAIN DATA:\")\n",
        "best_t = find_best_threshold(tr_thresholds, train_fpr, train_tpr)\n",
        "conf_mat = confusion_matrix(train_set_2y, predict_with_best_t(y_train_pred, best_t))\n",
        "conf_table = PrettyTable()\n",
        "conf_table.hrules = ALL\n",
        "conf_table.field_names = ['', 'PREDICTED NO', 'PREDICTED YES']\n",
        "conf_table.add_row(['ACTUAL NO', conf_mat[0][0], conf_mat[0][1]])\n",
        "conf_table.add_row(['ACTUAL YES', conf_mat[1][0], conf_mat[1][1]])\n",
        "print(conf_table)\n",
        "print(\"*\"*100+'\\n')\n",
        "print(\"CONFUSION MATRIX FOR TEST DATA:\")\n",
        "best_t = find_best_threshold(te_thresholds, test_fpr, test_tpr)\n",
        "conf_mat = confusion_matrix(test_set_2y, predict_with_best_t(y_test_pred, best_t))\n",
        "conf_table = PrettyTable()\n",
        "conf_table.hrules = ALL\n",
        "conf_table.field_names = ['', 'PREDICTED NO', 'PREDICTED YES']\n",
        "conf_table.add_row(['ACTUAL NO', conf_mat[0][0], conf_mat[0][1]])\n",
        "conf_table.add_row(['ACTUAL YES', conf_mat[1][0], conf_mat[1][1]])\n",
        "print(conf_table)"
      ],
      "execution_count": 0,
      "outputs": [
        {
          "output_type": "display_data",
          "data": {
            "image/png": "[encoded data removed]",
            "text/plain": [
              "<Figure size 432x288 with 1 Axes>"
            ]
          },
          "metadata": {
            "tags": []
          }
        },
        {
          "output_type": "stream",
          "text": [
            "****************************************************************************************************\n",
            "\n",
            "CONFUSION MATRIX FOR TRAIN DATA:\n",
            "The maximum value of tpr*(1-fpr) is  0.470955485 for threshold: 0.482\n",
            "+------------+--------------+---------------+\n",
            "|            | PREDICTED NO | PREDICTED YES |\n",
            "+------------+--------------+---------------+\n",
            "| ACTUAL NO  |    13286     |      6714     |\n",
            "+------------+--------------+---------------+\n",
            "| ACTUAL YES |     5821     |     14179     |\n",
            "+------------+--------------+---------------+\n",
            "****************************************************************************************************\n",
            "\n",
            "CONFUSION MATRIX FOR TEST DATA:\n",
            "The maximum value of tpr*(1-fpr) is  0.403611387595888 for threshold: 0.553\n",
            "+------------+--------------+---------------+\n",
            "|            | PREDICTED NO | PREDICTED YES |\n",
            "+------------+--------------+---------------+\n",
            "| ACTUAL NO  |     1060     |      454      |\n",
            "+------------+--------------+---------------+\n",
            "| ACTUAL YES |     3594     |      4892     |\n",
            "+------------+--------------+---------------+\n"
          ],
          "name": "stdout"
        }
      ]
    },
    {
      "cell_type": "markdown",
      "metadata": {
        "id": "ON-RL1-Ievc8",
        "colab_type": "text"
      },
      "source": [
        "## 6. Feature Selection for SET_2"
      ]
    },
    {
      "cell_type": "markdown",
      "metadata": {
        "id": "E--62PGfe6v0",
        "colab_type": "text"
      },
      "source": [
        "### 6.1 Creating feature list:"
      ]
    },
    {
      "cell_type": "code",
      "metadata": {
        "id": "ueW6QLwenlI7",
        "colab_type": "code",
        "outputId": "d87cb8d8-a28c-42be-99b3-baf820c72864",
        "colab": {
          "base_uri": "https://localhost:8080/",
          "height": 34
        }
      },
      "source": [
        "features_list = []\n",
        "features_list.extend(pf_vectorizer.get_feature_names())\n",
        "features_list.extend(state_vectorizer.get_feature_names())\n",
        "features_list.extend(grade_vectorizer.get_feature_names())\n",
        "features_list.extend(cat_vectorizer.get_feature_names())\n",
        "features_list.extend(subcat_vectorizer.get_feature_names())\n",
        "features_list.extend(['Price', 'Quantity', 'Number of Previous Posts'])\n",
        "features_list.extend(tfidf_vectrzr_title.get_feature_names())\n",
        "features_list.extend(tfidf_vectrzr_essay.get_feature_names())\n",
        "\n",
        "print(len(features_list))"
      ],
      "execution_count": 0,
      "outputs": [
        {
          "output_type": "stream",
          "text": [
            "5602\n"
          ],
          "name": "stdout"
        }
      ]
    },
    {
      "cell_type": "markdown",
      "metadata": {
        "id": "bHh69n-rD8Bk",
        "colab_type": "text"
      },
      "source": [
        "### 6.2 Sort features by importance"
      ]
    },
    {
      "cell_type": "code",
      "metadata": {
        "id": "HKt5bKdwD7fA",
        "colab_type": "code",
        "colab": {}
      },
      "source": [
        "#Reference: https://stackoverflow.com/questions/6618515/sorting-list-based-on-values-from-another-list\n",
        "\n",
        "f_log_probs = nb_model_2.feature_log_prob_\n",
        "f_class_0 = f_log_probs[0]\n",
        "f_class_1 = f_log_probs[1]\n",
        "\n",
        "f_class0_imp = [f for f,_ in sorted(zip(features_list, f_class_0), key=lambda pair: pair[1], reverse=True)]\n",
        "f_class1_imp = [f for f,_ in sorted(zip(features_list, f_class_1), key=lambda pair: pair[1], reverse=True)]"
      ],
      "execution_count": 0,
      "outputs": []
    },
    {
      "cell_type": "markdown",
      "metadata": {
        "id": "uugZbrmYMdkC",
        "colab_type": "text"
      },
      "source": [
        "### 6.3 Display top 20 features"
      ]
    },
    {
      "cell_type": "code",
      "metadata": {
        "id": "MCwS24LNMdQu",
        "colab_type": "code",
        "outputId": "e1613e99-cc07-4eea-be49-58a00764812a",
        "colab": {
          "base_uri": "https://localhost:8080/",
          "height": 121
        }
      },
      "source": [
        "print(\"TOP 20 FEATURES FOR CLASS 0:\")\n",
        "print(f_class0_imp[0:20])\n",
        "print(\"*\"*50)\n",
        "print(\"TOP 20 FEATURES FOR CLASS 1:\")\n",
        "print(f_class1_imp[0:20])"
      ],
      "execution_count": 0,
      "outputs": [
        {
          "output_type": "stream",
          "text": [
            "TOP 20 FEATURES FOR CLASS 0:\n",
            "['Mrs', 'Literacy_Language', 'Grades_PreK_2', 'Math_Science', 'Ms', 'Grades_3_5', 'Mathematics', 'Literacy', 'Literature_Writing', 'Grades_6_8', 'SpecialNeeds', 'SpecialNeeds', 'CA', 'students', 'Health_Sports', 'AppliedSciences', 'AppliedLearning', 'Grades_9_12', 'Mr', 'Music_Arts']\n",
            "**************************************************\n",
            "TOP 20 FEATURES FOR CLASS 1:\n",
            "['Mrs', 'Literacy_Language', 'Grades_PreK_2', 'Math_Science', 'Ms', 'Grades_3_5', 'Literacy', 'Mathematics', 'Literature_Writing', 'Grades_6_8', 'CA', 'students', 'Health_Sports', 'SpecialNeeds', 'SpecialNeeds', 'AppliedLearning', 'Grades_9_12', 'AppliedSciences', 'Mr', 'Health_Wellness']\n"
          ],
          "name": "stdout"
        }
      ]
    },
    {
      "cell_type": "markdown",
      "metadata": {
        "id": "mXwg2WyfOWn7",
        "colab_type": "text"
      },
      "source": [
        "## 7. Summary table "
      ]
    },
    {
      "cell_type": "code",
      "metadata": {
        "id": "NxMvWhrzYxAP",
        "colab_type": "code",
        "outputId": "2dc11d43-b373-4338-8423-3a3ac45f9b43",
        "colab": {
          "base_uri": "https://localhost:8080/",
          "height": 118
        }
      },
      "source": [
        "from prettytable import PrettyTable\n",
        "\n",
        "summ = PrettyTable()\n",
        "\n",
        "summ.field_names = [\"Vectorizer\", \"Model\", \"Alpha: Hyperparameter\", \"AUC on Test data\"]\n",
        "\n",
        "summ.add_row([\"BOW\", \"Multinomial Naive Bayes\", A_1, np.round(te_auc_1, 4)])\n",
        "summ.add_row([\"TFIDF\", \"Multinomial Naive Bayes\", A_2, np.round(te_auc_2, 4)])\n",
        "\n",
        "print(summ)"
      ],
      "execution_count": 0,
      "outputs": [
        {
          "output_type": "stream",
          "text": [
            "+------------+-------------------------+-----------------------+------------------+\n",
            "| Vectorizer |          Model          | Alpha: Hyperparameter | AUC on Test data |\n",
            "+------------+-------------------------+-----------------------+------------------+\n",
            "|    BOW     | Multinomial Naive Bayes |          0.01         |      0.7014      |\n",
            "|   TFIDF    | Multinomial Naive Bayes |          0.1          |      0.6709      |\n",
            "+------------+-------------------------+-----------------------+------------------+\n"
          ],
          "name": "stdout"
        }
      ]
    }
  ]
}