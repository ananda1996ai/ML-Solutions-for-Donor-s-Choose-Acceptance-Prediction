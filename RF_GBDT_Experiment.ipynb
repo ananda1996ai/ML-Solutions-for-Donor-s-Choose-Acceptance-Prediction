{
  "nbformat": 4,
  "nbformat_minor": 0,
  "metadata": {
    "colab": {
      "name": "RF_GBDT_Experiment.ipynb",
      "provenance": [],
      "collapsed_sections": [
        "9lhFHImI746N",
        "9MIW-5A78AhZ",
        "G5-jzum9MbOr",
        "Qmaj_lfFW3sE",
        "vIs9wvzLGKkK",
        "gNkaETDts87r",
        "pWvXZF_aGkR8"
      ],
      "machine_shape": "hm",
      "include_colab_link": true
    },
    "kernelspec": {
      "name": "python3",
      "display_name": "Python 3"
    },
    "accelerator": "TPU"
  },
  "cells": [
    {
      "cell_type": "markdown",
      "metadata": {
        "id": "view-in-github",
        "colab_type": "text"
      },
      "source": [
        "<a href=\"https://colab.research.google.com/github/ananda1996ai/ML-Solutions-for-Donors-Choose-Acceptance-Prediction/blob/master/RF_GBDT_Experiment.ipynb\" target=\"_parent\"><img src=\"https://colab.research.google.com/assets/colab-badge.svg\" alt=\"Open In Colab\"/></a>"
      ]
    },
    {
      "cell_type": "markdown",
      "metadata": {
        "id": "QAzddpf0F2Wm",
        "colab_type": "text"
      },
      "source": [
        "# Random Forests & Gradient Boosted Decision Trees"
      ]
    },
    {
      "cell_type": "markdown",
      "metadata": {
        "id": "etNpzy7rCyl2",
        "colab_type": "text"
      },
      "source": [
        "<p>\n",
        "DonorsChoose.org receives hundreds of thousands of project proposals each year for classroom projects in need of funding. Right now, a large number of volunteers is needed to manually screen each submission before it's approved to be posted on the DonorsChoose.org website.\n",
        "</p>\n",
        "<p>\n",
        "    Next year, DonorsChoose.org expects to receive close to 500,000 project proposals. As a result, there are three main problems they need to solve:\n",
        "<ul>\n",
        "<li>\n",
        "    How to scale current manual processes and resources to screen 500,000 projects so that they can be posted as quickly and as efficiently as possible</li>\n",
        "    <li>How to increase the consistency of project vetting across different volunteers to improve the experience for teachers</li>\n",
        "    <li>How to focus volunteer time on the applications that need the most assistance</li>\n",
        "    </ul>\n",
        "</p>    \n",
        "<p>\n",
        "The goal of the competition is to predict whether or not a DonorsChoose.org project proposal submitted by a teacher will be approved, using the text of project descriptions as well as additional metadata about the project, teacher, and school. DonorsChoose.org can then use this information to identify projects most likely to need further review before approval.\n",
        "</p>"
      ]
    },
    {
      "cell_type": "markdown",
      "metadata": {
        "id": "kO2Kg7TgCyl4",
        "colab_type": "text"
      },
      "source": [
        "## About the DonorsChoose Data Set\n",
        "\n",
        "The `train.csv` data set provided by DonorsChoose contains the following features:\n",
        "\n",
        "Feature | Description \n",
        "----------|---------------\n",
        "**`project_id`** | A unique identifier for the proposed project. **Example:** `p036502`   \n",
        "**`project_title`**    | Title of the project. **Examples:**<br><ul><li><code>Art Will Make You Happy!</code></li><li><code>First Grade Fun</code></li></ul> \n",
        "**`project_grade_category`** | Grade level of students for which the project is targeted. One of the following enumerated values: <br/><ul><li><code>Grades PreK-2</code></li><li><code>Grades 3-5</code></li><li><code>Grades 6-8</code></li><li><code>Grades 9-12</code></li></ul>  \n",
        " **`project_subject_categories`** | One or more (comma-separated) subject categories for the project from the following enumerated list of values:  <br/><ul><li><code>Applied Learning</code></li><li><code>Care &amp; Hunger</code></li><li><code>Health &amp; Sports</code></li><li><code>History &amp; Civics</code></li><li><code>Literacy &amp; Language</code></li><li><code>Math &amp; Science</code></li><li><code>Music &amp; The Arts</code></li><li><code>Special Needs</code></li><li><code>Warmth</code></li></ul><br/> **Examples:** <br/><ul><li><code>Music &amp; The Arts</code></li><li><code>Literacy &amp; Language, Math &amp; Science</code></li>  \n",
        "  **`school_state`** | State where school is located ([Two-letter U.S. postal code](https://en.wikipedia.org/wiki/List_of_U.S._state_abbreviations#Postal_codes)). **Example:** `WY`\n",
        "**`project_subject_subcategories`** | One or more (comma-separated) subject subcategories for the project. **Examples:** <br/><ul><li><code>Literacy</code></li><li><code>Literature &amp; Writing, Social Sciences</code></li></ul> \n",
        "**`project_resource_summary`** | An explanation of the resources needed for the project. **Example:** <br/><ul><li><code>My students need hands on literacy materials to manage sensory needs!</code</li></ul> \n",
        "**`project_essay_1`**    | First application essay<sup>*</sup>  \n",
        "**`project_essay_2`**    | Second application essay<sup>*</sup> \n",
        "**`project_essay_3`**    | Third application essay<sup>*</sup> \n",
        "**`project_essay_4`**    | Fourth application essay<sup>*</sup> \n",
        "**`project_submitted_datetime`** | Datetime when project application was submitted. **Example:** `2016-04-28 12:43:56.245`   \n",
        "**`teacher_id`** | A unique identifier for the teacher of the proposed project. **Example:** `bdf8baa8fedef6bfeec7ae4ff1c15c56`  \n",
        "**`teacher_prefix`** | Teacher's title. One of the following enumerated values: <br/><ul><li><code>nan</code></li><li><code>Dr.</code></li><li><code>Mr.</code></li><li><code>Mrs.</code></li><li><code>Ms.</code></li><li><code>Teacher.</code></li></ul>  \n",
        "**`teacher_number_of_previously_posted_projects`** | Number of project applications previously submitted by the same teacher. **Example:** `2` \n",
        "\n",
        "<sup>*</sup> See the section <b>Notes on the Essay Data</b> for more details about these features.\n",
        "\n",
        "Additionally, the `resources.csv` data set provides more data about the resources required for each project. Each line in this file represents a resource required by a project:\n",
        "\n",
        "Feature | Description \n",
        "----------|---------------\n",
        "**`id`** | A `project_id` value from the `train.csv` file.  **Example:** `p036502`   \n",
        "**`description`** | Desciption of the resource. **Example:** `Tenor Saxophone Reeds, Box of 25`   \n",
        "**`quantity`** | Quantity of the resource required. **Example:** `3`   \n",
        "**`price`** | Price of the resource required. **Example:** `9.95`   \n",
        "\n",
        "**Note:** Many projects require multiple resources. The `id` value corresponds to a `project_id` in train.csv, so you use it as a key to retrieve all resources needed for a project:\n",
        "\n",
        "The data set contains the following label (the value you will attempt to predict):\n",
        "\n",
        "Label | Description\n",
        "----------|---------------\n",
        "`project_is_approved` | A binary flag indicating whether DonorsChoose approved the project. A value of `0` indicates the project was not approved, and a value of `1` indicates the project was approved."
      ]
    },
    {
      "cell_type": "markdown",
      "metadata": {
        "id": "dBGA_YStCyl6",
        "colab_type": "text"
      },
      "source": [
        "### Notes on the Essay Data\n",
        "\n",
        "<ul>\n",
        "Prior to May 17, 2016, the prompts for the essays were as follows:\n",
        "<li>__project_essay_1:__ \"Introduce us to your classroom\"</li>\n",
        "<li>__project_essay_2:__ \"Tell us more about your students\"</li>\n",
        "<li>__project_essay_3:__ \"Describe how your students will use the materials you're requesting\"</li>\n",
        "<li>__project_essay_3:__ \"Close by sharing why your project will make a difference\"</li>\n",
        "</ul>\n",
        "\n",
        "\n",
        "<ul>\n",
        "Starting on May 17, 2016, the number of essays was reduced from 4 to 2, and the prompts for the first 2 essays were changed to the following:<br>\n",
        "<li>__project_essay_1:__ \"Describe your students: What makes your students special? Specific details about their background, your neighborhood, and your school are all helpful.\"</li>\n",
        "<li>__project_essay_2:__ \"About your project: How will these materials make a difference in your students' learning and improve their school lives?\"</li>\n",
        "<br>For all projects with project_submitted_datetime of 2016-05-17 and later, the values of project_essay_3 and project_essay_4 will be NaN.\n",
        "</ul>\n"
      ]
    },
    {
      "cell_type": "code",
      "metadata": {
        "id": "EctBRI5OFyWq",
        "colab_type": "code",
        "outputId": "c58ea048-51fe-48d9-f682-563f2481abfd",
        "colab": {
          "base_uri": "https://localhost:8080/",
          "height": 51
        }
      },
      "source": [
        "%matplotlib inline\n",
        "import warnings\n",
        "warnings.filterwarnings(\"ignore\")\n",
        "\n",
        "import pandas as pd\n",
        "import numpy as np\n",
        "import nltk\n",
        "import re\n",
        "import os\n",
        "import pickle\n",
        "import math\n",
        "\n",
        "nltk.download('stopwords')\n",
        "from nltk.corpus import stopwords\n",
        "\n",
        "from tqdm import tqdm\n",
        "import matplotlib.pyplot as plt\n",
        "import seaborn as sns\n",
        "import plotly.express as px\n",
        "import plotly.graph_objs as go\n",
        "import math\n",
        "\n",
        "from sklearn.feature_extraction.text import TfidfVectorizer\n",
        "from sklearn.feature_extraction.text import CountVectorizer\n",
        "from sklearn.preprocessing import StandardScaler\n",
        "from collections import Counter\n",
        "from tqdm import tqdm\n",
        "\n",
        "from scipy import sparse\n",
        "\n",
        "import matplotlib.pyplot as plt\n",
        "from sklearn.utils import resample\n",
        "from sklearn.model_selection import train_test_split\n",
        "\n",
        "from sklearn.ensemble import RandomForestClassifier\n",
        "from sklearn.ensemble import GradientBoostingClassifier\n",
        "\n",
        "from sklearn.metrics import roc_auc_score\n",
        "from sklearn.metrics import confusion_matrix\n",
        "from sklearn import metrics\n",
        "from sklearn.metrics import roc_curve, auc\n",
        "\n",
        "from numpy.random import seed\n",
        "seed(1)\n",
        "\n",
        "from sklearn.model_selection import GridSearchCV\n",
        "from scipy.stats import randint as sp_randint\n",
        "from sklearn.model_selection import RandomizedSearchCV\n",
        "\n",
        "from prettytable import PrettyTable\n",
        "from prettytable import ALL\n",
        "\n",
        "import itertools\n",
        "import concurrent.futures"
      ],
      "execution_count": 0,
      "outputs": [
        {
          "output_type": "stream",
          "text": [
            "[nltk_data] Downloading package stopwords to /root/nltk_data...\n",
            "[nltk_data]   Package stopwords is already up-to-date!\n"
          ],
          "name": "stdout"
        }
      ]
    },
    {
      "cell_type": "code",
      "metadata": {
        "id": "yzfJt0fkotl_",
        "colab_type": "code",
        "outputId": "f5cce065-b287-41d2-a259-050a1ddfee1e",
        "colab": {
          "base_uri": "https://localhost:8080/",
          "height": 122
        }
      },
      "source": [
        "from google.colab import drive\n",
        "drive.mount('/content/drive/')"
      ],
      "execution_count": 0,
      "outputs": [
        {
          "output_type": "stream",
          "text": [
            "Go to this URL in a browser: https://accounts.google.com/o/oauth2/auth?client_id=947318989803-6bn6qk8qdgf4n4g3pfee6491hc0brc4i.apps.googleusercontent.com&redirect_uri=urn%3Aietf%3Awg%3Aoauth%3A2.0%3Aoob&scope=email%20https%3A%2F%2Fwww.googleapis.com%2Fauth%2Fdocs.test%20https%3A%2F%2Fwww.googleapis.com%2Fauth%2Fdrive%20https%3A%2F%2Fwww.googleapis.com%2Fauth%2Fdrive.photos.readonly%20https%3A%2F%2Fwww.googleapis.com%2Fauth%2Fpeopleapi.readonly&response_type=code\n",
            "\n",
            "Enter your authorization code:\n",
            "··········\n",
            "Mounted at /content/drive/\n"
          ],
          "name": "stdout"
        }
      ]
    },
    {
      "cell_type": "markdown",
      "metadata": {
        "id": "6JpBeZ5CF1oM",
        "colab_type": "text"
      },
      "source": [
        "## 1. Getting Data"
      ]
    },
    {
      "cell_type": "markdown",
      "metadata": {
        "id": "49lorjooGFM-",
        "colab_type": "text"
      },
      "source": [
        "### 1.1 Load Datasets"
      ]
    },
    {
      "cell_type": "code",
      "metadata": {
        "id": "1af5E2-b1HyH",
        "colab_type": "code",
        "outputId": "0c001d84-0eb3-40ba-dd91-94b877d168b1",
        "colab": {
          "base_uri": "https://localhost:8080/"
        }
      },
      "source": [
        "project_data = pd.read_csv(\"/content/drive/My Drive/Assignment_2 drive dwnld/train_data.csv\")\n",
        "resource_data = pd.read_csv(\"/content/drive/My Drive/Assignment_2 drive dwnld/resources.csv\")\n",
        "\n",
        "price_data = resource_data.groupby('id').agg({'price':'sum', 'quantity':'sum'}).reset_index()\n",
        "dataset = pd.merge(project_data, price_data, on='id', how='left')\n",
        "\n",
        "dataset.shape"
      ],
      "execution_count": 0,
      "outputs": [
        {
          "output_type": "execute_result",
          "data": {
            "text/plain": [
              "(109248, 19)"
            ]
          },
          "metadata": {
            "tags": []
          },
          "execution_count": 4
        }
      ]
    },
    {
      "cell_type": "code",
      "metadata": {
        "id": "lWMgrrwTVCRW",
        "colab_type": "code",
        "outputId": "87e3edb4-e1da-4e09-d0bf-e4671efead05",
        "colab": {
          "base_uri": "https://localhost:8080/"
        }
      },
      "source": [
        "dataset.head(2)"
      ],
      "execution_count": 0,
      "outputs": [
        {
          "output_type": "execute_result",
          "data": {
            "text/html": [
              "<div>\n",
              "<style scoped>\n",
              "    .dataframe tbody tr th:only-of-type {\n",
              "        vertical-align: middle;\n",
              "    }\n",
              "\n",
              "    .dataframe tbody tr th {\n",
              "        vertical-align: top;\n",
              "    }\n",
              "\n",
              "    .dataframe thead th {\n",
              "        text-align: right;\n",
              "    }\n",
              "</style>\n",
              "<table border=\"1\" class=\"dataframe\">\n",
              "  <thead>\n",
              "    <tr style=\"text-align: right;\">\n",
              "      <th></th>\n",
              "      <th>Unnamed: 0</th>\n",
              "      <th>id</th>\n",
              "      <th>teacher_id</th>\n",
              "      <th>teacher_prefix</th>\n",
              "      <th>school_state</th>\n",
              "      <th>project_submitted_datetime</th>\n",
              "      <th>project_grade_category</th>\n",
              "      <th>project_subject_categories</th>\n",
              "      <th>project_subject_subcategories</th>\n",
              "      <th>project_title</th>\n",
              "      <th>project_essay_1</th>\n",
              "      <th>project_essay_2</th>\n",
              "      <th>project_essay_3</th>\n",
              "      <th>project_essay_4</th>\n",
              "      <th>project_resource_summary</th>\n",
              "      <th>teacher_number_of_previously_posted_projects</th>\n",
              "      <th>project_is_approved</th>\n",
              "      <th>price</th>\n",
              "      <th>quantity</th>\n",
              "    </tr>\n",
              "  </thead>\n",
              "  <tbody>\n",
              "    <tr>\n",
              "      <th>0</th>\n",
              "      <td>160221</td>\n",
              "      <td>p253737</td>\n",
              "      <td>c90749f5d961ff158d4b4d1e7dc665fc</td>\n",
              "      <td>Mrs.</td>\n",
              "      <td>IN</td>\n",
              "      <td>2016-12-05 13:43:57</td>\n",
              "      <td>Grades PreK-2</td>\n",
              "      <td>Literacy &amp; Language</td>\n",
              "      <td>ESL, Literacy</td>\n",
              "      <td>Educational Support for English Learners at Home</td>\n",
              "      <td>My students are English learners that are work...</td>\n",
              "      <td>\\\"The limits of your language are the limits o...</td>\n",
              "      <td>NaN</td>\n",
              "      <td>NaN</td>\n",
              "      <td>My students need opportunities to practice beg...</td>\n",
              "      <td>0</td>\n",
              "      <td>0</td>\n",
              "      <td>154.6</td>\n",
              "      <td>23</td>\n",
              "    </tr>\n",
              "    <tr>\n",
              "      <th>1</th>\n",
              "      <td>140945</td>\n",
              "      <td>p258326</td>\n",
              "      <td>897464ce9ddc600bced1151f324dd63a</td>\n",
              "      <td>Mr.</td>\n",
              "      <td>FL</td>\n",
              "      <td>2016-10-25 09:22:10</td>\n",
              "      <td>Grades 6-8</td>\n",
              "      <td>History &amp; Civics, Health &amp; Sports</td>\n",
              "      <td>Civics &amp; Government, Team Sports</td>\n",
              "      <td>Wanted: Projector for Hungry Learners</td>\n",
              "      <td>Our students arrive to our school eager to lea...</td>\n",
              "      <td>The projector we need for our school is very c...</td>\n",
              "      <td>NaN</td>\n",
              "      <td>NaN</td>\n",
              "      <td>My students need a projector to help with view...</td>\n",
              "      <td>7</td>\n",
              "      <td>1</td>\n",
              "      <td>299.0</td>\n",
              "      <td>1</td>\n",
              "    </tr>\n",
              "  </tbody>\n",
              "</table>\n",
              "</div>"
            ],
            "text/plain": [
              "   Unnamed: 0       id  ...  price quantity\n",
              "0      160221  p253737  ...  154.6       23\n",
              "1      140945  p258326  ...  299.0        1\n",
              "\n",
              "[2 rows x 19 columns]"
            ]
          },
          "metadata": {
            "tags": []
          },
          "execution_count": 5
        }
      ]
    },
    {
      "cell_type": "markdown",
      "metadata": {
        "id": "nhVavBN_X_Qd",
        "colab_type": "text"
      },
      "source": [
        "### 1.2 Dataset Cleaning and pre-processing"
      ]
    },
    {
      "cell_type": "markdown",
      "metadata": {
        "id": "9lhFHImI746N",
        "colab_type": "text"
      },
      "source": [
        "#### 1.2.1 Dropping irrelevant data"
      ]
    },
    {
      "cell_type": "code",
      "metadata": {
        "id": "boa4YEYLcI08",
        "colab_type": "code",
        "colab": {}
      },
      "source": [
        "#For the purposes of classification, the columns 'unnamed', 'id', and 'teacher_id' must be dropped as they are unique for each record and will cause over-fitting.\n",
        "#For classification, we'll consider only numerical features, categorical features, and text festures. Thus we also drop date-time information.\n",
        "\n",
        "dataset.drop(['Unnamed: 0', 'id', 'teacher_id', 'project_submitted_datetime'], axis=1, inplace=True)\n",
        "\n",
        "#As KNN is not suitable for large datasets, we downsample to 50K points from the original dataset.\n",
        "\n",
        "dataset = resample(dataset, n_samples=50000, replace=False, stratify=dataset['project_is_approved'].values)\n",
        "dataset = dataset.reset_index()\n",
        "dataset.drop(['index'], axis=1, inplace=True)"
      ],
      "execution_count": 0,
      "outputs": []
    },
    {
      "cell_type": "code",
      "metadata": {
        "id": "UTbUoT__pynG",
        "colab_type": "code",
        "outputId": "1eaff846-0ad8-42a8-c18d-03835f4b52be",
        "colab": {
          "base_uri": "https://localhost:8080/"
        }
      },
      "source": [
        "print(dataset.shape)\n",
        "dataset.head(2)"
      ],
      "execution_count": 0,
      "outputs": [
        {
          "output_type": "stream",
          "text": [
            "(50000, 15)\n"
          ],
          "name": "stdout"
        },
        {
          "output_type": "execute_result",
          "data": {
            "text/html": [
              "<div>\n",
              "<style scoped>\n",
              "    .dataframe tbody tr th:only-of-type {\n",
              "        vertical-align: middle;\n",
              "    }\n",
              "\n",
              "    .dataframe tbody tr th {\n",
              "        vertical-align: top;\n",
              "    }\n",
              "\n",
              "    .dataframe thead th {\n",
              "        text-align: right;\n",
              "    }\n",
              "</style>\n",
              "<table border=\"1\" class=\"dataframe\">\n",
              "  <thead>\n",
              "    <tr style=\"text-align: right;\">\n",
              "      <th></th>\n",
              "      <th>teacher_prefix</th>\n",
              "      <th>school_state</th>\n",
              "      <th>project_grade_category</th>\n",
              "      <th>project_subject_categories</th>\n",
              "      <th>project_subject_subcategories</th>\n",
              "      <th>project_title</th>\n",
              "      <th>project_essay_1</th>\n",
              "      <th>project_essay_2</th>\n",
              "      <th>project_essay_3</th>\n",
              "      <th>project_essay_4</th>\n",
              "      <th>project_resource_summary</th>\n",
              "      <th>teacher_number_of_previously_posted_projects</th>\n",
              "      <th>project_is_approved</th>\n",
              "      <th>price</th>\n",
              "      <th>quantity</th>\n",
              "    </tr>\n",
              "  </thead>\n",
              "  <tbody>\n",
              "    <tr>\n",
              "      <th>0</th>\n",
              "      <td>Mrs.</td>\n",
              "      <td>TX</td>\n",
              "      <td>Grades PreK-2</td>\n",
              "      <td>Health &amp; Sports, Literacy &amp; Language</td>\n",
              "      <td>Health &amp; Wellness, Literature &amp; Writing</td>\n",
              "      <td>Wiggle While You Learn: Flexible Seating Optio...</td>\n",
              "      <td>My second graders have learned to work coopera...</td>\n",
              "      <td>In today's classroom, we as teachers cater to ...</td>\n",
              "      <td>NaN</td>\n",
              "      <td>NaN</td>\n",
              "      <td>My students need flexible seating options that...</td>\n",
              "      <td>6</td>\n",
              "      <td>1</td>\n",
              "      <td>291.30</td>\n",
              "      <td>16</td>\n",
              "    </tr>\n",
              "    <tr>\n",
              "      <th>1</th>\n",
              "      <td>Mrs.</td>\n",
              "      <td>LA</td>\n",
              "      <td>Grades PreK-2</td>\n",
              "      <td>Literacy &amp; Language, Applied Learning</td>\n",
              "      <td>Literacy, Other</td>\n",
              "      <td>Autism Listens</td>\n",
              "      <td>are completely amazing, and teach me everyday!...</td>\n",
              "      <td>In an Autism classroom we model all day to the...</td>\n",
              "      <td>NaN</td>\n",
              "      <td>NaN</td>\n",
              "      <td>My students need a Listening Center to help br...</td>\n",
              "      <td>0</td>\n",
              "      <td>1</td>\n",
              "      <td>367.99</td>\n",
              "      <td>4</td>\n",
              "    </tr>\n",
              "  </tbody>\n",
              "</table>\n",
              "</div>"
            ],
            "text/plain": [
              "  teacher_prefix school_state  ...   price quantity\n",
              "0           Mrs.           TX  ...  291.30       16\n",
              "1           Mrs.           LA  ...  367.99        4\n",
              "\n",
              "[2 rows x 15 columns]"
            ]
          },
          "metadata": {
            "tags": []
          },
          "execution_count": 7
        }
      ]
    },
    {
      "cell_type": "markdown",
      "metadata": {
        "id": "9MIW-5A78AhZ",
        "colab_type": "text"
      },
      "source": [
        "#### 1.2.2 Text pre-processing"
      ]
    },
    {
      "cell_type": "code",
      "metadata": {
        "id": "vzLI_9oFmXDx",
        "colab_type": "code",
        "outputId": "f30dbcad-9200-4613-8d33-9fb03ebfee20",
        "colab": {
          "base_uri": "https://localhost:8080/"
        }
      },
      "source": [
        "# https://stackoverflow.com/a/47091490/4084039\n",
        "import re\n",
        "\n",
        "def decontracted(phrase):\n",
        "  # specific\n",
        "  phrase = re.sub(r\"won't\", \"will not\", phrase)\n",
        "  phrase = re.sub(r\"can\\'t\", \"can not\", phrase)\n",
        "\n",
        "  # general\n",
        "  phrase = re.sub(r\"n\\'t\", \" not\", phrase)\n",
        "  phrase = re.sub(r\"\\'re\", \" are\", phrase)\n",
        "  phrase = re.sub(r\"\\'s\", \" is\", phrase)\n",
        "  phrase = re.sub(r\"\\'d\", \" would\", phrase)\n",
        "  phrase = re.sub(r\"\\'ll\", \" will\", phrase)\n",
        "  phrase = re.sub(r\"\\'t\", \" not\", phrase)\n",
        "  phrase = re.sub(r\"\\'ve\", \" have\", phrase)\n",
        "  phrase = re.sub(r\"\\'m\", \" am\", phrase)\n",
        "  return phrase\n",
        "\n",
        "sw = set(stopwords.words('english')) #Using NLTK list of stopwords.\n",
        "\n",
        "#PRE-PROCESSING ON ESSAYS\n",
        "\n",
        "dataset[\"essay\"] = dataset[\"project_essay_1\"].map(str) + dataset[\"project_essay_2\"].map(str) + dataset[\"project_essay_3\"].map(str) + dataset[\"project_essay_4\"].map(str)\n",
        "\n",
        "dataset.drop(['project_essay_1', 'project_essay_2', 'project_essay_3', 'project_essay_4'], axis=1, inplace=True)\n",
        "\n",
        "preprocessed_essays = []\n",
        "for sentence in tqdm(dataset['essay'].values):\n",
        "  sent = decontracted(sentence)\n",
        "  sent = sent.replace('\\\\r', ' ')\n",
        "  sent = sent.replace('\\\\\"', ' ')\n",
        "  sent = sent.replace('\\\\n', ' ')\n",
        "  sent = re.sub('[^A-Za-z0-9]+', ' ', sent)\n",
        "  # https://gist.github.com/sebleier/554280\n",
        "  sent = ' '.join(w for w in sent.split() if w not in sw)\n",
        "  preprocessed_essays.append(sent.lower().strip())\n",
        "    \n",
        "dataset[\"essay\"] = preprocessed_essays  "
      ],
      "execution_count": 0,
      "outputs": [
        {
          "output_type": "stream",
          "text": [
            "100%|██████████| 50000/50000 [00:06<00:00, 7222.80it/s]\n"
          ],
          "name": "stderr"
        }
      ]
    },
    {
      "cell_type": "code",
      "metadata": {
        "id": "LUS4ia-qFUgP",
        "colab_type": "code",
        "outputId": "8a2004e8-9af6-4483-a694-da50569ecf7b",
        "colab": {
          "base_uri": "https://localhost:8080/"
        }
      },
      "source": [
        "#PRE-PROCESSING ON TITLES\n",
        "\n",
        "preprocessed_titles = []\n",
        "\n",
        "for sentence in tqdm(dataset['project_title'].values):\n",
        "  sent = decontracted(sentence)\n",
        "  sent = sent.replace('\\\\r', ' ')\n",
        "  sent = sent.replace('\\\\\"', ' ')\n",
        "  sent = sent.replace('\\\\n', ' ')\n",
        "  sent = re.sub('[^A-Za-z0-9]+', ' ', sent)\n",
        "  # https://gist.github.com/sebleier/554280\n",
        "  sent = ' '.join(w for w in sent.split() if w not in sw)\n",
        "  preprocessed_titles.append(sent.lower().strip())\n",
        "  \n",
        "dataset[\"project_title\"] = preprocessed_titles"
      ],
      "execution_count": 0,
      "outputs": [
        {
          "output_type": "stream",
          "text": [
            "100%|██████████| 50000/50000 [00:00<00:00, 75326.84it/s]\n"
          ],
          "name": "stderr"
        }
      ]
    },
    {
      "cell_type": "code",
      "metadata": {
        "id": "zBbU0UzNGOFm",
        "colab_type": "code",
        "outputId": "2eb66dba-70aa-40db-ac38-3f07d746adec",
        "colab": {
          "base_uri": "https://localhost:8080/"
        }
      },
      "source": [
        "#PRE_PROCESSING ON RESOURCE SUMMARY\n",
        "\n",
        "preprocessed_summary = []\n",
        "\n",
        "for sentence in tqdm(dataset['project_resource_summary'].values):\n",
        "  sent = decontracted(sentence)\n",
        "  sent = sent.replace('\\\\r', ' ')\n",
        "  sent = sent.replace('\\\\\"', ' ')\n",
        "  sent = sent.replace('\\\\n', ' ')\n",
        "  sent = re.sub('[^A-Za-z0-9]+', ' ', sent)\n",
        "  # https://gist.github.com/sebleier/554280\n",
        "  sent = ' '.join(w for w in sent.split() if w not in sw)\n",
        "  preprocessed_summary.append(sent.lower().strip())\n",
        "  \n",
        "dataset['project_resource_summary'] = preprocessed_summary"
      ],
      "execution_count": 0,
      "outputs": [
        {
          "output_type": "stream",
          "text": [
            "100%|██████████| 50000/50000 [00:01<00:00, 47999.22it/s]\n"
          ],
          "name": "stderr"
        }
      ]
    },
    {
      "cell_type": "markdown",
      "metadata": {
        "id": "G5-jzum9MbOr",
        "colab_type": "text"
      },
      "source": [
        "#### 1.2.3 Categorical data cleaning"
      ]
    },
    {
      "cell_type": "code",
      "metadata": {
        "id": "wUvtnwcdJZp2",
        "colab_type": "code",
        "colab": {}
      },
      "source": [
        "#Cleaning TEACHER_PREFIXES\n",
        "\n",
        "dataset['teacher_prefix'].fillna('NA', inplace=True)\n",
        "dataset['teacher_prefix'] = dataset['teacher_prefix'].apply(lambda s: s.replace('.', ''))"
      ],
      "execution_count": 0,
      "outputs": []
    },
    {
      "cell_type": "code",
      "metadata": {
        "id": "vVCF-G-MOa81",
        "colab_type": "code",
        "colab": {}
      },
      "source": [
        "#Cleaning PROJECT_GRADE_CATEGORIES\n",
        "\n",
        "dataset['project_grade_category'] = dataset['project_grade_category'].apply(lambda s: re.sub(r'[\\s\\-]+', '_', s))"
      ],
      "execution_count": 0,
      "outputs": []
    },
    {
      "cell_type": "code",
      "metadata": {
        "id": "imjoWyM0RFjr",
        "colab_type": "code",
        "outputId": "149283bf-6568-4f8d-8629-7fc7e7dbe7d2",
        "colab": {
          "base_uri": "https://localhost:8080/"
        }
      },
      "source": [
        "#Cleaning PROJECT_SUBJECT_CATEGORIES\n",
        "\n",
        "cat_list = []\n",
        "for category in tqdm(dataset['project_subject_categories'].values):\n",
        "  temp = \"\"\n",
        "  for j in category.split(','):\n",
        "    \n",
        "      if 'The' in j.split(): \n",
        "          j=j.replace('The','')\n",
        "          \n",
        "      j = j.replace(' ','')\n",
        "      \n",
        "      temp+=j.strip()+\" \"\n",
        "      \n",
        "      temp = temp.replace('&','_')\n",
        "      \n",
        "  cat_list.append(temp.strip())\n",
        "  \n",
        "dataset['clean_categories'] = cat_list\n",
        "dataset.drop('project_subject_categories', axis=1, inplace=True)"
      ],
      "execution_count": 0,
      "outputs": [
        {
          "output_type": "stream",
          "text": [
            "100%|██████████| 50000/50000 [00:00<00:00, 456671.01it/s]\n"
          ],
          "name": "stderr"
        }
      ]
    },
    {
      "cell_type": "code",
      "metadata": {
        "id": "BXtEKpTdTDhF",
        "colab_type": "code",
        "outputId": "aced7aea-5935-4552-af2c-cb2bc10ffbe1",
        "colab": {
          "base_uri": "https://localhost:8080/"
        }
      },
      "source": [
        "#Cleaning PROJECT_SUBJECT_SUBCATEGORY\n",
        "\n",
        "subcat_list = []\n",
        "for subcategory in tqdm(dataset['project_subject_subcategories'].values):\n",
        "  temp = \"\"\n",
        "  for j in subcategory.split(','):\n",
        "    \n",
        "      if 'The' in j.split(): \n",
        "          j=j.replace('The','')\n",
        "          \n",
        "      j = j.replace(' ','')\n",
        "      \n",
        "      temp+=j.strip()+\" \"\n",
        "      \n",
        "      temp = temp.replace('&','_')\n",
        "      \n",
        "  subcat_list.append(temp.strip())\n",
        "  \n",
        "dataset['clean_subcategories'] = subcat_list\n",
        "dataset.drop('project_subject_subcategories', axis=1, inplace=True)"
      ],
      "execution_count": 0,
      "outputs": [
        {
          "output_type": "stream",
          "text": [
            "100%|██████████| 50000/50000 [00:00<00:00, 439344.11it/s]\n"
          ],
          "name": "stderr"
        }
      ]
    },
    {
      "cell_type": "code",
      "metadata": {
        "id": "942CC_5ETktp",
        "colab_type": "code",
        "outputId": "25b54854-0bf1-4b98-81b6-a92e09468c82",
        "colab": {
          "base_uri": "https://localhost:8080/"
        }
      },
      "source": [
        "dataset.head(3)"
      ],
      "execution_count": 0,
      "outputs": [
        {
          "output_type": "execute_result",
          "data": {
            "text/html": [
              "<div>\n",
              "<style scoped>\n",
              "    .dataframe tbody tr th:only-of-type {\n",
              "        vertical-align: middle;\n",
              "    }\n",
              "\n",
              "    .dataframe tbody tr th {\n",
              "        vertical-align: top;\n",
              "    }\n",
              "\n",
              "    .dataframe thead th {\n",
              "        text-align: right;\n",
              "    }\n",
              "</style>\n",
              "<table border=\"1\" class=\"dataframe\">\n",
              "  <thead>\n",
              "    <tr style=\"text-align: right;\">\n",
              "      <th></th>\n",
              "      <th>teacher_prefix</th>\n",
              "      <th>school_state</th>\n",
              "      <th>project_grade_category</th>\n",
              "      <th>project_title</th>\n",
              "      <th>project_resource_summary</th>\n",
              "      <th>teacher_number_of_previously_posted_projects</th>\n",
              "      <th>project_is_approved</th>\n",
              "      <th>price</th>\n",
              "      <th>quantity</th>\n",
              "      <th>essay</th>\n",
              "      <th>clean_categories</th>\n",
              "      <th>clean_subcategories</th>\n",
              "    </tr>\n",
              "  </thead>\n",
              "  <tbody>\n",
              "    <tr>\n",
              "      <th>0</th>\n",
              "      <td>Mrs</td>\n",
              "      <td>TX</td>\n",
              "      <td>Grades_PreK_2</td>\n",
              "      <td>wiggle while you learn flexible seating option...</td>\n",
              "      <td>my students need flexible seating options incl...</td>\n",
              "      <td>6</td>\n",
              "      <td>1</td>\n",
              "      <td>291.30</td>\n",
              "      <td>16</td>\n",
              "      <td>my second graders learned work cooperatively w...</td>\n",
              "      <td>Health_Sports Literacy_Language</td>\n",
              "      <td>Health_Wellness Literature_Writing</td>\n",
              "    </tr>\n",
              "    <tr>\n",
              "      <th>1</th>\n",
              "      <td>Mrs</td>\n",
              "      <td>LA</td>\n",
              "      <td>Grades_PreK_2</td>\n",
              "      <td>autism listens</td>\n",
              "      <td>my students need listening center help broaden...</td>\n",
              "      <td>0</td>\n",
              "      <td>1</td>\n",
              "      <td>367.99</td>\n",
              "      <td>4</td>\n",
              "      <td>completely amazing teach everyday they bravely...</td>\n",
              "      <td>Literacy_Language AppliedLearning</td>\n",
              "      <td>Literacy Other</td>\n",
              "    </tr>\n",
              "    <tr>\n",
              "      <th>2</th>\n",
              "      <td>Ms</td>\n",
              "      <td>CA</td>\n",
              "      <td>Grades_6_8</td>\n",
              "      <td>keep me active</td>\n",
              "      <td>my students need sports equipment keep active ...</td>\n",
              "      <td>33</td>\n",
              "      <td>1</td>\n",
              "      <td>78.97</td>\n",
              "      <td>16</td>\n",
              "      <td>our students come diverse backgrounds over 90 ...</td>\n",
              "      <td>Health_Sports</td>\n",
              "      <td>Gym_Fitness</td>\n",
              "    </tr>\n",
              "  </tbody>\n",
              "</table>\n",
              "</div>"
            ],
            "text/plain": [
              "  teacher_prefix  ...                 clean_subcategories\n",
              "0            Mrs  ...  Health_Wellness Literature_Writing\n",
              "1            Mrs  ...                      Literacy Other\n",
              "2             Ms  ...                         Gym_Fitness\n",
              "\n",
              "[3 rows x 12 columns]"
            ]
          },
          "metadata": {
            "tags": []
          },
          "execution_count": 15
        }
      ]
    },
    {
      "cell_type": "code",
      "metadata": {
        "id": "UYt-HGw0Tnvv",
        "colab_type": "code",
        "outputId": "79e56ab9-e1af-44d7-b909-329204b5f1d8",
        "colab": {
          "base_uri": "https://localhost:8080/"
        }
      },
      "source": [
        "dataset.shape"
      ],
      "execution_count": 0,
      "outputs": [
        {
          "output_type": "execute_result",
          "data": {
            "text/plain": [
              "(50000, 12)"
            ]
          },
          "metadata": {
            "tags": []
          },
          "execution_count": 16
        }
      ]
    },
    {
      "cell_type": "markdown",
      "metadata": {
        "id": "Qmaj_lfFW3sE",
        "colab_type": "text"
      },
      "source": [
        "#### 1.2.4 Cleaning numerical data"
      ]
    },
    {
      "cell_type": "code",
      "metadata": {
        "id": "HhHn9goUW8vY",
        "colab_type": "code",
        "outputId": "61ed7712-0e43-4c65-8774-9b20ff9ff29e",
        "colab": {
          "base_uri": "https://localhost:8080/"
        }
      },
      "source": [
        "#Checking if any of the numerical features have missing values...\n",
        "isnan = []\n",
        "for f in ('teacher_number_of_previously_posted_projects', 'price', 'quantity'):\n",
        "  isnan.append(dataset[f].isna().values.any())\n",
        "  \n",
        "any(isnan)"
      ],
      "execution_count": 0,
      "outputs": [
        {
          "output_type": "execute_result",
          "data": {
            "text/plain": [
              "False"
            ]
          },
          "metadata": {
            "tags": []
          },
          "execution_count": 17
        }
      ]
    },
    {
      "cell_type": "markdown",
      "metadata": {
        "id": "5K-K8Wn0Zfd8",
        "colab_type": "text"
      },
      "source": [
        "Thus we do not have any missing values in numerical data. No cleaning required."
      ]
    },
    {
      "cell_type": "markdown",
      "metadata": {
        "id": "vIs9wvzLGKkK",
        "colab_type": "text"
      },
      "source": [
        "### 1.3 Divide data into Train, Val, Test using Stratified Sampling"
      ]
    },
    {
      "cell_type": "code",
      "metadata": {
        "id": "kYYGJBblN2QC",
        "colab_type": "code",
        "outputId": "4d0b52b4-313f-4da7-d99c-2a9f1930bbac",
        "colab": {
          "base_uri": "https://localhost:8080/"
        }
      },
      "source": [
        "train_df = resample(dataset, n_samples=40000, replace=False, stratify=dataset['project_is_approved'].values)\n",
        "\n",
        "train_df.shape"
      ],
      "execution_count": 0,
      "outputs": [
        {
          "output_type": "execute_result",
          "data": {
            "text/plain": [
              "(40000, 12)"
            ]
          },
          "metadata": {
            "tags": []
          },
          "execution_count": 18
        }
      ]
    },
    {
      "cell_type": "code",
      "metadata": {
        "id": "pXnGA18rSxFd",
        "colab_type": "code",
        "outputId": "93c5dd16-1235-4019-a477-77cde4a55c50",
        "colab": {
          "base_uri": "https://localhost:8080/"
        }
      },
      "source": [
        "dataset_idx = pd.Index(dataset.index.values)\n",
        "train_idx = pd.Index(train_df.index.values)\n",
        "rem_idx = dataset_idx.difference(train_idx)\n",
        "test_df = dataset.iloc[rem_idx]\n",
        "\n",
        "test_df.shape"
      ],
      "execution_count": 0,
      "outputs": [
        {
          "output_type": "execute_result",
          "data": {
            "text/plain": [
              "(10000, 12)"
            ]
          },
          "metadata": {
            "tags": []
          },
          "execution_count": 19
        }
      ]
    },
    {
      "cell_type": "markdown",
      "metadata": {
        "id": "yTK2rfE0GaRr",
        "colab_type": "text"
      },
      "source": [
        "### 1.4 Balance the Train data"
      ]
    },
    {
      "cell_type": "code",
      "metadata": {
        "id": "ZcSzOc2QyhP4",
        "colab_type": "code",
        "outputId": "bc07eca0-1639-46eb-aa35-352c6d13ce2f",
        "colab": {
          "base_uri": "https://localhost:8080/"
        }
      },
      "source": [
        "train_df['project_is_approved'].value_counts()"
      ],
      "execution_count": 0,
      "outputs": [
        {
          "output_type": "execute_result",
          "data": {
            "text/plain": [
              "1    33943\n",
              "0     6057\n",
              "Name: project_is_approved, dtype: int64"
            ]
          },
          "metadata": {
            "tags": []
          },
          "execution_count": 20
        }
      ]
    },
    {
      "cell_type": "code",
      "metadata": {
        "id": "hqV1iiIYnjA7",
        "colab_type": "code",
        "colab": {}
      },
      "source": [
        "#Now we balance the dataset by upsampling the minority class points. \n",
        "\n",
        "minor_data = train_df[train_df['project_is_approved']==0]\n",
        "major_data = train_df[train_df['project_is_approved']==1]\n",
        "\n",
        "minor_data_upsampled = resample(minor_data, n_samples=33943)   #Equal to the size of major class\n",
        "\n",
        "balanced_train_df = pd.concat([major_data, minor_data_upsampled])\n",
        "\n",
        "#Now, to set the dataset to a mangeable size, we sample 100K points from the balanced train data stratified on class labels.\n",
        "train_df = resample(balanced_train_df, n_samples=40000, replace=False, stratify=balanced_train_df['project_is_approved'].values)"
      ],
      "execution_count": 0,
      "outputs": []
    },
    {
      "cell_type": "code",
      "metadata": {
        "id": "fHLEQVTXlvaa",
        "colab_type": "code",
        "outputId": "f32a0ac7-cc21-400b-dd48-b8bc7cacf59b",
        "colab": {
          "base_uri": "https://localhost:8080/"
        }
      },
      "source": [
        "#Now the train dataset is exactly balanced\n",
        "\n",
        "train_df['project_is_approved'].value_counts()"
      ],
      "execution_count": 0,
      "outputs": [
        {
          "output_type": "execute_result",
          "data": {
            "text/plain": [
              "1    20000\n",
              "0    20000\n",
              "Name: project_is_approved, dtype: int64"
            ]
          },
          "metadata": {
            "tags": []
          },
          "execution_count": 22
        }
      ]
    },
    {
      "cell_type": "markdown",
      "metadata": {
        "id": "gNkaETDts87r",
        "colab_type": "text"
      },
      "source": [
        "## Features for classification"
      ]
    },
    {
      "cell_type": "markdown",
      "metadata": {
        "id": "MIutN6mctJx4",
        "colab_type": "text"
      },
      "source": [
        "For classification, we are going to consider\n",
        "\n",
        "   - school_state : categorical data (One-hot encoded)\n",
        "   - clean_categories : categorical data (One-hot encoded)\n",
        "   - clean_subcategories : categorical data (One-hot encoded)\n",
        "   - project_grade_category : categorical data (One-hot encoded)\n",
        "   - teacher_prefix : categorical data (One-hot encoded)\n",
        "\n",
        "   - **project_title : text data (BOW, TFIDF, AVG_W2V, TFIDF_W2V)**\n",
        "   - **essay : text data (BOW, TFIDF, AVG_W2V, TFIDF_W2V)**\n",
        "   - project_resource_summary: text data (optional) (TFIDF)\n",
        "\n",
        "   - quantity : numerical (optional) (Vectorized)\n",
        "   - teacher_number_of_previously_posted_projects : numerical (Vectorized)\n",
        "   - price : numerical (Vectorized)"
      ]
    },
    {
      "cell_type": "markdown",
      "metadata": {
        "id": "pWvXZF_aGkR8",
        "colab_type": "text"
      },
      "source": [
        "## 2. Encoding Data"
      ]
    },
    {
      "cell_type": "markdown",
      "metadata": {
        "id": "CsK1UiIE-JAo",
        "colab_type": "text"
      },
      "source": [
        "### 2.0 Defining the TargetEncoder module"
      ]
    },
    {
      "cell_type": "code",
      "metadata": {
        "id": "RrDSr5eE7KCY",
        "colab_type": "code",
        "colab": {}
      },
      "source": [
        "class TargetEncoder:\n",
        "  def __init__(self, vocabulary=None):\n",
        "    if vocabulary==None:\n",
        "      self.encoder_dict_ = {}\n",
        "    else:\n",
        "      self.encoder_dict_ = dict.fromkeys(vocabulary, [0, 0, 0])                 # { 'Category': [total_points_with_category, #those_of_class_0, #those_of_class_1] }\n",
        "\n",
        "  def fit(self, X, Y):\n",
        "    for i in range(len(X)):\n",
        "      categories = X[i].split();\n",
        "      for category in categories:\n",
        "        if category not in self.encoder_dict_.keys():\n",
        "          if (Y[i]==1):\n",
        "            self.encoder_dict_[category] = [1, 0, 1]\n",
        "          elif (Y[i]==0):\n",
        "            self.encoder_dict_[category] = [1, 1, 0]\n",
        "        else:\n",
        "          if (Y[i]==0):\n",
        "            self.encoder_dict_[category][1] += 1\n",
        "            self.encoder_dict_[category][0] += 1\n",
        "          elif (Y[i]==1):\n",
        "            self.encoder_dict_[category][2] += 1\n",
        "            self.encoder_dict_[category][0] += 1\n",
        "\n",
        "  def transform(self, X):\n",
        "    encoded = []\n",
        "    for category in X:\n",
        "      if category in self.encoder_dict_.keys():\n",
        "        c_total = self.encoder_dict_[category][0]\n",
        "        c_class0 = self.encoder_dict_[category][1]\n",
        "        c_class1 = self.encoder_dict_[category][2]\n",
        "\n",
        "        encoded.append([c_class0/c_total, c_class1/c_total])\n",
        "      else:\n",
        "        encoded.append([0, 0])\n",
        "    \n",
        "    return np.array(encoded)"
      ],
      "execution_count": 0,
      "outputs": []
    },
    {
      "cell_type": "markdown",
      "metadata": {
        "id": "9CGvoMkuHEY1",
        "colab_type": "text"
      },
      "source": [
        "### 2.1 Create all encoders using Train data"
      ]
    },
    {
      "cell_type": "markdown",
      "metadata": {
        "id": "O2fsN-v1uM85",
        "colab_type": "text"
      },
      "source": [
        "#### 2.1.1 Vectorizers for categorical data (Target encoders)"
      ]
    },
    {
      "cell_type": "code",
      "metadata": {
        "id": "Xz-KPrtxZyt-",
        "colab_type": "code",
        "outputId": "ba75a210-9591-4325-9a1e-04480da43dfe",
        "colab": {
          "base_uri": "https://localhost:8080/"
        }
      },
      "source": [
        "#Vectorizer for CLEAN_CATEGORIES\n",
        "\n",
        "cat_list = set()\n",
        "\n",
        "for categories in train_df['clean_categories'].values:\n",
        "  for word in categories.split():\n",
        "    cat_list.add(word)\n",
        "\n",
        "cat_vectorizer = TargetEncoder(vocabulary=list(cat_list))\n",
        "cat_vectorizer.fit(train_df['clean_categories'].values, train_df['project_is_approved'].values)\n",
        "print(cat_vectorizer.encoder_dict_.keys())"
      ],
      "execution_count": 0,
      "outputs": [
        {
          "output_type": "stream",
          "text": [
            "dict_keys(['Health_Sports', 'Literacy_Language', 'SpecialNeeds', 'Music_Arts', 'Care_Hunger', 'Math_Science', 'AppliedLearning', 'History_Civics', 'Warmth'])\n"
          ],
          "name": "stdout"
        }
      ]
    },
    {
      "cell_type": "code",
      "metadata": {
        "id": "9vR4giiQ4Eda",
        "colab_type": "code",
        "outputId": "4d87fb75-61c9-4b10-dba5-6b3fe05b1527",
        "colab": {
          "base_uri": "https://localhost:8080/"
        }
      },
      "source": [
        "#Vectorizer for CLEAN_SUBCATEGORIES\n",
        "\n",
        "subcat_list = set()\n",
        "\n",
        "for subcategories in train_df['clean_subcategories'].values:\n",
        "  for word in subcategories.split():\n",
        "    subcat_list.add(word)\n",
        "\n",
        "subcat_vectorizer = TargetEncoder(vocabulary=list(subcat_list))\n",
        "subcat_vectorizer.fit(train_df['clean_subcategories'].values, train_df['project_is_approved'].values)\n",
        "print(subcat_vectorizer.encoder_dict_.keys())"
      ],
      "execution_count": 0,
      "outputs": [
        {
          "output_type": "stream",
          "text": [
            "dict_keys(['Health_Wellness', 'Care_Hunger', 'Civics_Government', 'ESL', 'Economics', 'EarlyDevelopment', 'FinancialLiteracy', 'TeamSports', 'Health_LifeScience', 'CharacterEducation', 'NutritionEducation', 'EnvironmentalScience', 'Extracurricular', 'SocialSciences', 'Mathematics', 'History_Geography', 'Literature_Writing', 'Other', 'SpecialNeeds', 'College_CareerPrep', 'ParentInvolvement', 'VisualArts', 'AppliedSciences', 'ForeignLanguages', 'PerformingArts', 'Gym_Fitness', 'Music', 'CommunityService', 'Literacy', 'Warmth'])\n"
          ],
          "name": "stdout"
        }
      ]
    },
    {
      "cell_type": "code",
      "metadata": {
        "id": "pkd9QIQk458V",
        "colab_type": "code",
        "outputId": "06826e31-100c-4c75-81d6-e375428a70da",
        "colab": {
          "base_uri": "https://localhost:8080/"
        }
      },
      "source": [
        "#Vectorizer for PROJECT_GRADE_CATEGORIES\n",
        "\n",
        "grades_list = set(train_df['project_grade_category'].values)\n",
        "\n",
        "grade_vectorizer = TargetEncoder(vocabulary=list(grades_list))\n",
        "grade_vectorizer.fit(train_df['project_grade_category'].values, train_df['project_is_approved'].values)\n",
        "print(grade_vectorizer.encoder_dict_.keys())"
      ],
      "execution_count": 0,
      "outputs": [
        {
          "output_type": "stream",
          "text": [
            "dict_keys(['Grades_6_8', 'Grades_9_12', 'Grades_3_5', 'Grades_PreK_2'])\n"
          ],
          "name": "stdout"
        }
      ]
    },
    {
      "cell_type": "code",
      "metadata": {
        "id": "K6tfULFG5l80",
        "colab_type": "code",
        "outputId": "1155c978-1b2a-4531-abd1-4989fa619fad",
        "colab": {
          "base_uri": "https://localhost:8080/"
        }
      },
      "source": [
        "#Vectorizer for SCHOOL_STATE\n",
        "\n",
        "state_list = set(train_df['school_state'].values)\n",
        "\n",
        "state_vectorizer = TargetEncoder(vocabulary=list(state_list))\n",
        "state_vectorizer.fit(train_df['school_state'].values, train_df['project_is_approved'].values)\n",
        "print(state_vectorizer.encoder_dict_.keys())"
      ],
      "execution_count": 0,
      "outputs": [
        {
          "output_type": "stream",
          "text": [
            "dict_keys(['UT', 'NH', 'NC', 'AK', 'DC', 'WY', 'OH', 'AL', 'MN', 'MO', 'KS', 'OR', 'VT', 'WV', 'TX', 'IN', 'HI', 'IA', 'NJ', 'PA', 'ID', 'NY', 'VA', 'AZ', 'CA', 'TN', 'KY', 'SD', 'MA', 'WI', 'GA', 'LA', 'CT', 'IL', 'AR', 'OK', 'NE', 'ND', 'ME', 'FL', 'CO', 'MD', 'NV', 'MT', 'DE', 'RI', 'NM', 'WA', 'MS', 'SC', 'MI'])\n"
          ],
          "name": "stdout"
        }
      ]
    },
    {
      "cell_type": "code",
      "metadata": {
        "id": "Csh465Tw6YsN",
        "colab_type": "code",
        "outputId": "06205674-4515-4055-cf83-107875e66520",
        "colab": {
          "base_uri": "https://localhost:8080/"
        }
      },
      "source": [
        "#Vectorizer for TEACHER_PREFIX\n",
        "\n",
        "prefix_list = set(train_df['teacher_prefix'].values)\n",
        "\n",
        "pf_vectorizer = TargetEncoder(vocabulary=list(prefix_list))\n",
        "pf_vectorizer.fit(train_df['teacher_prefix'].values, train_df['project_is_approved'].values)\n",
        "print(pf_vectorizer.encoder_dict_.keys())"
      ],
      "execution_count": 0,
      "outputs": [
        {
          "output_type": "stream",
          "text": [
            "dict_keys(['Dr', 'Mr', 'Mrs', 'Ms', 'Teacher'])\n"
          ],
          "name": "stdout"
        }
      ]
    },
    {
      "cell_type": "markdown",
      "metadata": {
        "id": "bZaFrce9a_2a",
        "colab_type": "text"
      },
      "source": [
        "#### 2.1.2 Vectorizers for text data (BOW, TFIDF, AVG_W2V, TFIDF_W2V)"
      ]
    },
    {
      "cell_type": "code",
      "metadata": {
        "id": "JuJJ8HJ5bJcH",
        "colab_type": "code",
        "colab": {}
      },
      "source": [
        "#BOW vectorizer for PROJECT_TITLE\n",
        "\n",
        "vectorizer = CountVectorizer(min_df=5, max_features=200)\n",
        "bow_vectrzr_title = vectorizer.fit(train_df['project_title'].values)"
      ],
      "execution_count": 0,
      "outputs": []
    },
    {
      "cell_type": "code",
      "metadata": {
        "id": "nZFevkYg0qYW",
        "colab_type": "code",
        "colab": {}
      },
      "source": [
        "#BOW vectorizer for ESSAY\n",
        "\n",
        "vectorizer = CountVectorizer(min_df=10, max_features=5000, ngram_range=(1,2))\n",
        "bow_vectrzr_essay = vectorizer.fit(train_df['essay'].values)"
      ],
      "execution_count": 0,
      "outputs": []
    },
    {
      "cell_type": "code",
      "metadata": {
        "id": "OiTpHJu1wUhT",
        "colab_type": "code",
        "colab": {}
      },
      "source": [
        "#TFIDF vectorizer for PROJECT_TITLE\n",
        "\n",
        "vectorizer = TfidfVectorizer(min_df=5, max_features=200)\n",
        "tfidf_vectrzr_title = vectorizer.fit(train_df['project_title'].values)"
      ],
      "execution_count": 0,
      "outputs": []
    },
    {
      "cell_type": "code",
      "metadata": {
        "id": "X4NQzeOl007M",
        "colab_type": "code",
        "colab": {}
      },
      "source": [
        "#TFIDF vectorizer for ESSAY\n",
        "\n",
        "vectorizer = TfidfVectorizer(min_df=10, max_features=5000, ngram_range=(1,2))\n",
        "tfidf_vectrzr_essay = vectorizer.fit(train_df['essay'].values)"
      ],
      "execution_count": 0,
      "outputs": []
    },
    {
      "cell_type": "code",
      "metadata": {
        "id": "zkCS2Ke3wtF_",
        "colab_type": "code",
        "outputId": "b9e7ed4c-532b-40b8-bccd-ffb652f0f81e",
        "colab": {
          "base_uri": "https://localhost:8080/"
        }
      },
      "source": [
        "# W2V using pre-trained model (Glove model)\n",
        "\n",
        "def loadGloveModel(gloveFile):\n",
        "  print (\"Loading Glove Model\")\n",
        "  f = open(gloveFile,'r', encoding=\"utf8\")\n",
        "  model = {}\n",
        "  for line in tqdm(f):\n",
        "      splitLine = line.split()\n",
        "      word = splitLine[0]\n",
        "      embedding = np.array([float(val) for val in splitLine[1:]])\n",
        "      model[word] = embedding\n",
        "  print (\"Done.\",len(model),\" words loaded!\")\n",
        "  return model\n",
        "\n",
        "g_model = loadGloveModel('/content/drive/My Drive/gloVe vectors/glove.42B.300d.txt')\n",
        "\n",
        "words = []\n",
        "\n",
        "for i in train_df['project_title'].values:\n",
        "  words.extend(i.split(' '))\n",
        "    \n",
        "for i in train_df['essay'].values:\n",
        "  words.extend(i.split(' '))\n",
        "\n",
        "words = set(words)\n",
        "\n",
        "words_corpus = {}\n",
        "words_glove = set(g_model.keys())\n",
        "for i in words:\n",
        "    if i in words_glove:\n",
        "        words_corpus[i] = g_model[i]\n",
        "\n",
        "with open('glove_vectors', 'wb') as f:\n",
        "    pickle.dump(words_corpus, f)"
      ],
      "execution_count": 0,
      "outputs": [
        {
          "output_type": "stream",
          "text": [
            "\r0it [00:00, ?it/s]"
          ],
          "name": "stderr"
        },
        {
          "output_type": "stream",
          "text": [
            "Loading Glove Model\n"
          ],
          "name": "stdout"
        },
        {
          "output_type": "stream",
          "text": [
            "1917495it [03:02, 10483.99it/s]\n"
          ],
          "name": "stderr"
        },
        {
          "output_type": "stream",
          "text": [
            "Done. 1917495  words loaded!\n"
          ],
          "name": "stdout"
        }
      ]
    },
    {
      "cell_type": "code",
      "metadata": {
        "id": "m5jlRvCQC9ye",
        "colab_type": "code",
        "colab": {}
      },
      "source": [
        "title_dictionary = dict(zip(tfidf_vectrzr_title.get_feature_names(), list(tfidf_vectrzr_title.idf_)))\n",
        "tfidf_title_words = set(tfidf_vectrzr_title.get_feature_names())\n",
        "\n",
        "essay_dictionary = dict(zip(tfidf_vectrzr_essay.get_feature_names(), list(tfidf_vectrzr_essay.idf_)))\n",
        "tfidf_essay_words = set(tfidf_vectrzr_essay.get_feature_names())"
      ],
      "execution_count": 0,
      "outputs": []
    },
    {
      "cell_type": "code",
      "metadata": {
        "id": "bElk6AwcL1q9",
        "colab_type": "code",
        "colab": {}
      },
      "source": [
        "#For project_resource_summary (TFIDF)\n",
        "\n",
        "vectorizer = TfidfVectorizer(min_df=5)\n",
        "tfidf_vectrzr_summ = vectorizer.fit(train_df['project_resource_summary'].values)"
      ],
      "execution_count": 0,
      "outputs": []
    },
    {
      "cell_type": "markdown",
      "metadata": {
        "id": "cwThcXGZkpeQ",
        "colab_type": "text"
      },
      "source": [
        "#### 2.1.3 Vectorizers for numerical data"
      ]
    },
    {
      "cell_type": "code",
      "metadata": {
        "id": "TolCgwu5kzRq",
        "colab_type": "code",
        "outputId": "3298c562-6ed4-4e6b-a11c-2d4ed8982507",
        "colab": {
          "base_uri": "https://localhost:8080/"
        }
      },
      "source": [
        "#For PRICE\n",
        "\n",
        "price_scalar = StandardScaler()\n",
        "price_scalar.fit(train_df['price'].values.reshape(-1,1))\n",
        "\n",
        "\n",
        "#For QUANTITY\n",
        "\n",
        "quantity_scalar = StandardScaler()\n",
        "quantity_scalar.fit(train_df['quantity'].values.reshape(-1,1))\n",
        "\n",
        "\n",
        "#For TEACHER_NUMBER_OF_PREVIOUSLY_POSTED_PROJECTS\n",
        "\n",
        "ppost_scalar = StandardScaler()\n",
        "ppost_scalar.fit(train_df['teacher_number_of_previously_posted_projects'].values.reshape(-1,1))"
      ],
      "execution_count": 0,
      "outputs": [
        {
          "output_type": "execute_result",
          "data": {
            "text/plain": [
              "StandardScaler(copy=True, with_mean=True, with_std=True)"
            ]
          },
          "metadata": {
            "tags": []
          },
          "execution_count": 36
        }
      ]
    },
    {
      "cell_type": "markdown",
      "metadata": {
        "id": "NtVV9iJWHMwj",
        "colab_type": "text"
      },
      "source": [
        "### 2.2 Transform Train, Validation & Test data: Generate four training sets; Four val sets; Four Test sets"
      ]
    },
    {
      "cell_type": "markdown",
      "metadata": {
        "id": "HearN_5n2E4P",
        "colab_type": "text"
      },
      "source": [
        "#### 2.2.1. Transforming categorical features"
      ]
    },
    {
      "cell_type": "code",
      "metadata": {
        "id": "9o93BO9E4BPd",
        "colab_type": "code",
        "colab": {}
      },
      "source": [
        "train_df_clean_categories = cat_vectorizer.transform(train_df['clean_categories'].values)\n",
        "test_df_clean_categories = cat_vectorizer.transform(test_df['clean_categories'].values)\n",
        "\n",
        "train_df_clean_subcategories = subcat_vectorizer.transform(train_df['clean_subcategories'].values)\n",
        "test_df_clean_subcategories = subcat_vectorizer.transform(test_df['clean_subcategories'].values)\n",
        "\n",
        "train_df_project_grade_category = grade_vectorizer.transform(train_df['project_grade_category'].values)\n",
        "test_df_project_grade_category = grade_vectorizer.transform(test_df['project_grade_category'].values)\n",
        "\n",
        "train_df_school_state = state_vectorizer.transform(train_df['school_state'].values)\n",
        "test_df_school_state = state_vectorizer.transform(test_df['school_state'].values)\n",
        "\n",
        "train_df_teacher_prefix = pf_vectorizer.transform(train_df['teacher_prefix'].values)\n",
        "test_df_teacher_prefix = pf_vectorizer.transform(test_df['teacher_prefix'].values)"
      ],
      "execution_count": 0,
      "outputs": []
    },
    {
      "cell_type": "code",
      "metadata": {
        "id": "-N-m6Y8Ibqq4",
        "colab_type": "code",
        "outputId": "808a472f-d2c6-4f2c-c792-8255cca1039e",
        "colab": {
          "base_uri": "https://localhost:8080/"
        }
      },
      "source": [
        "print(train_df_clean_subcategories.shape)\n",
        "print(test_df_clean_subcategories.shape)"
      ],
      "execution_count": 0,
      "outputs": [
        {
          "output_type": "stream",
          "text": [
            "(40000, 2)\n",
            "(10000, 2)\n"
          ],
          "name": "stdout"
        }
      ]
    },
    {
      "cell_type": "markdown",
      "metadata": {
        "id": "93agJSeGj5xg",
        "colab_type": "text"
      },
      "source": [
        "#### 2.2.2 Transforming (vectorizing) numerical features"
      ]
    },
    {
      "cell_type": "code",
      "metadata": {
        "id": "AFhwoaAYkKX9",
        "colab_type": "code",
        "colab": {}
      },
      "source": [
        "train_df_price = price_scalar.transform(train_df['price'].values.reshape(-1, 1))\n",
        "test_df_price = price_scalar.transform(test_df['price'].values.reshape(-1, 1))\n",
        "\n",
        "train_df_quantity = quantity_scalar.transform(train_df['quantity'].values.reshape(-1, 1))\n",
        "test_df_quantity = quantity_scalar.transform(test_df['quantity'].values.reshape(-1, 1))\n",
        "\n",
        "train_df_pposts = ppost_scalar.transform(train_df['teacher_number_of_previously_posted_projects'].values.reshape(-1, 1))\n",
        "test_df_pposts = ppost_scalar.transform(test_df['teacher_number_of_previously_posted_projects'].values.reshape(-1, 1))"
      ],
      "execution_count": 0,
      "outputs": []
    },
    {
      "cell_type": "markdown",
      "metadata": {
        "colab_type": "text",
        "id": "o1SnFAsanor7"
      },
      "source": [
        "#### 2.2.3 Transforming text data"
      ]
    },
    {
      "cell_type": "code",
      "metadata": {
        "id": "JSmcm08DnsRC",
        "colab_type": "code",
        "outputId": "d4dfcce2-1a24-4e3c-dcda-40b3ce221a5c",
        "colab": {
          "base_uri": "https://localhost:8080/"
        }
      },
      "source": [
        "#For PROJECT_TITLE\n",
        "\n",
        "#BOW\n",
        "title_train_bow = bow_vectrzr_title.transform(train_df['project_title'].values)\n",
        "title_test_bow = bow_vectrzr_title.transform(test_df['project_title'].values)\n",
        "\n",
        "#TFIDF\n",
        "title_train_tfidf = tfidf_vectrzr_title.transform(train_df['project_title'].values)\n",
        "title_test_tfidf = tfidf_vectrzr_title.transform(test_df['project_title'].values)\n",
        "\n",
        "#AVG_W2V\n",
        "title_train_aw2v = []\n",
        "title_test_aw2v = []\n",
        "\n",
        "with open('glove_vectors', 'rb') as f:\n",
        "  g_model = pickle.load(f)\n",
        "  glove_words =  set(g_model.keys())\n",
        "\n",
        "for sentence in tqdm(train_df['project_title'].values):\n",
        "  vector = np.zeros(300)\n",
        "  cnt_words =0; \n",
        "  for word in sentence.split(): \n",
        "    if word in glove_words:\n",
        "      vector += g_model[word]\n",
        "      cnt_words += 1\n",
        "  if cnt_words != 0:\n",
        "      vector /= cnt_words\n",
        "  title_train_aw2v.append(vector)\n",
        "  \n",
        "for sentence in tqdm(test_df['project_title'].values):\n",
        "  vector = np.zeros(300)\n",
        "  cnt_words =0; \n",
        "  for word in sentence.split(): \n",
        "    if word in glove_words:\n",
        "      vector += g_model[word]\n",
        "      cnt_words += 1\n",
        "  if cnt_words != 0:\n",
        "      vector /= cnt_words\n",
        "  title_test_aw2v.append(vector)\n",
        "  \n",
        "#TFIDF_W2V\n",
        "tfidf_w2v_train_title = [];\n",
        "tfidf_w2v_test_title = [];\n",
        "\n",
        "for sentence in tqdm(train_df['project_title'].values):\n",
        "  vector = np.zeros(300) \n",
        "  tf_idf_weight =0; \n",
        "  for word in sentence.split():\n",
        "    if (word in glove_words) and (word in tfidf_title_words):\n",
        "      vec = g_model[word] \n",
        "            \n",
        "      tf_idf = title_dictionary[word]*(sentence.count(word)/len(sentence.split()))\n",
        "      vector += (vec * tf_idf)\n",
        "      tf_idf_weight += tf_idf\n",
        "  if tf_idf_weight != 0:\n",
        "    vector /= tf_idf_weight\n",
        "  tfidf_w2v_train_title.append(vector)\n",
        "\n",
        "for sentence in tqdm(test_df['project_title'].values):\n",
        "  vector = np.zeros(300) \n",
        "  tf_idf_weight =0; \n",
        "  for word in sentence.split():\n",
        "    if (word in glove_words) and (word in tfidf_title_words):\n",
        "      vec = g_model[word] \n",
        "            \n",
        "      tf_idf = title_dictionary[word]*(sentence.count(word)/len(sentence.split()))\n",
        "      vector += (vec * tf_idf)\n",
        "      tf_idf_weight += tf_idf\n",
        "  if tf_idf_weight != 0:\n",
        "    vector /= tf_idf_weight\n",
        "  tfidf_w2v_test_title.append(vector)"
      ],
      "execution_count": 0,
      "outputs": [
        {
          "output_type": "stream",
          "text": [
            "100%|██████████| 40000/40000 [00:00<00:00, 73346.16it/s]\n",
            "100%|██████████| 10000/10000 [00:00<00:00, 75040.06it/s]\n",
            "100%|██████████| 40000/40000 [00:00<00:00, 57179.97it/s]\n",
            "100%|██████████| 10000/10000 [00:00<00:00, 58253.82it/s]\n"
          ],
          "name": "stderr"
        }
      ]
    },
    {
      "cell_type": "code",
      "metadata": {
        "id": "tPq8yY98wJin",
        "colab_type": "code",
        "outputId": "e96b59b5-2e27-41c4-d956-f8c0f4d2665c",
        "colab": {
          "base_uri": "https://localhost:8080/"
        }
      },
      "source": [
        "#For ESSAY\n",
        "\n",
        "#BOW\n",
        "essay_train_bow = bow_vectrzr_essay.transform(train_df['essay'].values)\n",
        "essay_test_bow = bow_vectrzr_essay.transform(test_df['essay'].values)\n",
        "\n",
        "#TFIDF\n",
        "essay_train_tfidf = tfidf_vectrzr_essay.transform(train_df['essay'].values)\n",
        "essay_test_tfidf = tfidf_vectrzr_essay.transform(test_df['essay'].values)\n",
        "\n",
        "#AVG_W2V\n",
        "essay_train_aw2v = []\n",
        "essay_test_aw2v = []\n",
        "\n",
        "for sentence in tqdm(train_df['essay'].values):\n",
        "  vector = np.zeros(300)\n",
        "  cnt_words =0; \n",
        "  for word in sentence.split(): \n",
        "    if word in glove_words:\n",
        "      vector += g_model[word]\n",
        "      cnt_words += 1\n",
        "  if cnt_words != 0:\n",
        "      vector /= cnt_words\n",
        "  essay_train_aw2v.append(vector)\n",
        "  \n",
        "for sentence in tqdm(test_df['essay'].values):\n",
        "  vector = np.zeros(300)\n",
        "  cnt_words =0; \n",
        "  for word in sentence.split(): \n",
        "    if word in glove_words:\n",
        "      vector += g_model[word]\n",
        "      cnt_words += 1\n",
        "  if cnt_words != 0:\n",
        "      vector /= cnt_words\n",
        "  essay_test_aw2v.append(vector)\n",
        "  \n",
        "#TFIDF_W2V\n",
        "tfidf_w2v_train_essays = [];\n",
        "tfidf_w2v_test_essays = [];\n",
        "\n",
        "for sentence in tqdm(train_df['essay'].values):\n",
        "  vector = np.zeros(300) \n",
        "  tf_idf_weight =0; \n",
        "  for word in sentence.split():\n",
        "    if (word in glove_words) and (word in tfidf_essay_words):\n",
        "      vec = g_model[word] \n",
        "            \n",
        "      tf_idf = essay_dictionary[word]*(sentence.count(word)/len(sentence.split()))\n",
        "      vector += (vec * tf_idf)\n",
        "      tf_idf_weight += tf_idf\n",
        "  if tf_idf_weight != 0:\n",
        "    vector /= tf_idf_weight\n",
        "  tfidf_w2v_train_essays.append(vector)\n",
        "\n",
        "for sentence in tqdm(test_df['essay'].values):\n",
        "  vector = np.zeros(300) \n",
        "  tf_idf_weight =0; \n",
        "  for word in sentence.split():\n",
        "    if (word in glove_words) and (word in tfidf_essay_words):\n",
        "      vec = g_model[word] \n",
        "            \n",
        "      tf_idf = essay_dictionary[word]*(sentence.count(word)/len(sentence.split()))\n",
        "      vector += (vec * tf_idf)\n",
        "      tf_idf_weight += tf_idf\n",
        "  if tf_idf_weight != 0:\n",
        "    vector /= tf_idf_weight\n",
        "  tfidf_w2v_test_essays.append(vector)"
      ],
      "execution_count": 0,
      "outputs": [
        {
          "output_type": "stream",
          "text": [
            "100%|██████████| 40000/40000 [00:10<00:00, 3636.93it/s]\n",
            "100%|██████████| 10000/10000 [00:02<00:00, 3551.79it/s]\n",
            "100%|██████████| 40000/40000 [01:02<00:00, 642.26it/s]\n",
            "100%|██████████| 10000/10000 [00:15<00:00, 625.50it/s]\n"
          ],
          "name": "stderr"
        }
      ]
    },
    {
      "cell_type": "code",
      "metadata": {
        "id": "PGb4erGbHyWE",
        "colab_type": "code",
        "colab": {}
      },
      "source": [
        "#TFIDF vectorization of project_resource_summary\n",
        "\n",
        "train_df_project_resource_summary = tfidf_vectrzr_summ.transform(train_df['project_resource_summary'].values)\n",
        "test_df_project_resource_summary = tfidf_vectrzr_summ.transform(test_df['project_resource_summary'].values)"
      ],
      "execution_count": 0,
      "outputs": []
    },
    {
      "cell_type": "markdown",
      "metadata": {
        "id": "6y0JNPwzB61i",
        "colab_type": "text"
      },
      "source": [
        "#### 2.2.4 Generating the sets of data"
      ]
    },
    {
      "cell_type": "code",
      "metadata": {
        "id": "W9IJbJM0CN5D",
        "colab_type": "code",
        "colab": {}
      },
      "source": [
        "#SET_1: categorical, numerical features + project_title(BOW) + preprocessed_essay (BOW)\n",
        "train_set_1x = sparse.hstack((train_df_teacher_prefix, train_df_school_state, train_df_project_grade_category, train_df_clean_categories, train_df_clean_subcategories, train_df_price, train_df_quantity, train_df_pposts, train_df_project_resource_summary, title_train_bow, essay_train_bow))\n",
        "train_set_1y = train_df['project_is_approved'].to_numpy()\n",
        "\n",
        "test_set_1x = sparse.hstack((test_df_teacher_prefix, test_df_school_state, test_df_project_grade_category, test_df_clean_categories, test_df_clean_subcategories, test_df_price, test_df_quantity, test_df_pposts, test_df_project_resource_summary, title_test_bow, essay_test_bow))\n",
        "test_set_1y = test_df['project_is_approved'].to_numpy()"
      ],
      "execution_count": 0,
      "outputs": []
    },
    {
      "cell_type": "code",
      "metadata": {
        "id": "yhx-V_MLUCat",
        "colab_type": "code",
        "outputId": "485ed58a-6356-4ed1-d274-7d391d8285d3",
        "colab": {
          "base_uri": "https://localhost:8080/"
        }
      },
      "source": [
        "print(train_set_1x.shape)\n",
        "print(test_set_1x.shape)"
      ],
      "execution_count": 0,
      "outputs": [
        {
          "output_type": "stream",
          "text": [
            "(40000, 10684)\n",
            "(10000, 10684)\n"
          ],
          "name": "stdout"
        }
      ]
    },
    {
      "cell_type": "code",
      "metadata": {
        "id": "vUAgyVkpZR5I",
        "colab_type": "code",
        "colab": {}
      },
      "source": [
        "#SET_2: categorical, numerical features + project_title(TFIDF) + preprocessed_essay (TFIDF)\n",
        "train_set_2x = sparse.hstack((train_df_teacher_prefix, train_df_school_state, train_df_project_grade_category, train_df_clean_categories, train_df_clean_subcategories, train_df_price, train_df_quantity, train_df_pposts, train_df_project_resource_summary, title_train_tfidf, essay_train_tfidf))\n",
        "train_set_2y = train_df['project_is_approved'].to_numpy()\n",
        "\n",
        "test_set_2x = sparse.hstack((test_df_teacher_prefix, test_df_school_state, test_df_project_grade_category, test_df_clean_categories, test_df_clean_subcategories, test_df_price, test_df_quantity, test_df_pposts, test_df_project_resource_summary, title_test_tfidf, essay_test_tfidf))\n",
        "test_set_2y = test_df['project_is_approved'].to_numpy()"
      ],
      "execution_count": 0,
      "outputs": []
    },
    {
      "cell_type": "code",
      "metadata": {
        "colab_type": "code",
        "id": "O3GMMoHaZ5QF",
        "outputId": "f3551990-7393-4e57-9514-4ba2ed0357a8",
        "colab": {
          "base_uri": "https://localhost:8080/"
        }
      },
      "source": [
        "print(train_set_2x.shape)\n",
        "print(test_set_2x.shape)"
      ],
      "execution_count": 0,
      "outputs": [
        {
          "output_type": "stream",
          "text": [
            "(40000, 10684)\n",
            "(10000, 10684)\n"
          ],
          "name": "stdout"
        }
      ]
    },
    {
      "cell_type": "code",
      "metadata": {
        "id": "QyUft91zaEt1",
        "colab_type": "code",
        "colab": {}
      },
      "source": [
        "#SET_3: categorical, numerical features + project_title(AVG_W2V) + preprocessed_essay (AVG_W2V)\n",
        "train_set_3x = sparse.hstack((train_df_teacher_prefix, train_df_school_state, train_df_project_grade_category, train_df_clean_categories, train_df_clean_subcategories, train_df_price, train_df_quantity, train_df_pposts, train_df_project_resource_summary, title_train_aw2v, essay_train_aw2v))\n",
        "train_set_3y = train_df['project_is_approved'].to_numpy()\n",
        "\n",
        "test_set_3x = sparse.hstack((test_df_teacher_prefix, test_df_school_state, test_df_project_grade_category, test_df_clean_categories, test_df_clean_subcategories, test_df_price, test_df_quantity, test_df_pposts, test_df_project_resource_summary, title_test_aw2v, essay_test_aw2v))\n",
        "test_set_3y = test_df['project_is_approved'].to_numpy()"
      ],
      "execution_count": 0,
      "outputs": []
    },
    {
      "cell_type": "code",
      "metadata": {
        "colab_type": "code",
        "id": "2G2SKYIna41Q",
        "outputId": "82cf249b-8372-4efa-8223-ccd3070ac7f7",
        "colab": {
          "base_uri": "https://localhost:8080/"
        }
      },
      "source": [
        "print(train_set_3x.shape)\n",
        "print(test_set_3x.shape)"
      ],
      "execution_count": 0,
      "outputs": [
        {
          "output_type": "stream",
          "text": [
            "(40000, 6084)\n",
            "(10000, 6084)\n"
          ],
          "name": "stdout"
        }
      ]
    },
    {
      "cell_type": "code",
      "metadata": {
        "colab_type": "code",
        "id": "_y1PMO7ZbIf_",
        "colab": {}
      },
      "source": [
        "#SET_4: categorical, numerical features + project_title(TFIDF_W2V) + preprocessed_essay (TFIDF_W2V)\n",
        "train_set_4x = sparse.hstack((train_df_teacher_prefix, train_df_school_state, train_df_project_grade_category, train_df_clean_categories, train_df_clean_subcategories, train_df_price, train_df_quantity, train_df_pposts, train_df_project_resource_summary, tfidf_w2v_train_title, tfidf_w2v_train_essays))\n",
        "train_set_4y = train_df['project_is_approved'].to_numpy()\n",
        "\n",
        "test_set_4x = sparse.hstack((test_df_teacher_prefix, test_df_school_state, test_df_project_grade_category, test_df_clean_categories, test_df_clean_subcategories, test_df_price, test_df_quantity, test_df_pposts, test_df_project_resource_summary, tfidf_w2v_test_title, tfidf_w2v_test_essays))\n",
        "test_set_4y = test_df['project_is_approved'].to_numpy()"
      ],
      "execution_count": 0,
      "outputs": []
    },
    {
      "cell_type": "code",
      "metadata": {
        "colab_type": "code",
        "id": "-iye9RKobIgD",
        "outputId": "4aca6d16-75de-47ad-ec46-264bb8fbff6f",
        "colab": {
          "base_uri": "https://localhost:8080/"
        }
      },
      "source": [
        "print(train_set_4x.shape)\n",
        "print(test_set_4x.shape)"
      ],
      "execution_count": 0,
      "outputs": [
        {
          "output_type": "stream",
          "text": [
            "(40000, 6084)\n",
            "(10000, 6084)\n"
          ],
          "name": "stdout"
        }
      ]
    },
    {
      "cell_type": "code",
      "metadata": {
        "id": "aVE0Qe9whosZ",
        "colab_type": "code",
        "outputId": "952579ca-d308-46fc-ddd1-e9403e06fcd8",
        "colab": {
          "base_uri": "https://localhost:8080/"
        }
      },
      "source": [
        "print(type(train_set_1x))"
      ],
      "execution_count": 0,
      "outputs": [
        {
          "output_type": "stream",
          "text": [
            "<class 'scipy.sparse.coo.coo_matrix'>\n"
          ],
          "name": "stdout"
        }
      ]
    },
    {
      "cell_type": "markdown",
      "metadata": {
        "id": "seDkQPjIM4y8",
        "colab_type": "text"
      },
      "source": [
        "## 3. Random Forests"
      ]
    },
    {
      "cell_type": "markdown",
      "metadata": {
        "id": "IGt4579JNJZP",
        "colab_type": "text"
      },
      "source": [
        "### 3.1 Grid search cross-validation for hyperparameter tuning"
      ]
    },
    {
      "cell_type": "markdown",
      "metadata": {
        "id": "fmQPgPu9S9QW",
        "colab_type": "text"
      },
      "source": [
        "#### 3.1.1 For SET_1"
      ]
    },
    {
      "cell_type": "code",
      "metadata": {
        "id": "XZjLbaim9rxc",
        "colab_type": "code",
        "outputId": "7a018b8e-9d05-4937-9f71-fde004855b3d",
        "colab": {
          "base_uri": "https://localhost:8080/",
          "height": 85
        }
      },
      "source": [
        "rf_model = RandomForestClassifier()\n",
        "parameters = {'n_estimators':[50, 100, 200, 300, 1000], 'max_depth':[2, 4, 6, 8, 10]}\n",
        "clf = GridSearchCV(rf_model, parameters, cv=3, scoring='roc_auc', return_train_score=True, verbose=2, n_jobs=10)\n",
        "clf.fit(train_set_1x, train_set_1y)\n",
        "\n",
        "results = pd.DataFrame.from_dict(clf.cv_results_)"
      ],
      "execution_count": 0,
      "outputs": [
        {
          "output_type": "stream",
          "text": [
            "Fitting 3 folds for each of 25 candidates, totalling 75 fits\n"
          ],
          "name": "stdout"
        },
        {
          "output_type": "stream",
          "text": [
            "[Parallel(n_jobs=10)]: Using backend LokyBackend with 10 concurrent workers.\n",
            "[Parallel(n_jobs=10)]: Done  21 tasks      | elapsed:   14.3s\n",
            "[Parallel(n_jobs=10)]: Done  75 out of  75 | elapsed:  1.8min finished\n"
          ],
          "name": "stderr"
        }
      ]
    },
    {
      "cell_type": "code",
      "metadata": {
        "id": "4mg3aEXwbczo",
        "colab_type": "code",
        "outputId": "652a4f1e-fe3e-4405-df45-e1c651fea909",
        "colab": {
          "base_uri": "https://localhost:8080/"
        }
      },
      "source": [
        "X = results['param_n_estimators'].values\n",
        "Y = results['param_max_depth'].values\n",
        "Z_train = results['mean_train_score'].values\n",
        "Z_test = results['mean_test_score'].values\n",
        "\n",
        "train_trace = go.Scatter3d(x=X, y=Y, z=Z_train, name='Train')\n",
        "\n",
        "cv_trace = go.Scatter3d(x=X, y=Y, z=Z_test, name='Cross Validation')\n",
        "\n",
        "data = [train_trace, cv_trace]\n",
        "\n",
        "layout = go.Layout(scene = dict(\n",
        "        xaxis = dict(title='n_estimators'),\n",
        "        yaxis = dict(title='max Depth'),\n",
        "        zaxis = dict(title='Mean AUC scores'),))\n",
        "\n",
        "fig = go.Figure(data=data, layout=layout)\n",
        "fig.show(renderer=\"colab\")"
      ],
      "execution_count": 0,
      "outputs": [
        {
          "output_type": "display_data",
          "data": {
            "text/html": [
              "<html>\n",
              "<head><meta charset=\"utf-8\" /></head>\n",
              "<body>\n",
              "    <div>\n",
              "            <script src=\"https://cdnjs.cloudflare.com/ajax/libs/mathjax/2.7.5/MathJax.js?config=TeX-AMS-MML_SVG\"></script><script type=\"text/javascript\">if (window.MathJax) {MathJax.Hub.Config({SVG: {font: \"STIX-Web\"}});}</script>\n",
              "                <script type=\"text/javascript\">window.PlotlyConfig = {MathJaxConfig: 'local'};</script>\n",
              "        <script src=\"https://cdn.plot.ly/plotly-latest.min.js\"></script>    \n",
              "            <div id=\"d7c3567a-dc5a-43b5-8da4-23f404b9f542\" class=\"plotly-graph-div\" style=\"height:525px; width:100%;\"></div>\n",
              "            <script type=\"text/javascript\">\n",
              "                \n",
              "                    window.PLOTLYENV=window.PLOTLYENV || {};\n",
              "                    \n",
              "                if (document.getElementById(\"d7c3567a-dc5a-43b5-8da4-23f404b9f542\")) {\n",
              "                    Plotly.newPlot(\n",
              "                        'd7c3567a-dc5a-43b5-8da4-23f404b9f542',\n",
              "                        [{\"name\": \"Train\", \"type\": \"scatter3d\", \"x\": [50, 100, 200, 300, 1000, 50, 100, 200, 300, 1000, 50, 100, 200, 300, 1000, 50, 100, 200, 300, 1000, 50, 100, 200, 300, 1000], \"y\": [2, 2, 2, 2, 2, 4, 4, 4, 4, 4, 6, 6, 6, 6, 6, 8, 8, 8, 8, 8, 10, 10, 10, 10, 10], \"z\": [0.7015254002158171, 0.723248140426442, 0.7279030006985359, 0.7352838388022773, 0.7404670281613278, 0.7470274155890612, 0.7605705574833942, 0.7658898284772032, 0.7718072308692602, 0.7736091056190935, 0.7919507207828175, 0.7967653303417954, 0.810825276594458, 0.8084380216344611, 0.8112683371459113, 0.8349962150400206, 0.8416474495663913, 0.8481134785897493, 0.8535149243056305, 0.8537963279902313, 0.8691096874813278, 0.8816199349842261, 0.8879571466700641, 0.8899872719606584, 0.8930794984205823]}, {\"name\": \"Cross Validation\", \"type\": \"scatter3d\", \"x\": [50, 100, 200, 300, 1000, 50, 100, 200, 300, 1000, 50, 100, 200, 300, 1000, 50, 100, 200, 300, 1000, 50, 100, 200, 300, 1000], \"y\": [2, 2, 2, 2, 2, 4, 4, 4, 4, 4, 6, 6, 6, 6, 6, 8, 8, 8, 8, 8, 10, 10, 10, 10, 10], \"z\": [0.6844558880494319, 0.7087277963048292, 0.7121293738682778, 0.7187588125954862, 0.7248434332907567, 0.7217335247869694, 0.7336691870863253, 0.7387553841761108, 0.7430081714816149, 0.7444672256148669, 0.7511473834589099, 0.7553240535677987, 0.7686188315696726, 0.7674514310580602, 0.7681215386924173, 0.7791808334977041, 0.7874913793633, 0.7923569272031448, 0.7961595071135281, 0.797539035458218, 0.8017537782573066, 0.8149871440518884, 0.8203690980662488, 0.8228665701447151, 0.8261946070158239]}],\n",
              "                        {\"scene\": {\"xaxis\": {\"title\": {\"text\": \"n_estimators\"}}, \"yaxis\": {\"title\": {\"text\": \"max Depth\"}}, \"zaxis\": {\"title\": {\"text\": \"Mean AUC scores\"}}}, \"template\": {\"data\": {\"bar\": [{\"error_x\": {\"color\": \"#2a3f5f\"}, \"error_y\": {\"color\": \"#2a3f5f\"}, \"marker\": {\"line\": {\"color\": \"#E5ECF6\", \"width\": 0.5}}, \"type\": \"bar\"}], \"barpolar\": [{\"marker\": {\"line\": {\"color\": \"#E5ECF6\", \"width\": 0.5}}, \"type\": \"barpolar\"}], \"carpet\": [{\"aaxis\": {\"endlinecolor\": \"#2a3f5f\", \"gridcolor\": \"white\", \"linecolor\": \"white\", \"minorgridcolor\": \"white\", \"startlinecolor\": \"#2a3f5f\"}, \"baxis\": {\"endlinecolor\": \"#2a3f5f\", \"gridcolor\": \"white\", \"linecolor\": \"white\", \"minorgridcolor\": \"white\", \"startlinecolor\": \"#2a3f5f\"}, \"type\": \"carpet\"}], \"choropleth\": [{\"colorbar\": {\"outlinewidth\": 0, \"ticks\": \"\"}, \"type\": \"choropleth\"}], \"contour\": [{\"colorbar\": {\"outlinewidth\": 0, \"ticks\": \"\"}, \"colorscale\": [[0.0, \"#0d0887\"], [0.1111111111111111, \"#46039f\"], [0.2222222222222222, \"#7201a8\"], [0.3333333333333333, \"#9c179e\"], [0.4444444444444444, \"#bd3786\"], [0.5555555555555556, \"#d8576b\"], [0.6666666666666666, \"#ed7953\"], [0.7777777777777778, \"#fb9f3a\"], [0.8888888888888888, \"#fdca26\"], [1.0, \"#f0f921\"]], \"type\": \"contour\"}], \"contourcarpet\": [{\"colorbar\": {\"outlinewidth\": 0, \"ticks\": \"\"}, \"type\": \"contourcarpet\"}], \"heatmap\": [{\"colorbar\": {\"outlinewidth\": 0, \"ticks\": \"\"}, \"colorscale\": [[0.0, \"#0d0887\"], [0.1111111111111111, \"#46039f\"], [0.2222222222222222, \"#7201a8\"], [0.3333333333333333, \"#9c179e\"], [0.4444444444444444, \"#bd3786\"], [0.5555555555555556, \"#d8576b\"], [0.6666666666666666, \"#ed7953\"], [0.7777777777777778, \"#fb9f3a\"], [0.8888888888888888, \"#fdca26\"], [1.0, \"#f0f921\"]], \"type\": \"heatmap\"}], \"heatmapgl\": [{\"colorbar\": {\"outlinewidth\": 0, \"ticks\": \"\"}, \"colorscale\": [[0.0, \"#0d0887\"], [0.1111111111111111, \"#46039f\"], [0.2222222222222222, \"#7201a8\"], [0.3333333333333333, \"#9c179e\"], [0.4444444444444444, \"#bd3786\"], [0.5555555555555556, \"#d8576b\"], [0.6666666666666666, \"#ed7953\"], [0.7777777777777778, \"#fb9f3a\"], [0.8888888888888888, \"#fdca26\"], [1.0, \"#f0f921\"]], \"type\": \"heatmapgl\"}], \"histogram\": [{\"marker\": {\"colorbar\": {\"outlinewidth\": 0, \"ticks\": \"\"}}, \"type\": \"histogram\"}], \"histogram2d\": [{\"colorbar\": {\"outlinewidth\": 0, \"ticks\": \"\"}, \"colorscale\": [[0.0, \"#0d0887\"], [0.1111111111111111, \"#46039f\"], [0.2222222222222222, \"#7201a8\"], [0.3333333333333333, \"#9c179e\"], [0.4444444444444444, \"#bd3786\"], [0.5555555555555556, \"#d8576b\"], [0.6666666666666666, \"#ed7953\"], [0.7777777777777778, \"#fb9f3a\"], [0.8888888888888888, \"#fdca26\"], [1.0, \"#f0f921\"]], \"type\": \"histogram2d\"}], \"histogram2dcontour\": [{\"colorbar\": {\"outlinewidth\": 0, \"ticks\": \"\"}, \"colorscale\": [[0.0, \"#0d0887\"], [0.1111111111111111, \"#46039f\"], [0.2222222222222222, \"#7201a8\"], [0.3333333333333333, \"#9c179e\"], [0.4444444444444444, \"#bd3786\"], [0.5555555555555556, \"#d8576b\"], [0.6666666666666666, \"#ed7953\"], [0.7777777777777778, \"#fb9f3a\"], [0.8888888888888888, \"#fdca26\"], [1.0, \"#f0f921\"]], \"type\": \"histogram2dcontour\"}], \"mesh3d\": [{\"colorbar\": {\"outlinewidth\": 0, \"ticks\": \"\"}, \"type\": \"mesh3d\"}], \"parcoords\": [{\"line\": {\"colorbar\": {\"outlinewidth\": 0, \"ticks\": \"\"}}, \"type\": \"parcoords\"}], \"scatter\": [{\"marker\": {\"colorbar\": {\"outlinewidth\": 0, \"ticks\": \"\"}}, \"type\": \"scatter\"}], \"scatter3d\": [{\"line\": {\"colorbar\": {\"outlinewidth\": 0, \"ticks\": \"\"}}, \"marker\": {\"colorbar\": {\"outlinewidth\": 0, \"ticks\": \"\"}}, \"type\": \"scatter3d\"}], \"scattercarpet\": [{\"marker\": {\"colorbar\": {\"outlinewidth\": 0, \"ticks\": \"\"}}, \"type\": \"scattercarpet\"}], \"scattergeo\": [{\"marker\": {\"colorbar\": {\"outlinewidth\": 0, \"ticks\": \"\"}}, \"type\": \"scattergeo\"}], \"scattergl\": [{\"marker\": {\"colorbar\": {\"outlinewidth\": 0, \"ticks\": \"\"}}, \"type\": \"scattergl\"}], \"scattermapbox\": [{\"marker\": {\"colorbar\": {\"outlinewidth\": 0, \"ticks\": \"\"}}, \"type\": \"scattermapbox\"}], \"scatterpolar\": [{\"marker\": {\"colorbar\": {\"outlinewidth\": 0, \"ticks\": \"\"}}, \"type\": \"scatterpolar\"}], \"scatterpolargl\": [{\"marker\": {\"colorbar\": {\"outlinewidth\": 0, \"ticks\": \"\"}}, \"type\": \"scatterpolargl\"}], \"scatterternary\": [{\"marker\": {\"colorbar\": {\"outlinewidth\": 0, \"ticks\": \"\"}}, \"type\": \"scatterternary\"}], \"surface\": [{\"colorbar\": {\"outlinewidth\": 0, \"ticks\": \"\"}, \"colorscale\": [[0.0, \"#0d0887\"], [0.1111111111111111, \"#46039f\"], [0.2222222222222222, \"#7201a8\"], [0.3333333333333333, \"#9c179e\"], [0.4444444444444444, \"#bd3786\"], [0.5555555555555556, \"#d8576b\"], [0.6666666666666666, \"#ed7953\"], [0.7777777777777778, \"#fb9f3a\"], [0.8888888888888888, \"#fdca26\"], [1.0, \"#f0f921\"]], \"type\": \"surface\"}], \"table\": [{\"cells\": {\"fill\": {\"color\": \"#EBF0F8\"}, \"line\": {\"color\": \"white\"}}, \"header\": {\"fill\": {\"color\": \"#C8D4E3\"}, \"line\": {\"color\": \"white\"}}, \"type\": \"table\"}]}, \"layout\": {\"annotationdefaults\": {\"arrowcolor\": \"#2a3f5f\", \"arrowhead\": 0, \"arrowwidth\": 1}, \"colorscale\": {\"diverging\": [[0, \"#8e0152\"], [0.1, \"#c51b7d\"], [0.2, \"#de77ae\"], [0.3, \"#f1b6da\"], [0.4, \"#fde0ef\"], [0.5, \"#f7f7f7\"], [0.6, \"#e6f5d0\"], [0.7, \"#b8e186\"], [0.8, \"#7fbc41\"], [0.9, \"#4d9221\"], [1, \"#276419\"]], \"sequential\": [[0.0, \"#0d0887\"], [0.1111111111111111, \"#46039f\"], [0.2222222222222222, \"#7201a8\"], [0.3333333333333333, \"#9c179e\"], [0.4444444444444444, \"#bd3786\"], [0.5555555555555556, \"#d8576b\"], [0.6666666666666666, \"#ed7953\"], [0.7777777777777778, \"#fb9f3a\"], [0.8888888888888888, \"#fdca26\"], [1.0, \"#f0f921\"]], \"sequentialminus\": [[0.0, \"#0d0887\"], [0.1111111111111111, \"#46039f\"], [0.2222222222222222, \"#7201a8\"], [0.3333333333333333, \"#9c179e\"], [0.4444444444444444, \"#bd3786\"], [0.5555555555555556, \"#d8576b\"], [0.6666666666666666, \"#ed7953\"], [0.7777777777777778, \"#fb9f3a\"], [0.8888888888888888, \"#fdca26\"], [1.0, \"#f0f921\"]]}, \"colorway\": [\"#636efa\", \"#EF553B\", \"#00cc96\", \"#ab63fa\", \"#FFA15A\", \"#19d3f3\", \"#FF6692\", \"#B6E880\", \"#FF97FF\", \"#FECB52\"], \"font\": {\"color\": \"#2a3f5f\"}, \"geo\": {\"bgcolor\": \"white\", \"lakecolor\": \"white\", \"landcolor\": \"#E5ECF6\", \"showlakes\": true, \"showland\": true, \"subunitcolor\": \"white\"}, \"hoverlabel\": {\"align\": \"left\"}, \"hovermode\": \"closest\", \"mapbox\": {\"style\": \"light\"}, \"paper_bgcolor\": \"white\", \"plot_bgcolor\": \"#E5ECF6\", \"polar\": {\"angularaxis\": {\"gridcolor\": \"white\", \"linecolor\": \"white\", \"ticks\": \"\"}, \"bgcolor\": \"#E5ECF6\", \"radialaxis\": {\"gridcolor\": \"white\", \"linecolor\": \"white\", \"ticks\": \"\"}}, \"scene\": {\"xaxis\": {\"backgroundcolor\": \"#E5ECF6\", \"gridcolor\": \"white\", \"gridwidth\": 2, \"linecolor\": \"white\", \"showbackground\": true, \"ticks\": \"\", \"zerolinecolor\": \"white\"}, \"yaxis\": {\"backgroundcolor\": \"#E5ECF6\", \"gridcolor\": \"white\", \"gridwidth\": 2, \"linecolor\": \"white\", \"showbackground\": true, \"ticks\": \"\", \"zerolinecolor\": \"white\"}, \"zaxis\": {\"backgroundcolor\": \"#E5ECF6\", \"gridcolor\": \"white\", \"gridwidth\": 2, \"linecolor\": \"white\", \"showbackground\": true, \"ticks\": \"\", \"zerolinecolor\": \"white\"}}, \"shapedefaults\": {\"line\": {\"color\": \"#2a3f5f\"}}, \"ternary\": {\"aaxis\": {\"gridcolor\": \"white\", \"linecolor\": \"white\", \"ticks\": \"\"}, \"baxis\": {\"gridcolor\": \"white\", \"linecolor\": \"white\", \"ticks\": \"\"}, \"bgcolor\": \"#E5ECF6\", \"caxis\": {\"gridcolor\": \"white\", \"linecolor\": \"white\", \"ticks\": \"\"}}, \"title\": {\"x\": 0.05}, \"xaxis\": {\"automargin\": true, \"gridcolor\": \"white\", \"linecolor\": \"white\", \"ticks\": \"\", \"zerolinecolor\": \"white\", \"zerolinewidth\": 2}, \"yaxis\": {\"automargin\": true, \"gridcolor\": \"white\", \"linecolor\": \"white\", \"ticks\": \"\", \"zerolinecolor\": \"white\", \"zerolinewidth\": 2}}}},\n",
              "                        {\"responsive\": true}\n",
              "                    ).then(function(){\n",
              "                            \n",
              "var gd = document.getElementById('d7c3567a-dc5a-43b5-8da4-23f404b9f542');\n",
              "var x = new MutationObserver(function (mutations, observer) {{\n",
              "        var display = window.getComputedStyle(gd).display;\n",
              "        if (!display || display === 'none') {{\n",
              "            console.log([gd, 'removed!']);\n",
              "            Plotly.purge(gd);\n",
              "            observer.disconnect();\n",
              "        }}\n",
              "}});\n",
              "\n",
              "// Listen for the removal of the full notebook cells\n",
              "var notebookContainer = gd.closest('#notebook-container');\n",
              "if (notebookContainer) {{\n",
              "    x.observe(notebookContainer, {childList: true});\n",
              "}}\n",
              "\n",
              "// Listen for the clearing of the current output cell\n",
              "var outputEl = gd.closest('.output');\n",
              "if (outputEl) {{\n",
              "    x.observe(outputEl, {childList: true});\n",
              "}}\n",
              "\n",
              "                        })\n",
              "                };\n",
              "                \n",
              "            </script>\n",
              "        </div>\n",
              "</body>\n",
              "</html>"
            ]
          },
          "metadata": {
            "tags": []
          }
        }
      ]
    },
    {
      "cell_type": "code",
      "metadata": {
        "id": "IGQmzg13jWSq",
        "colab_type": "code",
        "outputId": "eb51025f-3bc5-4f37-853d-494fcd8b917e",
        "colab": {
          "base_uri": "https://localhost:8080/",
          "height": 323
        }
      },
      "source": [
        "test_table = Z_test.reshape((5,5))\n",
        "train_table = Z_train.reshape((5,5))\n",
        "hyp_table = PrettyTable()\n",
        "hyp_table.field_names = ['Max Depth \\ N_estimators', '50', '100', '200', '300', '1000']\n",
        "row_names = ['2', '4', '6', '8', '10']\n",
        "\n",
        "i=0\n",
        "for s in row_names:\n",
        "  hyp_table.add_row([s, \"Train AUC: \"+str(np.round(train_table[i][0], 4))+\"\\nTest AUC: \"+str(np.round(test_table[i][0], 4)),\n",
        "                        \"Train AUC: \"+str(np.round(train_table[i][1], 4))+\"\\nTest AUC: \"+str(np.round(test_table[i][1], 4)),\n",
        "                        \"Train AUC: \"+str(np.round(train_table[i][2], 4))+\"\\nTest AUC: \"+str(np.round(test_table[i][2], 4)),\n",
        "                        \"Train AUC: \"+str(np.round(train_table[i][3], 4))+\"\\nTest AUC: \"+str(np.round(test_table[i][3], 4)),\n",
        "                        \"Train AUC: \"+str(np.round(train_table[i][4], 4))+\"\\nTest AUC: \"+str(np.round(test_table[i][4], 4))])\n",
        "  i += 1\n",
        "  \n",
        "hyp_table.hrules = ALL\n",
        "  \n",
        "print(hyp_table)"
      ],
      "execution_count": 0,
      "outputs": [
        {
          "output_type": "stream",
          "text": [
            "+--------------------------+-------------------+-------------------+-------------------+-------------------+-------------------+\n",
            "| Max Depth \\ N_estimators |         50        |        100        |        200        |        300        |        1000       |\n",
            "+--------------------------+-------------------+-------------------+-------------------+-------------------+-------------------+\n",
            "|            2             | Train AUC: 0.7015 | Train AUC: 0.7232 | Train AUC: 0.7279 | Train AUC: 0.7353 | Train AUC: 0.7405 |\n",
            "|                          |  Test AUC: 0.6845 |  Test AUC: 0.7087 |  Test AUC: 0.7121 |  Test AUC: 0.7188 |  Test AUC: 0.7248 |\n",
            "+--------------------------+-------------------+-------------------+-------------------+-------------------+-------------------+\n",
            "|            4             |  Train AUC: 0.747 | Train AUC: 0.7606 | Train AUC: 0.7659 | Train AUC: 0.7718 | Train AUC: 0.7736 |\n",
            "|                          |  Test AUC: 0.7217 |  Test AUC: 0.7337 |  Test AUC: 0.7388 |  Test AUC: 0.743  |  Test AUC: 0.7445 |\n",
            "+--------------------------+-------------------+-------------------+-------------------+-------------------+-------------------+\n",
            "|            6             |  Train AUC: 0.792 | Train AUC: 0.7968 | Train AUC: 0.8108 | Train AUC: 0.8084 | Train AUC: 0.8113 |\n",
            "|                          |  Test AUC: 0.7511 |  Test AUC: 0.7553 |  Test AUC: 0.7686 |  Test AUC: 0.7675 |  Test AUC: 0.7681 |\n",
            "+--------------------------+-------------------+-------------------+-------------------+-------------------+-------------------+\n",
            "|            8             |  Train AUC: 0.835 | Train AUC: 0.8416 | Train AUC: 0.8481 | Train AUC: 0.8535 | Train AUC: 0.8538 |\n",
            "|                          |  Test AUC: 0.7792 |  Test AUC: 0.7875 |  Test AUC: 0.7924 |  Test AUC: 0.7962 |  Test AUC: 0.7975 |\n",
            "+--------------------------+-------------------+-------------------+-------------------+-------------------+-------------------+\n",
            "|            10            | Train AUC: 0.8691 | Train AUC: 0.8816 |  Train AUC: 0.888 |  Train AUC: 0.89  | Train AUC: 0.8931 |\n",
            "|                          |  Test AUC: 0.8018 |  Test AUC: 0.815  |  Test AUC: 0.8204 |  Test AUC: 0.8229 |  Test AUC: 0.8262 |\n",
            "+--------------------------+-------------------+-------------------+-------------------+-------------------+-------------------+\n"
          ],
          "name": "stdout"
        }
      ]
    },
    {
      "cell_type": "markdown",
      "metadata": {
        "colab_type": "text",
        "id": "Q_s8nqJVkC0F"
      },
      "source": [
        "We observe that for SET_1, **Depth = 4, Number of estimators = 300** gives a good AUC on test data (about 77%) without too much overfitting."
      ]
    },
    {
      "cell_type": "code",
      "metadata": {
        "id": "aaS4BE5hpTpV",
        "colab_type": "code",
        "colab": {}
      },
      "source": [
        "rf_D_1 = 4\n",
        "rf_N_1 = 300"
      ],
      "execution_count": 0,
      "outputs": []
    },
    {
      "cell_type": "markdown",
      "metadata": {
        "colab_type": "text",
        "id": "74Q9eYQsTyjI"
      },
      "source": [
        "#### 3.1.2 For SET_2"
      ]
    },
    {
      "cell_type": "code",
      "metadata": {
        "colab_type": "code",
        "id": "-mTOD-gtTyjP",
        "outputId": "02e4996e-a168-4b08-9878-c19135b01e1c",
        "colab": {
          "base_uri": "https://localhost:8080/",
          "height": 85
        }
      },
      "source": [
        "rf_model = RandomForestClassifier()\n",
        "parameters = {'n_estimators':[50, 100, 200, 300, 1000], 'max_depth':[2, 4, 6, 8, 10]}\n",
        "clf = GridSearchCV(rf_model, parameters, cv=3, scoring='roc_auc', return_train_score=True, verbose=2, n_jobs=10)\n",
        "clf.fit(train_set_2x, train_set_2y)\n",
        "\n",
        "results = pd.DataFrame.from_dict(clf.cv_results_)"
      ],
      "execution_count": 0,
      "outputs": [
        {
          "output_type": "stream",
          "text": [
            "Fitting 3 folds for each of 25 candidates, totalling 75 fits\n"
          ],
          "name": "stdout"
        },
        {
          "output_type": "stream",
          "text": [
            "[Parallel(n_jobs=10)]: Using backend LokyBackend with 10 concurrent workers.\n",
            "[Parallel(n_jobs=10)]: Done  21 tasks      | elapsed:   17.6s\n",
            "[Parallel(n_jobs=10)]: Done  75 out of  75 | elapsed:  2.5min finished\n"
          ],
          "name": "stderr"
        }
      ]
    },
    {
      "cell_type": "code",
      "metadata": {
        "colab_type": "code",
        "id": "XF0ovKdkTyjf",
        "outputId": "e664de4c-978e-42d9-ae4b-493aea65b5a7",
        "colab": {
          "base_uri": "https://localhost:8080/"
        }
      },
      "source": [
        "X = results['param_n_estimators'].values\n",
        "Y = results['param_max_depth'].values\n",
        "Z_train = results['mean_train_score'].values\n",
        "Z_test = results['mean_test_score'].values\n",
        "\n",
        "train_trace = go.Scatter3d(x=X, y=Y, z=Z_train, name='Train')\n",
        "\n",
        "cv_trace = go.Scatter3d(x=X, y=Y, z=Z_test, name='Cross Validation')\n",
        "\n",
        "data = [train_trace, cv_trace]\n",
        "\n",
        "layout = go.Layout(scene = dict(\n",
        "        xaxis = dict(title='n_estimators'),\n",
        "        yaxis = dict(title='max Depth'),\n",
        "        zaxis = dict(title='Mean AUC scores'),))\n",
        "\n",
        "fig = go.Figure(data=data, layout=layout)\n",
        "fig.show(renderer=\"colab\")"
      ],
      "execution_count": 0,
      "outputs": [
        {
          "output_type": "display_data",
          "data": {
            "text/html": [
              "<html>\n",
              "<head><meta charset=\"utf-8\" /></head>\n",
              "<body>\n",
              "    <div>\n",
              "            <script src=\"https://cdnjs.cloudflare.com/ajax/libs/mathjax/2.7.5/MathJax.js?config=TeX-AMS-MML_SVG\"></script><script type=\"text/javascript\">if (window.MathJax) {MathJax.Hub.Config({SVG: {font: \"STIX-Web\"}});}</script>\n",
              "                <script type=\"text/javascript\">window.PlotlyConfig = {MathJaxConfig: 'local'};</script>\n",
              "        <script src=\"https://cdn.plot.ly/plotly-latest.min.js\"></script>    \n",
              "            <div id=\"ef452197-e242-401a-a7be-b769fe3c4ca5\" class=\"plotly-graph-div\" style=\"height:525px; width:100%;\"></div>\n",
              "            <script type=\"text/javascript\">\n",
              "                \n",
              "                    window.PLOTLYENV=window.PLOTLYENV || {};\n",
              "                    \n",
              "                if (document.getElementById(\"ef452197-e242-401a-a7be-b769fe3c4ca5\")) {\n",
              "                    Plotly.newPlot(\n",
              "                        'ef452197-e242-401a-a7be-b769fe3c4ca5',\n",
              "                        [{\"name\": \"Train\", \"type\": \"scatter3d\", \"x\": [50, 100, 200, 300, 1000, 50, 100, 200, 300, 1000, 50, 100, 200, 300, 1000, 50, 100, 200, 300, 1000, 50, 100, 200, 300, 1000], \"y\": [2, 2, 2, 2, 2, 4, 4, 4, 4, 4, 6, 6, 6, 6, 6, 8, 8, 8, 8, 8, 10, 10, 10, 10, 10], \"z\": [0.6969303228589511, 0.7278426744717814, 0.7327183777615317, 0.7405939991290996, 0.7476218323422831, 0.7514702292997112, 0.7705205223481407, 0.7739659847119112, 0.7782984752604808, 0.7848603429205431, 0.7988317868308986, 0.8116354974366286, 0.8206096280536572, 0.8232487403880874, 0.8264549921259364, 0.8476377988333942, 0.8563567656010594, 0.8643460418369648, 0.8661535085435034, 0.8677078782022197, 0.8860085335824192, 0.8979388857662837, 0.9025515803924588, 0.90323542993529, 0.9093645181541926]}, {\"name\": \"Cross Validation\", \"type\": \"scatter3d\", \"x\": [50, 100, 200, 300, 1000, 50, 100, 200, 300, 1000, 50, 100, 200, 300, 1000, 50, 100, 200, 300, 1000, 50, 100, 200, 300, 1000], \"y\": [2, 2, 2, 2, 2, 4, 4, 4, 4, 4, 6, 6, 6, 6, 6, 8, 8, 8, 8, 8, 10, 10, 10, 10, 10], \"z\": [0.6793178090504792, 0.7076259930500324, 0.7134890187618206, 0.7202034535379442, 0.7262332930113171, 0.7175853845274658, 0.7341128782574148, 0.7405095242475725, 0.7428631845567938, 0.7491703625068521, 0.7488898010230001, 0.7612610239408146, 0.7701852713496188, 0.7720170969129312, 0.7748181340235418, 0.7806630678608958, 0.7915718042259452, 0.7986065069136282, 0.7995397258906182, 0.8017583528958115, 0.8084956783883351, 0.8190109162470545, 0.8248019032914242, 0.8257577786670972, 0.8308764531496646]}],\n",
              "                        {\"scene\": {\"xaxis\": {\"title\": {\"text\": \"n_estimators\"}}, \"yaxis\": {\"title\": {\"text\": \"max Depth\"}}, \"zaxis\": {\"title\": {\"text\": \"Mean AUC scores\"}}}, \"template\": {\"data\": {\"bar\": [{\"error_x\": {\"color\": \"#2a3f5f\"}, \"error_y\": {\"color\": \"#2a3f5f\"}, \"marker\": {\"line\": {\"color\": \"#E5ECF6\", \"width\": 0.5}}, \"type\": \"bar\"}], \"barpolar\": [{\"marker\": {\"line\": {\"color\": \"#E5ECF6\", \"width\": 0.5}}, \"type\": \"barpolar\"}], \"carpet\": [{\"aaxis\": {\"endlinecolor\": \"#2a3f5f\", \"gridcolor\": \"white\", \"linecolor\": \"white\", \"minorgridcolor\": \"white\", \"startlinecolor\": \"#2a3f5f\"}, \"baxis\": {\"endlinecolor\": \"#2a3f5f\", \"gridcolor\": \"white\", \"linecolor\": \"white\", \"minorgridcolor\": \"white\", \"startlinecolor\": \"#2a3f5f\"}, \"type\": \"carpet\"}], \"choropleth\": [{\"colorbar\": {\"outlinewidth\": 0, \"ticks\": \"\"}, \"type\": \"choropleth\"}], \"contour\": [{\"colorbar\": {\"outlinewidth\": 0, \"ticks\": \"\"}, \"colorscale\": [[0.0, \"#0d0887\"], [0.1111111111111111, \"#46039f\"], [0.2222222222222222, \"#7201a8\"], [0.3333333333333333, \"#9c179e\"], [0.4444444444444444, \"#bd3786\"], [0.5555555555555556, \"#d8576b\"], [0.6666666666666666, \"#ed7953\"], [0.7777777777777778, \"#fb9f3a\"], [0.8888888888888888, \"#fdca26\"], [1.0, \"#f0f921\"]], \"type\": \"contour\"}], \"contourcarpet\": [{\"colorbar\": {\"outlinewidth\": 0, \"ticks\": \"\"}, \"type\": \"contourcarpet\"}], \"heatmap\": [{\"colorbar\": {\"outlinewidth\": 0, \"ticks\": \"\"}, \"colorscale\": [[0.0, \"#0d0887\"], [0.1111111111111111, \"#46039f\"], [0.2222222222222222, \"#7201a8\"], [0.3333333333333333, \"#9c179e\"], [0.4444444444444444, \"#bd3786\"], [0.5555555555555556, \"#d8576b\"], [0.6666666666666666, \"#ed7953\"], [0.7777777777777778, \"#fb9f3a\"], [0.8888888888888888, \"#fdca26\"], [1.0, \"#f0f921\"]], \"type\": \"heatmap\"}], \"heatmapgl\": [{\"colorbar\": {\"outlinewidth\": 0, \"ticks\": \"\"}, \"colorscale\": [[0.0, \"#0d0887\"], [0.1111111111111111, \"#46039f\"], [0.2222222222222222, \"#7201a8\"], [0.3333333333333333, \"#9c179e\"], [0.4444444444444444, \"#bd3786\"], [0.5555555555555556, \"#d8576b\"], [0.6666666666666666, \"#ed7953\"], [0.7777777777777778, \"#fb9f3a\"], [0.8888888888888888, \"#fdca26\"], [1.0, \"#f0f921\"]], \"type\": \"heatmapgl\"}], \"histogram\": [{\"marker\": {\"colorbar\": {\"outlinewidth\": 0, \"ticks\": \"\"}}, \"type\": \"histogram\"}], \"histogram2d\": [{\"colorbar\": {\"outlinewidth\": 0, \"ticks\": \"\"}, \"colorscale\": [[0.0, \"#0d0887\"], [0.1111111111111111, \"#46039f\"], [0.2222222222222222, \"#7201a8\"], [0.3333333333333333, \"#9c179e\"], [0.4444444444444444, \"#bd3786\"], [0.5555555555555556, \"#d8576b\"], [0.6666666666666666, \"#ed7953\"], [0.7777777777777778, \"#fb9f3a\"], [0.8888888888888888, \"#fdca26\"], [1.0, \"#f0f921\"]], \"type\": \"histogram2d\"}], \"histogram2dcontour\": [{\"colorbar\": {\"outlinewidth\": 0, \"ticks\": \"\"}, \"colorscale\": [[0.0, \"#0d0887\"], [0.1111111111111111, \"#46039f\"], [0.2222222222222222, \"#7201a8\"], [0.3333333333333333, \"#9c179e\"], [0.4444444444444444, \"#bd3786\"], [0.5555555555555556, \"#d8576b\"], [0.6666666666666666, \"#ed7953\"], [0.7777777777777778, \"#fb9f3a\"], [0.8888888888888888, \"#fdca26\"], [1.0, \"#f0f921\"]], \"type\": \"histogram2dcontour\"}], \"mesh3d\": [{\"colorbar\": {\"outlinewidth\": 0, \"ticks\": \"\"}, \"type\": \"mesh3d\"}], \"parcoords\": [{\"line\": {\"colorbar\": {\"outlinewidth\": 0, \"ticks\": \"\"}}, \"type\": \"parcoords\"}], \"scatter\": [{\"marker\": {\"colorbar\": {\"outlinewidth\": 0, \"ticks\": \"\"}}, \"type\": \"scatter\"}], \"scatter3d\": [{\"line\": {\"colorbar\": {\"outlinewidth\": 0, \"ticks\": \"\"}}, \"marker\": {\"colorbar\": {\"outlinewidth\": 0, \"ticks\": \"\"}}, \"type\": \"scatter3d\"}], \"scattercarpet\": [{\"marker\": {\"colorbar\": {\"outlinewidth\": 0, \"ticks\": \"\"}}, \"type\": \"scattercarpet\"}], \"scattergeo\": [{\"marker\": {\"colorbar\": {\"outlinewidth\": 0, \"ticks\": \"\"}}, \"type\": \"scattergeo\"}], \"scattergl\": [{\"marker\": {\"colorbar\": {\"outlinewidth\": 0, \"ticks\": \"\"}}, \"type\": \"scattergl\"}], \"scattermapbox\": [{\"marker\": {\"colorbar\": {\"outlinewidth\": 0, \"ticks\": \"\"}}, \"type\": \"scattermapbox\"}], \"scatterpolar\": [{\"marker\": {\"colorbar\": {\"outlinewidth\": 0, \"ticks\": \"\"}}, \"type\": \"scatterpolar\"}], \"scatterpolargl\": [{\"marker\": {\"colorbar\": {\"outlinewidth\": 0, \"ticks\": \"\"}}, \"type\": \"scatterpolargl\"}], \"scatterternary\": [{\"marker\": {\"colorbar\": {\"outlinewidth\": 0, \"ticks\": \"\"}}, \"type\": \"scatterternary\"}], \"surface\": [{\"colorbar\": {\"outlinewidth\": 0, \"ticks\": \"\"}, \"colorscale\": [[0.0, \"#0d0887\"], [0.1111111111111111, \"#46039f\"], [0.2222222222222222, \"#7201a8\"], [0.3333333333333333, \"#9c179e\"], [0.4444444444444444, \"#bd3786\"], [0.5555555555555556, \"#d8576b\"], [0.6666666666666666, \"#ed7953\"], [0.7777777777777778, \"#fb9f3a\"], [0.8888888888888888, \"#fdca26\"], [1.0, \"#f0f921\"]], \"type\": \"surface\"}], \"table\": [{\"cells\": {\"fill\": {\"color\": \"#EBF0F8\"}, \"line\": {\"color\": \"white\"}}, \"header\": {\"fill\": {\"color\": \"#C8D4E3\"}, \"line\": {\"color\": \"white\"}}, \"type\": \"table\"}]}, \"layout\": {\"annotationdefaults\": {\"arrowcolor\": \"#2a3f5f\", \"arrowhead\": 0, \"arrowwidth\": 1}, \"colorscale\": {\"diverging\": [[0, \"#8e0152\"], [0.1, \"#c51b7d\"], [0.2, \"#de77ae\"], [0.3, \"#f1b6da\"], [0.4, \"#fde0ef\"], [0.5, \"#f7f7f7\"], [0.6, \"#e6f5d0\"], [0.7, \"#b8e186\"], [0.8, \"#7fbc41\"], [0.9, \"#4d9221\"], [1, \"#276419\"]], \"sequential\": [[0.0, \"#0d0887\"], [0.1111111111111111, \"#46039f\"], [0.2222222222222222, \"#7201a8\"], [0.3333333333333333, \"#9c179e\"], [0.4444444444444444, \"#bd3786\"], [0.5555555555555556, \"#d8576b\"], [0.6666666666666666, \"#ed7953\"], [0.7777777777777778, \"#fb9f3a\"], [0.8888888888888888, \"#fdca26\"], [1.0, \"#f0f921\"]], \"sequentialminus\": [[0.0, \"#0d0887\"], [0.1111111111111111, \"#46039f\"], [0.2222222222222222, \"#7201a8\"], [0.3333333333333333, \"#9c179e\"], [0.4444444444444444, \"#bd3786\"], [0.5555555555555556, \"#d8576b\"], [0.6666666666666666, \"#ed7953\"], [0.7777777777777778, \"#fb9f3a\"], [0.8888888888888888, \"#fdca26\"], [1.0, \"#f0f921\"]]}, \"colorway\": [\"#636efa\", \"#EF553B\", \"#00cc96\", \"#ab63fa\", \"#FFA15A\", \"#19d3f3\", \"#FF6692\", \"#B6E880\", \"#FF97FF\", \"#FECB52\"], \"font\": {\"color\": \"#2a3f5f\"}, \"geo\": {\"bgcolor\": \"white\", \"lakecolor\": \"white\", \"landcolor\": \"#E5ECF6\", \"showlakes\": true, \"showland\": true, \"subunitcolor\": \"white\"}, \"hoverlabel\": {\"align\": \"left\"}, \"hovermode\": \"closest\", \"mapbox\": {\"style\": \"light\"}, \"paper_bgcolor\": \"white\", \"plot_bgcolor\": \"#E5ECF6\", \"polar\": {\"angularaxis\": {\"gridcolor\": \"white\", \"linecolor\": \"white\", \"ticks\": \"\"}, \"bgcolor\": \"#E5ECF6\", \"radialaxis\": {\"gridcolor\": \"white\", \"linecolor\": \"white\", \"ticks\": \"\"}}, \"scene\": {\"xaxis\": {\"backgroundcolor\": \"#E5ECF6\", \"gridcolor\": \"white\", \"gridwidth\": 2, \"linecolor\": \"white\", \"showbackground\": true, \"ticks\": \"\", \"zerolinecolor\": \"white\"}, \"yaxis\": {\"backgroundcolor\": \"#E5ECF6\", \"gridcolor\": \"white\", \"gridwidth\": 2, \"linecolor\": \"white\", \"showbackground\": true, \"ticks\": \"\", \"zerolinecolor\": \"white\"}, \"zaxis\": {\"backgroundcolor\": \"#E5ECF6\", \"gridcolor\": \"white\", \"gridwidth\": 2, \"linecolor\": \"white\", \"showbackground\": true, \"ticks\": \"\", \"zerolinecolor\": \"white\"}}, \"shapedefaults\": {\"line\": {\"color\": \"#2a3f5f\"}}, \"ternary\": {\"aaxis\": {\"gridcolor\": \"white\", \"linecolor\": \"white\", \"ticks\": \"\"}, \"baxis\": {\"gridcolor\": \"white\", \"linecolor\": \"white\", \"ticks\": \"\"}, \"bgcolor\": \"#E5ECF6\", \"caxis\": {\"gridcolor\": \"white\", \"linecolor\": \"white\", \"ticks\": \"\"}}, \"title\": {\"x\": 0.05}, \"xaxis\": {\"automargin\": true, \"gridcolor\": \"white\", \"linecolor\": \"white\", \"ticks\": \"\", \"zerolinecolor\": \"white\", \"zerolinewidth\": 2}, \"yaxis\": {\"automargin\": true, \"gridcolor\": \"white\", \"linecolor\": \"white\", \"ticks\": \"\", \"zerolinecolor\": \"white\", \"zerolinewidth\": 2}}}},\n",
              "                        {\"responsive\": true}\n",
              "                    ).then(function(){\n",
              "                            \n",
              "var gd = document.getElementById('ef452197-e242-401a-a7be-b769fe3c4ca5');\n",
              "var x = new MutationObserver(function (mutations, observer) {{\n",
              "        var display = window.getComputedStyle(gd).display;\n",
              "        if (!display || display === 'none') {{\n",
              "            console.log([gd, 'removed!']);\n",
              "            Plotly.purge(gd);\n",
              "            observer.disconnect();\n",
              "        }}\n",
              "}});\n",
              "\n",
              "// Listen for the removal of the full notebook cells\n",
              "var notebookContainer = gd.closest('#notebook-container');\n",
              "if (notebookContainer) {{\n",
              "    x.observe(notebookContainer, {childList: true});\n",
              "}}\n",
              "\n",
              "// Listen for the clearing of the current output cell\n",
              "var outputEl = gd.closest('.output');\n",
              "if (outputEl) {{\n",
              "    x.observe(outputEl, {childList: true});\n",
              "}}\n",
              "\n",
              "                        })\n",
              "                };\n",
              "                \n",
              "            </script>\n",
              "        </div>\n",
              "</body>\n",
              "</html>"
            ]
          },
          "metadata": {
            "tags": []
          }
        }
      ]
    },
    {
      "cell_type": "code",
      "metadata": {
        "colab_type": "code",
        "id": "ZYoWmGzOTyjp",
        "outputId": "c70ac6ad-b247-4ed9-ac52-f31ede7a1f4e",
        "colab": {
          "base_uri": "https://localhost:8080/",
          "height": 323
        }
      },
      "source": [
        "test_table = Z_test.reshape((5,5))\n",
        "train_table = Z_train.reshape((5,5))\n",
        "hyp_table = PrettyTable()\n",
        "hyp_table.field_names = ['Max Depth \\ N_estimators', '50', '100', '200', '300', '1000']\n",
        "row_names = ['2', '4', '6', '8', '10']\n",
        "\n",
        "i=0\n",
        "for s in row_names:\n",
        "  hyp_table.add_row([s, \"Train AUC: \"+str(np.round(train_table[i][0], 4))+\"\\nTest AUC: \"+str(np.round(test_table[i][0], 4)),\n",
        "                        \"Train AUC: \"+str(np.round(train_table[i][1], 4))+\"\\nTest AUC: \"+str(np.round(test_table[i][1], 4)),\n",
        "                        \"Train AUC: \"+str(np.round(train_table[i][2], 4))+\"\\nTest AUC: \"+str(np.round(test_table[i][2], 4)),\n",
        "                        \"Train AUC: \"+str(np.round(train_table[i][3], 4))+\"\\nTest AUC: \"+str(np.round(test_table[i][3], 4)),\n",
        "                        \"Train AUC: \"+str(np.round(train_table[i][4], 4))+\"\\nTest AUC: \"+str(np.round(test_table[i][4], 4))])\n",
        "  i += 1\n",
        "  \n",
        "hyp_table.hrules = ALL\n",
        "  \n",
        "print(hyp_table)"
      ],
      "execution_count": 0,
      "outputs": [
        {
          "output_type": "stream",
          "text": [
            "+--------------------------+-------------------+-------------------+-------------------+-------------------+-------------------+\n",
            "| Max Depth \\ N_estimators |         50        |        100        |        200        |        300        |        1000       |\n",
            "+--------------------------+-------------------+-------------------+-------------------+-------------------+-------------------+\n",
            "|            2             | Train AUC: 0.6969 | Train AUC: 0.7278 | Train AUC: 0.7327 | Train AUC: 0.7406 | Train AUC: 0.7476 |\n",
            "|                          |  Test AUC: 0.6793 |  Test AUC: 0.7076 |  Test AUC: 0.7135 |  Test AUC: 0.7202 |  Test AUC: 0.7262 |\n",
            "+--------------------------+-------------------+-------------------+-------------------+-------------------+-------------------+\n",
            "|            4             | Train AUC: 0.7515 | Train AUC: 0.7705 |  Train AUC: 0.774 | Train AUC: 0.7783 | Train AUC: 0.7849 |\n",
            "|                          |  Test AUC: 0.7176 |  Test AUC: 0.7341 |  Test AUC: 0.7405 |  Test AUC: 0.7429 |  Test AUC: 0.7492 |\n",
            "+--------------------------+-------------------+-------------------+-------------------+-------------------+-------------------+\n",
            "|            6             | Train AUC: 0.7988 | Train AUC: 0.8116 | Train AUC: 0.8206 | Train AUC: 0.8232 | Train AUC: 0.8265 |\n",
            "|                          |  Test AUC: 0.7489 |  Test AUC: 0.7613 |  Test AUC: 0.7702 |  Test AUC: 0.772  |  Test AUC: 0.7748 |\n",
            "+--------------------------+-------------------+-------------------+-------------------+-------------------+-------------------+\n",
            "|            8             | Train AUC: 0.8476 | Train AUC: 0.8564 | Train AUC: 0.8643 | Train AUC: 0.8662 | Train AUC: 0.8677 |\n",
            "|                          |  Test AUC: 0.7807 |  Test AUC: 0.7916 |  Test AUC: 0.7986 |  Test AUC: 0.7995 |  Test AUC: 0.8018 |\n",
            "+--------------------------+-------------------+-------------------+-------------------+-------------------+-------------------+\n",
            "|            10            |  Train AUC: 0.886 | Train AUC: 0.8979 | Train AUC: 0.9026 | Train AUC: 0.9032 | Train AUC: 0.9094 |\n",
            "|                          |  Test AUC: 0.8085 |  Test AUC: 0.819  |  Test AUC: 0.8248 |  Test AUC: 0.8258 |  Test AUC: 0.8309 |\n",
            "+--------------------------+-------------------+-------------------+-------------------+-------------------+-------------------+\n"
          ],
          "name": "stdout"
        }
      ]
    },
    {
      "cell_type": "markdown",
      "metadata": {
        "colab_type": "text",
        "id": "2Dt-EY4DTyjx"
      },
      "source": [
        "We observe that for SET_2, **Depth = 4, Number of estimators =  200** gives a good AUC on test data (about 77%) without too much overfitting."
      ]
    },
    {
      "cell_type": "code",
      "metadata": {
        "colab_type": "code",
        "id": "p7scbimYTyj0",
        "colab": {}
      },
      "source": [
        "rf_D_2 = 4\n",
        "rf_N_2 = 200"
      ],
      "execution_count": 0,
      "outputs": []
    },
    {
      "cell_type": "markdown",
      "metadata": {
        "colab_type": "text",
        "id": "CTsiXtnjUwtu"
      },
      "source": [
        "#### 3.1.3 For SET_3"
      ]
    },
    {
      "cell_type": "code",
      "metadata": {
        "colab_type": "code",
        "id": "G2NjyT88Uwt4",
        "colab": {}
      },
      "source": [
        "rf_model = RandomForestClassifier()\n",
        "parameters = {'n_estimators':[50, 100, 200, 300, 1000], 'max_depth':[2, 4, 6, 8, 10]}\n",
        "clf = GridSearchCV(rf_model, parameters, cv=3, scoring='roc_auc', return_train_score=True, verbose=2, n_jobs=10)\n",
        "clf.fit(train_set_3x, train_set_3y)\n",
        "\n",
        "results = pd.DataFrame.from_dict(clf.cv_results_)"
      ],
      "execution_count": 0,
      "outputs": []
    },
    {
      "cell_type": "code",
      "metadata": {
        "colab_type": "code",
        "id": "qlG8-dVYUwuI",
        "outputId": "9dedf233-d296-45b8-9609-497b41c7efc7",
        "colab": {
          "base_uri": "https://localhost:8080/"
        }
      },
      "source": [
        "X = results['param_n_estimators'].values\n",
        "Y = results['param_max_depth'].values\n",
        "Z_train = results['mean_train_score'].values\n",
        "Z_test = results['mean_test_score'].values\n",
        "\n",
        "train_trace = go.Scatter3d(x=X, y=Y, z=Z_train, name='Train')\n",
        "\n",
        "cv_trace = go.Scatter3d(x=X, y=Y, z=Z_test, name='Cross Validation')\n",
        "\n",
        "data = [train_trace, cv_trace]\n",
        "\n",
        "layout = go.Layout(scene = dict(\n",
        "        xaxis = dict(title='n_estimators'),\n",
        "        yaxis = dict(title='max Depth'),\n",
        "        zaxis = dict(title='Mean AUC scores'),))\n",
        "\n",
        "fig = go.Figure(data=data, layout=layout)\n",
        "fig.show(renderer=\"colab\")"
      ],
      "execution_count": 0,
      "outputs": [
        {
          "output_type": "display_data",
          "data": {
            "text/html": [
              "<html>\n",
              "<head><meta charset=\"utf-8\" /></head>\n",
              "<body>\n",
              "    <div>\n",
              "            <script src=\"https://cdnjs.cloudflare.com/ajax/libs/mathjax/2.7.5/MathJax.js?config=TeX-AMS-MML_SVG\"></script><script type=\"text/javascript\">if (window.MathJax) {MathJax.Hub.Config({SVG: {font: \"STIX-Web\"}});}</script>\n",
              "                <script type=\"text/javascript\">window.PlotlyConfig = {MathJaxConfig: 'local'};</script>\n",
              "        <script src=\"https://cdn.plot.ly/plotly-latest.min.js\"></script>    \n",
              "            <div id=\"692613a5-5180-462b-84ef-b74d68c4ebf7\" class=\"plotly-graph-div\" style=\"height:525px; width:100%;\"></div>\n",
              "            <script type=\"text/javascript\">\n",
              "                \n",
              "                    window.PLOTLYENV=window.PLOTLYENV || {};\n",
              "                    \n",
              "                if (document.getElementById(\"692613a5-5180-462b-84ef-b74d68c4ebf7\")) {\n",
              "                    Plotly.newPlot(\n",
              "                        '692613a5-5180-462b-84ef-b74d68c4ebf7',\n",
              "                        [{\"name\": \"Train\", \"type\": \"scatter3d\", \"x\": [50, 100, 200, 300, 1000, 50, 100, 200, 300, 1000, 50, 100, 200, 300, 1000, 50, 100, 200, 300, 1000, 50, 100, 200, 300, 1000], \"y\": [2, 2, 2, 2, 2, 4, 4, 4, 4, 4, 6, 6, 6, 6, 6, 8, 8, 8, 8, 8, 10, 10, 10, 10, 10], \"z\": [0.7005928688696282, 0.7124390503831669, 0.7162818807651178, 0.7181914265876387, 0.7239023717896641, 0.7545430337842344, 0.7645474923968272, 0.7689580916423951, 0.7683609504373962, 0.7702440511427987, 0.8329931140439061, 0.8413082559763203, 0.8452246770422871, 0.8482551519725682, 0.8513230282142136, 0.924636260620557, 0.9341906994653201, 0.9399223084678275, 0.9408239065275706, 0.9440885856028557, 0.9829531949882622, 0.9872968243619337, 0.9893981326213165, 0.9900742720942545, 0.9911962389065581]}, {\"name\": \"Cross Validation\", \"type\": \"scatter3d\", \"x\": [50, 100, 200, 300, 1000, 50, 100, 200, 300, 1000, 50, 100, 200, 300, 1000, 50, 100, 200, 300, 1000, 50, 100, 200, 300, 1000], \"y\": [2, 2, 2, 2, 2, 4, 4, 4, 4, 4, 6, 6, 6, 6, 6, 8, 8, 8, 8, 8, 10, 10, 10, 10, 10], \"z\": [0.6835624674172457, 0.6940328860615926, 0.6987531308110563, 0.7002485697632311, 0.706029183439568, 0.7203547919138696, 0.7288865411691162, 0.73293362433476, 0.7319584747034025, 0.7346233973348588, 0.7695570936597185, 0.7757497496187298, 0.7814236911995535, 0.7828603560618549, 0.7852154966677859, 0.8358898414957739, 0.8463302154457985, 0.8522294336070776, 0.8532835515627459, 0.8575689945959497, 0.9021981433005307, 0.910684001379364, 0.9179252338901958, 0.9174885252317042, 0.9220722332031465]}],\n",
              "                        {\"scene\": {\"xaxis\": {\"title\": {\"text\": \"n_estimators\"}}, \"yaxis\": {\"title\": {\"text\": \"max Depth\"}}, \"zaxis\": {\"title\": {\"text\": \"Mean AUC scores\"}}}, \"template\": {\"data\": {\"bar\": [{\"error_x\": {\"color\": \"#2a3f5f\"}, \"error_y\": {\"color\": \"#2a3f5f\"}, \"marker\": {\"line\": {\"color\": \"#E5ECF6\", \"width\": 0.5}}, \"type\": \"bar\"}], \"barpolar\": [{\"marker\": {\"line\": {\"color\": \"#E5ECF6\", \"width\": 0.5}}, \"type\": \"barpolar\"}], \"carpet\": [{\"aaxis\": {\"endlinecolor\": \"#2a3f5f\", \"gridcolor\": \"white\", \"linecolor\": \"white\", \"minorgridcolor\": \"white\", \"startlinecolor\": \"#2a3f5f\"}, \"baxis\": {\"endlinecolor\": \"#2a3f5f\", \"gridcolor\": \"white\", \"linecolor\": \"white\", \"minorgridcolor\": \"white\", \"startlinecolor\": \"#2a3f5f\"}, \"type\": \"carpet\"}], \"choropleth\": [{\"colorbar\": {\"outlinewidth\": 0, \"ticks\": \"\"}, \"type\": \"choropleth\"}], \"contour\": [{\"colorbar\": {\"outlinewidth\": 0, \"ticks\": \"\"}, \"colorscale\": [[0.0, \"#0d0887\"], [0.1111111111111111, \"#46039f\"], [0.2222222222222222, \"#7201a8\"], [0.3333333333333333, \"#9c179e\"], [0.4444444444444444, \"#bd3786\"], [0.5555555555555556, \"#d8576b\"], [0.6666666666666666, \"#ed7953\"], [0.7777777777777778, \"#fb9f3a\"], [0.8888888888888888, \"#fdca26\"], [1.0, \"#f0f921\"]], \"type\": \"contour\"}], \"contourcarpet\": [{\"colorbar\": {\"outlinewidth\": 0, \"ticks\": \"\"}, \"type\": \"contourcarpet\"}], \"heatmap\": [{\"colorbar\": {\"outlinewidth\": 0, \"ticks\": \"\"}, \"colorscale\": [[0.0, \"#0d0887\"], [0.1111111111111111, \"#46039f\"], [0.2222222222222222, \"#7201a8\"], [0.3333333333333333, \"#9c179e\"], [0.4444444444444444, \"#bd3786\"], [0.5555555555555556, \"#d8576b\"], [0.6666666666666666, \"#ed7953\"], [0.7777777777777778, \"#fb9f3a\"], [0.8888888888888888, \"#fdca26\"], [1.0, \"#f0f921\"]], \"type\": \"heatmap\"}], \"heatmapgl\": [{\"colorbar\": {\"outlinewidth\": 0, \"ticks\": \"\"}, \"colorscale\": [[0.0, \"#0d0887\"], [0.1111111111111111, \"#46039f\"], [0.2222222222222222, \"#7201a8\"], [0.3333333333333333, \"#9c179e\"], [0.4444444444444444, \"#bd3786\"], [0.5555555555555556, \"#d8576b\"], [0.6666666666666666, \"#ed7953\"], [0.7777777777777778, \"#fb9f3a\"], [0.8888888888888888, \"#fdca26\"], [1.0, \"#f0f921\"]], \"type\": \"heatmapgl\"}], \"histogram\": [{\"marker\": {\"colorbar\": {\"outlinewidth\": 0, \"ticks\": \"\"}}, \"type\": \"histogram\"}], \"histogram2d\": [{\"colorbar\": {\"outlinewidth\": 0, \"ticks\": \"\"}, \"colorscale\": [[0.0, \"#0d0887\"], [0.1111111111111111, \"#46039f\"], [0.2222222222222222, \"#7201a8\"], [0.3333333333333333, \"#9c179e\"], [0.4444444444444444, \"#bd3786\"], [0.5555555555555556, \"#d8576b\"], [0.6666666666666666, \"#ed7953\"], [0.7777777777777778, \"#fb9f3a\"], [0.8888888888888888, \"#fdca26\"], [1.0, \"#f0f921\"]], \"type\": \"histogram2d\"}], \"histogram2dcontour\": [{\"colorbar\": {\"outlinewidth\": 0, \"ticks\": \"\"}, \"colorscale\": [[0.0, \"#0d0887\"], [0.1111111111111111, \"#46039f\"], [0.2222222222222222, \"#7201a8\"], [0.3333333333333333, \"#9c179e\"], [0.4444444444444444, \"#bd3786\"], [0.5555555555555556, \"#d8576b\"], [0.6666666666666666, \"#ed7953\"], [0.7777777777777778, \"#fb9f3a\"], [0.8888888888888888, \"#fdca26\"], [1.0, \"#f0f921\"]], \"type\": \"histogram2dcontour\"}], \"mesh3d\": [{\"colorbar\": {\"outlinewidth\": 0, \"ticks\": \"\"}, \"type\": \"mesh3d\"}], \"parcoords\": [{\"line\": {\"colorbar\": {\"outlinewidth\": 0, \"ticks\": \"\"}}, \"type\": \"parcoords\"}], \"scatter\": [{\"marker\": {\"colorbar\": {\"outlinewidth\": 0, \"ticks\": \"\"}}, \"type\": \"scatter\"}], \"scatter3d\": [{\"line\": {\"colorbar\": {\"outlinewidth\": 0, \"ticks\": \"\"}}, \"marker\": {\"colorbar\": {\"outlinewidth\": 0, \"ticks\": \"\"}}, \"type\": \"scatter3d\"}], \"scattercarpet\": [{\"marker\": {\"colorbar\": {\"outlinewidth\": 0, \"ticks\": \"\"}}, \"type\": \"scattercarpet\"}], \"scattergeo\": [{\"marker\": {\"colorbar\": {\"outlinewidth\": 0, \"ticks\": \"\"}}, \"type\": \"scattergeo\"}], \"scattergl\": [{\"marker\": {\"colorbar\": {\"outlinewidth\": 0, \"ticks\": \"\"}}, \"type\": \"scattergl\"}], \"scattermapbox\": [{\"marker\": {\"colorbar\": {\"outlinewidth\": 0, \"ticks\": \"\"}}, \"type\": \"scattermapbox\"}], \"scatterpolar\": [{\"marker\": {\"colorbar\": {\"outlinewidth\": 0, \"ticks\": \"\"}}, \"type\": \"scatterpolar\"}], \"scatterpolargl\": [{\"marker\": {\"colorbar\": {\"outlinewidth\": 0, \"ticks\": \"\"}}, \"type\": \"scatterpolargl\"}], \"scatterternary\": [{\"marker\": {\"colorbar\": {\"outlinewidth\": 0, \"ticks\": \"\"}}, \"type\": \"scatterternary\"}], \"surface\": [{\"colorbar\": {\"outlinewidth\": 0, \"ticks\": \"\"}, \"colorscale\": [[0.0, \"#0d0887\"], [0.1111111111111111, \"#46039f\"], [0.2222222222222222, \"#7201a8\"], [0.3333333333333333, \"#9c179e\"], [0.4444444444444444, \"#bd3786\"], [0.5555555555555556, \"#d8576b\"], [0.6666666666666666, \"#ed7953\"], [0.7777777777777778, \"#fb9f3a\"], [0.8888888888888888, \"#fdca26\"], [1.0, \"#f0f921\"]], \"type\": \"surface\"}], \"table\": [{\"cells\": {\"fill\": {\"color\": \"#EBF0F8\"}, \"line\": {\"color\": \"white\"}}, \"header\": {\"fill\": {\"color\": \"#C8D4E3\"}, \"line\": {\"color\": \"white\"}}, \"type\": \"table\"}]}, \"layout\": {\"annotationdefaults\": {\"arrowcolor\": \"#2a3f5f\", \"arrowhead\": 0, \"arrowwidth\": 1}, \"colorscale\": {\"diverging\": [[0, \"#8e0152\"], [0.1, \"#c51b7d\"], [0.2, \"#de77ae\"], [0.3, \"#f1b6da\"], [0.4, \"#fde0ef\"], [0.5, \"#f7f7f7\"], [0.6, \"#e6f5d0\"], [0.7, \"#b8e186\"], [0.8, \"#7fbc41\"], [0.9, \"#4d9221\"], [1, \"#276419\"]], \"sequential\": [[0.0, \"#0d0887\"], [0.1111111111111111, \"#46039f\"], [0.2222222222222222, \"#7201a8\"], [0.3333333333333333, \"#9c179e\"], [0.4444444444444444, \"#bd3786\"], [0.5555555555555556, \"#d8576b\"], [0.6666666666666666, \"#ed7953\"], [0.7777777777777778, \"#fb9f3a\"], [0.8888888888888888, \"#fdca26\"], [1.0, \"#f0f921\"]], \"sequentialminus\": [[0.0, \"#0d0887\"], [0.1111111111111111, \"#46039f\"], [0.2222222222222222, \"#7201a8\"], [0.3333333333333333, \"#9c179e\"], [0.4444444444444444, \"#bd3786\"], [0.5555555555555556, \"#d8576b\"], [0.6666666666666666, \"#ed7953\"], [0.7777777777777778, \"#fb9f3a\"], [0.8888888888888888, \"#fdca26\"], [1.0, \"#f0f921\"]]}, \"colorway\": [\"#636efa\", \"#EF553B\", \"#00cc96\", \"#ab63fa\", \"#FFA15A\", \"#19d3f3\", \"#FF6692\", \"#B6E880\", \"#FF97FF\", \"#FECB52\"], \"font\": {\"color\": \"#2a3f5f\"}, \"geo\": {\"bgcolor\": \"white\", \"lakecolor\": \"white\", \"landcolor\": \"#E5ECF6\", \"showlakes\": true, \"showland\": true, \"subunitcolor\": \"white\"}, \"hoverlabel\": {\"align\": \"left\"}, \"hovermode\": \"closest\", \"mapbox\": {\"style\": \"light\"}, \"paper_bgcolor\": \"white\", \"plot_bgcolor\": \"#E5ECF6\", \"polar\": {\"angularaxis\": {\"gridcolor\": \"white\", \"linecolor\": \"white\", \"ticks\": \"\"}, \"bgcolor\": \"#E5ECF6\", \"radialaxis\": {\"gridcolor\": \"white\", \"linecolor\": \"white\", \"ticks\": \"\"}}, \"scene\": {\"xaxis\": {\"backgroundcolor\": \"#E5ECF6\", \"gridcolor\": \"white\", \"gridwidth\": 2, \"linecolor\": \"white\", \"showbackground\": true, \"ticks\": \"\", \"zerolinecolor\": \"white\"}, \"yaxis\": {\"backgroundcolor\": \"#E5ECF6\", \"gridcolor\": \"white\", \"gridwidth\": 2, \"linecolor\": \"white\", \"showbackground\": true, \"ticks\": \"\", \"zerolinecolor\": \"white\"}, \"zaxis\": {\"backgroundcolor\": \"#E5ECF6\", \"gridcolor\": \"white\", \"gridwidth\": 2, \"linecolor\": \"white\", \"showbackground\": true, \"ticks\": \"\", \"zerolinecolor\": \"white\"}}, \"shapedefaults\": {\"line\": {\"color\": \"#2a3f5f\"}}, \"ternary\": {\"aaxis\": {\"gridcolor\": \"white\", \"linecolor\": \"white\", \"ticks\": \"\"}, \"baxis\": {\"gridcolor\": \"white\", \"linecolor\": \"white\", \"ticks\": \"\"}, \"bgcolor\": \"#E5ECF6\", \"caxis\": {\"gridcolor\": \"white\", \"linecolor\": \"white\", \"ticks\": \"\"}}, \"title\": {\"x\": 0.05}, \"xaxis\": {\"automargin\": true, \"gridcolor\": \"white\", \"linecolor\": \"white\", \"ticks\": \"\", \"zerolinecolor\": \"white\", \"zerolinewidth\": 2}, \"yaxis\": {\"automargin\": true, \"gridcolor\": \"white\", \"linecolor\": \"white\", \"ticks\": \"\", \"zerolinecolor\": \"white\", \"zerolinewidth\": 2}}}},\n",
              "                        {\"responsive\": true}\n",
              "                    ).then(function(){\n",
              "                            \n",
              "var gd = document.getElementById('692613a5-5180-462b-84ef-b74d68c4ebf7');\n",
              "var x = new MutationObserver(function (mutations, observer) {{\n",
              "        var display = window.getComputedStyle(gd).display;\n",
              "        if (!display || display === 'none') {{\n",
              "            console.log([gd, 'removed!']);\n",
              "            Plotly.purge(gd);\n",
              "            observer.disconnect();\n",
              "        }}\n",
              "}});\n",
              "\n",
              "// Listen for the removal of the full notebook cells\n",
              "var notebookContainer = gd.closest('#notebook-container');\n",
              "if (notebookContainer) {{\n",
              "    x.observe(notebookContainer, {childList: true});\n",
              "}}\n",
              "\n",
              "// Listen for the clearing of the current output cell\n",
              "var outputEl = gd.closest('.output');\n",
              "if (outputEl) {{\n",
              "    x.observe(outputEl, {childList: true});\n",
              "}}\n",
              "\n",
              "                        })\n",
              "                };\n",
              "                \n",
              "            </script>\n",
              "        </div>\n",
              "</body>\n",
              "</html>"
            ]
          },
          "metadata": {
            "tags": []
          }
        }
      ]
    },
    {
      "cell_type": "code",
      "metadata": {
        "colab_type": "code",
        "id": "OIZZVmEkUwuS",
        "outputId": "864119b9-5fd9-4fd5-bcc7-faea2fa30fb7",
        "colab": {
          "base_uri": "https://localhost:8080/",
          "height": 323
        }
      },
      "source": [
        "test_table = Z_test.reshape((5,5))\n",
        "train_table = Z_train.reshape((5,5))\n",
        "hyp_table = PrettyTable()\n",
        "hyp_table.field_names = ['Max Depth \\ N_estimators', '50', '100', '200', '300', '1000']\n",
        "row_names = ['2', '4', '6', '8', '10']\n",
        "\n",
        "i=0\n",
        "for s in row_names:\n",
        "  hyp_table.add_row([s, \"Train AUC: \"+str(np.round(train_table[i][0], 4))+\"\\nTest AUC: \"+str(np.round(test_table[i][0], 4)),\n",
        "                        \"Train AUC: \"+str(np.round(train_table[i][1], 4))+\"\\nTest AUC: \"+str(np.round(test_table[i][1], 4)),\n",
        "                        \"Train AUC: \"+str(np.round(train_table[i][2], 4))+\"\\nTest AUC: \"+str(np.round(test_table[i][2], 4)),\n",
        "                        \"Train AUC: \"+str(np.round(train_table[i][3], 4))+\"\\nTest AUC: \"+str(np.round(test_table[i][3], 4)),\n",
        "                        \"Train AUC: \"+str(np.round(train_table[i][4], 4))+\"\\nTest AUC: \"+str(np.round(test_table[i][4], 4))])\n",
        "  i += 1\n",
        "  \n",
        "hyp_table.hrules = ALL\n",
        "  \n",
        "print(hyp_table)"
      ],
      "execution_count": 0,
      "outputs": [
        {
          "output_type": "stream",
          "text": [
            "+--------------------------+-------------------+-------------------+-------------------+-------------------+-------------------+\n",
            "| Max Depth \\ N_estimators |         50        |        100        |        200        |        300        |        1000       |\n",
            "+--------------------------+-------------------+-------------------+-------------------+-------------------+-------------------+\n",
            "|            2             | Train AUC: 0.7006 | Train AUC: 0.7124 | Train AUC: 0.7163 | Train AUC: 0.7182 | Train AUC: 0.7239 |\n",
            "|                          |  Test AUC: 0.6836 |  Test AUC: 0.694  |  Test AUC: 0.6988 |  Test AUC: 0.7002 |  Test AUC: 0.706  |\n",
            "+--------------------------+-------------------+-------------------+-------------------+-------------------+-------------------+\n",
            "|            4             | Train AUC: 0.7545 | Train AUC: 0.7645 |  Train AUC: 0.769 | Train AUC: 0.7684 | Train AUC: 0.7702 |\n",
            "|                          |  Test AUC: 0.7204 |  Test AUC: 0.7289 |  Test AUC: 0.7329 |  Test AUC: 0.732  |  Test AUC: 0.7346 |\n",
            "+--------------------------+-------------------+-------------------+-------------------+-------------------+-------------------+\n",
            "|            6             |  Train AUC: 0.833 | Train AUC: 0.8413 | Train AUC: 0.8452 | Train AUC: 0.8483 | Train AUC: 0.8513 |\n",
            "|                          |  Test AUC: 0.7696 |  Test AUC: 0.7757 |  Test AUC: 0.7814 |  Test AUC: 0.7829 |  Test AUC: 0.7852 |\n",
            "+--------------------------+-------------------+-------------------+-------------------+-------------------+-------------------+\n",
            "|            8             | Train AUC: 0.9246 | Train AUC: 0.9342 | Train AUC: 0.9399 | Train AUC: 0.9408 | Train AUC: 0.9441 |\n",
            "|                          |  Test AUC: 0.8359 |  Test AUC: 0.8463 |  Test AUC: 0.8522 |  Test AUC: 0.8533 |  Test AUC: 0.8576 |\n",
            "+--------------------------+-------------------+-------------------+-------------------+-------------------+-------------------+\n",
            "|            10            |  Train AUC: 0.983 | Train AUC: 0.9873 | Train AUC: 0.9894 | Train AUC: 0.9901 | Train AUC: 0.9912 |\n",
            "|                          |  Test AUC: 0.9022 |  Test AUC: 0.9107 |  Test AUC: 0.9179 |  Test AUC: 0.9175 |  Test AUC: 0.9221 |\n",
            "+--------------------------+-------------------+-------------------+-------------------+-------------------+-------------------+\n"
          ],
          "name": "stdout"
        }
      ]
    },
    {
      "cell_type": "markdown",
      "metadata": {
        "colab_type": "text",
        "id": "d0kqI5UvUwue"
      },
      "source": [
        "We observe that for SET_3, **Depth = 4, Number of estimators = 200** gives a good AUC on test data (about 77%) without too much overfitting."
      ]
    },
    {
      "cell_type": "code",
      "metadata": {
        "colab_type": "code",
        "id": "1sa308YSUwuh",
        "colab": {}
      },
      "source": [
        "rf_D_3 = 4\n",
        "rf_N_3 = 200"
      ],
      "execution_count": 0,
      "outputs": []
    },
    {
      "cell_type": "markdown",
      "metadata": {
        "colab_type": "text",
        "id": "JTs8_PvdVE2y"
      },
      "source": [
        "#### 3.1.4 For SET_4"
      ]
    },
    {
      "cell_type": "code",
      "metadata": {
        "colab_type": "code",
        "id": "FH5qWW5cVE22",
        "outputId": "f76bb499-6888-4e8a-b96f-0706a9c08586",
        "colab": {
          "base_uri": "https://localhost:8080/",
          "height": 85
        }
      },
      "source": [
        "rf_model = RandomForestClassifier()\n",
        "parameters = {'n_estimators':[50, 100, 200, 300, 1000], 'max_depth':[2, 4, 6, 8, 10]}\n",
        "clf = GridSearchCV(rf_model, parameters, cv=3, scoring='roc_auc', return_train_score=True, verbose=2, n_jobs=10)\n",
        "clf.fit(train_set_4x, train_set_4y)\n",
        "\n",
        "results = pd.DataFrame.from_dict(clf.cv_results_)"
      ],
      "execution_count": 0,
      "outputs": [
        {
          "output_type": "stream",
          "text": [
            "Fitting 3 folds for each of 25 candidates, totalling 75 fits\n"
          ],
          "name": "stdout"
        },
        {
          "output_type": "stream",
          "text": [
            "[Parallel(n_jobs=10)]: Using backend LokyBackend with 10 concurrent workers.\n",
            "[Parallel(n_jobs=10)]: Done  21 tasks      | elapsed:   50.0s\n",
            "[Parallel(n_jobs=10)]: Done  75 out of  75 | elapsed: 11.7min finished\n"
          ],
          "name": "stderr"
        }
      ]
    },
    {
      "cell_type": "code",
      "metadata": {
        "colab_type": "code",
        "id": "CBPYesxrVE3G",
        "outputId": "49e2a14f-086f-4675-de2c-28993cf06f0f",
        "colab": {
          "base_uri": "https://localhost:8080/"
        }
      },
      "source": [
        "X = results['param_n_estimators'].values\n",
        "Y = results['param_max_depth'].values\n",
        "Z_train = results['mean_train_score'].values\n",
        "Z_test = results['mean_test_score'].values\n",
        "\n",
        "train_trace = go.Scatter3d(x=X, y=Y, z=Z_train, name='Train')\n",
        "\n",
        "cv_trace = go.Scatter3d(x=X, y=Y, z=Z_test, name='Cross Validation')\n",
        "\n",
        "data = [train_trace, cv_trace]\n",
        "\n",
        "layout = go.Layout(scene = dict(\n",
        "        xaxis = dict(title='n_estimators'),\n",
        "        yaxis = dict(title='max Depth'),\n",
        "        zaxis = dict(title='Mean AUC scores'),))\n",
        "\n",
        "fig = go.Figure(data=data, layout=layout)\n",
        "fig.show(renderer=\"colab\")"
      ],
      "execution_count": 0,
      "outputs": [
        {
          "output_type": "display_data",
          "data": {
            "text/html": [
              "<html>\n",
              "<head><meta charset=\"utf-8\" /></head>\n",
              "<body>\n",
              "    <div>\n",
              "            <script src=\"https://cdnjs.cloudflare.com/ajax/libs/mathjax/2.7.5/MathJax.js?config=TeX-AMS-MML_SVG\"></script><script type=\"text/javascript\">if (window.MathJax) {MathJax.Hub.Config({SVG: {font: \"STIX-Web\"}});}</script>\n",
              "                <script type=\"text/javascript\">window.PlotlyConfig = {MathJaxConfig: 'local'};</script>\n",
              "        <script src=\"https://cdn.plot.ly/plotly-latest.min.js\"></script>    \n",
              "            <div id=\"d4471f74-42c5-4adf-84ce-97cb93b83342\" class=\"plotly-graph-div\" style=\"height:525px; width:100%;\"></div>\n",
              "            <script type=\"text/javascript\">\n",
              "                \n",
              "                    window.PLOTLYENV=window.PLOTLYENV || {};\n",
              "                    \n",
              "                if (document.getElementById(\"d4471f74-42c5-4adf-84ce-97cb93b83342\")) {\n",
              "                    Plotly.newPlot(\n",
              "                        'd4471f74-42c5-4adf-84ce-97cb93b83342',\n",
              "                        [{\"name\": \"Train\", \"type\": \"scatter3d\", \"x\": [50, 100, 200, 300, 1000, 50, 100, 200, 300, 1000, 50, 100, 200, 300, 1000, 50, 100, 200, 300, 1000, 50, 100, 200, 300, 1000], \"y\": [2, 2, 2, 2, 2, 4, 4, 4, 4, 4, 6, 6, 6, 6, 6, 8, 8, 8, 8, 8, 10, 10, 10, 10, 10], \"z\": [0.6975428064455275, 0.7005042008600921, 0.7070421509467661, 0.7043214115685953, 0.7090881535924883, 0.7402557790630061, 0.745355576163762, 0.7517075224933532, 0.7512069905126909, 0.7534738010566789, 0.8130594359427317, 0.8224720172122392, 0.8260969161537237, 0.8242870946313067, 0.8291999445124766, 0.9040397569631445, 0.9127464034476217, 0.9163891668259913, 0.9194505254207584, 0.9219014899241245, 0.96955942714115, 0.9763912905986087, 0.9784797301820184, 0.980560368706345, 0.9815803237153959]}, {\"name\": \"Cross Validation\", \"type\": \"scatter3d\", \"x\": [50, 100, 200, 300, 1000, 50, 100, 200, 300, 1000, 50, 100, 200, 300, 1000, 50, 100, 200, 300, 1000, 50, 100, 200, 300, 1000], \"y\": [2, 2, 2, 2, 2, 4, 4, 4, 4, 4, 6, 6, 6, 6, 6, 8, 8, 8, 8, 8, 10, 10, 10, 10, 10], \"z\": [0.6822657372745674, 0.6863399913318914, 0.6919214641765661, 0.6893790682135561, 0.6939166275844623, 0.7105430099163359, 0.7141359765292564, 0.7205062712548441, 0.719605240995826, 0.722124372646129, 0.7582506950451307, 0.7643860584896048, 0.7664737744177148, 0.7659512491049616, 0.7700295975435251, 0.820129257934043, 0.8291793200157723, 0.8325556013490953, 0.8364255092364645, 0.8390338084895935, 0.8853313971013871, 0.8960459420424569, 0.9011262421284877, 0.9042282032286776, 0.9066407595146795]}],\n",
              "                        {\"scene\": {\"xaxis\": {\"title\": {\"text\": \"n_estimators\"}}, \"yaxis\": {\"title\": {\"text\": \"max Depth\"}}, \"zaxis\": {\"title\": {\"text\": \"Mean AUC scores\"}}}, \"template\": {\"data\": {\"bar\": [{\"error_x\": {\"color\": \"#2a3f5f\"}, \"error_y\": {\"color\": \"#2a3f5f\"}, \"marker\": {\"line\": {\"color\": \"#E5ECF6\", \"width\": 0.5}}, \"type\": \"bar\"}], \"barpolar\": [{\"marker\": {\"line\": {\"color\": \"#E5ECF6\", \"width\": 0.5}}, \"type\": \"barpolar\"}], \"carpet\": [{\"aaxis\": {\"endlinecolor\": \"#2a3f5f\", \"gridcolor\": \"white\", \"linecolor\": \"white\", \"minorgridcolor\": \"white\", \"startlinecolor\": \"#2a3f5f\"}, \"baxis\": {\"endlinecolor\": \"#2a3f5f\", \"gridcolor\": \"white\", \"linecolor\": \"white\", \"minorgridcolor\": \"white\", \"startlinecolor\": \"#2a3f5f\"}, \"type\": \"carpet\"}], \"choropleth\": [{\"colorbar\": {\"outlinewidth\": 0, \"ticks\": \"\"}, \"type\": \"choropleth\"}], \"contour\": [{\"colorbar\": {\"outlinewidth\": 0, \"ticks\": \"\"}, \"colorscale\": [[0.0, \"#0d0887\"], [0.1111111111111111, \"#46039f\"], [0.2222222222222222, \"#7201a8\"], [0.3333333333333333, \"#9c179e\"], [0.4444444444444444, \"#bd3786\"], [0.5555555555555556, \"#d8576b\"], [0.6666666666666666, \"#ed7953\"], [0.7777777777777778, \"#fb9f3a\"], [0.8888888888888888, \"#fdca26\"], [1.0, \"#f0f921\"]], \"type\": \"contour\"}], \"contourcarpet\": [{\"colorbar\": {\"outlinewidth\": 0, \"ticks\": \"\"}, \"type\": \"contourcarpet\"}], \"heatmap\": [{\"colorbar\": {\"outlinewidth\": 0, \"ticks\": \"\"}, \"colorscale\": [[0.0, \"#0d0887\"], [0.1111111111111111, \"#46039f\"], [0.2222222222222222, \"#7201a8\"], [0.3333333333333333, \"#9c179e\"], [0.4444444444444444, \"#bd3786\"], [0.5555555555555556, \"#d8576b\"], [0.6666666666666666, \"#ed7953\"], [0.7777777777777778, \"#fb9f3a\"], [0.8888888888888888, \"#fdca26\"], [1.0, \"#f0f921\"]], \"type\": \"heatmap\"}], \"heatmapgl\": [{\"colorbar\": {\"outlinewidth\": 0, \"ticks\": \"\"}, \"colorscale\": [[0.0, \"#0d0887\"], [0.1111111111111111, \"#46039f\"], [0.2222222222222222, \"#7201a8\"], [0.3333333333333333, \"#9c179e\"], [0.4444444444444444, \"#bd3786\"], [0.5555555555555556, \"#d8576b\"], [0.6666666666666666, \"#ed7953\"], [0.7777777777777778, \"#fb9f3a\"], [0.8888888888888888, \"#fdca26\"], [1.0, \"#f0f921\"]], \"type\": \"heatmapgl\"}], \"histogram\": [{\"marker\": {\"colorbar\": {\"outlinewidth\": 0, \"ticks\": \"\"}}, \"type\": \"histogram\"}], \"histogram2d\": [{\"colorbar\": {\"outlinewidth\": 0, \"ticks\": \"\"}, \"colorscale\": [[0.0, \"#0d0887\"], [0.1111111111111111, \"#46039f\"], [0.2222222222222222, \"#7201a8\"], [0.3333333333333333, \"#9c179e\"], [0.4444444444444444, \"#bd3786\"], [0.5555555555555556, \"#d8576b\"], [0.6666666666666666, \"#ed7953\"], [0.7777777777777778, \"#fb9f3a\"], [0.8888888888888888, \"#fdca26\"], [1.0, \"#f0f921\"]], \"type\": \"histogram2d\"}], \"histogram2dcontour\": [{\"colorbar\": {\"outlinewidth\": 0, \"ticks\": \"\"}, \"colorscale\": [[0.0, \"#0d0887\"], [0.1111111111111111, \"#46039f\"], [0.2222222222222222, \"#7201a8\"], [0.3333333333333333, \"#9c179e\"], [0.4444444444444444, \"#bd3786\"], [0.5555555555555556, \"#d8576b\"], [0.6666666666666666, \"#ed7953\"], [0.7777777777777778, \"#fb9f3a\"], [0.8888888888888888, \"#fdca26\"], [1.0, \"#f0f921\"]], \"type\": \"histogram2dcontour\"}], \"mesh3d\": [{\"colorbar\": {\"outlinewidth\": 0, \"ticks\": \"\"}, \"type\": \"mesh3d\"}], \"parcoords\": [{\"line\": {\"colorbar\": {\"outlinewidth\": 0, \"ticks\": \"\"}}, \"type\": \"parcoords\"}], \"scatter\": [{\"marker\": {\"colorbar\": {\"outlinewidth\": 0, \"ticks\": \"\"}}, \"type\": \"scatter\"}], \"scatter3d\": [{\"line\": {\"colorbar\": {\"outlinewidth\": 0, \"ticks\": \"\"}}, \"marker\": {\"colorbar\": {\"outlinewidth\": 0, \"ticks\": \"\"}}, \"type\": \"scatter3d\"}], \"scattercarpet\": [{\"marker\": {\"colorbar\": {\"outlinewidth\": 0, \"ticks\": \"\"}}, \"type\": \"scattercarpet\"}], \"scattergeo\": [{\"marker\": {\"colorbar\": {\"outlinewidth\": 0, \"ticks\": \"\"}}, \"type\": \"scattergeo\"}], \"scattergl\": [{\"marker\": {\"colorbar\": {\"outlinewidth\": 0, \"ticks\": \"\"}}, \"type\": \"scattergl\"}], \"scattermapbox\": [{\"marker\": {\"colorbar\": {\"outlinewidth\": 0, \"ticks\": \"\"}}, \"type\": \"scattermapbox\"}], \"scatterpolar\": [{\"marker\": {\"colorbar\": {\"outlinewidth\": 0, \"ticks\": \"\"}}, \"type\": \"scatterpolar\"}], \"scatterpolargl\": [{\"marker\": {\"colorbar\": {\"outlinewidth\": 0, \"ticks\": \"\"}}, \"type\": \"scatterpolargl\"}], \"scatterternary\": [{\"marker\": {\"colorbar\": {\"outlinewidth\": 0, \"ticks\": \"\"}}, \"type\": \"scatterternary\"}], \"surface\": [{\"colorbar\": {\"outlinewidth\": 0, \"ticks\": \"\"}, \"colorscale\": [[0.0, \"#0d0887\"], [0.1111111111111111, \"#46039f\"], [0.2222222222222222, \"#7201a8\"], [0.3333333333333333, \"#9c179e\"], [0.4444444444444444, \"#bd3786\"], [0.5555555555555556, \"#d8576b\"], [0.6666666666666666, \"#ed7953\"], [0.7777777777777778, \"#fb9f3a\"], [0.8888888888888888, \"#fdca26\"], [1.0, \"#f0f921\"]], \"type\": \"surface\"}], \"table\": [{\"cells\": {\"fill\": {\"color\": \"#EBF0F8\"}, \"line\": {\"color\": \"white\"}}, \"header\": {\"fill\": {\"color\": \"#C8D4E3\"}, \"line\": {\"color\": \"white\"}}, \"type\": \"table\"}]}, \"layout\": {\"annotationdefaults\": {\"arrowcolor\": \"#2a3f5f\", \"arrowhead\": 0, \"arrowwidth\": 1}, \"colorscale\": {\"diverging\": [[0, \"#8e0152\"], [0.1, \"#c51b7d\"], [0.2, \"#de77ae\"], [0.3, \"#f1b6da\"], [0.4, \"#fde0ef\"], [0.5, \"#f7f7f7\"], [0.6, \"#e6f5d0\"], [0.7, \"#b8e186\"], [0.8, \"#7fbc41\"], [0.9, \"#4d9221\"], [1, \"#276419\"]], \"sequential\": [[0.0, \"#0d0887\"], [0.1111111111111111, \"#46039f\"], [0.2222222222222222, \"#7201a8\"], [0.3333333333333333, \"#9c179e\"], [0.4444444444444444, \"#bd3786\"], [0.5555555555555556, \"#d8576b\"], [0.6666666666666666, \"#ed7953\"], [0.7777777777777778, \"#fb9f3a\"], [0.8888888888888888, \"#fdca26\"], [1.0, \"#f0f921\"]], \"sequentialminus\": [[0.0, \"#0d0887\"], [0.1111111111111111, \"#46039f\"], [0.2222222222222222, \"#7201a8\"], [0.3333333333333333, \"#9c179e\"], [0.4444444444444444, \"#bd3786\"], [0.5555555555555556, \"#d8576b\"], [0.6666666666666666, \"#ed7953\"], [0.7777777777777778, \"#fb9f3a\"], [0.8888888888888888, \"#fdca26\"], [1.0, \"#f0f921\"]]}, \"colorway\": [\"#636efa\", \"#EF553B\", \"#00cc96\", \"#ab63fa\", \"#FFA15A\", \"#19d3f3\", \"#FF6692\", \"#B6E880\", \"#FF97FF\", \"#FECB52\"], \"font\": {\"color\": \"#2a3f5f\"}, \"geo\": {\"bgcolor\": \"white\", \"lakecolor\": \"white\", \"landcolor\": \"#E5ECF6\", \"showlakes\": true, \"showland\": true, \"subunitcolor\": \"white\"}, \"hoverlabel\": {\"align\": \"left\"}, \"hovermode\": \"closest\", \"mapbox\": {\"style\": \"light\"}, \"paper_bgcolor\": \"white\", \"plot_bgcolor\": \"#E5ECF6\", \"polar\": {\"angularaxis\": {\"gridcolor\": \"white\", \"linecolor\": \"white\", \"ticks\": \"\"}, \"bgcolor\": \"#E5ECF6\", \"radialaxis\": {\"gridcolor\": \"white\", \"linecolor\": \"white\", \"ticks\": \"\"}}, \"scene\": {\"xaxis\": {\"backgroundcolor\": \"#E5ECF6\", \"gridcolor\": \"white\", \"gridwidth\": 2, \"linecolor\": \"white\", \"showbackground\": true, \"ticks\": \"\", \"zerolinecolor\": \"white\"}, \"yaxis\": {\"backgroundcolor\": \"#E5ECF6\", \"gridcolor\": \"white\", \"gridwidth\": 2, \"linecolor\": \"white\", \"showbackground\": true, \"ticks\": \"\", \"zerolinecolor\": \"white\"}, \"zaxis\": {\"backgroundcolor\": \"#E5ECF6\", \"gridcolor\": \"white\", \"gridwidth\": 2, \"linecolor\": \"white\", \"showbackground\": true, \"ticks\": \"\", \"zerolinecolor\": \"white\"}}, \"shapedefaults\": {\"line\": {\"color\": \"#2a3f5f\"}}, \"ternary\": {\"aaxis\": {\"gridcolor\": \"white\", \"linecolor\": \"white\", \"ticks\": \"\"}, \"baxis\": {\"gridcolor\": \"white\", \"linecolor\": \"white\", \"ticks\": \"\"}, \"bgcolor\": \"#E5ECF6\", \"caxis\": {\"gridcolor\": \"white\", \"linecolor\": \"white\", \"ticks\": \"\"}}, \"title\": {\"x\": 0.05}, \"xaxis\": {\"automargin\": true, \"gridcolor\": \"white\", \"linecolor\": \"white\", \"ticks\": \"\", \"zerolinecolor\": \"white\", \"zerolinewidth\": 2}, \"yaxis\": {\"automargin\": true, \"gridcolor\": \"white\", \"linecolor\": \"white\", \"ticks\": \"\", \"zerolinecolor\": \"white\", \"zerolinewidth\": 2}}}},\n",
              "                        {\"responsive\": true}\n",
              "                    ).then(function(){\n",
              "                            \n",
              "var gd = document.getElementById('d4471f74-42c5-4adf-84ce-97cb93b83342');\n",
              "var x = new MutationObserver(function (mutations, observer) {{\n",
              "        var display = window.getComputedStyle(gd).display;\n",
              "        if (!display || display === 'none') {{\n",
              "            console.log([gd, 'removed!']);\n",
              "            Plotly.purge(gd);\n",
              "            observer.disconnect();\n",
              "        }}\n",
              "}});\n",
              "\n",
              "// Listen for the removal of the full notebook cells\n",
              "var notebookContainer = gd.closest('#notebook-container');\n",
              "if (notebookContainer) {{\n",
              "    x.observe(notebookContainer, {childList: true});\n",
              "}}\n",
              "\n",
              "// Listen for the clearing of the current output cell\n",
              "var outputEl = gd.closest('.output');\n",
              "if (outputEl) {{\n",
              "    x.observe(outputEl, {childList: true});\n",
              "}}\n",
              "\n",
              "                        })\n",
              "                };\n",
              "                \n",
              "            </script>\n",
              "        </div>\n",
              "</body>\n",
              "</html>"
            ]
          },
          "metadata": {
            "tags": []
          }
        }
      ]
    },
    {
      "cell_type": "code",
      "metadata": {
        "colab_type": "code",
        "id": "TjNTPuTrVE3P",
        "outputId": "29375818-18e5-40ff-c674-64a583bacd5c",
        "colab": {
          "base_uri": "https://localhost:8080/",
          "height": 323
        }
      },
      "source": [
        "test_table = Z_test.reshape((5,5))\n",
        "train_table = Z_train.reshape((5,5))\n",
        "hyp_table = PrettyTable()\n",
        "hyp_table.field_names = ['Max Depth \\ N_estimators', '50', '100', '200', '300', '1000']\n",
        "row_names = ['2', '4', '6', '8', '10']\n",
        "\n",
        "i=0\n",
        "for s in row_names:\n",
        "  hyp_table.add_row([s, \"Train AUC: \"+str(np.round(train_table[i][0], 4))+\"\\nTest AUC: \"+str(np.round(test_table[i][0], 4)),\n",
        "                        \"Train AUC: \"+str(np.round(train_table[i][1], 4))+\"\\nTest AUC: \"+str(np.round(test_table[i][1], 4)),\n",
        "                        \"Train AUC: \"+str(np.round(train_table[i][2], 4))+\"\\nTest AUC: \"+str(np.round(test_table[i][2], 4)),\n",
        "                        \"Train AUC: \"+str(np.round(train_table[i][3], 4))+\"\\nTest AUC: \"+str(np.round(test_table[i][3], 4)),\n",
        "                        \"Train AUC: \"+str(np.round(train_table[i][4], 4))+\"\\nTest AUC: \"+str(np.round(test_table[i][4], 4))])\n",
        "  i += 1\n",
        "  \n",
        "hyp_table.hrules = ALL\n",
        "  \n",
        "print(hyp_table)"
      ],
      "execution_count": 0,
      "outputs": [
        {
          "output_type": "stream",
          "text": [
            "+--------------------------+-------------------+-------------------+-------------------+-------------------+-------------------+\n",
            "| Max Depth \\ N_estimators |         50        |        100        |        200        |        300        |        1000       |\n",
            "+--------------------------+-------------------+-------------------+-------------------+-------------------+-------------------+\n",
            "|            2             | Train AUC: 0.6975 | Train AUC: 0.7005 |  Train AUC: 0.707 | Train AUC: 0.7043 | Train AUC: 0.7091 |\n",
            "|                          |  Test AUC: 0.6823 |  Test AUC: 0.6863 |  Test AUC: 0.6919 |  Test AUC: 0.6894 |  Test AUC: 0.6939 |\n",
            "+--------------------------+-------------------+-------------------+-------------------+-------------------+-------------------+\n",
            "|            4             | Train AUC: 0.7403 | Train AUC: 0.7454 | Train AUC: 0.7517 | Train AUC: 0.7512 | Train AUC: 0.7535 |\n",
            "|                          |  Test AUC: 0.7105 |  Test AUC: 0.7141 |  Test AUC: 0.7205 |  Test AUC: 0.7196 |  Test AUC: 0.7221 |\n",
            "+--------------------------+-------------------+-------------------+-------------------+-------------------+-------------------+\n",
            "|            6             | Train AUC: 0.8131 | Train AUC: 0.8225 | Train AUC: 0.8261 | Train AUC: 0.8243 | Train AUC: 0.8292 |\n",
            "|                          |  Test AUC: 0.7583 |  Test AUC: 0.7644 |  Test AUC: 0.7665 |  Test AUC: 0.766  |   Test AUC: 0.77  |\n",
            "+--------------------------+-------------------+-------------------+-------------------+-------------------+-------------------+\n",
            "|            8             |  Train AUC: 0.904 | Train AUC: 0.9127 | Train AUC: 0.9164 | Train AUC: 0.9195 | Train AUC: 0.9219 |\n",
            "|                          |  Test AUC: 0.8201 |  Test AUC: 0.8292 |  Test AUC: 0.8326 |  Test AUC: 0.8364 |  Test AUC: 0.839  |\n",
            "+--------------------------+-------------------+-------------------+-------------------+-------------------+-------------------+\n",
            "|            10            | Train AUC: 0.9696 | Train AUC: 0.9764 | Train AUC: 0.9785 | Train AUC: 0.9806 | Train AUC: 0.9816 |\n",
            "|                          |  Test AUC: 0.8853 |  Test AUC: 0.896  |  Test AUC: 0.9011 |  Test AUC: 0.9042 |  Test AUC: 0.9066 |\n",
            "+--------------------------+-------------------+-------------------+-------------------+-------------------+-------------------+\n"
          ],
          "name": "stdout"
        }
      ]
    },
    {
      "cell_type": "markdown",
      "metadata": {
        "colab_type": "text",
        "id": "ORNrbweHVE3a"
      },
      "source": [
        "We observe that for SET_4, **Depth = 4, Number of estimators = 200** gives a good AUC on test data (about 77%) without too much overfitting."
      ]
    },
    {
      "cell_type": "code",
      "metadata": {
        "colab_type": "code",
        "id": "MOOPOsnjVE3d",
        "colab": {}
      },
      "source": [
        "rf_D_4 = 4\n",
        "rf_N_4 = 200"
      ],
      "execution_count": 0,
      "outputs": []
    },
    {
      "cell_type": "markdown",
      "metadata": {
        "id": "6aq89j4kNQ8S",
        "colab_type": "text"
      },
      "source": [
        "### 3.2 Apply Random Forests to all four datsets"
      ]
    },
    {
      "cell_type": "code",
      "metadata": {
        "id": "J-XAD15Q-Byy",
        "colab_type": "code",
        "outputId": "50391524-46b7-4159-b69e-5fbab8a1e390",
        "colab": {
          "base_uri": "https://localhost:8080/"
        }
      },
      "source": [
        "rf_1 = RandomForestClassifier(n_estimators=rf_N_1, max_depth=rf_D_1)\n",
        "rf_1.fit(train_set_1x, train_set_1y)"
      ],
      "execution_count": 0,
      "outputs": [
        {
          "output_type": "execute_result",
          "data": {
            "text/plain": [
              "RandomForestClassifier(bootstrap=True, class_weight=None, criterion='gini',\n",
              "                       max_depth=4, max_features='auto', max_leaf_nodes=None,\n",
              "                       min_impurity_decrease=0.0, min_impurity_split=None,\n",
              "                       min_samples_leaf=1, min_samples_split=2,\n",
              "                       min_weight_fraction_leaf=0.0, n_estimators=300,\n",
              "                       n_jobs=None, oob_score=False, random_state=None,\n",
              "                       verbose=0, warm_start=False)"
            ]
          },
          "metadata": {
            "tags": []
          },
          "execution_count": 68
        }
      ]
    },
    {
      "cell_type": "code",
      "metadata": {
        "id": "hiCZqtvw-JQR",
        "colab_type": "code",
        "outputId": "abf2456b-0dcd-4621-889f-dda0dacbdf54",
        "colab": {
          "base_uri": "https://localhost:8080/"
        }
      },
      "source": [
        "rf_2 = RandomForestClassifier(n_estimators=rf_N_2, max_depth=rf_D_2)\n",
        "rf_2.fit(train_set_2x, train_set_2y)"
      ],
      "execution_count": 0,
      "outputs": [
        {
          "output_type": "execute_result",
          "data": {
            "text/plain": [
              "RandomForestClassifier(bootstrap=True, class_weight=None, criterion='gini',\n",
              "                       max_depth=4, max_features='auto', max_leaf_nodes=None,\n",
              "                       min_impurity_decrease=0.0, min_impurity_split=None,\n",
              "                       min_samples_leaf=1, min_samples_split=2,\n",
              "                       min_weight_fraction_leaf=0.0, n_estimators=200,\n",
              "                       n_jobs=None, oob_score=False, random_state=None,\n",
              "                       verbose=0, warm_start=False)"
            ]
          },
          "metadata": {
            "tags": []
          },
          "execution_count": 69
        }
      ]
    },
    {
      "cell_type": "code",
      "metadata": {
        "id": "ibAva2Ns-Klu",
        "colab_type": "code",
        "outputId": "e22ec8f9-aca8-40e4-ecff-d0f0fa1c4aaf",
        "colab": {
          "base_uri": "https://localhost:8080/"
        }
      },
      "source": [
        "rf_3 = RandomForestClassifier(n_estimators=rf_N_3, max_depth=rf_D_3)\n",
        "rf_3.fit(train_set_3x, train_set_3y)"
      ],
      "execution_count": 0,
      "outputs": [
        {
          "output_type": "execute_result",
          "data": {
            "text/plain": [
              "RandomForestClassifier(bootstrap=True, class_weight=None, criterion='gini',\n",
              "                       max_depth=4, max_features='auto', max_leaf_nodes=None,\n",
              "                       min_impurity_decrease=0.0, min_impurity_split=None,\n",
              "                       min_samples_leaf=1, min_samples_split=2,\n",
              "                       min_weight_fraction_leaf=0.0, n_estimators=200,\n",
              "                       n_jobs=None, oob_score=False, random_state=None,\n",
              "                       verbose=0, warm_start=False)"
            ]
          },
          "metadata": {
            "tags": []
          },
          "execution_count": 70
        }
      ]
    },
    {
      "cell_type": "code",
      "metadata": {
        "id": "LW7r_pN6-MAV",
        "colab_type": "code",
        "outputId": "2879a23b-bf9f-4653-ab87-18c012db729d",
        "colab": {
          "base_uri": "https://localhost:8080/"
        }
      },
      "source": [
        "rf_4 = RandomForestClassifier(n_estimators=rf_N_4, max_depth=rf_D_4)\n",
        "rf_4.fit(train_set_4x, train_set_4y)"
      ],
      "execution_count": 0,
      "outputs": [
        {
          "output_type": "execute_result",
          "data": {
            "text/plain": [
              "RandomForestClassifier(bootstrap=True, class_weight=None, criterion='gini',\n",
              "                       max_depth=4, max_features='auto', max_leaf_nodes=None,\n",
              "                       min_impurity_decrease=0.0, min_impurity_split=None,\n",
              "                       min_samples_leaf=1, min_samples_split=2,\n",
              "                       min_weight_fraction_leaf=0.0, n_estimators=200,\n",
              "                       n_jobs=None, oob_score=False, random_state=None,\n",
              "                       verbose=0, warm_start=False)"
            ]
          },
          "metadata": {
            "tags": []
          },
          "execution_count": 71
        }
      ]
    },
    {
      "cell_type": "markdown",
      "metadata": {
        "id": "Pkw2LAfLOc1g",
        "colab_type": "text"
      },
      "source": [
        "### 3.3. Test Random Forest Models"
      ]
    },
    {
      "cell_type": "code",
      "metadata": {
        "id": "6pogAOgAS9Cg",
        "colab_type": "code",
        "colab": {}
      },
      "source": [
        "from sklearn.metrics import roc_curve, auc, confusion_matrix\n",
        "\n",
        "def find_best_threshold(threshold, fpr, tpr):\n",
        "  t = threshold[np.argmax(tpr*(1-fpr))]\n",
        "  # (tpr*(1-fpr)) will be maximum if your fpr is very low and tpr is very high\n",
        "  print(\"The maximum value of tpr*(1-fpr) is \", max(tpr*(1-fpr)), \"for threshold:\", np.round(t,3))\n",
        "  return t\n",
        "\n",
        "def predict_with_best_t(proba, threshold):\n",
        "  predictions = []\n",
        "  for i in proba:\n",
        "    if i>=threshold:\n",
        "      predictions.append(1)\n",
        "    else:\n",
        "      predictions.append(0)\n",
        "  return predictions"
      ],
      "execution_count": 0,
      "outputs": []
    },
    {
      "cell_type": "code",
      "metadata": {
        "id": "3XfEKW6QViCx",
        "colab_type": "code",
        "outputId": "636c9e5f-5d46-4d53-ff35-46409b45903f",
        "colab": {
          "base_uri": "https://localhost:8080/"
        }
      },
      "source": [
        "y_train_pred = rf_1.predict_proba(train_set_1x)[:,1]\n",
        "y_test_pred = rf_1.predict_proba(test_set_1x)[:,1]\n",
        "\n",
        "train_fpr, train_tpr, tr_thresholds = roc_curve(train_set_1y, y_train_pred)\n",
        "test_fpr, test_tpr, te_thresholds = roc_curve(test_set_1y, y_test_pred)\n",
        "\n",
        "tr_auc_rf1 = auc(train_fpr, train_tpr)\n",
        "te_auc_rf1 = auc(test_fpr, test_tpr)\n",
        "\n",
        "plt.plot(train_fpr, train_tpr, label=\"Train AUC =\"+str(tr_auc_rf1))\n",
        "plt.plot(test_fpr, test_tpr, label=\"Test AUC =\"+str(te_auc_rf1))\n",
        "plt.legend()\n",
        "plt.xlabel(\"False Positive Rate\")\n",
        "plt.ylabel(\"True Positive Rate\")\n",
        "plt.title(\"ROC CURVE FOR Random Forests ON TEST SET 1\")\n",
        "plt.grid()\n",
        "plt.show()\n",
        "\n",
        "print(\"*\"*100+'\\n')\n",
        "print(\"CONFUSION MATRIX FOR TRAIN DATA:\")\n",
        "best_t = find_best_threshold(tr_thresholds, train_fpr, train_tpr)\n",
        "conf_mat = confusion_matrix(train_set_1y, predict_with_best_t(y_train_pred, best_t))\n",
        "conf_table = PrettyTable()\n",
        "conf_table.hrules = ALL\n",
        "conf_table.field_names = ['', 'PREDICTED NO', 'PREDICTED YES']\n",
        "conf_table.add_row(['ACTUAL NO', conf_mat[0][0], conf_mat[0][1]])\n",
        "conf_table.add_row(['ACTUAL YES', conf_mat[1][0], conf_mat[1][1]])\n",
        "print(conf_table)\n",
        "print(\"*\"*100+'\\n')\n",
        "print(\"CONFUSION MATRIX FOR TEST DATA:\")\n",
        "best_t = find_best_threshold(te_thresholds, test_fpr, test_tpr)\n",
        "conf_mat = confusion_matrix(test_set_1y, predict_with_best_t(y_test_pred, best_t))\n",
        "conf_table = PrettyTable()\n",
        "conf_table.hrules = ALL\n",
        "conf_table.field_names = ['', 'PREDICTED NO', 'PREDICTED YES']\n",
        "conf_table.add_row(['ACTUAL NO', conf_mat[0][0], conf_mat[0][1]])\n",
        "conf_table.add_row(['ACTUAL YES', conf_mat[1][0], conf_mat[1][1]])\n",
        "print(conf_table)\n"
      ],
      "execution_count": 0,
      "outputs": [
        {
          "output_type": "display_data",
          "data": {
            "image/png": "[encoded data removed]",
            "text/plain": [
              "<Figure size 432x288 with 1 Axes>"
            ]
          },
          "metadata": {
            "tags": []
          }
        },
        {
          "output_type": "stream",
          "text": [
            "****************************************************************************************************\n",
            "\n",
            "CONFUSION MATRIX FOR TRAIN DATA:\n",
            "The maximum value of tpr*(1-fpr) is  0.47959688 for threshold: 0.5\n",
            "+------------+--------------+---------------+\n",
            "|            | PREDICTED NO | PREDICTED YES |\n",
            "+------------+--------------+---------------+\n",
            "| ACTUAL NO  |    13958     |      6042     |\n",
            "+------------+--------------+---------------+\n",
            "| ACTUAL YES |     6256     |     13744     |\n",
            "+------------+--------------+---------------+\n",
            "****************************************************************************************************\n",
            "\n",
            "CONFUSION MATRIX FOR TEST DATA:\n",
            "The maximum value of tpr*(1-fpr) is  0.4241879779610586 for threshold: 0.501\n",
            "+------------+--------------+---------------+\n",
            "|            | PREDICTED NO | PREDICTED YES |\n",
            "+------------+--------------+---------------+\n",
            "| ACTUAL NO  |     1007     |      507      |\n",
            "+------------+--------------+---------------+\n",
            "| ACTUAL YES |     3074     |      5412     |\n",
            "+------------+--------------+---------------+\n"
          ],
          "name": "stdout"
        }
      ]
    },
    {
      "cell_type": "code",
      "metadata": {
        "colab_type": "code",
        "id": "AFWA58lSXVoZ",
        "outputId": "72626992-3aff-47b3-b484-45dba6b1a1f4",
        "colab": {
          "base_uri": "https://localhost:8080/"
        }
      },
      "source": [
        "y_train_pred = rf_2.predict_proba(train_set_2x)[:,1]\n",
        "y_test_pred = rf_2.predict_proba(test_set_2x)[:,1]\n",
        "\n",
        "train_fpr, train_tpr, tr_thresholds = roc_curve(train_set_2y, y_train_pred)\n",
        "test_fpr, test_tpr, te_thresholds = roc_curve(test_set_2y, y_test_pred)\n",
        "\n",
        "tr_auc_rf2 = auc(train_fpr, train_tpr)\n",
        "te_auc_rf2 = auc(test_fpr, test_tpr)\n",
        "\n",
        "plt.plot(train_fpr, train_tpr, label=\"Train AUC =\"+str(tr_auc_rf2))\n",
        "plt.plot(test_fpr, test_tpr, label=\"Test AUC =\"+str(te_auc_rf2))\n",
        "plt.legend()\n",
        "plt.xlabel(\"False Positive Rate\")\n",
        "plt.ylabel(\"True Positive Rate\")\n",
        "plt.title(\"ROC CURVE FOR Random Forests ON TEST SET 2\")\n",
        "plt.grid()\n",
        "plt.show()\n",
        "\n",
        "print(\"*\"*100+'\\n')\n",
        "print(\"CONFUSION MATRIX FOR TRAIN DATA:\")\n",
        "best_t = find_best_threshold(tr_thresholds, train_fpr, train_tpr)\n",
        "conf_mat = confusion_matrix(train_set_2y, predict_with_best_t(y_train_pred, best_t))\n",
        "conf_table = PrettyTable()\n",
        "conf_table.hrules = ALL\n",
        "conf_table.field_names = ['', 'PREDICTED NO', 'PREDICTED YES']\n",
        "conf_table.add_row(['ACTUAL NO', conf_mat[0][0], conf_mat[0][1]])\n",
        "conf_table.add_row(['ACTUAL YES', conf_mat[1][0], conf_mat[1][1]])\n",
        "print(conf_table)\n",
        "print(\"*\"*100+'\\n')\n",
        "print(\"CONFUSION MATRIX FOR TEST DATA:\")\n",
        "best_t = find_best_threshold(te_thresholds, test_fpr, test_tpr)\n",
        "conf_mat = confusion_matrix(test_set_2y, predict_with_best_t(y_test_pred, best_t))\n",
        "conf_table = PrettyTable()\n",
        "conf_table.hrules = ALL\n",
        "conf_table.field_names = ['', 'PREDICTED NO', 'PREDICTED YES']\n",
        "conf_table.add_row(['ACTUAL NO', conf_mat[0][0], conf_mat[0][1]])\n",
        "conf_table.add_row(['ACTUAL YES', conf_mat[1][0], conf_mat[1][1]])\n",
        "print(conf_table)"
      ],
      "execution_count": 0,
      "outputs": [
        {
          "output_type": "display_data",
          "data": {
            "image/png": "[encoded data removed]",
            "text/plain": [
              "<Figure size 432x288 with 1 Axes>"
            ]
          },
          "metadata": {
            "tags": []
          }
        },
        {
          "output_type": "stream",
          "text": [
            "****************************************************************************************************\n",
            "\n",
            "CONFUSION MATRIX FOR TRAIN DATA:\n",
            "The maximum value of tpr*(1-fpr) is  0.500787705 for threshold: 0.5\n",
            "+------------+--------------+---------------+\n",
            "|            | PREDICTED NO | PREDICTED YES |\n",
            "+------------+--------------+---------------+\n",
            "| ACTUAL NO  |    14234     |      5766     |\n",
            "+------------+--------------+---------------+\n",
            "| ACTUAL YES |     5927     |     14073     |\n",
            "+------------+--------------+---------------+\n",
            "****************************************************************************************************\n",
            "\n",
            "CONFUSION MATRIX FOR TEST DATA:\n",
            "The maximum value of tpr*(1-fpr) is  0.4310686090790301 for threshold: 0.502\n",
            "+------------+--------------+---------------+\n",
            "|            | PREDICTED NO | PREDICTED YES |\n",
            "+------------+--------------+---------------+\n",
            "| ACTUAL NO  |     1035     |      479      |\n",
            "+------------+--------------+---------------+\n",
            "| ACTUAL YES |     3135     |      5351     |\n",
            "+------------+--------------+---------------+\n"
          ],
          "name": "stdout"
        }
      ]
    },
    {
      "cell_type": "code",
      "metadata": {
        "colab_type": "code",
        "id": "VGG9IHUlYSzR",
        "outputId": "1926e44f-f0ca-4bb0-8e4d-aa9f0718adde",
        "colab": {
          "base_uri": "https://localhost:8080/"
        }
      },
      "source": [
        "y_train_pred = rf_3.predict_proba(train_set_3x)[:,1]\n",
        "y_test_pred = rf_3.predict_proba(test_set_3x)[:,1]\n",
        "\n",
        "train_fpr, train_tpr, tr_thresholds = roc_curve(train_set_3y, y_train_pred)\n",
        "test_fpr, test_tpr, te_thresholds = roc_curve(test_set_3y, y_test_pred)\n",
        "\n",
        "tr_auc_rf3 = auc(train_fpr, train_tpr)\n",
        "te_auc_rf3 = auc(test_fpr, test_tpr)\n",
        "\n",
        "plt.plot(train_fpr, train_tpr, label=\"Train AUC =\"+str(tr_auc_rf3))\n",
        "plt.plot(test_fpr, test_tpr, label=\"Test AUC =\"+str(te_auc_rf3))\n",
        "plt.legend()\n",
        "plt.xlabel(\"False Positive Rate\")\n",
        "plt.ylabel(\"True Positive Rate\")\n",
        "plt.title(\"ROC CURVE FOR Random Forests ON TEST SET 3\")\n",
        "plt.grid()\n",
        "plt.show()\n",
        "\n",
        "print(\"*\"*100+'\\n')\n",
        "print(\"CONFUSION MATRIX FOR TRAIN DATA:\")\n",
        "best_t = find_best_threshold(tr_thresholds, train_fpr, train_tpr)\n",
        "conf_mat = confusion_matrix(train_set_3y, predict_with_best_t(y_train_pred, best_t))\n",
        "conf_table = PrettyTable()\n",
        "conf_table.hrules = ALL\n",
        "conf_table.field_names = ['', 'PREDICTED NO', 'PREDICTED YES']\n",
        "conf_table.add_row(['ACTUAL NO', conf_mat[0][0], conf_mat[0][1]])\n",
        "conf_table.add_row(['ACTUAL YES', conf_mat[1][0], conf_mat[1][1]])\n",
        "print(conf_table)\n",
        "print(\"*\"*100+'\\n')\n",
        "print(\"CONFUSION MATRIX FOR TEST DATA:\")\n",
        "best_t = find_best_threshold(te_thresholds, test_fpr, test_tpr)\n",
        "conf_mat = confusion_matrix(test_set_3y, predict_with_best_t(y_test_pred, best_t))\n",
        "conf_table = PrettyTable()\n",
        "conf_table.hrules = ALL\n",
        "conf_table.field_names = ['', 'PREDICTED NO', 'PREDICTED YES']\n",
        "conf_table.add_row(['ACTUAL NO', conf_mat[0][0], conf_mat[0][1]])\n",
        "conf_table.add_row(['ACTUAL YES', conf_mat[1][0], conf_mat[1][1]])\n",
        "print(conf_table)"
      ],
      "execution_count": 0,
      "outputs": [
        {
          "output_type": "display_data",
          "data": {
            "image/png": "[encoded data removed]",
            "text/plain": [
              "<Figure size 432x288 with 1 Axes>"
            ]
          },
          "metadata": {
            "tags": []
          }
        },
        {
          "output_type": "stream",
          "text": [
            "****************************************************************************************************\n",
            "\n",
            "CONFUSION MATRIX FOR TRAIN DATA:\n",
            "The maximum value of tpr*(1-fpr) is  0.48014410500000004 for threshold: 0.501\n",
            "+------------+--------------+---------------+\n",
            "|            | PREDICTED NO | PREDICTED YES |\n",
            "+------------+--------------+---------------+\n",
            "| ACTUAL NO  |    13839     |      6161     |\n",
            "+------------+--------------+---------------+\n",
            "| ACTUAL YES |     6122     |     13878     |\n",
            "+------------+--------------+---------------+\n",
            "****************************************************************************************************\n",
            "\n",
            "CONFUSION MATRIX FOR TEST DATA:\n",
            "The maximum value of tpr*(1-fpr) is  0.41374852854230965 for threshold: 0.502\n",
            "+------------+--------------+---------------+\n",
            "|            | PREDICTED NO | PREDICTED YES |\n",
            "+------------+--------------+---------------+\n",
            "| ACTUAL NO  |     963      |      551      |\n",
            "+------------+--------------+---------------+\n",
            "| ACTUAL YES |     2966     |      5520     |\n",
            "+------------+--------------+---------------+\n"
          ],
          "name": "stdout"
        }
      ]
    },
    {
      "cell_type": "code",
      "metadata": {
        "colab_type": "code",
        "id": "seFOLecPYT6Q",
        "outputId": "f5e7f4ed-b112-4bf1-f8a9-d88ccc8c939a",
        "colab": {
          "base_uri": "https://localhost:8080/"
        }
      },
      "source": [
        "y_train_pred = rf_4.predict_proba(train_set_4x)[:,1]\n",
        "y_test_pred = rf_4.predict_proba(test_set_4x)[:,1]\n",
        "\n",
        "train_fpr, train_tpr, tr_thresholds = roc_curve(train_set_4y, y_train_pred)\n",
        "test_fpr, test_tpr, te_thresholds = roc_curve(test_set_4y, y_test_pred)\n",
        "\n",
        "tr_auc_rf4 = auc(train_fpr, train_tpr)\n",
        "te_auc_rf4 = auc(test_fpr, test_tpr)\n",
        "\n",
        "plt.plot(train_fpr, train_tpr, label=\"Train AUC =\"+str(tr_auc_rf4))\n",
        "plt.plot(test_fpr, test_tpr, label=\"Test AUC =\"+str(te_auc_rf4))\n",
        "plt.legend()\n",
        "plt.xlabel(\"False Positive Rate\")\n",
        "plt.ylabel(\"True Positive Rate\")\n",
        "plt.title(\"ROC CURVE FOR Random Forests ON TEST SET 4\")\n",
        "plt.grid()\n",
        "plt.show()\n",
        "\n",
        "print(\"*\"*100+'\\n')\n",
        "print(\"CONFUSION MATRIX FOR TRAIN DATA:\")\n",
        "best_t = find_best_threshold(tr_thresholds, train_fpr, train_tpr)\n",
        "conf_mat = confusion_matrix(train_set_4y, predict_with_best_t(y_train_pred, best_t))\n",
        "conf_table = PrettyTable()\n",
        "conf_table.hrules = ALL\n",
        "conf_table.field_names = ['', 'PREDICTED NO', 'PREDICTED YES']\n",
        "conf_table.add_row(['ACTUAL NO', conf_mat[0][0], conf_mat[0][1]])\n",
        "conf_table.add_row(['ACTUAL YES', conf_mat[1][0], conf_mat[1][1]])\n",
        "print(conf_table)\n",
        "print(\"*\"*100+'\\n')\n",
        "print(\"CONFUSION MATRIX FOR TEST DATA:\")\n",
        "best_t = find_best_threshold(te_thresholds, test_fpr, test_tpr)\n",
        "conf_mat = confusion_matrix(test_set_4y, predict_with_best_t(y_test_pred, best_t))\n",
        "conf_table = PrettyTable()\n",
        "conf_table.hrules = ALL\n",
        "conf_table.field_names = ['', 'PREDICTED NO', 'PREDICTED YES']\n",
        "conf_table.add_row(['ACTUAL NO', conf_mat[0][0], conf_mat[0][1]])\n",
        "conf_table.add_row(['ACTUAL YES', conf_mat[1][0], conf_mat[1][1]])\n",
        "print(conf_table)"
      ],
      "execution_count": 0,
      "outputs": [
        {
          "output_type": "display_data",
          "data": {
            "image/png": "[encoded data removed]",
            "text/plain": [
              "<Figure size 432x288 with 1 Axes>"
            ]
          },
          "metadata": {
            "tags": []
          }
        },
        {
          "output_type": "stream",
          "text": [
            "****************************************************************************************************\n",
            "\n",
            "CONFUSION MATRIX FOR TRAIN DATA:\n",
            "The maximum value of tpr*(1-fpr) is  0.46549466000000006 for threshold: 0.494\n",
            "+------------+--------------+---------------+\n",
            "|            | PREDICTED NO | PREDICTED YES |\n",
            "+------------+--------------+---------------+\n",
            "| ACTUAL NO  |    13157     |      6843     |\n",
            "+------------+--------------+---------------+\n",
            "| ACTUAL YES |     5848     |     14152     |\n",
            "+------------+--------------+---------------+\n",
            "****************************************************************************************************\n",
            "\n",
            "CONFUSION MATRIX FOR TEST DATA:\n",
            "The maximum value of tpr*(1-fpr) is  0.4080421837070367 for threshold: 0.494\n",
            "+------------+--------------+---------------+\n",
            "|            | PREDICTED NO | PREDICTED YES |\n",
            "+------------+--------------+---------------+\n",
            "| ACTUAL NO  |     913      |      601      |\n",
            "+------------+--------------+---------------+\n",
            "| ACTUAL YES |     2744     |      5742     |\n",
            "+------------+--------------+---------------+\n"
          ],
          "name": "stdout"
        }
      ]
    },
    {
      "cell_type": "markdown",
      "metadata": {
        "colab_type": "text",
        "id": "Qs05NVA2Zh0B"
      },
      "source": [
        "## 4. Gradient Boosted Decision Trees"
      ]
    },
    {
      "cell_type": "markdown",
      "metadata": {
        "colab_type": "text",
        "id": "NcWozQ51Zh0L"
      },
      "source": [
        "### 4.1 Grid search cross-validation for hyperparameter tuning"
      ]
    },
    {
      "cell_type": "markdown",
      "metadata": {
        "colab_type": "text",
        "id": "yK1fQcDOZh0O"
      },
      "source": [
        "#### 4.1.1 For SET_1"
      ]
    },
    {
      "cell_type": "code",
      "metadata": {
        "colab_type": "code",
        "id": "SJKaMIjMZh0R",
        "outputId": "610f461b-feb0-4575-f920-0e4f8eb214ac",
        "colab": {
          "base_uri": "https://localhost:8080/",
          "height": 85
        }
      },
      "source": [
        "gdt_model = GradientBoostingClassifier()\n",
        "parameters = {'n_estimators':[50, 100, 200, 300], 'max_depth':[2, 4, 6, 8, 10]}\n",
        "clf = GridSearchCV(gdt_model, parameters, cv=3, scoring='roc_auc', return_train_score=True, verbose=2, n_jobs=10)\n",
        "clf.fit(train_set_1x, train_set_1y)\n",
        "\n",
        "results = pd.DataFrame.from_dict(clf.cv_results_)"
      ],
      "execution_count": 0,
      "outputs": [
        {
          "output_type": "stream",
          "text": [
            "Fitting 3 folds for each of 20 candidates, totalling 60 fits\n"
          ],
          "name": "stdout"
        },
        {
          "output_type": "stream",
          "text": [
            "[Parallel(n_jobs=10)]: Using backend LokyBackend with 10 concurrent workers.\n",
            "[Parallel(n_jobs=10)]: Done  21 tasks      | elapsed:  3.1min\n",
            "[Parallel(n_jobs=10)]: Done  60 out of  60 | elapsed: 23.5min finished\n"
          ],
          "name": "stderr"
        }
      ]
    },
    {
      "cell_type": "code",
      "metadata": {
        "colab_type": "code",
        "id": "KZb7U2InZh0f",
        "outputId": "f8daa37a-ca92-44ec-9e9b-dfb88d7bdb00",
        "colab": {
          "base_uri": "https://localhost:8080/",
          "height": 542
        }
      },
      "source": [
        "X = results['param_n_estimators'].values\n",
        "Y = results['param_max_depth'].values\n",
        "Z_train = results['mean_train_score'].values\n",
        "Z_test = results['mean_test_score'].values\n",
        "\n",
        "train_trace = go.Scatter3d(x=X, y=Y, z=Z_train, name='Train')\n",
        "\n",
        "cv_trace = go.Scatter3d(x=X, y=Y, z=Z_test, name='Cross Validation')\n",
        "\n",
        "data = [train_trace, cv_trace]\n",
        "\n",
        "layout = go.Layout(scene = dict(\n",
        "        xaxis = dict(title='n_estimators'),\n",
        "        yaxis = dict(title='max Depth'),\n",
        "        zaxis = dict(title='Mean AUC scores'),))\n",
        "\n",
        "fig = go.Figure(data=data, layout=layout)\n",
        "fig.show(renderer=\"colab\")"
      ],
      "execution_count": 0,
      "outputs": [
        {
          "output_type": "display_data",
          "data": {
            "text/html": [
              "<html>\n",
              "<head><meta charset=\"utf-8\" /></head>\n",
              "<body>\n",
              "    <div>\n",
              "            <script src=\"https://cdnjs.cloudflare.com/ajax/libs/mathjax/2.7.5/MathJax.js?config=TeX-AMS-MML_SVG\"></script><script type=\"text/javascript\">if (window.MathJax) {MathJax.Hub.Config({SVG: {font: \"STIX-Web\"}});}</script>\n",
              "                <script type=\"text/javascript\">window.PlotlyConfig = {MathJaxConfig: 'local'};</script>\n",
              "        <script src=\"https://cdn.plot.ly/plotly-latest.min.js\"></script>    \n",
              "            <div id=\"6007d2f9-d629-4383-ba4f-28ae7e2713b0\" class=\"plotly-graph-div\" style=\"height:525px; width:100%;\"></div>\n",
              "            <script type=\"text/javascript\">\n",
              "                \n",
              "                    window.PLOTLYENV=window.PLOTLYENV || {};\n",
              "                    \n",
              "                if (document.getElementById(\"6007d2f9-d629-4383-ba4f-28ae7e2713b0\")) {\n",
              "                    Plotly.newPlot(\n",
              "                        '6007d2f9-d629-4383-ba4f-28ae7e2713b0',\n",
              "                        [{\"name\": \"Train\", \"type\": \"scatter3d\", \"x\": [50, 100, 200, 300, 50, 100, 200, 300, 50, 100, 200, 300, 50, 100, 200, 300, 50, 100, 200, 300], \"y\": [2, 2, 2, 2, 4, 4, 4, 4, 6, 6, 6, 6, 8, 8, 8, 8, 10, 10, 10, 10], \"z\": [0.7294609136631532, 0.7559803774551783, 0.7876640399962097, 0.8087612685726708, 0.7984724055536073, 0.8392022931636415, 0.8841680670112679, 0.9119876278297173, 0.8761960795760072, 0.9170573153144831, 0.9557552853144253, 0.9731780582767943, 0.9409731033389527, 0.9687257288570063, 0.988498306496449, 0.9951691701412383, 0.9790306572609363, 0.9916045990804774, 0.9981188094039287, 0.9996404320244975]}, {\"name\": \"Cross Validation\", \"type\": \"scatter3d\", \"x\": [50, 100, 200, 300, 50, 100, 200, 300, 50, 100, 200, 300, 50, 100, 200, 300, 50, 100, 200, 300], \"y\": [2, 2, 2, 2, 4, 4, 4, 4, 6, 6, 6, 6, 8, 8, 8, 8, 10, 10, 10, 10], \"z\": [0.7197176808019411, 0.7409412104647918, 0.7635271521437429, 0.7779372004464583, 0.7668067143323753, 0.7953222260680395, 0.8259098432870885, 0.8447242370037215, 0.8176764060193705, 0.8481174530202383, 0.8796291890175968, 0.8953452005100014, 0.865522052075839, 0.8922176894991884, 0.9157728384969142, 0.9274864092483944, 0.9057767616220899, 0.9232546700128991, 0.9381291672533835, 0.9470468491798183]}],\n",
              "                        {\"scene\": {\"xaxis\": {\"title\": {\"text\": \"n_estimators\"}}, \"yaxis\": {\"title\": {\"text\": \"max Depth\"}}, \"zaxis\": {\"title\": {\"text\": \"Mean AUC scores\"}}}, \"template\": {\"data\": {\"bar\": [{\"error_x\": {\"color\": \"#2a3f5f\"}, \"error_y\": {\"color\": \"#2a3f5f\"}, \"marker\": {\"line\": {\"color\": \"#E5ECF6\", \"width\": 0.5}}, \"type\": \"bar\"}], \"barpolar\": [{\"marker\": {\"line\": {\"color\": \"#E5ECF6\", \"width\": 0.5}}, \"type\": \"barpolar\"}], \"carpet\": [{\"aaxis\": {\"endlinecolor\": \"#2a3f5f\", \"gridcolor\": \"white\", \"linecolor\": \"white\", \"minorgridcolor\": \"white\", \"startlinecolor\": \"#2a3f5f\"}, \"baxis\": {\"endlinecolor\": \"#2a3f5f\", \"gridcolor\": \"white\", \"linecolor\": \"white\", \"minorgridcolor\": \"white\", \"startlinecolor\": \"#2a3f5f\"}, \"type\": \"carpet\"}], \"choropleth\": [{\"colorbar\": {\"outlinewidth\": 0, \"ticks\": \"\"}, \"type\": \"choropleth\"}], \"contour\": [{\"colorbar\": {\"outlinewidth\": 0, \"ticks\": \"\"}, \"colorscale\": [[0.0, \"#0d0887\"], [0.1111111111111111, \"#46039f\"], [0.2222222222222222, \"#7201a8\"], [0.3333333333333333, \"#9c179e\"], [0.4444444444444444, \"#bd3786\"], [0.5555555555555556, \"#d8576b\"], [0.6666666666666666, \"#ed7953\"], [0.7777777777777778, \"#fb9f3a\"], [0.8888888888888888, \"#fdca26\"], [1.0, \"#f0f921\"]], \"type\": \"contour\"}], \"contourcarpet\": [{\"colorbar\": {\"outlinewidth\": 0, \"ticks\": \"\"}, \"type\": \"contourcarpet\"}], \"heatmap\": [{\"colorbar\": {\"outlinewidth\": 0, \"ticks\": \"\"}, \"colorscale\": [[0.0, \"#0d0887\"], [0.1111111111111111, \"#46039f\"], [0.2222222222222222, \"#7201a8\"], [0.3333333333333333, \"#9c179e\"], [0.4444444444444444, \"#bd3786\"], [0.5555555555555556, \"#d8576b\"], [0.6666666666666666, \"#ed7953\"], [0.7777777777777778, \"#fb9f3a\"], [0.8888888888888888, \"#fdca26\"], [1.0, \"#f0f921\"]], \"type\": \"heatmap\"}], \"heatmapgl\": [{\"colorbar\": {\"outlinewidth\": 0, \"ticks\": \"\"}, \"colorscale\": [[0.0, \"#0d0887\"], [0.1111111111111111, \"#46039f\"], [0.2222222222222222, \"#7201a8\"], [0.3333333333333333, \"#9c179e\"], [0.4444444444444444, \"#bd3786\"], [0.5555555555555556, \"#d8576b\"], [0.6666666666666666, \"#ed7953\"], [0.7777777777777778, \"#fb9f3a\"], [0.8888888888888888, \"#fdca26\"], [1.0, \"#f0f921\"]], \"type\": \"heatmapgl\"}], \"histogram\": [{\"marker\": {\"colorbar\": {\"outlinewidth\": 0, \"ticks\": \"\"}}, \"type\": \"histogram\"}], \"histogram2d\": [{\"colorbar\": {\"outlinewidth\": 0, \"ticks\": \"\"}, \"colorscale\": [[0.0, \"#0d0887\"], [0.1111111111111111, \"#46039f\"], [0.2222222222222222, \"#7201a8\"], [0.3333333333333333, \"#9c179e\"], [0.4444444444444444, \"#bd3786\"], [0.5555555555555556, \"#d8576b\"], [0.6666666666666666, \"#ed7953\"], [0.7777777777777778, \"#fb9f3a\"], [0.8888888888888888, \"#fdca26\"], [1.0, \"#f0f921\"]], \"type\": \"histogram2d\"}], \"histogram2dcontour\": [{\"colorbar\": {\"outlinewidth\": 0, \"ticks\": \"\"}, \"colorscale\": [[0.0, \"#0d0887\"], [0.1111111111111111, \"#46039f\"], [0.2222222222222222, \"#7201a8\"], [0.3333333333333333, \"#9c179e\"], [0.4444444444444444, \"#bd3786\"], [0.5555555555555556, \"#d8576b\"], [0.6666666666666666, \"#ed7953\"], [0.7777777777777778, \"#fb9f3a\"], [0.8888888888888888, \"#fdca26\"], [1.0, \"#f0f921\"]], \"type\": \"histogram2dcontour\"}], \"mesh3d\": [{\"colorbar\": {\"outlinewidth\": 0, \"ticks\": \"\"}, \"type\": \"mesh3d\"}], \"parcoords\": [{\"line\": {\"colorbar\": {\"outlinewidth\": 0, \"ticks\": \"\"}}, \"type\": \"parcoords\"}], \"scatter\": [{\"marker\": {\"colorbar\": {\"outlinewidth\": 0, \"ticks\": \"\"}}, \"type\": \"scatter\"}], \"scatter3d\": [{\"line\": {\"colorbar\": {\"outlinewidth\": 0, \"ticks\": \"\"}}, \"marker\": {\"colorbar\": {\"outlinewidth\": 0, \"ticks\": \"\"}}, \"type\": \"scatter3d\"}], \"scattercarpet\": [{\"marker\": {\"colorbar\": {\"outlinewidth\": 0, \"ticks\": \"\"}}, \"type\": \"scattercarpet\"}], \"scattergeo\": [{\"marker\": {\"colorbar\": {\"outlinewidth\": 0, \"ticks\": \"\"}}, \"type\": \"scattergeo\"}], \"scattergl\": [{\"marker\": {\"colorbar\": {\"outlinewidth\": 0, \"ticks\": \"\"}}, \"type\": \"scattergl\"}], \"scattermapbox\": [{\"marker\": {\"colorbar\": {\"outlinewidth\": 0, \"ticks\": \"\"}}, \"type\": \"scattermapbox\"}], \"scatterpolar\": [{\"marker\": {\"colorbar\": {\"outlinewidth\": 0, \"ticks\": \"\"}}, \"type\": \"scatterpolar\"}], \"scatterpolargl\": [{\"marker\": {\"colorbar\": {\"outlinewidth\": 0, \"ticks\": \"\"}}, \"type\": \"scatterpolargl\"}], \"scatterternary\": [{\"marker\": {\"colorbar\": {\"outlinewidth\": 0, \"ticks\": \"\"}}, \"type\": \"scatterternary\"}], \"surface\": [{\"colorbar\": {\"outlinewidth\": 0, \"ticks\": \"\"}, \"colorscale\": [[0.0, \"#0d0887\"], [0.1111111111111111, \"#46039f\"], [0.2222222222222222, \"#7201a8\"], [0.3333333333333333, \"#9c179e\"], [0.4444444444444444, \"#bd3786\"], [0.5555555555555556, \"#d8576b\"], [0.6666666666666666, \"#ed7953\"], [0.7777777777777778, \"#fb9f3a\"], [0.8888888888888888, \"#fdca26\"], [1.0, \"#f0f921\"]], \"type\": \"surface\"}], \"table\": [{\"cells\": {\"fill\": {\"color\": \"#EBF0F8\"}, \"line\": {\"color\": \"white\"}}, \"header\": {\"fill\": {\"color\": \"#C8D4E3\"}, \"line\": {\"color\": \"white\"}}, \"type\": \"table\"}]}, \"layout\": {\"annotationdefaults\": {\"arrowcolor\": \"#2a3f5f\", \"arrowhead\": 0, \"arrowwidth\": 1}, \"colorscale\": {\"diverging\": [[0, \"#8e0152\"], [0.1, \"#c51b7d\"], [0.2, \"#de77ae\"], [0.3, \"#f1b6da\"], [0.4, \"#fde0ef\"], [0.5, \"#f7f7f7\"], [0.6, \"#e6f5d0\"], [0.7, \"#b8e186\"], [0.8, \"#7fbc41\"], [0.9, \"#4d9221\"], [1, \"#276419\"]], \"sequential\": [[0.0, \"#0d0887\"], [0.1111111111111111, \"#46039f\"], [0.2222222222222222, \"#7201a8\"], [0.3333333333333333, \"#9c179e\"], [0.4444444444444444, \"#bd3786\"], [0.5555555555555556, \"#d8576b\"], [0.6666666666666666, \"#ed7953\"], [0.7777777777777778, \"#fb9f3a\"], [0.8888888888888888, \"#fdca26\"], [1.0, \"#f0f921\"]], \"sequentialminus\": [[0.0, \"#0d0887\"], [0.1111111111111111, \"#46039f\"], [0.2222222222222222, \"#7201a8\"], [0.3333333333333333, \"#9c179e\"], [0.4444444444444444, \"#bd3786\"], [0.5555555555555556, \"#d8576b\"], [0.6666666666666666, \"#ed7953\"], [0.7777777777777778, \"#fb9f3a\"], [0.8888888888888888, \"#fdca26\"], [1.0, \"#f0f921\"]]}, \"colorway\": [\"#636efa\", \"#EF553B\", \"#00cc96\", \"#ab63fa\", \"#FFA15A\", \"#19d3f3\", \"#FF6692\", \"#B6E880\", \"#FF97FF\", \"#FECB52\"], \"font\": {\"color\": \"#2a3f5f\"}, \"geo\": {\"bgcolor\": \"white\", \"lakecolor\": \"white\", \"landcolor\": \"#E5ECF6\", \"showlakes\": true, \"showland\": true, \"subunitcolor\": \"white\"}, \"hoverlabel\": {\"align\": \"left\"}, \"hovermode\": \"closest\", \"mapbox\": {\"style\": \"light\"}, \"paper_bgcolor\": \"white\", \"plot_bgcolor\": \"#E5ECF6\", \"polar\": {\"angularaxis\": {\"gridcolor\": \"white\", \"linecolor\": \"white\", \"ticks\": \"\"}, \"bgcolor\": \"#E5ECF6\", \"radialaxis\": {\"gridcolor\": \"white\", \"linecolor\": \"white\", \"ticks\": \"\"}}, \"scene\": {\"xaxis\": {\"backgroundcolor\": \"#E5ECF6\", \"gridcolor\": \"white\", \"gridwidth\": 2, \"linecolor\": \"white\", \"showbackground\": true, \"ticks\": \"\", \"zerolinecolor\": \"white\"}, \"yaxis\": {\"backgroundcolor\": \"#E5ECF6\", \"gridcolor\": \"white\", \"gridwidth\": 2, \"linecolor\": \"white\", \"showbackground\": true, \"ticks\": \"\", \"zerolinecolor\": \"white\"}, \"zaxis\": {\"backgroundcolor\": \"#E5ECF6\", \"gridcolor\": \"white\", \"gridwidth\": 2, \"linecolor\": \"white\", \"showbackground\": true, \"ticks\": \"\", \"zerolinecolor\": \"white\"}}, \"shapedefaults\": {\"line\": {\"color\": \"#2a3f5f\"}}, \"ternary\": {\"aaxis\": {\"gridcolor\": \"white\", \"linecolor\": \"white\", \"ticks\": \"\"}, \"baxis\": {\"gridcolor\": \"white\", \"linecolor\": \"white\", \"ticks\": \"\"}, \"bgcolor\": \"#E5ECF6\", \"caxis\": {\"gridcolor\": \"white\", \"linecolor\": \"white\", \"ticks\": \"\"}}, \"title\": {\"x\": 0.05}, \"xaxis\": {\"automargin\": true, \"gridcolor\": \"white\", \"linecolor\": \"white\", \"ticks\": \"\", \"zerolinecolor\": \"white\", \"zerolinewidth\": 2}, \"yaxis\": {\"automargin\": true, \"gridcolor\": \"white\", \"linecolor\": \"white\", \"ticks\": \"\", \"zerolinecolor\": \"white\", \"zerolinewidth\": 2}}}},\n",
              "                        {\"responsive\": true}\n",
              "                    ).then(function(){\n",
              "                            \n",
              "var gd = document.getElementById('6007d2f9-d629-4383-ba4f-28ae7e2713b0');\n",
              "var x = new MutationObserver(function (mutations, observer) {{\n",
              "        var display = window.getComputedStyle(gd).display;\n",
              "        if (!display || display === 'none') {{\n",
              "            console.log([gd, 'removed!']);\n",
              "            Plotly.purge(gd);\n",
              "            observer.disconnect();\n",
              "        }}\n",
              "}});\n",
              "\n",
              "// Listen for the removal of the full notebook cells\n",
              "var notebookContainer = gd.closest('#notebook-container');\n",
              "if (notebookContainer) {{\n",
              "    x.observe(notebookContainer, {childList: true});\n",
              "}}\n",
              "\n",
              "// Listen for the clearing of the current output cell\n",
              "var outputEl = gd.closest('.output');\n",
              "if (outputEl) {{\n",
              "    x.observe(outputEl, {childList: true});\n",
              "}}\n",
              "\n",
              "                        })\n",
              "                };\n",
              "                \n",
              "            </script>\n",
              "        </div>\n",
              "</body>\n",
              "</html>"
            ]
          },
          "metadata": {
            "tags": []
          }
        }
      ]
    },
    {
      "cell_type": "code",
      "metadata": {
        "colab_type": "code",
        "id": "kaq5hf_CZh0t",
        "outputId": "886d5455-3110-49b1-9157-9be43da04094",
        "colab": {
          "base_uri": "https://localhost:8080/",
          "height": 323
        }
      },
      "source": [
        "test_table = Z_test.reshape((5, 4))\n",
        "train_table = Z_train.reshape((5, 4))\n",
        "hyp_table = PrettyTable()\n",
        "hyp_table.field_names = ['Max Depth \\ N_estimators', '50', '100', '200', '300']\n",
        "row_names = ['2', '4', '6', '8', '10']\n",
        "\n",
        "i=0\n",
        "for s in row_names:\n",
        "  hyp_table.add_row([s, \"Train AUC: \"+str(np.round(train_table[i][0], 4))+\"\\nTest AUC: \"+str(np.round(test_table[i][0], 4)),\n",
        "                        \"Train AUC: \"+str(np.round(train_table[i][1], 4))+\"\\nTest AUC: \"+str(np.round(test_table[i][1], 4)),\n",
        "                        \"Train AUC: \"+str(np.round(train_table[i][2], 4))+\"\\nTest AUC: \"+str(np.round(test_table[i][2], 4)),\n",
        "                        \"Train AUC: \"+str(np.round(train_table[i][3], 4))+\"\\nTest AUC: \"+str(np.round(test_table[i][3], 4))])\n",
        "  i += 1\n",
        "  \n",
        "hyp_table.hrules = ALL\n",
        "  \n",
        "print(hyp_table)"
      ],
      "execution_count": 0,
      "outputs": [
        {
          "output_type": "stream",
          "text": [
            "+--------------------------+-------------------+-------------------+-------------------+-------------------+\n",
            "| Max Depth \\ N_estimators |         50        |        100        |        200        |        300        |\n",
            "+--------------------------+-------------------+-------------------+-------------------+-------------------+\n",
            "|            2             | Train AUC: 0.7295 |  Train AUC: 0.756 | Train AUC: 0.7877 | Train AUC: 0.8088 |\n",
            "|                          |  Test AUC: 0.7197 |  Test AUC: 0.7409 |  Test AUC: 0.7635 |  Test AUC: 0.7779 |\n",
            "+--------------------------+-------------------+-------------------+-------------------+-------------------+\n",
            "|            4             | Train AUC: 0.7985 | Train AUC: 0.8392 | Train AUC: 0.8842 |  Train AUC: 0.912 |\n",
            "|                          |  Test AUC: 0.7668 |  Test AUC: 0.7953 |  Test AUC: 0.8259 |  Test AUC: 0.8447 |\n",
            "+--------------------------+-------------------+-------------------+-------------------+-------------------+\n",
            "|            6             | Train AUC: 0.8762 | Train AUC: 0.9171 | Train AUC: 0.9558 | Train AUC: 0.9732 |\n",
            "|                          |  Test AUC: 0.8177 |  Test AUC: 0.8481 |  Test AUC: 0.8796 |  Test AUC: 0.8953 |\n",
            "+--------------------------+-------------------+-------------------+-------------------+-------------------+\n",
            "|            8             |  Train AUC: 0.941 | Train AUC: 0.9687 | Train AUC: 0.9885 | Train AUC: 0.9952 |\n",
            "|                          |  Test AUC: 0.8655 |  Test AUC: 0.8922 |  Test AUC: 0.9158 |  Test AUC: 0.9275 |\n",
            "+--------------------------+-------------------+-------------------+-------------------+-------------------+\n",
            "|            10            |  Train AUC: 0.979 | Train AUC: 0.9916 | Train AUC: 0.9981 | Train AUC: 0.9996 |\n",
            "|                          |  Test AUC: 0.9058 |  Test AUC: 0.9233 |  Test AUC: 0.9381 |  Test AUC: 0.947  |\n",
            "+--------------------------+-------------------+-------------------+-------------------+-------------------+\n"
          ],
          "name": "stdout"
        }
      ]
    },
    {
      "cell_type": "markdown",
      "metadata": {
        "colab_type": "text",
        "id": "kNfhuOOjZh01"
      },
      "source": [
        "We observe that for SET_1, **Depth = 4, Number of estimators = 50** gives a good AUC on test data (about 77%) without too much overfitting."
      ]
    },
    {
      "cell_type": "code",
      "metadata": {
        "colab_type": "code",
        "id": "JBcSyKtzZh04",
        "colab": {}
      },
      "source": [
        "gdt_D_1 = 4\n",
        "gdt_N_1 = 50"
      ],
      "execution_count": 0,
      "outputs": []
    },
    {
      "cell_type": "markdown",
      "metadata": {
        "colab_type": "text",
        "id": "TmNymSyhZh1A"
      },
      "source": [
        "#### 4.1.2 For SET_2"
      ]
    },
    {
      "cell_type": "code",
      "metadata": {
        "colab_type": "code",
        "id": "YUk99xodZh1D",
        "outputId": "0bc49bb6-85e4-4110-ace7-d623bb8ed33d",
        "colab": {
          "base_uri": "https://localhost:8080/",
          "height": 102
        }
      },
      "source": [
        "gdt_model = GradientBoostingClassifier()\n",
        "parameters = {'n_estimators':[50, 100, 200, 300], 'max_depth':[2, 4, 6, 8, 10]}\n",
        "clf = GridSearchCV(gdt_model, parameters, cv=3, scoring='roc_auc', return_train_score=True, verbose=2, n_jobs=20)\n",
        "clf.fit(train_set_2x, train_set_2y)\n",
        "\n",
        "results = pd.DataFrame.from_dict(clf.cv_results_)"
      ],
      "execution_count": 0,
      "outputs": [
        {
          "output_type": "stream",
          "text": [
            "Fitting 3 folds for each of 20 candidates, totalling 60 fits\n"
          ],
          "name": "stdout"
        },
        {
          "output_type": "stream",
          "text": [
            "[Parallel(n_jobs=20)]: Using backend LokyBackend with 20 concurrent workers.\n",
            "[Parallel(n_jobs=20)]: Done   1 tasks      | elapsed:   48.8s\n",
            "[Parallel(n_jobs=20)]: Done  52 out of  60 | elapsed: 25.9min remaining:  4.0min\n",
            "[Parallel(n_jobs=20)]: Done  60 out of  60 | elapsed: 37.9min finished\n"
          ],
          "name": "stderr"
        }
      ]
    },
    {
      "cell_type": "code",
      "metadata": {
        "colab_type": "code",
        "id": "hFyTv-9oZh1R",
        "outputId": "b6cc79a3-6035-428d-ef4e-42d0245048e7",
        "colab": {
          "base_uri": "https://localhost:8080/",
          "height": 542
        }
      },
      "source": [
        "X = results['param_n_estimators'].values\n",
        "Y = results['param_max_depth'].values\n",
        "Z_train = results['mean_train_score'].values\n",
        "Z_test = results['mean_test_score'].values\n",
        "\n",
        "train_trace = go.Scatter3d(x=X, y=Y, z=Z_train, name='Train')\n",
        "\n",
        "cv_trace = go.Scatter3d(x=X, y=Y, z=Z_test, name='Cross Validation')\n",
        "\n",
        "data = [train_trace, cv_trace]\n",
        "\n",
        "layout = go.Layout(scene = dict(\n",
        "        xaxis = dict(title='n_estimators'),\n",
        "        yaxis = dict(title='max Depth'),\n",
        "        zaxis = dict(title='Mean AUC scores'),))\n",
        "\n",
        "fig = go.Figure(data=data, layout=layout)\n",
        "fig.show(renderer=\"colab\")"
      ],
      "execution_count": 0,
      "outputs": [
        {
          "output_type": "display_data",
          "data": {
            "text/html": [
              "<html>\n",
              "<head><meta charset=\"utf-8\" /></head>\n",
              "<body>\n",
              "    <div>\n",
              "            <script src=\"https://cdnjs.cloudflare.com/ajax/libs/mathjax/2.7.5/MathJax.js?config=TeX-AMS-MML_SVG\"></script><script type=\"text/javascript\">if (window.MathJax) {MathJax.Hub.Config({SVG: {font: \"STIX-Web\"}});}</script>\n",
              "                <script type=\"text/javascript\">window.PlotlyConfig = {MathJaxConfig: 'local'};</script>\n",
              "        <script src=\"https://cdn.plot.ly/plotly-latest.min.js\"></script>    \n",
              "            <div id=\"306300cf-596f-49f0-8143-574492dd210d\" class=\"plotly-graph-div\" style=\"height:525px; width:100%;\"></div>\n",
              "            <script type=\"text/javascript\">\n",
              "                \n",
              "                    window.PLOTLYENV=window.PLOTLYENV || {};\n",
              "                    \n",
              "                if (document.getElementById(\"306300cf-596f-49f0-8143-574492dd210d\")) {\n",
              "                    Plotly.newPlot(\n",
              "                        '306300cf-596f-49f0-8143-574492dd210d',\n",
              "                        [{\"name\": \"Train\", \"type\": \"scatter3d\", \"x\": [50, 100, 200, 300, 50, 100, 200, 300, 50, 100, 200, 300, 50, 100, 200, 300, 50, 100, 200, 300], \"y\": [2, 2, 2, 2, 4, 4, 4, 4, 6, 6, 6, 6, 8, 8, 8, 8, 10, 10, 10, 10], \"z\": [0.7351083869126901, 0.7634285696408241, 0.7986527043108064, 0.8232622974714155, 0.8086930791516513, 0.8540630205772555, 0.9050142140240728, 0.9354663910509391, 0.8903927340496397, 0.9329352087096286, 0.9717222314262052, 0.9872418819870278, 0.9550186132601346, 0.9799524030809325, 0.9954855819720048, 0.9990152037171832, 0.9863874895871793, 0.9966371437185623, 0.999688003713183, 0.9999878779947408]}, {\"name\": \"Cross Validation\", \"type\": \"scatter3d\", \"x\": [50, 100, 200, 300, 50, 100, 200, 300, 50, 100, 200, 300, 50, 100, 200, 300, 50, 100, 200, 300], \"y\": [2, 2, 2, 2, 4, 4, 4, 4, 6, 6, 6, 6, 8, 8, 8, 8, 10, 10, 10, 10], \"z\": [0.7232104939791265, 0.7451392725008215, 0.7689988611021744, 0.7848616661156141, 0.7723838990864363, 0.8032725406078931, 0.8371069434860842, 0.8587343102703102, 0.825248368975003, 0.8584743580001468, 0.8921058759910789, 0.9104140674514428, 0.8776097935607271, 0.903783777980318, 0.9279929225703433, 0.9410994371084777, 0.9129460668865748, 0.9334394105857263, 0.9492864790063827, 0.9567245466304543]}],\n",
              "                        {\"scene\": {\"xaxis\": {\"title\": {\"text\": \"n_estimators\"}}, \"yaxis\": {\"title\": {\"text\": \"max Depth\"}}, \"zaxis\": {\"title\": {\"text\": \"Mean AUC scores\"}}}, \"template\": {\"data\": {\"bar\": [{\"error_x\": {\"color\": \"#2a3f5f\"}, \"error_y\": {\"color\": \"#2a3f5f\"}, \"marker\": {\"line\": {\"color\": \"#E5ECF6\", \"width\": 0.5}}, \"type\": \"bar\"}], \"barpolar\": [{\"marker\": {\"line\": {\"color\": \"#E5ECF6\", \"width\": 0.5}}, \"type\": \"barpolar\"}], \"carpet\": [{\"aaxis\": {\"endlinecolor\": \"#2a3f5f\", \"gridcolor\": \"white\", \"linecolor\": \"white\", \"minorgridcolor\": \"white\", \"startlinecolor\": \"#2a3f5f\"}, \"baxis\": {\"endlinecolor\": \"#2a3f5f\", \"gridcolor\": \"white\", \"linecolor\": \"white\", \"minorgridcolor\": \"white\", \"startlinecolor\": \"#2a3f5f\"}, \"type\": \"carpet\"}], \"choropleth\": [{\"colorbar\": {\"outlinewidth\": 0, \"ticks\": \"\"}, \"type\": \"choropleth\"}], \"contour\": [{\"colorbar\": {\"outlinewidth\": 0, \"ticks\": \"\"}, \"colorscale\": [[0.0, \"#0d0887\"], [0.1111111111111111, \"#46039f\"], [0.2222222222222222, \"#7201a8\"], [0.3333333333333333, \"#9c179e\"], [0.4444444444444444, \"#bd3786\"], [0.5555555555555556, \"#d8576b\"], [0.6666666666666666, \"#ed7953\"], [0.7777777777777778, \"#fb9f3a\"], [0.8888888888888888, \"#fdca26\"], [1.0, \"#f0f921\"]], \"type\": \"contour\"}], \"contourcarpet\": [{\"colorbar\": {\"outlinewidth\": 0, \"ticks\": \"\"}, \"type\": \"contourcarpet\"}], \"heatmap\": [{\"colorbar\": {\"outlinewidth\": 0, \"ticks\": \"\"}, \"colorscale\": [[0.0, \"#0d0887\"], [0.1111111111111111, \"#46039f\"], [0.2222222222222222, \"#7201a8\"], [0.3333333333333333, \"#9c179e\"], [0.4444444444444444, \"#bd3786\"], [0.5555555555555556, \"#d8576b\"], [0.6666666666666666, \"#ed7953\"], [0.7777777777777778, \"#fb9f3a\"], [0.8888888888888888, \"#fdca26\"], [1.0, \"#f0f921\"]], \"type\": \"heatmap\"}], \"heatmapgl\": [{\"colorbar\": {\"outlinewidth\": 0, \"ticks\": \"\"}, \"colorscale\": [[0.0, \"#0d0887\"], [0.1111111111111111, \"#46039f\"], [0.2222222222222222, \"#7201a8\"], [0.3333333333333333, \"#9c179e\"], [0.4444444444444444, \"#bd3786\"], [0.5555555555555556, \"#d8576b\"], [0.6666666666666666, \"#ed7953\"], [0.7777777777777778, \"#fb9f3a\"], [0.8888888888888888, \"#fdca26\"], [1.0, \"#f0f921\"]], \"type\": \"heatmapgl\"}], \"histogram\": [{\"marker\": {\"colorbar\": {\"outlinewidth\": 0, \"ticks\": \"\"}}, \"type\": \"histogram\"}], \"histogram2d\": [{\"colorbar\": {\"outlinewidth\": 0, \"ticks\": \"\"}, \"colorscale\": [[0.0, \"#0d0887\"], [0.1111111111111111, \"#46039f\"], [0.2222222222222222, \"#7201a8\"], [0.3333333333333333, \"#9c179e\"], [0.4444444444444444, \"#bd3786\"], [0.5555555555555556, \"#d8576b\"], [0.6666666666666666, \"#ed7953\"], [0.7777777777777778, \"#fb9f3a\"], [0.8888888888888888, \"#fdca26\"], [1.0, \"#f0f921\"]], \"type\": \"histogram2d\"}], \"histogram2dcontour\": [{\"colorbar\": {\"outlinewidth\": 0, \"ticks\": \"\"}, \"colorscale\": [[0.0, \"#0d0887\"], [0.1111111111111111, \"#46039f\"], [0.2222222222222222, \"#7201a8\"], [0.3333333333333333, \"#9c179e\"], [0.4444444444444444, \"#bd3786\"], [0.5555555555555556, \"#d8576b\"], [0.6666666666666666, \"#ed7953\"], [0.7777777777777778, \"#fb9f3a\"], [0.8888888888888888, \"#fdca26\"], [1.0, \"#f0f921\"]], \"type\": \"histogram2dcontour\"}], \"mesh3d\": [{\"colorbar\": {\"outlinewidth\": 0, \"ticks\": \"\"}, \"type\": \"mesh3d\"}], \"parcoords\": [{\"line\": {\"colorbar\": {\"outlinewidth\": 0, \"ticks\": \"\"}}, \"type\": \"parcoords\"}], \"scatter\": [{\"marker\": {\"colorbar\": {\"outlinewidth\": 0, \"ticks\": \"\"}}, \"type\": \"scatter\"}], \"scatter3d\": [{\"line\": {\"colorbar\": {\"outlinewidth\": 0, \"ticks\": \"\"}}, \"marker\": {\"colorbar\": {\"outlinewidth\": 0, \"ticks\": \"\"}}, \"type\": \"scatter3d\"}], \"scattercarpet\": [{\"marker\": {\"colorbar\": {\"outlinewidth\": 0, \"ticks\": \"\"}}, \"type\": \"scattercarpet\"}], \"scattergeo\": [{\"marker\": {\"colorbar\": {\"outlinewidth\": 0, \"ticks\": \"\"}}, \"type\": \"scattergeo\"}], \"scattergl\": [{\"marker\": {\"colorbar\": {\"outlinewidth\": 0, \"ticks\": \"\"}}, \"type\": \"scattergl\"}], \"scattermapbox\": [{\"marker\": {\"colorbar\": {\"outlinewidth\": 0, \"ticks\": \"\"}}, \"type\": \"scattermapbox\"}], \"scatterpolar\": [{\"marker\": {\"colorbar\": {\"outlinewidth\": 0, \"ticks\": \"\"}}, \"type\": \"scatterpolar\"}], \"scatterpolargl\": [{\"marker\": {\"colorbar\": {\"outlinewidth\": 0, \"ticks\": \"\"}}, \"type\": \"scatterpolargl\"}], \"scatterternary\": [{\"marker\": {\"colorbar\": {\"outlinewidth\": 0, \"ticks\": \"\"}}, \"type\": \"scatterternary\"}], \"surface\": [{\"colorbar\": {\"outlinewidth\": 0, \"ticks\": \"\"}, \"colorscale\": [[0.0, \"#0d0887\"], [0.1111111111111111, \"#46039f\"], [0.2222222222222222, \"#7201a8\"], [0.3333333333333333, \"#9c179e\"], [0.4444444444444444, \"#bd3786\"], [0.5555555555555556, \"#d8576b\"], [0.6666666666666666, \"#ed7953\"], [0.7777777777777778, \"#fb9f3a\"], [0.8888888888888888, \"#fdca26\"], [1.0, \"#f0f921\"]], \"type\": \"surface\"}], \"table\": [{\"cells\": {\"fill\": {\"color\": \"#EBF0F8\"}, \"line\": {\"color\": \"white\"}}, \"header\": {\"fill\": {\"color\": \"#C8D4E3\"}, \"line\": {\"color\": \"white\"}}, \"type\": \"table\"}]}, \"layout\": {\"annotationdefaults\": {\"arrowcolor\": \"#2a3f5f\", \"arrowhead\": 0, \"arrowwidth\": 1}, \"colorscale\": {\"diverging\": [[0, \"#8e0152\"], [0.1, \"#c51b7d\"], [0.2, \"#de77ae\"], [0.3, \"#f1b6da\"], [0.4, \"#fde0ef\"], [0.5, \"#f7f7f7\"], [0.6, \"#e6f5d0\"], [0.7, \"#b8e186\"], [0.8, \"#7fbc41\"], [0.9, \"#4d9221\"], [1, \"#276419\"]], \"sequential\": [[0.0, \"#0d0887\"], [0.1111111111111111, \"#46039f\"], [0.2222222222222222, \"#7201a8\"], [0.3333333333333333, \"#9c179e\"], [0.4444444444444444, \"#bd3786\"], [0.5555555555555556, \"#d8576b\"], [0.6666666666666666, \"#ed7953\"], [0.7777777777777778, \"#fb9f3a\"], [0.8888888888888888, \"#fdca26\"], [1.0, \"#f0f921\"]], \"sequentialminus\": [[0.0, \"#0d0887\"], [0.1111111111111111, \"#46039f\"], [0.2222222222222222, \"#7201a8\"], [0.3333333333333333, \"#9c179e\"], [0.4444444444444444, \"#bd3786\"], [0.5555555555555556, \"#d8576b\"], [0.6666666666666666, \"#ed7953\"], [0.7777777777777778, \"#fb9f3a\"], [0.8888888888888888, \"#fdca26\"], [1.0, \"#f0f921\"]]}, \"colorway\": [\"#636efa\", \"#EF553B\", \"#00cc96\", \"#ab63fa\", \"#FFA15A\", \"#19d3f3\", \"#FF6692\", \"#B6E880\", \"#FF97FF\", \"#FECB52\"], \"font\": {\"color\": \"#2a3f5f\"}, \"geo\": {\"bgcolor\": \"white\", \"lakecolor\": \"white\", \"landcolor\": \"#E5ECF6\", \"showlakes\": true, \"showland\": true, \"subunitcolor\": \"white\"}, \"hoverlabel\": {\"align\": \"left\"}, \"hovermode\": \"closest\", \"mapbox\": {\"style\": \"light\"}, \"paper_bgcolor\": \"white\", \"plot_bgcolor\": \"#E5ECF6\", \"polar\": {\"angularaxis\": {\"gridcolor\": \"white\", \"linecolor\": \"white\", \"ticks\": \"\"}, \"bgcolor\": \"#E5ECF6\", \"radialaxis\": {\"gridcolor\": \"white\", \"linecolor\": \"white\", \"ticks\": \"\"}}, \"scene\": {\"xaxis\": {\"backgroundcolor\": \"#E5ECF6\", \"gridcolor\": \"white\", \"gridwidth\": 2, \"linecolor\": \"white\", \"showbackground\": true, \"ticks\": \"\", \"zerolinecolor\": \"white\"}, \"yaxis\": {\"backgroundcolor\": \"#E5ECF6\", \"gridcolor\": \"white\", \"gridwidth\": 2, \"linecolor\": \"white\", \"showbackground\": true, \"ticks\": \"\", \"zerolinecolor\": \"white\"}, \"zaxis\": {\"backgroundcolor\": \"#E5ECF6\", \"gridcolor\": \"white\", \"gridwidth\": 2, \"linecolor\": \"white\", \"showbackground\": true, \"ticks\": \"\", \"zerolinecolor\": \"white\"}}, \"shapedefaults\": {\"line\": {\"color\": \"#2a3f5f\"}}, \"ternary\": {\"aaxis\": {\"gridcolor\": \"white\", \"linecolor\": \"white\", \"ticks\": \"\"}, \"baxis\": {\"gridcolor\": \"white\", \"linecolor\": \"white\", \"ticks\": \"\"}, \"bgcolor\": \"#E5ECF6\", \"caxis\": {\"gridcolor\": \"white\", \"linecolor\": \"white\", \"ticks\": \"\"}}, \"title\": {\"x\": 0.05}, \"xaxis\": {\"automargin\": true, \"gridcolor\": \"white\", \"linecolor\": \"white\", \"ticks\": \"\", \"zerolinecolor\": \"white\", \"zerolinewidth\": 2}, \"yaxis\": {\"automargin\": true, \"gridcolor\": \"white\", \"linecolor\": \"white\", \"ticks\": \"\", \"zerolinecolor\": \"white\", \"zerolinewidth\": 2}}}},\n",
              "                        {\"responsive\": true}\n",
              "                    ).then(function(){\n",
              "                            \n",
              "var gd = document.getElementById('306300cf-596f-49f0-8143-574492dd210d');\n",
              "var x = new MutationObserver(function (mutations, observer) {{\n",
              "        var display = window.getComputedStyle(gd).display;\n",
              "        if (!display || display === 'none') {{\n",
              "            console.log([gd, 'removed!']);\n",
              "            Plotly.purge(gd);\n",
              "            observer.disconnect();\n",
              "        }}\n",
              "}});\n",
              "\n",
              "// Listen for the removal of the full notebook cells\n",
              "var notebookContainer = gd.closest('#notebook-container');\n",
              "if (notebookContainer) {{\n",
              "    x.observe(notebookContainer, {childList: true});\n",
              "}}\n",
              "\n",
              "// Listen for the clearing of the current output cell\n",
              "var outputEl = gd.closest('.output');\n",
              "if (outputEl) {{\n",
              "    x.observe(outputEl, {childList: true});\n",
              "}}\n",
              "\n",
              "                        })\n",
              "                };\n",
              "                \n",
              "            </script>\n",
              "        </div>\n",
              "</body>\n",
              "</html>"
            ]
          },
          "metadata": {
            "tags": []
          }
        }
      ]
    },
    {
      "cell_type": "code",
      "metadata": {
        "colab_type": "code",
        "id": "dvY08ZixZh1k",
        "outputId": "5abe8726-2aee-40ef-c591-c90b8ffb5004",
        "colab": {
          "base_uri": "https://localhost:8080/",
          "height": 323
        }
      },
      "source": [
        "test_table = Z_test.reshape((5,4))\n",
        "train_table = Z_train.reshape((5,4))\n",
        "hyp_table = PrettyTable()\n",
        "hyp_table.field_names = ['Max Depth \\ N_estimators', '50', '100', '200', '300']\n",
        "row_names = ['2', '4', '6', '8', '10']\n",
        "\n",
        "i=0\n",
        "for s in row_names:\n",
        "  hyp_table.add_row([s, \"Train AUC: \"+str(np.round(train_table[i][0], 4))+\"\\nTest AUC: \"+str(np.round(test_table[i][0], 4)),\n",
        "                        \"Train AUC: \"+str(np.round(train_table[i][1], 4))+\"\\nTest AUC: \"+str(np.round(test_table[i][1], 4)),\n",
        "                        \"Train AUC: \"+str(np.round(train_table[i][2], 4))+\"\\nTest AUC: \"+str(np.round(test_table[i][2], 4)),\n",
        "                        \"Train AUC: \"+str(np.round(train_table[i][3], 4))+\"\\nTest AUC: \"+str(np.round(test_table[i][3], 4))])\n",
        "  i += 1\n",
        "  \n",
        "hyp_table.hrules = ALL\n",
        "  \n",
        "print(hyp_table)"
      ],
      "execution_count": 0,
      "outputs": [
        {
          "output_type": "stream",
          "text": [
            "+--------------------------+-------------------+-------------------+-------------------+-------------------+\n",
            "| Max Depth \\ N_estimators |         50        |        100        |        200        |        300        |\n",
            "+--------------------------+-------------------+-------------------+-------------------+-------------------+\n",
            "|            2             | Train AUC: 0.7351 | Train AUC: 0.7634 | Train AUC: 0.7987 | Train AUC: 0.8233 |\n",
            "|                          |  Test AUC: 0.7232 |  Test AUC: 0.7451 |  Test AUC: 0.769  |  Test AUC: 0.7849 |\n",
            "+--------------------------+-------------------+-------------------+-------------------+-------------------+\n",
            "|            4             | Train AUC: 0.8087 | Train AUC: 0.8541 |  Train AUC: 0.905 | Train AUC: 0.9355 |\n",
            "|                          |  Test AUC: 0.7724 |  Test AUC: 0.8033 |  Test AUC: 0.8371 |  Test AUC: 0.8587 |\n",
            "+--------------------------+-------------------+-------------------+-------------------+-------------------+\n",
            "|            6             | Train AUC: 0.8904 | Train AUC: 0.9329 | Train AUC: 0.9717 | Train AUC: 0.9872 |\n",
            "|                          |  Test AUC: 0.8252 |  Test AUC: 0.8585 |  Test AUC: 0.8921 |  Test AUC: 0.9104 |\n",
            "+--------------------------+-------------------+-------------------+-------------------+-------------------+\n",
            "|            8             |  Train AUC: 0.955 |  Train AUC: 0.98  | Train AUC: 0.9955 |  Train AUC: 0.999 |\n",
            "|                          |  Test AUC: 0.8776 |  Test AUC: 0.9038 |  Test AUC: 0.928  |  Test AUC: 0.9411 |\n",
            "+--------------------------+-------------------+-------------------+-------------------+-------------------+\n",
            "|            10            | Train AUC: 0.9864 | Train AUC: 0.9966 | Train AUC: 0.9997 |   Train AUC: 1.0  |\n",
            "|                          |  Test AUC: 0.9129 |  Test AUC: 0.9334 |  Test AUC: 0.9493 |  Test AUC: 0.9567 |\n",
            "+--------------------------+-------------------+-------------------+-------------------+-------------------+\n"
          ],
          "name": "stdout"
        }
      ]
    },
    {
      "cell_type": "markdown",
      "metadata": {
        "colab_type": "text",
        "id": "6S69nT7XZh1p"
      },
      "source": [
        "We observe that for SET_2, **Depth = 4, Number of estimators =  50** gives a good AUC on test data (about 77%) without too much overfitting."
      ]
    },
    {
      "cell_type": "code",
      "metadata": {
        "colab_type": "code",
        "id": "fpLAP62vZh1q",
        "colab": {}
      },
      "source": [
        "gdt_D_2 = 4\n",
        "gdt_N_2 = 50"
      ],
      "execution_count": 0,
      "outputs": []
    },
    {
      "cell_type": "markdown",
      "metadata": {
        "colab_type": "text",
        "id": "1qfOPKlTZh1x"
      },
      "source": [
        "#### 4.1.3 For SET_3"
      ]
    },
    {
      "cell_type": "markdown",
      "metadata": {
        "id": "xjl4WK--n3Rv",
        "colab_type": "text"
      },
      "source": [
        "As for SET_3 and SET_4, GridSearchCV takes an infeasibly long time, for hyperparameter tuning of GBDTs on these two sets we do the following:\n",
        "\n",
        "\n",
        "*   Use only 30,000 points for training and rest 10,000 points of the train set as validation data.\n",
        "*   Set the max_features='auto' for the GradientBoostingClassifier. This increases the bias of each base estimator. However, this should not affect performance too much as base learners in boosting are supposed to be high bias.\n",
        "*   Use a smaller grid of 4 x 4 hyperparamter combinations.\n",
        "*   No K-folding. Simple cross-validation with parallelised training.\n",
        "\n",
        "\n",
        "\n"
      ]
    },
    {
      "cell_type": "markdown",
      "metadata": {
        "id": "EU1YaMlM5_ba",
        "colab_type": "text"
      },
      "source": [
        "##### 4.1.3.0 Sampling 20K points for hyperparameter tuning (SET_3 and SET_4) "
      ]
    },
    {
      "cell_type": "code",
      "metadata": {
        "id": "oKRTwnZ95-Wq",
        "colab_type": "code",
        "colab": {}
      },
      "source": [
        "tr_tune_3x, val_3x, tr_tune_3y, val_3y = train_test_split(train_set_3x, train_set_3y, train_size=30000, stratify=train_set_3y)\n",
        "tr_tune_4x, val_4x, tr_tune_4y, val_4y = train_test_split(train_set_4x, train_set_4y, train_size=30000, stratify=train_set_4y)"
      ],
      "execution_count": 0,
      "outputs": []
    },
    {
      "cell_type": "code",
      "metadata": {
        "id": "MQqzbLMV9jPf",
        "colab_type": "code",
        "outputId": "aa9ebcaa-6df8-4c10-b80c-c1aaad8f89dc",
        "colab": {
          "base_uri": "https://localhost:8080/",
          "height": 153
        }
      },
      "source": [
        "print(tr_tune_3x.shape)\n",
        "print(tr_tune_4x.shape)\n",
        "print(tr_tune_3y.shape)\n",
        "print(tr_tune_4y.shape)\n",
        "print(val_3x.shape)\n",
        "print(val_4x.shape)\n",
        "print(val_3y.shape)\n",
        "print(val_4y.shape)"
      ],
      "execution_count": 0,
      "outputs": [
        {
          "output_type": "stream",
          "text": [
            "(30000, 6084)\n",
            "(30000, 6084)\n",
            "(30000,)\n",
            "(30000,)\n",
            "(10000, 6084)\n",
            "(10000, 6084)\n",
            "(10000,)\n",
            "(10000,)\n"
          ],
          "name": "stdout"
        }
      ]
    },
    {
      "cell_type": "code",
      "metadata": {
        "id": "KodyIprhGqfc",
        "colab_type": "code",
        "colab": {}
      },
      "source": [
        "def gdt_validator(n, d, tr_tune_x, tr_tune_y, val_x, val_y):                        \n",
        "  auc_scores = []\n",
        "  verbose=0\n",
        "  if n>=300:\n",
        "    verbose=2\n",
        "\n",
        "  gdt_model = GradientBoostingClassifier(max_depth=d, n_estimators=n, max_features='auto', verbose=verbose)\n",
        "\n",
        "  print(\"Fitting GBDT with N_Estimators = \"+str(n)+\" and Max_Depth = \"+str(d))\n",
        "  gdt_model.fit(tr_tune_x, tr_tune_y)\n",
        "\n",
        "  y_train_pred = gdt_model.predict(tr_tune_x)\n",
        "  y_val_pred = gdt_model.predict(val_x)\n",
        "\n",
        "  train_auc_i = roc_auc_score(tr_tune_y, y_train_pred)\n",
        "  val_auc_i = roc_auc_score(val_y, y_val_pred)\n",
        "  \n",
        "  auc_scores.extend([n, d, train_auc_i, val_auc_i])\n",
        "\n",
        "  return auc_scores"
      ],
      "execution_count": 0,
      "outputs": []
    },
    {
      "cell_type": "markdown",
      "metadata": {
        "id": "l6CKfFoo9w5D",
        "colab_type": "text"
      },
      "source": [
        "##### 4.1.3 For SET_3"
      ]
    },
    {
      "cell_type": "code",
      "metadata": {
        "colab_type": "code",
        "id": "zaSIGoRwZh1y",
        "colab": {}
      },
      "source": [
        "estims = [300, 200, 100, 50]          #n_estimators\n",
        "depths = [2, 4, 6, 8]                 #max_depth\n",
        "\n",
        "futures = []\n",
        "with concurrent.futures.ProcessPoolExecutor() as executor:\n",
        "  for arg_set in itertools.product(estims, depths, [tr_tune_3x], [tr_tune_3y], [val_3x], [val_3y]):\n",
        "    futures.append(executor.submit(gdt_validator, *arg_set))\n",
        "executor.shutdown(wait=True)\n",
        "\n",
        "results = [future.result() for future in futures]"
      ],
      "execution_count": 0,
      "outputs": []
    },
    {
      "cell_type": "markdown",
      "metadata": {
        "id": "UY_o8dajnmwM",
        "colab_type": "text"
      },
      "source": [
        "*The outputs from gdt_validator() have been hidden to improve notebook readability.*"
      ]
    },
    {
      "cell_type": "code",
      "metadata": {
        "id": "lEXZAHcAd7Rj",
        "colab_type": "code",
        "colab": {}
      },
      "source": [
        "results_df = pd.DataFrame(results, columns=['param_n_estimators', 'param_max_depth', 'mean_train_score', 'mean_test_score'])"
      ],
      "execution_count": 0,
      "outputs": []
    },
    {
      "cell_type": "code",
      "metadata": {
        "colab_type": "code",
        "id": "IXp6eUC7Zh14",
        "outputId": "cb826742-a593-4cc6-9a66-2a50ff3ec854",
        "colab": {
          "base_uri": "https://localhost:8080/"
        }
      },
      "source": [
        "X = results_df['param_n_estimators'].values\n",
        "Y = results_df['param_max_depth'].values\n",
        "Z_train = results_df['mean_train_score'].values\n",
        "Z_test = results_df['mean_test_score'].values\n",
        "\n",
        "train_trace = go.Scatter3d(x=X, y=Y, z=Z_train, name='Train')\n",
        "\n",
        "cv_trace = go.Scatter3d(x=X, y=Y, z=Z_test, name='Cross Validation')\n",
        "\n",
        "data = [train_trace, cv_trace]\n",
        "\n",
        "layout = go.Layout(scene = dict(\n",
        "        xaxis = dict(title='n_estimators'),\n",
        "        yaxis = dict(title='max Depth'),\n",
        "        zaxis = dict(title='Mean AUC scores')))\n",
        "\n",
        "fig = go.Figure(data=data, layout=layout)\n",
        "fig.show(renderer=\"colab\")"
      ],
      "execution_count": 0,
      "outputs": [
        {
          "output_type": "display_data",
          "data": {
            "text/html": [
              "<html>\n",
              "<head><meta charset=\"utf-8\" /></head>\n",
              "<body>\n",
              "    <div>\n",
              "            <script src=\"https://cdnjs.cloudflare.com/ajax/libs/mathjax/2.7.5/MathJax.js?config=TeX-AMS-MML_SVG\"></script><script type=\"text/javascript\">if (window.MathJax) {MathJax.Hub.Config({SVG: {font: \"STIX-Web\"}});}</script>\n",
              "                <script type=\"text/javascript\">window.PlotlyConfig = {MathJaxConfig: 'local'};</script>\n",
              "        <script src=\"https://cdn.plot.ly/plotly-latest.min.js\"></script>    \n",
              "            <div id=\"0f775128-974f-4418-8eac-57ad9d537c75\" class=\"plotly-graph-div\" style=\"height:525px; width:100%;\"></div>\n",
              "            <script type=\"text/javascript\">\n",
              "                \n",
              "                    window.PLOTLYENV=window.PLOTLYENV || {};\n",
              "                    \n",
              "                if (document.getElementById(\"0f775128-974f-4418-8eac-57ad9d537c75\")) {\n",
              "                    Plotly.newPlot(\n",
              "                        '0f775128-974f-4418-8eac-57ad9d537c75',\n",
              "                        [{\"name\": \"Train\", \"type\": \"scatter3d\", \"x\": [300, 300, 300, 300, 200, 200, 200, 200, 100, 100, 100, 100, 50, 50, 50, 50], \"y\": [2, 4, 6, 8, 2, 4, 6, 8, 2, 4, 6, 8, 2, 4, 6, 8], \"z\": [0.7451666666666668, 0.8755999999999999, 0.9739000000000001, 0.9997333333333334, 0.7236, 0.8458333333333332, 0.9533666666666667, 0.9975666666666667, 0.6992333333333334, 0.7924333333333333, 0.9111333333333334, 0.9863999999999999, 0.6772333333333334, 0.7470333333333334, 0.8580666666666666, 0.962]}, {\"name\": \"Cross Validation\", \"type\": \"scatter3d\", \"x\": [300, 300, 300, 300, 200, 200, 200, 200, 100, 100, 100, 100, 50, 50, 50, 50], \"y\": [2, 4, 6, 8, 2, 4, 6, 8, 2, 4, 6, 8, 2, 4, 6, 8], \"z\": [0.7146999999999999, 0.7953000000000001, 0.8667999999999999, 0.9074, 0.7015, 0.7768, 0.8497, 0.8994000000000001, 0.6826, 0.744, 0.8178, 0.8792, 0.6633, 0.7091, 0.7793, 0.8573000000000001]}],\n",
              "                        {\"scene\": {\"xaxis\": {\"title\": {\"text\": \"n_estimators\"}}, \"yaxis\": {\"title\": {\"text\": \"max Depth\"}}, \"zaxis\": {\"title\": {\"text\": \"Mean AUC scores\"}}}, \"template\": {\"data\": {\"bar\": [{\"error_x\": {\"color\": \"#2a3f5f\"}, \"error_y\": {\"color\": \"#2a3f5f\"}, \"marker\": {\"line\": {\"color\": \"#E5ECF6\", \"width\": 0.5}}, \"type\": \"bar\"}], \"barpolar\": [{\"marker\": {\"line\": {\"color\": \"#E5ECF6\", \"width\": 0.5}}, \"type\": \"barpolar\"}], \"carpet\": [{\"aaxis\": {\"endlinecolor\": \"#2a3f5f\", \"gridcolor\": \"white\", \"linecolor\": \"white\", \"minorgridcolor\": \"white\", \"startlinecolor\": \"#2a3f5f\"}, \"baxis\": {\"endlinecolor\": \"#2a3f5f\", \"gridcolor\": \"white\", \"linecolor\": \"white\", \"minorgridcolor\": \"white\", \"startlinecolor\": \"#2a3f5f\"}, \"type\": \"carpet\"}], \"choropleth\": [{\"colorbar\": {\"outlinewidth\": 0, \"ticks\": \"\"}, \"type\": \"choropleth\"}], \"contour\": [{\"colorbar\": {\"outlinewidth\": 0, \"ticks\": \"\"}, \"colorscale\": [[0.0, \"#0d0887\"], [0.1111111111111111, \"#46039f\"], [0.2222222222222222, \"#7201a8\"], [0.3333333333333333, \"#9c179e\"], [0.4444444444444444, \"#bd3786\"], [0.5555555555555556, \"#d8576b\"], [0.6666666666666666, \"#ed7953\"], [0.7777777777777778, \"#fb9f3a\"], [0.8888888888888888, \"#fdca26\"], [1.0, \"#f0f921\"]], \"type\": \"contour\"}], \"contourcarpet\": [{\"colorbar\": {\"outlinewidth\": 0, \"ticks\": \"\"}, \"type\": \"contourcarpet\"}], \"heatmap\": [{\"colorbar\": {\"outlinewidth\": 0, \"ticks\": \"\"}, \"colorscale\": [[0.0, \"#0d0887\"], [0.1111111111111111, \"#46039f\"], [0.2222222222222222, \"#7201a8\"], [0.3333333333333333, \"#9c179e\"], [0.4444444444444444, \"#bd3786\"], [0.5555555555555556, \"#d8576b\"], [0.6666666666666666, \"#ed7953\"], [0.7777777777777778, \"#fb9f3a\"], [0.8888888888888888, \"#fdca26\"], [1.0, \"#f0f921\"]], \"type\": \"heatmap\"}], \"heatmapgl\": [{\"colorbar\": {\"outlinewidth\": 0, \"ticks\": \"\"}, \"colorscale\": [[0.0, \"#0d0887\"], [0.1111111111111111, \"#46039f\"], [0.2222222222222222, \"#7201a8\"], [0.3333333333333333, \"#9c179e\"], [0.4444444444444444, \"#bd3786\"], [0.5555555555555556, \"#d8576b\"], [0.6666666666666666, \"#ed7953\"], [0.7777777777777778, \"#fb9f3a\"], [0.8888888888888888, \"#fdca26\"], [1.0, \"#f0f921\"]], \"type\": \"heatmapgl\"}], \"histogram\": [{\"marker\": {\"colorbar\": {\"outlinewidth\": 0, \"ticks\": \"\"}}, \"type\": \"histogram\"}], \"histogram2d\": [{\"colorbar\": {\"outlinewidth\": 0, \"ticks\": \"\"}, \"colorscale\": [[0.0, \"#0d0887\"], [0.1111111111111111, \"#46039f\"], [0.2222222222222222, \"#7201a8\"], [0.3333333333333333, \"#9c179e\"], [0.4444444444444444, \"#bd3786\"], [0.5555555555555556, \"#d8576b\"], [0.6666666666666666, \"#ed7953\"], [0.7777777777777778, \"#fb9f3a\"], [0.8888888888888888, \"#fdca26\"], [1.0, \"#f0f921\"]], \"type\": \"histogram2d\"}], \"histogram2dcontour\": [{\"colorbar\": {\"outlinewidth\": 0, \"ticks\": \"\"}, \"colorscale\": [[0.0, \"#0d0887\"], [0.1111111111111111, \"#46039f\"], [0.2222222222222222, \"#7201a8\"], [0.3333333333333333, \"#9c179e\"], [0.4444444444444444, \"#bd3786\"], [0.5555555555555556, \"#d8576b\"], [0.6666666666666666, \"#ed7953\"], [0.7777777777777778, \"#fb9f3a\"], [0.8888888888888888, \"#fdca26\"], [1.0, \"#f0f921\"]], \"type\": \"histogram2dcontour\"}], \"mesh3d\": [{\"colorbar\": {\"outlinewidth\": 0, \"ticks\": \"\"}, \"type\": \"mesh3d\"}], \"parcoords\": [{\"line\": {\"colorbar\": {\"outlinewidth\": 0, \"ticks\": \"\"}}, \"type\": \"parcoords\"}], \"scatter\": [{\"marker\": {\"colorbar\": {\"outlinewidth\": 0, \"ticks\": \"\"}}, \"type\": \"scatter\"}], \"scatter3d\": [{\"line\": {\"colorbar\": {\"outlinewidth\": 0, \"ticks\": \"\"}}, \"marker\": {\"colorbar\": {\"outlinewidth\": 0, \"ticks\": \"\"}}, \"type\": \"scatter3d\"}], \"scattercarpet\": [{\"marker\": {\"colorbar\": {\"outlinewidth\": 0, \"ticks\": \"\"}}, \"type\": \"scattercarpet\"}], \"scattergeo\": [{\"marker\": {\"colorbar\": {\"outlinewidth\": 0, \"ticks\": \"\"}}, \"type\": \"scattergeo\"}], \"scattergl\": [{\"marker\": {\"colorbar\": {\"outlinewidth\": 0, \"ticks\": \"\"}}, \"type\": \"scattergl\"}], \"scattermapbox\": [{\"marker\": {\"colorbar\": {\"outlinewidth\": 0, \"ticks\": \"\"}}, \"type\": \"scattermapbox\"}], \"scatterpolar\": [{\"marker\": {\"colorbar\": {\"outlinewidth\": 0, \"ticks\": \"\"}}, \"type\": \"scatterpolar\"}], \"scatterpolargl\": [{\"marker\": {\"colorbar\": {\"outlinewidth\": 0, \"ticks\": \"\"}}, \"type\": \"scatterpolargl\"}], \"scatterternary\": [{\"marker\": {\"colorbar\": {\"outlinewidth\": 0, \"ticks\": \"\"}}, \"type\": \"scatterternary\"}], \"surface\": [{\"colorbar\": {\"outlinewidth\": 0, \"ticks\": \"\"}, \"colorscale\": [[0.0, \"#0d0887\"], [0.1111111111111111, \"#46039f\"], [0.2222222222222222, \"#7201a8\"], [0.3333333333333333, \"#9c179e\"], [0.4444444444444444, \"#bd3786\"], [0.5555555555555556, \"#d8576b\"], [0.6666666666666666, \"#ed7953\"], [0.7777777777777778, \"#fb9f3a\"], [0.8888888888888888, \"#fdca26\"], [1.0, \"#f0f921\"]], \"type\": \"surface\"}], \"table\": [{\"cells\": {\"fill\": {\"color\": \"#EBF0F8\"}, \"line\": {\"color\": \"white\"}}, \"header\": {\"fill\": {\"color\": \"#C8D4E3\"}, \"line\": {\"color\": \"white\"}}, \"type\": \"table\"}]}, \"layout\": {\"annotationdefaults\": {\"arrowcolor\": \"#2a3f5f\", \"arrowhead\": 0, \"arrowwidth\": 1}, \"colorscale\": {\"diverging\": [[0, \"#8e0152\"], [0.1, \"#c51b7d\"], [0.2, \"#de77ae\"], [0.3, \"#f1b6da\"], [0.4, \"#fde0ef\"], [0.5, \"#f7f7f7\"], [0.6, \"#e6f5d0\"], [0.7, \"#b8e186\"], [0.8, \"#7fbc41\"], [0.9, \"#4d9221\"], [1, \"#276419\"]], \"sequential\": [[0.0, \"#0d0887\"], [0.1111111111111111, \"#46039f\"], [0.2222222222222222, \"#7201a8\"], [0.3333333333333333, \"#9c179e\"], [0.4444444444444444, \"#bd3786\"], [0.5555555555555556, \"#d8576b\"], [0.6666666666666666, \"#ed7953\"], [0.7777777777777778, \"#fb9f3a\"], [0.8888888888888888, \"#fdca26\"], [1.0, \"#f0f921\"]], \"sequentialminus\": [[0.0, \"#0d0887\"], [0.1111111111111111, \"#46039f\"], [0.2222222222222222, \"#7201a8\"], [0.3333333333333333, \"#9c179e\"], [0.4444444444444444, \"#bd3786\"], [0.5555555555555556, \"#d8576b\"], [0.6666666666666666, \"#ed7953\"], [0.7777777777777778, \"#fb9f3a\"], [0.8888888888888888, \"#fdca26\"], [1.0, \"#f0f921\"]]}, \"colorway\": [\"#636efa\", \"#EF553B\", \"#00cc96\", \"#ab63fa\", \"#FFA15A\", \"#19d3f3\", \"#FF6692\", \"#B6E880\", \"#FF97FF\", \"#FECB52\"], \"font\": {\"color\": \"#2a3f5f\"}, \"geo\": {\"bgcolor\": \"white\", \"lakecolor\": \"white\", \"landcolor\": \"#E5ECF6\", \"showlakes\": true, \"showland\": true, \"subunitcolor\": \"white\"}, \"hoverlabel\": {\"align\": \"left\"}, \"hovermode\": \"closest\", \"mapbox\": {\"style\": \"light\"}, \"paper_bgcolor\": \"white\", \"plot_bgcolor\": \"#E5ECF6\", \"polar\": {\"angularaxis\": {\"gridcolor\": \"white\", \"linecolor\": \"white\", \"ticks\": \"\"}, \"bgcolor\": \"#E5ECF6\", \"radialaxis\": {\"gridcolor\": \"white\", \"linecolor\": \"white\", \"ticks\": \"\"}}, \"scene\": {\"xaxis\": {\"backgroundcolor\": \"#E5ECF6\", \"gridcolor\": \"white\", \"gridwidth\": 2, \"linecolor\": \"white\", \"showbackground\": true, \"ticks\": \"\", \"zerolinecolor\": \"white\"}, \"yaxis\": {\"backgroundcolor\": \"#E5ECF6\", \"gridcolor\": \"white\", \"gridwidth\": 2, \"linecolor\": \"white\", \"showbackground\": true, \"ticks\": \"\", \"zerolinecolor\": \"white\"}, \"zaxis\": {\"backgroundcolor\": \"#E5ECF6\", \"gridcolor\": \"white\", \"gridwidth\": 2, \"linecolor\": \"white\", \"showbackground\": true, \"ticks\": \"\", \"zerolinecolor\": \"white\"}}, \"shapedefaults\": {\"line\": {\"color\": \"#2a3f5f\"}}, \"ternary\": {\"aaxis\": {\"gridcolor\": \"white\", \"linecolor\": \"white\", \"ticks\": \"\"}, \"baxis\": {\"gridcolor\": \"white\", \"linecolor\": \"white\", \"ticks\": \"\"}, \"bgcolor\": \"#E5ECF6\", \"caxis\": {\"gridcolor\": \"white\", \"linecolor\": \"white\", \"ticks\": \"\"}}, \"title\": {\"x\": 0.05}, \"xaxis\": {\"automargin\": true, \"gridcolor\": \"white\", \"linecolor\": \"white\", \"ticks\": \"\", \"zerolinecolor\": \"white\", \"zerolinewidth\": 2}, \"yaxis\": {\"automargin\": true, \"gridcolor\": \"white\", \"linecolor\": \"white\", \"ticks\": \"\", \"zerolinecolor\": \"white\", \"zerolinewidth\": 2}}}},\n",
              "                        {\"responsive\": true}\n",
              "                    ).then(function(){\n",
              "                            \n",
              "var gd = document.getElementById('0f775128-974f-4418-8eac-57ad9d537c75');\n",
              "var x = new MutationObserver(function (mutations, observer) {{\n",
              "        var display = window.getComputedStyle(gd).display;\n",
              "        if (!display || display === 'none') {{\n",
              "            console.log([gd, 'removed!']);\n",
              "            Plotly.purge(gd);\n",
              "            observer.disconnect();\n",
              "        }}\n",
              "}});\n",
              "\n",
              "// Listen for the removal of the full notebook cells\n",
              "var notebookContainer = gd.closest('#notebook-container');\n",
              "if (notebookContainer) {{\n",
              "    x.observe(notebookContainer, {childList: true});\n",
              "}}\n",
              "\n",
              "// Listen for the clearing of the current output cell\n",
              "var outputEl = gd.closest('.output');\n",
              "if (outputEl) {{\n",
              "    x.observe(outputEl, {childList: true});\n",
              "}}\n",
              "\n",
              "                        })\n",
              "                };\n",
              "                \n",
              "            </script>\n",
              "        </div>\n",
              "</body>\n",
              "</html>"
            ]
          },
          "metadata": {
            "tags": []
          }
        }
      ]
    },
    {
      "cell_type": "code",
      "metadata": {
        "colab_type": "code",
        "id": "CZboa6NdZh19",
        "outputId": "678ae39a-41dd-4e50-9d6f-96cfe34393d3",
        "colab": {
          "base_uri": "https://localhost:8080/",
          "height": 272
        }
      },
      "source": [
        "test_table = Z_test.reshape((4,4))\n",
        "train_table = Z_train.reshape((4,4))\n",
        "hyp_table = PrettyTable()\n",
        "hyp_table.field_names = ['N_estimators \\ Max_depth', '2', '4', '6', '8']\n",
        "row_names = ['300', '200', '100', '50']\n",
        "\n",
        "i=0\n",
        "for s in row_names:\n",
        "  hyp_table.add_row([s, \"Train AUC: \"+str(np.round(train_table[i][0], 4))+\"\\nTest AUC: \"+str(np.round(test_table[i][0], 4)),\n",
        "                        \"Train AUC: \"+str(np.round(train_table[i][1], 4))+\"\\nTest AUC: \"+str(np.round(test_table[i][1], 4)),\n",
        "                        \"Train AUC: \"+str(np.round(train_table[i][2], 4))+\"\\nTest AUC: \"+str(np.round(test_table[i][2], 4)),\n",
        "                        \"Train AUC: \"+str(np.round(train_table[i][3], 4))+\"\\nTest AUC: \"+str(np.round(test_table[i][3], 4))])\n",
        "  i += 1\n",
        "  \n",
        "hyp_table.hrules = ALL\n",
        "  \n",
        "print(hyp_table)"
      ],
      "execution_count": 0,
      "outputs": [
        {
          "output_type": "stream",
          "text": [
            "+--------------------------+-------------------+-------------------+-------------------+-------------------+\n",
            "| N_estimators \\ Max_depth |         2         |         4         |         6         |         8         |\n",
            "+--------------------------+-------------------+-------------------+-------------------+-------------------+\n",
            "|           300            | Train AUC: 0.7452 | Train AUC: 0.8756 | Train AUC: 0.9739 | Train AUC: 0.9997 |\n",
            "|                          |  Test AUC: 0.7147 |  Test AUC: 0.7953 |  Test AUC: 0.8668 |  Test AUC: 0.9074 |\n",
            "+--------------------------+-------------------+-------------------+-------------------+-------------------+\n",
            "|           200            | Train AUC: 0.7236 | Train AUC: 0.8458 | Train AUC: 0.9534 | Train AUC: 0.9976 |\n",
            "|                          |  Test AUC: 0.7015 |  Test AUC: 0.7768 |  Test AUC: 0.8497 |  Test AUC: 0.8994 |\n",
            "+--------------------------+-------------------+-------------------+-------------------+-------------------+\n",
            "|           100            | Train AUC: 0.6992 | Train AUC: 0.7924 | Train AUC: 0.9111 | Train AUC: 0.9864 |\n",
            "|                          |  Test AUC: 0.6826 |  Test AUC: 0.744  |  Test AUC: 0.8178 |  Test AUC: 0.8792 |\n",
            "+--------------------------+-------------------+-------------------+-------------------+-------------------+\n",
            "|            50            | Train AUC: 0.6772 |  Train AUC: 0.747 | Train AUC: 0.8581 |  Train AUC: 0.962 |\n",
            "|                          |  Test AUC: 0.6633 |  Test AUC: 0.7091 |  Test AUC: 0.7793 |  Test AUC: 0.8573 |\n",
            "+--------------------------+-------------------+-------------------+-------------------+-------------------+\n"
          ],
          "name": "stdout"
        }
      ]
    },
    {
      "cell_type": "markdown",
      "metadata": {
        "colab_type": "text",
        "id": "b5lEzGxbZh2A"
      },
      "source": [
        "We observe that for SET_3, **Depth = 4, Number of estimators = 100** gives a good AUC on test data (about 74%) without too much overfitting."
      ]
    },
    {
      "cell_type": "code",
      "metadata": {
        "colab_type": "code",
        "id": "xv7PSek3Zh2B",
        "colab": {}
      },
      "source": [
        "gdt_D_3 = 4\n",
        "gdt_N_3 = 100"
      ],
      "execution_count": 0,
      "outputs": []
    },
    {
      "cell_type": "markdown",
      "metadata": {
        "colab_type": "text",
        "id": "tw4GUPicZh2H"
      },
      "source": [
        "#### 4.1.4 For SET_4"
      ]
    },
    {
      "cell_type": "code",
      "metadata": {
        "colab_type": "code",
        "id": "xNFZmoqVZh2M",
        "colab": {}
      },
      "source": [
        "estims = [300, 200, 100, 50]          #n_estimators\n",
        "depths = [2, 4, 6, 8]                 #max_depth\n",
        "\n",
        "futures = []\n",
        "with concurrent.futures.ProcessPoolExecutor() as executor:\n",
        "  for arg_set in itertools.product(estims, depths, [tr_tune_4x], [tr_tune_4y], [val_4x], [val_4y]):\n",
        "    futures.append(executor.submit(gdt_validator, *arg_set))\n",
        "executor.shutdown(wait=True)\n",
        "\n",
        "results = [future.result() for future in futures]"
      ],
      "execution_count": 0,
      "outputs": []
    },
    {
      "cell_type": "markdown",
      "metadata": {
        "colab_type": "text",
        "id": "V8Fn6dy2qpCf"
      },
      "source": [
        "*The outputs from gdt_validator() have been hidden to improve notebook readability.*"
      ]
    },
    {
      "cell_type": "code",
      "metadata": {
        "colab_type": "code",
        "id": "sXL-fBJEpRCX",
        "colab": {}
      },
      "source": [
        "results_df = pd.DataFrame(results, columns=['param_n_estimators', 'param_max_depth', 'mean_train_score', 'mean_test_score'])"
      ],
      "execution_count": 0,
      "outputs": []
    },
    {
      "cell_type": "code",
      "metadata": {
        "colab_type": "code",
        "id": "3zYBOT9lZh2P",
        "outputId": "c2326df9-8601-432e-f8e1-1af3e852c325",
        "colab": {
          "base_uri": "https://localhost:8080/",
          "height": 542
        }
      },
      "source": [
        "X = results_df['param_n_estimators'].values\n",
        "Y = results_df['param_max_depth'].values\n",
        "Z_train = results_df['mean_train_score'].values\n",
        "Z_test = results_df['mean_test_score'].values\n",
        "\n",
        "train_trace = go.Scatter3d(x=X, y=Y, z=Z_train, name='Train')\n",
        "\n",
        "cv_trace = go.Scatter3d(x=X, y=Y, z=Z_test, name='Cross Validation')\n",
        "\n",
        "data = [train_trace, cv_trace]\n",
        "\n",
        "layout = go.Layout(scene = dict(\n",
        "        xaxis = dict(title='n_estimators'),\n",
        "        yaxis = dict(title='max Depth'),\n",
        "        zaxis = dict(title='Mean AUC scores'),))\n",
        "\n",
        "fig = go.Figure(data=data, layout=layout)\n",
        "fig.show(renderer=\"colab\")"
      ],
      "execution_count": 0,
      "outputs": [
        {
          "output_type": "display_data",
          "data": {
            "text/html": [
              "<html>\n",
              "<head><meta charset=\"utf-8\" /></head>\n",
              "<body>\n",
              "    <div>\n",
              "            <script src=\"https://cdnjs.cloudflare.com/ajax/libs/mathjax/2.7.5/MathJax.js?config=TeX-AMS-MML_SVG\"></script><script type=\"text/javascript\">if (window.MathJax) {MathJax.Hub.Config({SVG: {font: \"STIX-Web\"}});}</script>\n",
              "                <script type=\"text/javascript\">window.PlotlyConfig = {MathJaxConfig: 'local'};</script>\n",
              "        <script src=\"https://cdn.plot.ly/plotly-latest.min.js\"></script>    \n",
              "            <div id=\"79ad191e-d5bc-4e0e-8e34-cf09dca808b7\" class=\"plotly-graph-div\" style=\"height:525px; width:100%;\"></div>\n",
              "            <script type=\"text/javascript\">\n",
              "                \n",
              "                    window.PLOTLYENV=window.PLOTLYENV || {};\n",
              "                    \n",
              "                if (document.getElementById(\"79ad191e-d5bc-4e0e-8e34-cf09dca808b7\")) {\n",
              "                    Plotly.newPlot(\n",
              "                        '79ad191e-d5bc-4e0e-8e34-cf09dca808b7',\n",
              "                        [{\"name\": \"Train\", \"type\": \"scatter3d\", \"x\": [300, 300, 300, 300, 200, 200, 200, 200, 100, 100, 100, 100, 50, 50, 50, 50], \"y\": [2, 4, 6, 8, 2, 4, 6, 8, 2, 4, 6, 8, 2, 4, 6, 8], \"z\": [0.7353000000000001, 0.8477333333333333, 0.9476999999999999, 0.9949666666666668, 0.7211666666666667, 0.8197333333333333, 0.9228666666666667, 0.9865666666666667, 0.6979000000000001, 0.7799666666666667, 0.8831, 0.9719666666666668, 0.6791666666666667, 0.7446333333333334, 0.8436, 0.9476666666666667]}, {\"name\": \"Cross Validation\", \"type\": \"scatter3d\", \"x\": [300, 300, 300, 300, 200, 200, 200, 200, 100, 100, 100, 100, 50, 50, 50, 50], \"y\": [2, 4, 6, 8, 2, 4, 6, 8, 2, 4, 6, 8, 2, 4, 6, 8], \"z\": [0.6997, 0.7723, 0.8424, 0.8948999999999999, 0.6929, 0.7508999999999999, 0.8206, 0.8849, 0.6804, 0.7221000000000001, 0.7924, 0.8661, 0.6684, 0.7019, 0.7632, 0.8459]}],\n",
              "                        {\"scene\": {\"xaxis\": {\"title\": {\"text\": \"n_estimators\"}}, \"yaxis\": {\"title\": {\"text\": \"max Depth\"}}, \"zaxis\": {\"title\": {\"text\": \"Mean AUC scores\"}}}, \"template\": {\"data\": {\"bar\": [{\"error_x\": {\"color\": \"#2a3f5f\"}, \"error_y\": {\"color\": \"#2a3f5f\"}, \"marker\": {\"line\": {\"color\": \"#E5ECF6\", \"width\": 0.5}}, \"type\": \"bar\"}], \"barpolar\": [{\"marker\": {\"line\": {\"color\": \"#E5ECF6\", \"width\": 0.5}}, \"type\": \"barpolar\"}], \"carpet\": [{\"aaxis\": {\"endlinecolor\": \"#2a3f5f\", \"gridcolor\": \"white\", \"linecolor\": \"white\", \"minorgridcolor\": \"white\", \"startlinecolor\": \"#2a3f5f\"}, \"baxis\": {\"endlinecolor\": \"#2a3f5f\", \"gridcolor\": \"white\", \"linecolor\": \"white\", \"minorgridcolor\": \"white\", \"startlinecolor\": \"#2a3f5f\"}, \"type\": \"carpet\"}], \"choropleth\": [{\"colorbar\": {\"outlinewidth\": 0, \"ticks\": \"\"}, \"type\": \"choropleth\"}], \"contour\": [{\"colorbar\": {\"outlinewidth\": 0, \"ticks\": \"\"}, \"colorscale\": [[0.0, \"#0d0887\"], [0.1111111111111111, \"#46039f\"], [0.2222222222222222, \"#7201a8\"], [0.3333333333333333, \"#9c179e\"], [0.4444444444444444, \"#bd3786\"], [0.5555555555555556, \"#d8576b\"], [0.6666666666666666, \"#ed7953\"], [0.7777777777777778, \"#fb9f3a\"], [0.8888888888888888, \"#fdca26\"], [1.0, \"#f0f921\"]], \"type\": \"contour\"}], \"contourcarpet\": [{\"colorbar\": {\"outlinewidth\": 0, \"ticks\": \"\"}, \"type\": \"contourcarpet\"}], \"heatmap\": [{\"colorbar\": {\"outlinewidth\": 0, \"ticks\": \"\"}, \"colorscale\": [[0.0, \"#0d0887\"], [0.1111111111111111, \"#46039f\"], [0.2222222222222222, \"#7201a8\"], [0.3333333333333333, \"#9c179e\"], [0.4444444444444444, \"#bd3786\"], [0.5555555555555556, \"#d8576b\"], [0.6666666666666666, \"#ed7953\"], [0.7777777777777778, \"#fb9f3a\"], [0.8888888888888888, \"#fdca26\"], [1.0, \"#f0f921\"]], \"type\": \"heatmap\"}], \"heatmapgl\": [{\"colorbar\": {\"outlinewidth\": 0, \"ticks\": \"\"}, \"colorscale\": [[0.0, \"#0d0887\"], [0.1111111111111111, \"#46039f\"], [0.2222222222222222, \"#7201a8\"], [0.3333333333333333, \"#9c179e\"], [0.4444444444444444, \"#bd3786\"], [0.5555555555555556, \"#d8576b\"], [0.6666666666666666, \"#ed7953\"], [0.7777777777777778, \"#fb9f3a\"], [0.8888888888888888, \"#fdca26\"], [1.0, \"#f0f921\"]], \"type\": \"heatmapgl\"}], \"histogram\": [{\"marker\": {\"colorbar\": {\"outlinewidth\": 0, \"ticks\": \"\"}}, \"type\": \"histogram\"}], \"histogram2d\": [{\"colorbar\": {\"outlinewidth\": 0, \"ticks\": \"\"}, \"colorscale\": [[0.0, \"#0d0887\"], [0.1111111111111111, \"#46039f\"], [0.2222222222222222, \"#7201a8\"], [0.3333333333333333, \"#9c179e\"], [0.4444444444444444, \"#bd3786\"], [0.5555555555555556, \"#d8576b\"], [0.6666666666666666, \"#ed7953\"], [0.7777777777777778, \"#fb9f3a\"], [0.8888888888888888, \"#fdca26\"], [1.0, \"#f0f921\"]], \"type\": \"histogram2d\"}], \"histogram2dcontour\": [{\"colorbar\": {\"outlinewidth\": 0, \"ticks\": \"\"}, \"colorscale\": [[0.0, \"#0d0887\"], [0.1111111111111111, \"#46039f\"], [0.2222222222222222, \"#7201a8\"], [0.3333333333333333, \"#9c179e\"], [0.4444444444444444, \"#bd3786\"], [0.5555555555555556, \"#d8576b\"], [0.6666666666666666, \"#ed7953\"], [0.7777777777777778, \"#fb9f3a\"], [0.8888888888888888, \"#fdca26\"], [1.0, \"#f0f921\"]], \"type\": \"histogram2dcontour\"}], \"mesh3d\": [{\"colorbar\": {\"outlinewidth\": 0, \"ticks\": \"\"}, \"type\": \"mesh3d\"}], \"parcoords\": [{\"line\": {\"colorbar\": {\"outlinewidth\": 0, \"ticks\": \"\"}}, \"type\": \"parcoords\"}], \"scatter\": [{\"marker\": {\"colorbar\": {\"outlinewidth\": 0, \"ticks\": \"\"}}, \"type\": \"scatter\"}], \"scatter3d\": [{\"line\": {\"colorbar\": {\"outlinewidth\": 0, \"ticks\": \"\"}}, \"marker\": {\"colorbar\": {\"outlinewidth\": 0, \"ticks\": \"\"}}, \"type\": \"scatter3d\"}], \"scattercarpet\": [{\"marker\": {\"colorbar\": {\"outlinewidth\": 0, \"ticks\": \"\"}}, \"type\": \"scattercarpet\"}], \"scattergeo\": [{\"marker\": {\"colorbar\": {\"outlinewidth\": 0, \"ticks\": \"\"}}, \"type\": \"scattergeo\"}], \"scattergl\": [{\"marker\": {\"colorbar\": {\"outlinewidth\": 0, \"ticks\": \"\"}}, \"type\": \"scattergl\"}], \"scattermapbox\": [{\"marker\": {\"colorbar\": {\"outlinewidth\": 0, \"ticks\": \"\"}}, \"type\": \"scattermapbox\"}], \"scatterpolar\": [{\"marker\": {\"colorbar\": {\"outlinewidth\": 0, \"ticks\": \"\"}}, \"type\": \"scatterpolar\"}], \"scatterpolargl\": [{\"marker\": {\"colorbar\": {\"outlinewidth\": 0, \"ticks\": \"\"}}, \"type\": \"scatterpolargl\"}], \"scatterternary\": [{\"marker\": {\"colorbar\": {\"outlinewidth\": 0, \"ticks\": \"\"}}, \"type\": \"scatterternary\"}], \"surface\": [{\"colorbar\": {\"outlinewidth\": 0, \"ticks\": \"\"}, \"colorscale\": [[0.0, \"#0d0887\"], [0.1111111111111111, \"#46039f\"], [0.2222222222222222, \"#7201a8\"], [0.3333333333333333, \"#9c179e\"], [0.4444444444444444, \"#bd3786\"], [0.5555555555555556, \"#d8576b\"], [0.6666666666666666, \"#ed7953\"], [0.7777777777777778, \"#fb9f3a\"], [0.8888888888888888, \"#fdca26\"], [1.0, \"#f0f921\"]], \"type\": \"surface\"}], \"table\": [{\"cells\": {\"fill\": {\"color\": \"#EBF0F8\"}, \"line\": {\"color\": \"white\"}}, \"header\": {\"fill\": {\"color\": \"#C8D4E3\"}, \"line\": {\"color\": \"white\"}}, \"type\": \"table\"}]}, \"layout\": {\"annotationdefaults\": {\"arrowcolor\": \"#2a3f5f\", \"arrowhead\": 0, \"arrowwidth\": 1}, \"colorscale\": {\"diverging\": [[0, \"#8e0152\"], [0.1, \"#c51b7d\"], [0.2, \"#de77ae\"], [0.3, \"#f1b6da\"], [0.4, \"#fde0ef\"], [0.5, \"#f7f7f7\"], [0.6, \"#e6f5d0\"], [0.7, \"#b8e186\"], [0.8, \"#7fbc41\"], [0.9, \"#4d9221\"], [1, \"#276419\"]], \"sequential\": [[0.0, \"#0d0887\"], [0.1111111111111111, \"#46039f\"], [0.2222222222222222, \"#7201a8\"], [0.3333333333333333, \"#9c179e\"], [0.4444444444444444, \"#bd3786\"], [0.5555555555555556, \"#d8576b\"], [0.6666666666666666, \"#ed7953\"], [0.7777777777777778, \"#fb9f3a\"], [0.8888888888888888, \"#fdca26\"], [1.0, \"#f0f921\"]], \"sequentialminus\": [[0.0, \"#0d0887\"], [0.1111111111111111, \"#46039f\"], [0.2222222222222222, \"#7201a8\"], [0.3333333333333333, \"#9c179e\"], [0.4444444444444444, \"#bd3786\"], [0.5555555555555556, \"#d8576b\"], [0.6666666666666666, \"#ed7953\"], [0.7777777777777778, \"#fb9f3a\"], [0.8888888888888888, \"#fdca26\"], [1.0, \"#f0f921\"]]}, \"colorway\": [\"#636efa\", \"#EF553B\", \"#00cc96\", \"#ab63fa\", \"#FFA15A\", \"#19d3f3\", \"#FF6692\", \"#B6E880\", \"#FF97FF\", \"#FECB52\"], \"font\": {\"color\": \"#2a3f5f\"}, \"geo\": {\"bgcolor\": \"white\", \"lakecolor\": \"white\", \"landcolor\": \"#E5ECF6\", \"showlakes\": true, \"showland\": true, \"subunitcolor\": \"white\"}, \"hoverlabel\": {\"align\": \"left\"}, \"hovermode\": \"closest\", \"mapbox\": {\"style\": \"light\"}, \"paper_bgcolor\": \"white\", \"plot_bgcolor\": \"#E5ECF6\", \"polar\": {\"angularaxis\": {\"gridcolor\": \"white\", \"linecolor\": \"white\", \"ticks\": \"\"}, \"bgcolor\": \"#E5ECF6\", \"radialaxis\": {\"gridcolor\": \"white\", \"linecolor\": \"white\", \"ticks\": \"\"}}, \"scene\": {\"xaxis\": {\"backgroundcolor\": \"#E5ECF6\", \"gridcolor\": \"white\", \"gridwidth\": 2, \"linecolor\": \"white\", \"showbackground\": true, \"ticks\": \"\", \"zerolinecolor\": \"white\"}, \"yaxis\": {\"backgroundcolor\": \"#E5ECF6\", \"gridcolor\": \"white\", \"gridwidth\": 2, \"linecolor\": \"white\", \"showbackground\": true, \"ticks\": \"\", \"zerolinecolor\": \"white\"}, \"zaxis\": {\"backgroundcolor\": \"#E5ECF6\", \"gridcolor\": \"white\", \"gridwidth\": 2, \"linecolor\": \"white\", \"showbackground\": true, \"ticks\": \"\", \"zerolinecolor\": \"white\"}}, \"shapedefaults\": {\"line\": {\"color\": \"#2a3f5f\"}}, \"ternary\": {\"aaxis\": {\"gridcolor\": \"white\", \"linecolor\": \"white\", \"ticks\": \"\"}, \"baxis\": {\"gridcolor\": \"white\", \"linecolor\": \"white\", \"ticks\": \"\"}, \"bgcolor\": \"#E5ECF6\", \"caxis\": {\"gridcolor\": \"white\", \"linecolor\": \"white\", \"ticks\": \"\"}}, \"title\": {\"x\": 0.05}, \"xaxis\": {\"automargin\": true, \"gridcolor\": \"white\", \"linecolor\": \"white\", \"ticks\": \"\", \"zerolinecolor\": \"white\", \"zerolinewidth\": 2}, \"yaxis\": {\"automargin\": true, \"gridcolor\": \"white\", \"linecolor\": \"white\", \"ticks\": \"\", \"zerolinecolor\": \"white\", \"zerolinewidth\": 2}}}},\n",
              "                        {\"responsive\": true}\n",
              "                    ).then(function(){\n",
              "                            \n",
              "var gd = document.getElementById('79ad191e-d5bc-4e0e-8e34-cf09dca808b7');\n",
              "var x = new MutationObserver(function (mutations, observer) {{\n",
              "        var display = window.getComputedStyle(gd).display;\n",
              "        if (!display || display === 'none') {{\n",
              "            console.log([gd, 'removed!']);\n",
              "            Plotly.purge(gd);\n",
              "            observer.disconnect();\n",
              "        }}\n",
              "}});\n",
              "\n",
              "// Listen for the removal of the full notebook cells\n",
              "var notebookContainer = gd.closest('#notebook-container');\n",
              "if (notebookContainer) {{\n",
              "    x.observe(notebookContainer, {childList: true});\n",
              "}}\n",
              "\n",
              "// Listen for the clearing of the current output cell\n",
              "var outputEl = gd.closest('.output');\n",
              "if (outputEl) {{\n",
              "    x.observe(outputEl, {childList: true});\n",
              "}}\n",
              "\n",
              "                        })\n",
              "                };\n",
              "                \n",
              "            </script>\n",
              "        </div>\n",
              "</body>\n",
              "</html>"
            ]
          },
          "metadata": {
            "tags": []
          }
        }
      ]
    },
    {
      "cell_type": "code",
      "metadata": {
        "colab_type": "code",
        "id": "EFeHubL_Zh2W",
        "outputId": "fc7e9e0c-7f6e-4560-ca33-9349dd86167c",
        "colab": {
          "base_uri": "https://localhost:8080/",
          "height": 272
        }
      },
      "source": [
        "test_table = Z_test.reshape((4,4))\n",
        "train_table = Z_train.reshape((4,4))\n",
        "hyp_table = PrettyTable()\n",
        "hyp_table.field_names = ['N_estimators \\ Max_depth', '2', '4', '6', '8']\n",
        "row_names = ['300', '200', '100', '50']\n",
        "\n",
        "i=0\n",
        "for s in row_names:\n",
        "  hyp_table.add_row([s, \"Train AUC: \"+str(np.round(train_table[i][0], 4))+\"\\nTest AUC: \"+str(np.round(test_table[i][0], 4)),\n",
        "                        \"Train AUC: \"+str(np.round(train_table[i][1], 4))+\"\\nTest AUC: \"+str(np.round(test_table[i][1], 4)),\n",
        "                        \"Train AUC: \"+str(np.round(train_table[i][2], 4))+\"\\nTest AUC: \"+str(np.round(test_table[i][2], 4)),\n",
        "                        \"Train AUC: \"+str(np.round(train_table[i][3], 4))+\"\\nTest AUC: \"+str(np.round(test_table[i][3], 4))])\n",
        "  i += 1\n",
        "  \n",
        "hyp_table.hrules = ALL\n",
        "  \n",
        "print(hyp_table)"
      ],
      "execution_count": 0,
      "outputs": [
        {
          "output_type": "stream",
          "text": [
            "+--------------------------+-------------------+-------------------+-------------------+-------------------+\n",
            "| N_estimators \\ Max_depth |         2         |         4         |         6         |         8         |\n",
            "+--------------------------+-------------------+-------------------+-------------------+-------------------+\n",
            "|           300            | Train AUC: 0.7353 | Train AUC: 0.8477 | Train AUC: 0.9477 |  Train AUC: 0.995 |\n",
            "|                          |  Test AUC: 0.6997 |  Test AUC: 0.7723 |  Test AUC: 0.8424 |  Test AUC: 0.8949 |\n",
            "+--------------------------+-------------------+-------------------+-------------------+-------------------+\n",
            "|           200            | Train AUC: 0.7212 | Train AUC: 0.8197 | Train AUC: 0.9229 | Train AUC: 0.9866 |\n",
            "|                          |  Test AUC: 0.6929 |  Test AUC: 0.7509 |  Test AUC: 0.8206 |  Test AUC: 0.8849 |\n",
            "+--------------------------+-------------------+-------------------+-------------------+-------------------+\n",
            "|           100            | Train AUC: 0.6979 |  Train AUC: 0.78  | Train AUC: 0.8831 |  Train AUC: 0.972 |\n",
            "|                          |  Test AUC: 0.6804 |  Test AUC: 0.7221 |  Test AUC: 0.7924 |  Test AUC: 0.8661 |\n",
            "+--------------------------+-------------------+-------------------+-------------------+-------------------+\n",
            "|            50            | Train AUC: 0.6792 | Train AUC: 0.7446 | Train AUC: 0.8436 | Train AUC: 0.9477 |\n",
            "|                          |  Test AUC: 0.6684 |  Test AUC: 0.7019 |  Test AUC: 0.7632 |  Test AUC: 0.8459 |\n",
            "+--------------------------+-------------------+-------------------+-------------------+-------------------+\n"
          ],
          "name": "stdout"
        }
      ]
    },
    {
      "cell_type": "markdown",
      "metadata": {
        "colab_type": "text",
        "id": "vBhzHK7cZh2Z"
      },
      "source": [
        "We observe that for SET_4, **Depth = 4, Number of estimators = 50** gives a good AUC on test data (about 70%) without too much overfitting."
      ]
    },
    {
      "cell_type": "code",
      "metadata": {
        "colab_type": "code",
        "id": "RBxtzmvyZh2a",
        "colab": {}
      },
      "source": [
        "gdt_D_4 = 4\n",
        "gdt_N_4 = 50"
      ],
      "execution_count": 0,
      "outputs": []
    },
    {
      "cell_type": "markdown",
      "metadata": {
        "colab_type": "text",
        "id": "PcX_fSO6Zh2c"
      },
      "source": [
        "### 4.2 Apply GBDTs to all four datsets"
      ]
    },
    {
      "cell_type": "code",
      "metadata": {
        "colab_type": "code",
        "id": "OmQf6e1yZh2d",
        "outputId": "ca119caf-9b60-4e3e-9315-afd8541ef93e",
        "colab": {
          "base_uri": "https://localhost:8080/",
          "height": 187
        }
      },
      "source": [
        "gdt_1 = GradientBoostingClassifier(n_estimators=gdt_N_1, max_depth=gdt_D_1)\n",
        "gdt_1.fit(train_set_1x, train_set_1y)"
      ],
      "execution_count": 0,
      "outputs": [
        {
          "output_type": "execute_result",
          "data": {
            "text/plain": [
              "GradientBoostingClassifier(criterion='friedman_mse', init=None,\n",
              "                           learning_rate=0.1, loss='deviance', max_depth=4,\n",
              "                           max_features=None, max_leaf_nodes=None,\n",
              "                           min_impurity_decrease=0.0, min_impurity_split=None,\n",
              "                           min_samples_leaf=1, min_samples_split=2,\n",
              "                           min_weight_fraction_leaf=0.0, n_estimators=50,\n",
              "                           n_iter_no_change=None, presort='auto',\n",
              "                           random_state=None, subsample=1.0, tol=0.0001,\n",
              "                           validation_fraction=0.1, verbose=0,\n",
              "                           warm_start=False)"
            ]
          },
          "metadata": {
            "tags": []
          },
          "execution_count": 77
        }
      ]
    },
    {
      "cell_type": "code",
      "metadata": {
        "colab_type": "code",
        "id": "TDP3rStWZh2g",
        "outputId": "24ae13fe-1965-4d82-d77b-1c448814584d",
        "colab": {
          "base_uri": "https://localhost:8080/",
          "height": 187
        }
      },
      "source": [
        "gdt_2 = GradientBoostingClassifier(n_estimators=gdt_N_2, max_depth=gdt_D_2)\n",
        "gdt_2.fit(train_set_2x, train_set_2y)"
      ],
      "execution_count": 0,
      "outputs": [
        {
          "output_type": "execute_result",
          "data": {
            "text/plain": [
              "GradientBoostingClassifier(criterion='friedman_mse', init=None,\n",
              "                           learning_rate=0.1, loss='deviance', max_depth=4,\n",
              "                           max_features=None, max_leaf_nodes=None,\n",
              "                           min_impurity_decrease=0.0, min_impurity_split=None,\n",
              "                           min_samples_leaf=1, min_samples_split=2,\n",
              "                           min_weight_fraction_leaf=0.0, n_estimators=50,\n",
              "                           n_iter_no_change=None, presort='auto',\n",
              "                           random_state=None, subsample=1.0, tol=0.0001,\n",
              "                           validation_fraction=0.1, verbose=0,\n",
              "                           warm_start=False)"
            ]
          },
          "metadata": {
            "tags": []
          },
          "execution_count": 83
        }
      ]
    },
    {
      "cell_type": "code",
      "metadata": {
        "colab_type": "code",
        "id": "03lfKhg1Zh2k",
        "outputId": "d7cf055b-2c38-409b-c847-56f849e72450",
        "colab": {
          "base_uri": "https://localhost:8080/",
          "height": 187
        }
      },
      "source": [
        "gdt_3 = GradientBoostingClassifier(n_estimators=gdt_N_3, max_depth=gdt_D_3, max_features='auto')\n",
        "gdt_3.fit(train_set_3x, train_set_3y)"
      ],
      "execution_count": 0,
      "outputs": [
        {
          "output_type": "execute_result",
          "data": {
            "text/plain": [
              "GradientBoostingClassifier(criterion='friedman_mse', init=None,\n",
              "                           learning_rate=0.1, loss='deviance', max_depth=4,\n",
              "                           max_features='auto', max_leaf_nodes=None,\n",
              "                           min_impurity_decrease=0.0, min_impurity_split=None,\n",
              "                           min_samples_leaf=1, min_samples_split=2,\n",
              "                           min_weight_fraction_leaf=0.0, n_estimators=100,\n",
              "                           n_iter_no_change=None, presort='auto',\n",
              "                           random_state=None, subsample=1.0, tol=0.0001,\n",
              "                           validation_fraction=0.1, verbose=0,\n",
              "                           warm_start=False)"
            ]
          },
          "metadata": {
            "tags": []
          },
          "execution_count": 79
        }
      ]
    },
    {
      "cell_type": "code",
      "metadata": {
        "colab_type": "code",
        "id": "3qO19jrKZh2m",
        "outputId": "cd886c25-6845-41c1-a6ff-30a8adbf8701",
        "colab": {
          "base_uri": "https://localhost:8080/",
          "height": 187
        }
      },
      "source": [
        "gdt_4 = GradientBoostingClassifier(n_estimators=gdt_N_4, max_depth=gdt_D_4, max_features='auto')\n",
        "gdt_4.fit(train_set_4x, train_set_4y)"
      ],
      "execution_count": 0,
      "outputs": [
        {
          "output_type": "execute_result",
          "data": {
            "text/plain": [
              "GradientBoostingClassifier(criterion='friedman_mse', init=None,\n",
              "                           learning_rate=0.1, loss='deviance', max_depth=4,\n",
              "                           max_features='auto', max_leaf_nodes=None,\n",
              "                           min_impurity_decrease=0.0, min_impurity_split=None,\n",
              "                           min_samples_leaf=1, min_samples_split=2,\n",
              "                           min_weight_fraction_leaf=0.0, n_estimators=50,\n",
              "                           n_iter_no_change=None, presort='auto',\n",
              "                           random_state=None, subsample=1.0, tol=0.0001,\n",
              "                           validation_fraction=0.1, verbose=0,\n",
              "                           warm_start=False)"
            ]
          },
          "metadata": {
            "tags": []
          },
          "execution_count": 89
        }
      ]
    },
    {
      "cell_type": "markdown",
      "metadata": {
        "colab_type": "text",
        "id": "PFzWXinZZh2o"
      },
      "source": [
        "### 4.3. Test GBDT Models"
      ]
    },
    {
      "cell_type": "code",
      "metadata": {
        "colab_type": "code",
        "id": "Xqa4iAuMZh2r",
        "outputId": "67304b9d-a70a-42d7-b3c2-0fb32f981f5a",
        "colab": {
          "base_uri": "https://localhost:8080/",
          "height": 669
        }
      },
      "source": [
        "y_train_pred = gdt_1.predict_proba(train_set_1x)[:,1]\n",
        "y_test_pred = gdt_1.predict_proba(test_set_1x)[:,1]\n",
        "\n",
        "train_fpr, train_tpr, tr_thresholds = roc_curve(train_set_1y, y_train_pred)\n",
        "test_fpr, test_tpr, te_thresholds = roc_curve(test_set_1y, y_test_pred)\n",
        "\n",
        "tr_auc_gdt1 = auc(train_fpr, train_tpr)\n",
        "te_auc_gdt1 = auc(test_fpr, test_tpr)\n",
        "\n",
        "plt.plot(train_fpr, train_tpr, label=\"Train AUC =\"+str(tr_auc_rf1))\n",
        "plt.plot(test_fpr, test_tpr, label=\"Test AUC =\"+str(te_auc_rf1))\n",
        "plt.legend()\n",
        "plt.xlabel(\"False Positive Rate\")\n",
        "plt.ylabel(\"True Positive Rate\")\n",
        "plt.title(\"ROC CURVE FOR GBDTs ON TEST SET 1\")\n",
        "plt.grid()\n",
        "plt.show()\n",
        "\n",
        "print(\"*\"*100+'\\n')\n",
        "print(\"CONFUSION MATRIX FOR TRAIN DATA:\")\n",
        "best_t = find_best_threshold(tr_thresholds, train_fpr, train_tpr)\n",
        "conf_mat = confusion_matrix(train_set_1y, predict_with_best_t(y_train_pred, best_t))\n",
        "conf_table = PrettyTable()\n",
        "conf_table.hrules = ALL\n",
        "conf_table.field_names = ['', 'PREDICTED NO', 'PREDICTED YES']\n",
        "conf_table.add_row(['ACTUAL NO', conf_mat[0][0], conf_mat[0][1]])\n",
        "conf_table.add_row(['ACTUAL YES', conf_mat[1][0], conf_mat[1][1]])\n",
        "print(conf_table)\n",
        "print(\"*\"*100+'\\n')\n",
        "print(\"CONFUSION MATRIX FOR TEST DATA:\")\n",
        "best_t = find_best_threshold(te_thresholds, test_fpr, test_tpr)\n",
        "conf_mat = confusion_matrix(test_set_1y, predict_with_best_t(y_test_pred, best_t))\n",
        "conf_table = PrettyTable()\n",
        "conf_table.hrules = ALL\n",
        "conf_table.field_names = ['', 'PREDICTED NO', 'PREDICTED YES']\n",
        "conf_table.add_row(['ACTUAL NO', conf_mat[0][0], conf_mat[0][1]])\n",
        "conf_table.add_row(['ACTUAL YES', conf_mat[1][0], conf_mat[1][1]])\n",
        "print(conf_table)\n"
      ],
      "execution_count": 0,
      "outputs": [
        {
          "output_type": "display_data",
          "data": {
            "image/png": "[encoded data removed]",
            "text/plain": [
              "<Figure size 432x288 with 1 Axes>"
            ]
          },
          "metadata": {
            "tags": []
          }
        },
        {
          "output_type": "stream",
          "text": [
            "****************************************************************************************************\n",
            "\n",
            "CONFUSION MATRIX FOR TRAIN DATA:\n",
            "The maximum value of tpr*(1-fpr) is  0.5089391125 for threshold: 0.521\n",
            "+------------+--------------+---------------+\n",
            "|            | PREDICTED NO | PREDICTED YES |\n",
            "+------------+--------------+---------------+\n",
            "| ACTUAL NO  |    14651     |      5349     |\n",
            "+------------+--------------+---------------+\n",
            "| ACTUAL YES |     6105     |     13895     |\n",
            "+------------+--------------+---------------+\n",
            "****************************************************************************************************\n",
            "\n",
            "CONFUSION MATRIX FOR TEST DATA:\n",
            "The maximum value of tpr*(1-fpr) is  0.4515788067750722 for threshold: 0.515\n",
            "+------------+--------------+---------------+\n",
            "|            | PREDICTED NO | PREDICTED YES |\n",
            "+------------+--------------+---------------+\n",
            "| ACTUAL NO  |     1001     |      513      |\n",
            "+------------+--------------+---------------+\n",
            "| ACTUAL YES |     2690     |      5796     |\n",
            "+------------+--------------+---------------+\n"
          ],
          "name": "stdout"
        }
      ]
    },
    {
      "cell_type": "code",
      "metadata": {
        "colab_type": "code",
        "id": "LjsMRX7GZh2v",
        "outputId": "e6966ec4-3acf-4a09-f8c3-a935b40e4f6a",
        "colab": {
          "base_uri": "https://localhost:8080/",
          "height": 669
        }
      },
      "source": [
        "y_train_pred = gdt_2.predict_proba(train_set_2x)[:,1]\n",
        "y_test_pred = gdt_2.predict_proba(test_set_2x)[:,1]\n",
        "\n",
        "train_fpr, train_tpr, tr_thresholds = roc_curve(train_set_2y, y_train_pred)\n",
        "test_fpr, test_tpr, te_thresholds = roc_curve(test_set_2y, y_test_pred)\n",
        "\n",
        "tr_auc_gdt2 = auc(train_fpr, train_tpr)\n",
        "te_auc_gdt2 = auc(test_fpr, test_tpr)\n",
        "\n",
        "plt.plot(train_fpr, train_tpr, label=\"Train AUC =\"+str(tr_auc_rf2))\n",
        "plt.plot(test_fpr, test_tpr, label=\"Test AUC =\"+str(te_auc_rf2))\n",
        "plt.legend()\n",
        "plt.xlabel(\"False Positive Rate\")\n",
        "plt.ylabel(\"True Positive Rate\")\n",
        "plt.title(\"ROC CURVE FOR GBDTs ON TEST SET 2\")\n",
        "plt.grid()\n",
        "plt.show()\n",
        "\n",
        "print(\"*\"*100+'\\n')\n",
        "print(\"CONFUSION MATRIX FOR TRAIN DATA:\")\n",
        "best_t = find_best_threshold(tr_thresholds, train_fpr, train_tpr)\n",
        "conf_mat = confusion_matrix(train_set_2y, predict_with_best_t(y_train_pred, best_t))\n",
        "conf_table = PrettyTable()\n",
        "conf_table.hrules = ALL\n",
        "conf_table.field_names = ['', 'PREDICTED NO', 'PREDICTED YES']\n",
        "conf_table.add_row(['ACTUAL NO', conf_mat[0][0], conf_mat[0][1]])\n",
        "conf_table.add_row(['ACTUAL YES', conf_mat[1][0], conf_mat[1][1]])\n",
        "print(conf_table)\n",
        "print(\"*\"*100+'\\n')\n",
        "print(\"CONFUSION MATRIX FOR TEST DATA:\")\n",
        "best_t = find_best_threshold(te_thresholds, test_fpr, test_tpr)\n",
        "conf_mat = confusion_matrix(test_set_2y, predict_with_best_t(y_test_pred, best_t))\n",
        "conf_table = PrettyTable()\n",
        "conf_table.hrules = ALL\n",
        "conf_table.field_names = ['', 'PREDICTED NO', 'PREDICTED YES']\n",
        "conf_table.add_row(['ACTUAL NO', conf_mat[0][0], conf_mat[0][1]])\n",
        "conf_table.add_row(['ACTUAL YES', conf_mat[1][0], conf_mat[1][1]])\n",
        "print(conf_table)"
      ],
      "execution_count": 0,
      "outputs": [
        {
          "output_type": "display_data",
          "data": {
            "image/png": "[encoded data removed]",
            "text/plain": [
              "<Figure size 432x288 with 1 Axes>"
            ]
          },
          "metadata": {
            "tags": []
          }
        },
        {
          "output_type": "stream",
          "text": [
            "****************************************************************************************************\n",
            "\n",
            "CONFUSION MATRIX FOR TRAIN DATA:\n",
            "The maximum value of tpr*(1-fpr) is  0.5232926400000001 for threshold: 0.514\n",
            "+------------+--------------+---------------+\n",
            "|            | PREDICTED NO | PREDICTED YES |\n",
            "+------------+--------------+---------------+\n",
            "| ACTUAL NO  |    14799     |      5201     |\n",
            "+------------+--------------+---------------+\n",
            "| ACTUAL YES |     5856     |     14144     |\n",
            "+------------+--------------+---------------+\n",
            "****************************************************************************************************\n",
            "\n",
            "CONFUSION MATRIX FOR TEST DATA:\n",
            "The maximum value of tpr*(1-fpr) is  0.4541975422414601 for threshold: 0.512\n",
            "+------------+--------------+---------------+\n",
            "|            | PREDICTED NO | PREDICTED YES |\n",
            "+------------+--------------+---------------+\n",
            "| ACTUAL NO  |     997      |      517      |\n",
            "+------------+--------------+---------------+\n",
            "| ACTUAL YES |     2633     |      5853     |\n",
            "+------------+--------------+---------------+\n"
          ],
          "name": "stdout"
        }
      ]
    },
    {
      "cell_type": "code",
      "metadata": {
        "colab_type": "code",
        "id": "vRTweDD5Zh2z",
        "outputId": "9de2a785-ceca-4e9b-800e-c82ac63e8595",
        "colab": {
          "base_uri": "https://localhost:8080/",
          "height": 669
        }
      },
      "source": [
        "y_train_pred = gdt_3.predict_proba(train_set_3x)[:,1]\n",
        "y_test_pred = gdt_3.predict_proba(test_set_3x)[:,1]\n",
        "\n",
        "train_fpr, train_tpr, tr_thresholds = roc_curve(train_set_3y, y_train_pred)\n",
        "test_fpr, test_tpr, te_thresholds = roc_curve(test_set_3y, y_test_pred)\n",
        "\n",
        "tr_auc_gdt3 = auc(train_fpr, train_tpr)\n",
        "te_auc_gdt3 = auc(test_fpr, test_tpr)\n",
        "\n",
        "plt.plot(train_fpr, train_tpr, label=\"Train AUC =\"+str(tr_auc_rf3))\n",
        "plt.plot(test_fpr, test_tpr, label=\"Test AUC =\"+str(te_auc_rf3))\n",
        "plt.legend()\n",
        "plt.xlabel(\"False Positive Rate\")\n",
        "plt.ylabel(\"True Positive Rate\")\n",
        "plt.title(\"ROC CURVE FOR GBDTs ON TEST SET 3\")\n",
        "plt.grid()\n",
        "plt.show()\n",
        "\n",
        "print(\"*\"*100+'\\n')\n",
        "print(\"CONFUSION MATRIX FOR TRAIN DATA:\")\n",
        "best_t = find_best_threshold(tr_thresholds, train_fpr, train_tpr)\n",
        "conf_mat = confusion_matrix(train_set_3y, predict_with_best_t(y_train_pred, best_t))\n",
        "conf_table = PrettyTable()\n",
        "conf_table.hrules = ALL\n",
        "conf_table.field_names = ['', 'PREDICTED NO', 'PREDICTED YES']\n",
        "conf_table.add_row(['ACTUAL NO', conf_mat[0][0], conf_mat[0][1]])\n",
        "conf_table.add_row(['ACTUAL YES', conf_mat[1][0], conf_mat[1][1]])\n",
        "print(conf_table)\n",
        "print(\"*\"*100+'\\n')\n",
        "print(\"CONFUSION MATRIX FOR TEST DATA:\")\n",
        "best_t = find_best_threshold(te_thresholds, test_fpr, test_tpr)\n",
        "conf_mat = confusion_matrix(test_set_3y, predict_with_best_t(y_test_pred, best_t))\n",
        "conf_table = PrettyTable()\n",
        "conf_table.hrules = ALL\n",
        "conf_table.field_names = ['', 'PREDICTED NO', 'PREDICTED YES']\n",
        "conf_table.add_row(['ACTUAL NO', conf_mat[0][0], conf_mat[0][1]])\n",
        "conf_table.add_row(['ACTUAL YES', conf_mat[1][0], conf_mat[1][1]])\n",
        "print(conf_table)"
      ],
      "execution_count": 0,
      "outputs": [
        {
          "output_type": "display_data",
          "data": {
            "image/png": "[encoded data removed]",
            "text/plain": [
              "<Figure size 432x288 with 1 Axes>"
            ]
          },
          "metadata": {
            "tags": []
          }
        },
        {
          "output_type": "stream",
          "text": [
            "****************************************************************************************************\n",
            "\n",
            "CONFUSION MATRIX FOR TRAIN DATA:\n",
            "The maximum value of tpr*(1-fpr) is  0.615481805 for threshold: 0.497\n",
            "+------------+--------------+---------------+\n",
            "|            | PREDICTED NO | PREDICTED YES |\n",
            "+------------+--------------+---------------+\n",
            "| ACTUAL NO  |    15517     |      4483     |\n",
            "+------------+--------------+---------------+\n",
            "| ACTUAL YES |     4134     |     15866     |\n",
            "+------------+--------------+---------------+\n",
            "****************************************************************************************************\n",
            "\n",
            "CONFUSION MATRIX FOR TEST DATA:\n",
            "The maximum value of tpr*(1-fpr) is  0.45073414880862134 for threshold: 0.563\n",
            "+------------+--------------+---------------+\n",
            "|            | PREDICTED NO | PREDICTED YES |\n",
            "+------------+--------------+---------------+\n",
            "| ACTUAL NO  |     1072     |      442      |\n",
            "+------------+--------------+---------------+\n",
            "| ACTUAL YES |     3084     |      5402     |\n",
            "+------------+--------------+---------------+\n"
          ],
          "name": "stdout"
        }
      ]
    },
    {
      "cell_type": "code",
      "metadata": {
        "colab_type": "code",
        "id": "XQ0gro60Zh20",
        "outputId": "f93f91ca-cd76-4cff-99cc-520af3df0444",
        "colab": {
          "base_uri": "https://localhost:8080/",
          "height": 669
        }
      },
      "source": [
        "y_train_pred = gdt_4.predict_proba(train_set_4x)[:,1]\n",
        "y_test_pred = gdt_4.predict_proba(test_set_4x)[:,1]\n",
        "\n",
        "train_fpr, train_tpr, tr_thresholds = roc_curve(train_set_4y, y_train_pred)\n",
        "test_fpr, test_tpr, te_thresholds = roc_curve(test_set_4y, y_test_pred)\n",
        "\n",
        "tr_auc_gdt4 = auc(train_fpr, train_tpr)\n",
        "te_auc_gdt4 = auc(test_fpr, test_tpr)\n",
        "\n",
        "plt.plot(train_fpr, train_tpr, label=\"Train AUC =\"+str(tr_auc_rf4))\n",
        "plt.plot(test_fpr, test_tpr, label=\"Test AUC =\"+str(te_auc_rf4))\n",
        "plt.legend()\n",
        "plt.xlabel(\"False Positive Rate\")\n",
        "plt.ylabel(\"True Positive Rate\")\n",
        "plt.title(\"ROC CURVE FOR GBDTs ON TEST SET 4\")\n",
        "plt.grid()\n",
        "plt.show()\n",
        "\n",
        "print(\"*\"*100+'\\n')\n",
        "print(\"CONFUSION MATRIX FOR TRAIN DATA:\")\n",
        "best_t = find_best_threshold(tr_thresholds, train_fpr, train_tpr)\n",
        "conf_mat = confusion_matrix(train_set_4y, predict_with_best_t(y_train_pred, best_t))\n",
        "conf_table = PrettyTable()\n",
        "conf_table.hrules = ALL\n",
        "conf_table.field_names = ['', 'PREDICTED NO', 'PREDICTED YES']\n",
        "conf_table.add_row(['ACTUAL NO', conf_mat[0][0], conf_mat[0][1]])\n",
        "conf_table.add_row(['ACTUAL YES', conf_mat[1][0], conf_mat[1][1]])\n",
        "print(conf_table)\n",
        "print(\"*\"*100+'\\n')\n",
        "print(\"CONFUSION MATRIX FOR TEST DATA:\")\n",
        "best_t = find_best_threshold(te_thresholds, test_fpr, test_tpr)\n",
        "conf_mat = confusion_matrix(test_set_4y, predict_with_best_t(y_test_pred, best_t))\n",
        "conf_table = PrettyTable()\n",
        "conf_table.hrules = ALL\n",
        "conf_table.field_names = ['', 'PREDICTED NO', 'PREDICTED YES']\n",
        "conf_table.add_row(['ACTUAL NO', conf_mat[0][0], conf_mat[0][1]])\n",
        "conf_table.add_row(['ACTUAL YES', conf_mat[1][0], conf_mat[1][1]])\n",
        "print(conf_table)"
      ],
      "execution_count": 0,
      "outputs": [
        {
          "output_type": "display_data",
          "data": {
            "image/png": "[encoded data removed]",
            "text/plain": [
              "<Figure size 432x288 with 1 Axes>"
            ]
          },
          "metadata": {
            "tags": []
          }
        },
        {
          "output_type": "stream",
          "text": [
            "****************************************************************************************************\n",
            "\n",
            "CONFUSION MATRIX FOR TRAIN DATA:\n",
            "The maximum value of tpr*(1-fpr) is  0.545720195 for threshold: 0.508\n",
            "+------------+--------------+---------------+\n",
            "|            | PREDICTED NO | PREDICTED YES |\n",
            "+------------+--------------+---------------+\n",
            "| ACTUAL NO  |    15161     |      4839     |\n",
            "+------------+--------------+---------------+\n",
            "| ACTUAL YES |     5602     |     14398     |\n",
            "+------------+--------------+---------------+\n",
            "****************************************************************************************************\n",
            "\n",
            "CONFUSION MATRIX FOR TEST DATA:\n",
            "The maximum value of tpr*(1-fpr) is  0.4490593100579679 for threshold: 0.503\n",
            "+------------+--------------+---------------+\n",
            "|            | PREDICTED NO | PREDICTED YES |\n",
            "+------------+--------------+---------------+\n",
            "| ACTUAL NO  |     969      |      545      |\n",
            "+------------+--------------+---------------+\n",
            "| ACTUAL YES |     2532     |      5954     |\n",
            "+------------+--------------+---------------+\n"
          ],
          "name": "stdout"
        }
      ]
    },
    {
      "cell_type": "markdown",
      "metadata": {
        "id": "mXwg2WyfOWn7",
        "colab_type": "text"
      },
      "source": [
        "## 5. Summary table "
      ]
    },
    {
      "cell_type": "code",
      "metadata": {
        "id": "NxMvWhrzYxAP",
        "colab_type": "code",
        "outputId": "f2a52a70-f595-45b0-f5b5-4f4e4b13bbd3",
        "colab": {
          "base_uri": "https://localhost:8080/",
          "height": 221
        }
      },
      "source": [
        "summ = PrettyTable()\n",
        "\n",
        "summ.field_names = [\"Text Encoding\", \"Model\", \"Num of Estimators\", \"Max Depth\", \"AUC on Test data\"]\n",
        "\n",
        "summ.add_row([\"BOW\", \"Random Forests\", rf_N_1, rf_D_1, np.round(te_auc_rf1, 4)])\n",
        "summ.add_row([\"TFIDF\", \"Random Forests\", rf_N_2, rf_D_2, np.round(te_auc_rf2, 4)])\n",
        "summ.add_row([\"AVG_W2V\", \"Random Forests\", rf_N_3, rf_D_3, np.round(te_auc_rf3, 4)])\n",
        "summ.add_row([\"TFIDF_W2V\", \"Random Forests\", rf_N_4, rf_D_4, np.round(te_auc_rf4, 4)])\n",
        "summ.add_row([\"BOW\", \"Gradient Boosted Decision Trees\", gdt_N_1, gdt_D_1, np.round(te_auc_gdt1, 4)])\n",
        "summ.add_row([\"TFIDF\", \"Gradient Boosted Decision Trees\", gdt_N_2, gdt_D_2, np.round(te_auc_gdt2, 4)])\n",
        "summ.add_row([\"AVG_W2V\", \"Gradient Boosted Decision Trees\", gdt_N_3, gdt_D_3, np.round(te_auc_gdt3, 4)])\n",
        "summ.add_row([\"TFIDF_W2V\", \"Gradient Boosted Decision Trees\", gdt_N_4, gdt_D_4, np.round(te_auc_gdt4, 4)])\n",
        "\n",
        "print(summ)"
      ],
      "execution_count": 0,
      "outputs": [
        {
          "output_type": "stream",
          "text": [
            "+---------------+---------------------------------+-------------------+-----------+------------------+\n",
            "| Text Encoding |              Model              | Num of Estimators | Max Depth | AUC on Test data |\n",
            "+---------------+---------------------------------+-------------------+-----------+------------------+\n",
            "|      BOW      |          Random Forests         |        300        |     4     |      0.7035      |\n",
            "|     TFIDF     |          Random Forests         |        200        |     4     |      0.7118      |\n",
            "|    AVG_W2V    |          Random Forests         |        200        |     4     |      0.6978      |\n",
            "|   TFIDF_W2V   |          Random Forests         |        200        |     4     |      0.6825      |\n",
            "|      BOW      | Gradient Boosted Decision Trees |         50        |     4     |      0.7334      |\n",
            "|     TFIDF     | Gradient Boosted Decision Trees |         50        |     4     |      0.7314      |\n",
            "|    AVG_W2V    | Gradient Boosted Decision Trees |        100        |     4     |      0.7307      |\n",
            "|   TFIDF_W2V   | Gradient Boosted Decision Trees |         50        |     4     |      0.7249      |\n",
            "+---------------+---------------------------------+-------------------+-----------+------------------+\n"
          ],
          "name": "stdout"
        }
      ]
    }
  ]
}