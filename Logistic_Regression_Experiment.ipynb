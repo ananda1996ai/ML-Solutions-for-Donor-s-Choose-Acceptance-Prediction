{
  "nbformat": 4,
  "nbformat_minor": 0,
  "metadata": {
    "colab": {
      "name": "Logistic_Regression_Experiment.ipynb",
      "provenance": [],
      "collapsed_sections": [
        "6JpBeZ5CF1oM",
        "gNkaETDts87r",
        "pWvXZF_aGkR8",
        "Pkw2LAfLOc1g",
        "LmhLIMvdLgyZ"
      ],
      "machine_shape": "hm",
      "include_colab_link": true
    },
    "kernelspec": {
      "name": "python3",
      "display_name": "Python 3"
    },
    "accelerator": "TPU"
  },
  "cells": [
    {
      "cell_type": "markdown",
      "metadata": {
        "id": "view-in-github",
        "colab_type": "text"
      },
      "source": [
        "<a href=\"https://colab.research.google.com/github/ananda1996ai/ML-Solutions-for-Donors-Choose-Acceptance-Prediction/blob/master/Logistic_Regression_Experiment.ipynb\" target=\"_parent\"><img src=\"https://colab.research.google.com/assets/colab-badge.svg\" alt=\"Open In Colab\"/></a>"
      ]
    },
    {
      "cell_type": "markdown",
      "metadata": {
        "id": "QAzddpf0F2Wm",
        "colab_type": "text"
      },
      "source": [
        "# Logistic Regression Experiment"
      ]
    },
    {
      "cell_type": "markdown",
      "metadata": {
        "id": "etNpzy7rCyl2",
        "colab_type": "text"
      },
      "source": [
        "<p>\n",
        "DonorsChoose.org receives hundreds of thousands of project proposals each year for classroom projects in need of funding. Right now, a large number of volunteers is needed to manually screen each submission before it's approved to be posted on the DonorsChoose.org website.\n",
        "</p>\n",
        "<p>\n",
        "    Next year, DonorsChoose.org expects to receive close to 500,000 project proposals. As a result, there are three main problems they need to solve:\n",
        "<ul>\n",
        "<li>\n",
        "    How to scale current manual processes and resources to screen 500,000 projects so that they can be posted as quickly and as efficiently as possible</li>\n",
        "    <li>How to increase the consistency of project vetting across different volunteers to improve the experience for teachers</li>\n",
        "    <li>How to focus volunteer time on the applications that need the most assistance</li>\n",
        "    </ul>\n",
        "</p>    \n",
        "<p>\n",
        "The goal of the competition is to predict whether or not a DonorsChoose.org project proposal submitted by a teacher will be approved, using the text of project descriptions as well as additional metadata about the project, teacher, and school. DonorsChoose.org can then use this information to identify projects most likely to need further review before approval.\n",
        "</p>"
      ]
    },
    {
      "cell_type": "markdown",
      "metadata": {
        "id": "kO2Kg7TgCyl4",
        "colab_type": "text"
      },
      "source": [
        "## About the DonorsChoose Data Set\n",
        "\n",
        "The `train.csv` data set provided by DonorsChoose contains the following features:\n",
        "\n",
        "Feature | Description \n",
        "----------|---------------\n",
        "**`project_id`** | A unique identifier for the proposed project. **Example:** `p036502`   \n",
        "**`project_title`**    | Title of the project. **Examples:**<br><ul><li><code>Art Will Make You Happy!</code></li><li><code>First Grade Fun</code></li></ul> \n",
        "**`project_grade_category`** | Grade level of students for which the project is targeted. One of the following enumerated values: <br/><ul><li><code>Grades PreK-2</code></li><li><code>Grades 3-5</code></li><li><code>Grades 6-8</code></li><li><code>Grades 9-12</code></li></ul>  \n",
        " **`project_subject_categories`** | One or more (comma-separated) subject categories for the project from the following enumerated list of values:  <br/><ul><li><code>Applied Learning</code></li><li><code>Care &amp; Hunger</code></li><li><code>Health &amp; Sports</code></li><li><code>History &amp; Civics</code></li><li><code>Literacy &amp; Language</code></li><li><code>Math &amp; Science</code></li><li><code>Music &amp; The Arts</code></li><li><code>Special Needs</code></li><li><code>Warmth</code></li></ul><br/> **Examples:** <br/><ul><li><code>Music &amp; The Arts</code></li><li><code>Literacy &amp; Language, Math &amp; Science</code></li>  \n",
        "  **`school_state`** | State where school is located ([Two-letter U.S. postal code](https://en.wikipedia.org/wiki/List_of_U.S._state_abbreviations#Postal_codes)). **Example:** `WY`\n",
        "**`project_subject_subcategories`** | One or more (comma-separated) subject subcategories for the project. **Examples:** <br/><ul><li><code>Literacy</code></li><li><code>Literature &amp; Writing, Social Sciences</code></li></ul> \n",
        "**`project_resource_summary`** | An explanation of the resources needed for the project. **Example:** <br/><ul><li><code>My students need hands on literacy materials to manage sensory needs!</code</li></ul> \n",
        "**`project_essay_1`**    | First application essay<sup>*</sup>  \n",
        "**`project_essay_2`**    | Second application essay<sup>*</sup> \n",
        "**`project_essay_3`**    | Third application essay<sup>*</sup> \n",
        "**`project_essay_4`**    | Fourth application essay<sup>*</sup> \n",
        "**`project_submitted_datetime`** | Datetime when project application was submitted. **Example:** `2016-04-28 12:43:56.245`   \n",
        "**`teacher_id`** | A unique identifier for the teacher of the proposed project. **Example:** `bdf8baa8fedef6bfeec7ae4ff1c15c56`  \n",
        "**`teacher_prefix`** | Teacher's title. One of the following enumerated values: <br/><ul><li><code>nan</code></li><li><code>Dr.</code></li><li><code>Mr.</code></li><li><code>Mrs.</code></li><li><code>Ms.</code></li><li><code>Teacher.</code></li></ul>  \n",
        "**`teacher_number_of_previously_posted_projects`** | Number of project applications previously submitted by the same teacher. **Example:** `2` \n",
        "\n",
        "<sup>*</sup> See the section <b>Notes on the Essay Data</b> for more details about these features.\n",
        "\n",
        "Additionally, the `resources.csv` data set provides more data about the resources required for each project. Each line in this file represents a resource required by a project:\n",
        "\n",
        "Feature | Description \n",
        "----------|---------------\n",
        "**`id`** | A `project_id` value from the `train.csv` file.  **Example:** `p036502`   \n",
        "**`description`** | Desciption of the resource. **Example:** `Tenor Saxophone Reeds, Box of 25`   \n",
        "**`quantity`** | Quantity of the resource required. **Example:** `3`   \n",
        "**`price`** | Price of the resource required. **Example:** `9.95`   \n",
        "\n",
        "**Note:** Many projects require multiple resources. The `id` value corresponds to a `project_id` in train.csv, so you use it as a key to retrieve all resources needed for a project:\n",
        "\n",
        "The data set contains the following label (the value you will attempt to predict):\n",
        "\n",
        "Label | Description\n",
        "----------|---------------\n",
        "`project_is_approved` | A binary flag indicating whether DonorsChoose approved the project. A value of `0` indicates the project was not approved, and a value of `1` indicates the project was approved."
      ]
    },
    {
      "cell_type": "markdown",
      "metadata": {
        "id": "dBGA_YStCyl6",
        "colab_type": "text"
      },
      "source": [
        "### Notes on the Essay Data\n",
        "\n",
        "<ul>\n",
        "Prior to May 17, 2016, the prompts for the essays were as follows:\n",
        "<li>__project_essay_1:__ \"Introduce us to your classroom\"</li>\n",
        "<li>__project_essay_2:__ \"Tell us more about your students\"</li>\n",
        "<li>__project_essay_3:__ \"Describe how your students will use the materials you're requesting\"</li>\n",
        "<li>__project_essay_3:__ \"Close by sharing why your project will make a difference\"</li>\n",
        "</ul>\n",
        "\n",
        "\n",
        "<ul>\n",
        "Starting on May 17, 2016, the number of essays was reduced from 4 to 2, and the prompts for the first 2 essays were changed to the following:<br>\n",
        "<li>__project_essay_1:__ \"Describe your students: What makes your students special? Specific details about their background, your neighborhood, and your school are all helpful.\"</li>\n",
        "<li>__project_essay_2:__ \"About your project: How will these materials make a difference in your students' learning and improve their school lives?\"</li>\n",
        "<br>For all projects with project_submitted_datetime of 2016-05-17 and later, the values of project_essay_3 and project_essay_4 will be NaN.\n",
        "</ul>\n"
      ]
    },
    {
      "cell_type": "code",
      "metadata": {
        "id": "EctBRI5OFyWq",
        "colab_type": "code",
        "outputId": "c1ae0ba2-df0d-45ab-dfdc-c82c04da0315",
        "colab": {
          "base_uri": "https://localhost:8080/",
          "height": 105
        }
      },
      "source": [
        "%matplotlib inline\n",
        "import warnings\n",
        "warnings.filterwarnings(\"ignore\")\n",
        "\n",
        "import pandas as pd\n",
        "import numpy as np\n",
        "import nltk\n",
        "import re\n",
        "import os\n",
        "import pickle\n",
        "import math\n",
        "\n",
        "nltk.download('stopwords')\n",
        "from nltk.corpus import stopwords\n",
        "\n",
        "from tqdm import tqdm\n",
        "import matplotlib.pyplot as plt\n",
        "import seaborn as sns\n",
        "from sklearn.feature_extraction.text import TfidfVectorizer\n",
        "from sklearn.feature_extraction.text import CountVectorizer\n",
        "from sklearn.preprocessing import StandardScaler\n",
        "from collections import Counter\n",
        "from tqdm import tqdm\n",
        "\n",
        "from scipy import sparse\n",
        "\n",
        "from sklearn.externals import joblib\n",
        "\n",
        "import matplotlib.pyplot as plt\n",
        "from sklearn.utils import resample\n",
        "from sklearn.model_selection import train_test_split\n",
        "from sklearn.linear_model import LogisticRegression\n",
        "from sklearn.metrics import roc_auc_score\n",
        "from sklearn.metrics import confusion_matrix\n",
        "from sklearn import metrics\n",
        "from sklearn.metrics import roc_curve, auc\n",
        "\n",
        "from numpy.random import seed\n",
        "seed(1)\n",
        "\n",
        "from sklearn.model_selection import GridSearchCV\n",
        "from scipy.stats import randint as sp_randint\n",
        "from sklearn.model_selection import RandomizedSearchCV\n",
        "\n",
        "from prettytable import PrettyTable"
      ],
      "execution_count": 0,
      "outputs": [
        {
          "output_type": "stream",
          "text": [
            "[nltk_data] Downloading package stopwords to /root/nltk_data...\n",
            "[nltk_data]   Unzipping corpora/stopwords.zip.\n"
          ],
          "name": "stdout"
        },
        {
          "output_type": "stream",
          "text": [
            "/usr/local/lib/python3.6/dist-packages/sklearn/externals/joblib/__init__.py:15: DeprecationWarning: sklearn.externals.joblib is deprecated in 0.21 and will be removed in 0.23. Please import this functionality directly from joblib, which can be installed with: pip install joblib. If this warning is raised when loading pickled models, you may need to re-serialize those models with scikit-learn 0.21+.\n",
            "  warnings.warn(msg, category=DeprecationWarning)\n"
          ],
          "name": "stderr"
        }
      ]
    },
    {
      "cell_type": "code",
      "metadata": {
        "id": "yzfJt0fkotl_",
        "colab_type": "code",
        "outputId": "3dfb18ff-7c56-4446-f4e0-1b6f87f48838",
        "colab": {
          "base_uri": "https://localhost:8080/",
          "height": 122
        }
      },
      "source": [
        "from google.colab import drive\n",
        "drive.mount('/content/drive/')"
      ],
      "execution_count": 0,
      "outputs": [
        {
          "output_type": "stream",
          "text": [
            "Go to this URL in a browser: https://accounts.google.com/o/oauth2/auth?client_id=947318989803-6bn6qk8qdgf4n4g3pfee6491hc0brc4i.apps.googleusercontent.com&redirect_uri=urn%3Aietf%3Awg%3Aoauth%3A2.0%3Aoob&scope=email%20https%3A%2F%2Fwww.googleapis.com%2Fauth%2Fdocs.test%20https%3A%2F%2Fwww.googleapis.com%2Fauth%2Fdrive%20https%3A%2F%2Fwww.googleapis.com%2Fauth%2Fdrive.photos.readonly%20https%3A%2F%2Fwww.googleapis.com%2Fauth%2Fpeopleapi.readonly&response_type=code\n",
            "\n",
            "Enter your authorization code:\n",
            "··········\n",
            "Mounted at /content/drive/\n"
          ],
          "name": "stdout"
        }
      ]
    },
    {
      "cell_type": "markdown",
      "metadata": {
        "id": "6JpBeZ5CF1oM",
        "colab_type": "text"
      },
      "source": [
        "## 1. Getting Data"
      ]
    },
    {
      "cell_type": "markdown",
      "metadata": {
        "id": "49lorjooGFM-",
        "colab_type": "text"
      },
      "source": [
        "### 1.1 Load Datasets"
      ]
    },
    {
      "cell_type": "code",
      "metadata": {
        "id": "1af5E2-b1HyH",
        "colab_type": "code",
        "outputId": "3b11b1a2-fbf3-4fbc-8197-0e32a994207b",
        "colab": {
          "base_uri": "https://localhost:8080/"
        }
      },
      "source": [
        "project_data = pd.read_csv(\"/content/drive/My Drive/Assignment_2 drive dwnld/train_data.csv\")\n",
        "resource_data = pd.read_csv(\"/content/drive/My Drive/Assignment_2 drive dwnld/resources.csv\")\n",
        "\n",
        "price_data = resource_data.groupby('id').agg({'price':'sum', 'quantity':'sum'}).reset_index()\n",
        "dataset = pd.merge(project_data, price_data, on='id', how='left')\n",
        "\n",
        "dataset.shape"
      ],
      "execution_count": 0,
      "outputs": [
        {
          "output_type": "execute_result",
          "data": {
            "text/plain": [
              "(109248, 19)"
            ]
          },
          "metadata": {
            "tags": []
          },
          "execution_count": 3
        }
      ]
    },
    {
      "cell_type": "code",
      "metadata": {
        "id": "lWMgrrwTVCRW",
        "colab_type": "code",
        "outputId": "8e39d05d-c4a2-4ba8-e3a0-48bfdac68b8a",
        "colab": {
          "base_uri": "https://localhost:8080/"
        }
      },
      "source": [
        "dataset.head(2)"
      ],
      "execution_count": 0,
      "outputs": [
        {
          "output_type": "execute_result",
          "data": {
            "text/html": [
              "<div>\n",
              "<style scoped>\n",
              "    .dataframe tbody tr th:only-of-type {\n",
              "        vertical-align: middle;\n",
              "    }\n",
              "\n",
              "    .dataframe tbody tr th {\n",
              "        vertical-align: top;\n",
              "    }\n",
              "\n",
              "    .dataframe thead th {\n",
              "        text-align: right;\n",
              "    }\n",
              "</style>\n",
              "<table border=\"1\" class=\"dataframe\">\n",
              "  <thead>\n",
              "    <tr style=\"text-align: right;\">\n",
              "      <th></th>\n",
              "      <th>Unnamed: 0</th>\n",
              "      <th>id</th>\n",
              "      <th>teacher_id</th>\n",
              "      <th>teacher_prefix</th>\n",
              "      <th>school_state</th>\n",
              "      <th>project_submitted_datetime</th>\n",
              "      <th>project_grade_category</th>\n",
              "      <th>project_subject_categories</th>\n",
              "      <th>project_subject_subcategories</th>\n",
              "      <th>project_title</th>\n",
              "      <th>project_essay_1</th>\n",
              "      <th>project_essay_2</th>\n",
              "      <th>project_essay_3</th>\n",
              "      <th>project_essay_4</th>\n",
              "      <th>project_resource_summary</th>\n",
              "      <th>teacher_number_of_previously_posted_projects</th>\n",
              "      <th>project_is_approved</th>\n",
              "      <th>price</th>\n",
              "      <th>quantity</th>\n",
              "    </tr>\n",
              "  </thead>\n",
              "  <tbody>\n",
              "    <tr>\n",
              "      <th>0</th>\n",
              "      <td>160221</td>\n",
              "      <td>p253737</td>\n",
              "      <td>c90749f5d961ff158d4b4d1e7dc665fc</td>\n",
              "      <td>Mrs.</td>\n",
              "      <td>IN</td>\n",
              "      <td>2016-12-05 13:43:57</td>\n",
              "      <td>Grades PreK-2</td>\n",
              "      <td>Literacy &amp; Language</td>\n",
              "      <td>ESL, Literacy</td>\n",
              "      <td>Educational Support for English Learners at Home</td>\n",
              "      <td>My students are English learners that are work...</td>\n",
              "      <td>\\\"The limits of your language are the limits o...</td>\n",
              "      <td>NaN</td>\n",
              "      <td>NaN</td>\n",
              "      <td>My students need opportunities to practice beg...</td>\n",
              "      <td>0</td>\n",
              "      <td>0</td>\n",
              "      <td>154.6</td>\n",
              "      <td>23</td>\n",
              "    </tr>\n",
              "    <tr>\n",
              "      <th>1</th>\n",
              "      <td>140945</td>\n",
              "      <td>p258326</td>\n",
              "      <td>897464ce9ddc600bced1151f324dd63a</td>\n",
              "      <td>Mr.</td>\n",
              "      <td>FL</td>\n",
              "      <td>2016-10-25 09:22:10</td>\n",
              "      <td>Grades 6-8</td>\n",
              "      <td>History &amp; Civics, Health &amp; Sports</td>\n",
              "      <td>Civics &amp; Government, Team Sports</td>\n",
              "      <td>Wanted: Projector for Hungry Learners</td>\n",
              "      <td>Our students arrive to our school eager to lea...</td>\n",
              "      <td>The projector we need for our school is very c...</td>\n",
              "      <td>NaN</td>\n",
              "      <td>NaN</td>\n",
              "      <td>My students need a projector to help with view...</td>\n",
              "      <td>7</td>\n",
              "      <td>1</td>\n",
              "      <td>299.0</td>\n",
              "      <td>1</td>\n",
              "    </tr>\n",
              "  </tbody>\n",
              "</table>\n",
              "</div>"
            ],
            "text/plain": [
              "   Unnamed: 0       id  ...  price quantity\n",
              "0      160221  p253737  ...  154.6       23\n",
              "1      140945  p258326  ...  299.0        1\n",
              "\n",
              "[2 rows x 19 columns]"
            ]
          },
          "metadata": {
            "tags": []
          },
          "execution_count": 4
        }
      ]
    },
    {
      "cell_type": "markdown",
      "metadata": {
        "id": "nhVavBN_X_Qd",
        "colab_type": "text"
      },
      "source": [
        "### 1.2 Dataset Cleaning and pre-processing"
      ]
    },
    {
      "cell_type": "markdown",
      "metadata": {
        "id": "9lhFHImI746N",
        "colab_type": "text"
      },
      "source": [
        "#### 1.2.1 Dropping irrelevant data"
      ]
    },
    {
      "cell_type": "code",
      "metadata": {
        "id": "boa4YEYLcI08",
        "colab_type": "code",
        "colab": {}
      },
      "source": [
        "#For the purposes of classification, the columns 'unnamed', 'id', and 'teacher_id' must be dropped as they are unique for each record and will cause over-fitting.\n",
        "#For classification, we'll consider only numerical features, categorical features, and text festures. Thus we also drop date-time information.\n",
        "\n",
        "dataset.drop(['Unnamed: 0', 'id', 'teacher_id', 'project_submitted_datetime'], axis=1, inplace=True)\n",
        "\n",
        "#As KNN is not suitable for large datasets, we downsample to 50K points from the original dataset.\n",
        "\n",
        "dataset = resample(dataset, n_samples=50000, replace=False, stratify=dataset['project_is_approved'].values)\n",
        "dataset = dataset.reset_index()\n",
        "dataset.drop(['index'], axis=1, inplace=True)"
      ],
      "execution_count": 0,
      "outputs": []
    },
    {
      "cell_type": "code",
      "metadata": {
        "id": "UTbUoT__pynG",
        "colab_type": "code",
        "outputId": "8826ab15-2fa4-4114-9b84-b56e73a7bf01",
        "colab": {
          "base_uri": "https://localhost:8080/"
        }
      },
      "source": [
        "print(dataset.shape)\n",
        "dataset.head(2)"
      ],
      "execution_count": 0,
      "outputs": [
        {
          "output_type": "stream",
          "text": [
            "(50000, 15)\n"
          ],
          "name": "stdout"
        },
        {
          "output_type": "execute_result",
          "data": {
            "text/html": [
              "<div>\n",
              "<style scoped>\n",
              "    .dataframe tbody tr th:only-of-type {\n",
              "        vertical-align: middle;\n",
              "    }\n",
              "\n",
              "    .dataframe tbody tr th {\n",
              "        vertical-align: top;\n",
              "    }\n",
              "\n",
              "    .dataframe thead th {\n",
              "        text-align: right;\n",
              "    }\n",
              "</style>\n",
              "<table border=\"1\" class=\"dataframe\">\n",
              "  <thead>\n",
              "    <tr style=\"text-align: right;\">\n",
              "      <th></th>\n",
              "      <th>teacher_prefix</th>\n",
              "      <th>school_state</th>\n",
              "      <th>project_grade_category</th>\n",
              "      <th>project_subject_categories</th>\n",
              "      <th>project_subject_subcategories</th>\n",
              "      <th>project_title</th>\n",
              "      <th>project_essay_1</th>\n",
              "      <th>project_essay_2</th>\n",
              "      <th>project_essay_3</th>\n",
              "      <th>project_essay_4</th>\n",
              "      <th>project_resource_summary</th>\n",
              "      <th>teacher_number_of_previously_posted_projects</th>\n",
              "      <th>project_is_approved</th>\n",
              "      <th>price</th>\n",
              "      <th>quantity</th>\n",
              "    </tr>\n",
              "  </thead>\n",
              "  <tbody>\n",
              "    <tr>\n",
              "      <th>0</th>\n",
              "      <td>Mrs.</td>\n",
              "      <td>TX</td>\n",
              "      <td>Grades PreK-2</td>\n",
              "      <td>Health &amp; Sports, Literacy &amp; Language</td>\n",
              "      <td>Health &amp; Wellness, Literature &amp; Writing</td>\n",
              "      <td>Wiggle While You Learn: Flexible Seating Optio...</td>\n",
              "      <td>My second graders have learned to work coopera...</td>\n",
              "      <td>In today's classroom, we as teachers cater to ...</td>\n",
              "      <td>NaN</td>\n",
              "      <td>NaN</td>\n",
              "      <td>My students need flexible seating options that...</td>\n",
              "      <td>6</td>\n",
              "      <td>1</td>\n",
              "      <td>291.30</td>\n",
              "      <td>16</td>\n",
              "    </tr>\n",
              "    <tr>\n",
              "      <th>1</th>\n",
              "      <td>Mrs.</td>\n",
              "      <td>LA</td>\n",
              "      <td>Grades PreK-2</td>\n",
              "      <td>Literacy &amp; Language, Applied Learning</td>\n",
              "      <td>Literacy, Other</td>\n",
              "      <td>Autism Listens</td>\n",
              "      <td>are completely amazing, and teach me everyday!...</td>\n",
              "      <td>In an Autism classroom we model all day to the...</td>\n",
              "      <td>NaN</td>\n",
              "      <td>NaN</td>\n",
              "      <td>My students need a Listening Center to help br...</td>\n",
              "      <td>0</td>\n",
              "      <td>1</td>\n",
              "      <td>367.99</td>\n",
              "      <td>4</td>\n",
              "    </tr>\n",
              "  </tbody>\n",
              "</table>\n",
              "</div>"
            ],
            "text/plain": [
              "  teacher_prefix school_state  ...   price quantity\n",
              "0           Mrs.           TX  ...  291.30       16\n",
              "1           Mrs.           LA  ...  367.99        4\n",
              "\n",
              "[2 rows x 15 columns]"
            ]
          },
          "metadata": {
            "tags": []
          },
          "execution_count": 6
        }
      ]
    },
    {
      "cell_type": "markdown",
      "metadata": {
        "id": "9MIW-5A78AhZ",
        "colab_type": "text"
      },
      "source": [
        "#### 1.2.2 Text pre-processing"
      ]
    },
    {
      "cell_type": "code",
      "metadata": {
        "id": "vzLI_9oFmXDx",
        "colab_type": "code",
        "outputId": "6b61c478-99dc-4a55-a63c-047f9fb94fc4",
        "colab": {
          "base_uri": "https://localhost:8080/"
        }
      },
      "source": [
        "# https://stackoverflow.com/a/47091490/4084039\n",
        "import re\n",
        "\n",
        "def decontracted(phrase):\n",
        "  # specific\n",
        "  phrase = re.sub(r\"won't\", \"will not\", phrase)\n",
        "  phrase = re.sub(r\"can\\'t\", \"can not\", phrase)\n",
        "\n",
        "  # general\n",
        "  phrase = re.sub(r\"n\\'t\", \" not\", phrase)\n",
        "  phrase = re.sub(r\"\\'re\", \" are\", phrase)\n",
        "  phrase = re.sub(r\"\\'s\", \" is\", phrase)\n",
        "  phrase = re.sub(r\"\\'d\", \" would\", phrase)\n",
        "  phrase = re.sub(r\"\\'ll\", \" will\", phrase)\n",
        "  phrase = re.sub(r\"\\'t\", \" not\", phrase)\n",
        "  phrase = re.sub(r\"\\'ve\", \" have\", phrase)\n",
        "  phrase = re.sub(r\"\\'m\", \" am\", phrase)\n",
        "  return phrase\n",
        "\n",
        "sw = set(stopwords.words('english')) #Using NLTK list of stopwords.\n",
        "\n",
        "#PRE-PROCESSING ON ESSAYS\n",
        "\n",
        "dataset[\"essay\"] = dataset[\"project_essay_1\"].map(str) + dataset[\"project_essay_2\"].map(str) + dataset[\"project_essay_3\"].map(str) + dataset[\"project_essay_4\"].map(str)\n",
        "\n",
        "dataset.drop(['project_essay_1', 'project_essay_2', 'project_essay_3', 'project_essay_4'], axis=1, inplace=True)\n",
        "\n",
        "preprocessed_essays = []\n",
        "for sentence in tqdm(dataset['essay'].values):\n",
        "  sent = decontracted(sentence)\n",
        "  sent = sent.replace('\\\\r', ' ')\n",
        "  sent = sent.replace('\\\\\"', ' ')\n",
        "  sent = sent.replace('\\\\n', ' ')\n",
        "  sent = re.sub('[^A-Za-z0-9]+', ' ', sent)\n",
        "  # https://gist.github.com/sebleier/554280\n",
        "  sent = ' '.join(w for w in sent.split() if w not in sw)\n",
        "  preprocessed_essays.append(sent.lower().strip())\n",
        "    \n",
        "dataset[\"essay\"] = preprocessed_essays  "
      ],
      "execution_count": 0,
      "outputs": [
        {
          "output_type": "stream",
          "text": [
            "100%|██████████| 50000/50000 [00:06<00:00, 7234.13it/s]\n"
          ],
          "name": "stderr"
        }
      ]
    },
    {
      "cell_type": "code",
      "metadata": {
        "id": "LUS4ia-qFUgP",
        "colab_type": "code",
        "outputId": "2807cd51-f49b-4fcc-f30d-9081e35474a8",
        "colab": {
          "base_uri": "https://localhost:8080/"
        }
      },
      "source": [
        "#PRE-PROCESSING ON TITLES\n",
        "\n",
        "preprocessed_titles = []\n",
        "\n",
        "for sentence in tqdm(dataset['project_title'].values):\n",
        "  sent = decontracted(sentence)\n",
        "  sent = sent.replace('\\\\r', ' ')\n",
        "  sent = sent.replace('\\\\\"', ' ')\n",
        "  sent = sent.replace('\\\\n', ' ')\n",
        "  sent = re.sub('[^A-Za-z0-9]+', ' ', sent)\n",
        "  # https://gist.github.com/sebleier/554280\n",
        "  sent = ' '.join(w for w in sent.split() if w not in sw)\n",
        "  preprocessed_titles.append(sent.lower().strip())\n",
        "  \n",
        "dataset[\"project_title\"] = preprocessed_titles"
      ],
      "execution_count": 0,
      "outputs": [
        {
          "output_type": "stream",
          "text": [
            "100%|██████████| 50000/50000 [00:00<00:00, 74656.53it/s]\n"
          ],
          "name": "stderr"
        }
      ]
    },
    {
      "cell_type": "code",
      "metadata": {
        "id": "zBbU0UzNGOFm",
        "colab_type": "code",
        "outputId": "723283ab-663f-4f8c-ddaa-5d4fe772dd66",
        "colab": {
          "base_uri": "https://localhost:8080/"
        }
      },
      "source": [
        "#PRE_PROCESSING ON RESOURCE SUMMARY\n",
        "\n",
        "preprocessed_summary = []\n",
        "\n",
        "for sentence in tqdm(dataset['project_resource_summary'].values):\n",
        "  sent = decontracted(sentence)\n",
        "  sent = sent.replace('\\\\r', ' ')\n",
        "  sent = sent.replace('\\\\\"', ' ')\n",
        "  sent = sent.replace('\\\\n', ' ')\n",
        "  sent = re.sub('[^A-Za-z0-9]+', ' ', sent)\n",
        "  # https://gist.github.com/sebleier/554280\n",
        "  sent = ' '.join(w for w in sent.split() if w not in sw)\n",
        "  preprocessed_summary.append(sent.lower().strip())\n",
        "  \n",
        "dataset['project_resource_summary'] = preprocessed_summary"
      ],
      "execution_count": 0,
      "outputs": [
        {
          "output_type": "stream",
          "text": [
            "100%|██████████| 50000/50000 [00:01<00:00, 46889.18it/s]\n"
          ],
          "name": "stderr"
        }
      ]
    },
    {
      "cell_type": "markdown",
      "metadata": {
        "id": "G5-jzum9MbOr",
        "colab_type": "text"
      },
      "source": [
        "#### 1.2.3 Categorical data cleaning"
      ]
    },
    {
      "cell_type": "code",
      "metadata": {
        "id": "wUvtnwcdJZp2",
        "colab_type": "code",
        "colab": {}
      },
      "source": [
        "#Cleaning TEACHER_PREFIXES\n",
        "\n",
        "dataset['teacher_prefix'].fillna('NA', inplace=True)\n",
        "dataset['teacher_prefix'] = dataset['teacher_prefix'].apply(lambda s: s.replace('.', ''))"
      ],
      "execution_count": 0,
      "outputs": []
    },
    {
      "cell_type": "code",
      "metadata": {
        "id": "vVCF-G-MOa81",
        "colab_type": "code",
        "colab": {}
      },
      "source": [
        "#Cleaning PROJECT_GRADE_CATEGORIES\n",
        "\n",
        "dataset['project_grade_category'] = dataset['project_grade_category'].apply(lambda s: re.sub(r'[\\s\\-]+', '_', s))"
      ],
      "execution_count": 0,
      "outputs": []
    },
    {
      "cell_type": "code",
      "metadata": {
        "id": "imjoWyM0RFjr",
        "colab_type": "code",
        "outputId": "f2c9e8a1-1436-4ba3-9c49-f2e1af9d5023",
        "colab": {
          "base_uri": "https://localhost:8080/"
        }
      },
      "source": [
        "#Cleaning PROJECT_SUBJECT_CATEGORIES\n",
        "\n",
        "cat_list = []\n",
        "for category in tqdm(dataset['project_subject_categories'].values):\n",
        "  temp = \"\"\n",
        "  for j in category.split(','):\n",
        "    \n",
        "      if 'The' in j.split(): \n",
        "          j=j.replace('The','')\n",
        "          \n",
        "      j = j.replace(' ','')\n",
        "      \n",
        "      temp+=j.strip()+\" \"\n",
        "      \n",
        "      temp = temp.replace('&','_')\n",
        "      \n",
        "  cat_list.append(temp.strip())\n",
        "  \n",
        "dataset['clean_categories'] = cat_list\n",
        "dataset.drop('project_subject_categories', axis=1, inplace=True)"
      ],
      "execution_count": 0,
      "outputs": [
        {
          "output_type": "stream",
          "text": [
            "100%|██████████| 50000/50000 [00:00<00:00, 461096.97it/s]\n"
          ],
          "name": "stderr"
        }
      ]
    },
    {
      "cell_type": "code",
      "metadata": {
        "id": "BXtEKpTdTDhF",
        "colab_type": "code",
        "outputId": "78e0efc2-1258-47b0-e199-cc430c00ae94",
        "colab": {
          "base_uri": "https://localhost:8080/"
        }
      },
      "source": [
        "#Cleaning PROJECT_SUBJECT_SUBCATEGORY\n",
        "\n",
        "subcat_list = []\n",
        "for subcategory in tqdm(dataset['project_subject_subcategories'].values):\n",
        "  temp = \"\"\n",
        "  for j in subcategory.split(','):\n",
        "    \n",
        "      if 'The' in j.split(): \n",
        "          j=j.replace('The','')\n",
        "          \n",
        "      j = j.replace(' ','')\n",
        "      \n",
        "      temp+=j.strip()+\" \"\n",
        "      \n",
        "      temp = temp.replace('&','_')\n",
        "      \n",
        "  subcat_list.append(temp.strip())\n",
        "  \n",
        "dataset['clean_subcategories'] = subcat_list\n",
        "dataset.drop('project_subject_subcategories', axis=1, inplace=True)"
      ],
      "execution_count": 0,
      "outputs": [
        {
          "output_type": "stream",
          "text": [
            "100%|██████████| 50000/50000 [00:00<00:00, 438724.63it/s]\n"
          ],
          "name": "stderr"
        }
      ]
    },
    {
      "cell_type": "code",
      "metadata": {
        "id": "942CC_5ETktp",
        "colab_type": "code",
        "outputId": "c7889182-69a7-456a-c6eb-c0357e98ebcf",
        "colab": {
          "base_uri": "https://localhost:8080/"
        }
      },
      "source": [
        "dataset.head(3)"
      ],
      "execution_count": 0,
      "outputs": [
        {
          "output_type": "execute_result",
          "data": {
            "text/html": [
              "<div>\n",
              "<style scoped>\n",
              "    .dataframe tbody tr th:only-of-type {\n",
              "        vertical-align: middle;\n",
              "    }\n",
              "\n",
              "    .dataframe tbody tr th {\n",
              "        vertical-align: top;\n",
              "    }\n",
              "\n",
              "    .dataframe thead th {\n",
              "        text-align: right;\n",
              "    }\n",
              "</style>\n",
              "<table border=\"1\" class=\"dataframe\">\n",
              "  <thead>\n",
              "    <tr style=\"text-align: right;\">\n",
              "      <th></th>\n",
              "      <th>teacher_prefix</th>\n",
              "      <th>school_state</th>\n",
              "      <th>project_grade_category</th>\n",
              "      <th>project_title</th>\n",
              "      <th>project_resource_summary</th>\n",
              "      <th>teacher_number_of_previously_posted_projects</th>\n",
              "      <th>project_is_approved</th>\n",
              "      <th>price</th>\n",
              "      <th>quantity</th>\n",
              "      <th>essay</th>\n",
              "      <th>clean_categories</th>\n",
              "      <th>clean_subcategories</th>\n",
              "    </tr>\n",
              "  </thead>\n",
              "  <tbody>\n",
              "    <tr>\n",
              "      <th>0</th>\n",
              "      <td>Mrs</td>\n",
              "      <td>TX</td>\n",
              "      <td>Grades_PreK_2</td>\n",
              "      <td>wiggle while you learn flexible seating option...</td>\n",
              "      <td>my students need flexible seating options incl...</td>\n",
              "      <td>6</td>\n",
              "      <td>1</td>\n",
              "      <td>291.30</td>\n",
              "      <td>16</td>\n",
              "      <td>my second graders learned work cooperatively w...</td>\n",
              "      <td>Health_Sports Literacy_Language</td>\n",
              "      <td>Health_Wellness Literature_Writing</td>\n",
              "    </tr>\n",
              "    <tr>\n",
              "      <th>1</th>\n",
              "      <td>Mrs</td>\n",
              "      <td>LA</td>\n",
              "      <td>Grades_PreK_2</td>\n",
              "      <td>autism listens</td>\n",
              "      <td>my students need listening center help broaden...</td>\n",
              "      <td>0</td>\n",
              "      <td>1</td>\n",
              "      <td>367.99</td>\n",
              "      <td>4</td>\n",
              "      <td>completely amazing teach everyday they bravely...</td>\n",
              "      <td>Literacy_Language AppliedLearning</td>\n",
              "      <td>Literacy Other</td>\n",
              "    </tr>\n",
              "    <tr>\n",
              "      <th>2</th>\n",
              "      <td>Ms</td>\n",
              "      <td>CA</td>\n",
              "      <td>Grades_6_8</td>\n",
              "      <td>keep me active</td>\n",
              "      <td>my students need sports equipment keep active ...</td>\n",
              "      <td>33</td>\n",
              "      <td>1</td>\n",
              "      <td>78.97</td>\n",
              "      <td>16</td>\n",
              "      <td>our students come diverse backgrounds over 90 ...</td>\n",
              "      <td>Health_Sports</td>\n",
              "      <td>Gym_Fitness</td>\n",
              "    </tr>\n",
              "  </tbody>\n",
              "</table>\n",
              "</div>"
            ],
            "text/plain": [
              "  teacher_prefix  ...                 clean_subcategories\n",
              "0            Mrs  ...  Health_Wellness Literature_Writing\n",
              "1            Mrs  ...                      Literacy Other\n",
              "2             Ms  ...                         Gym_Fitness\n",
              "\n",
              "[3 rows x 12 columns]"
            ]
          },
          "metadata": {
            "tags": []
          },
          "execution_count": 14
        }
      ]
    },
    {
      "cell_type": "code",
      "metadata": {
        "id": "UYt-HGw0Tnvv",
        "colab_type": "code",
        "outputId": "80dc52f4-3555-45e7-e1e7-4980d262e3cb",
        "colab": {
          "base_uri": "https://localhost:8080/"
        }
      },
      "source": [
        "dataset.shape"
      ],
      "execution_count": 0,
      "outputs": [
        {
          "output_type": "execute_result",
          "data": {
            "text/plain": [
              "(50000, 12)"
            ]
          },
          "metadata": {
            "tags": []
          },
          "execution_count": 15
        }
      ]
    },
    {
      "cell_type": "markdown",
      "metadata": {
        "id": "Qmaj_lfFW3sE",
        "colab_type": "text"
      },
      "source": [
        "#### 1.2.4 Cleaning numerical data"
      ]
    },
    {
      "cell_type": "code",
      "metadata": {
        "id": "HhHn9goUW8vY",
        "colab_type": "code",
        "outputId": "d4564449-2ec4-47cd-bbc1-299659edad9c",
        "colab": {
          "base_uri": "https://localhost:8080/"
        }
      },
      "source": [
        "#Checking if any of the numerical features have missing values...\n",
        "isnan = []\n",
        "for f in ('teacher_number_of_previously_posted_projects', 'price', 'quantity'):\n",
        "  isnan.append(dataset[f].isna().values.any())\n",
        "  \n",
        "any(isnan)"
      ],
      "execution_count": 0,
      "outputs": [
        {
          "output_type": "execute_result",
          "data": {
            "text/plain": [
              "False"
            ]
          },
          "metadata": {
            "tags": []
          },
          "execution_count": 16
        }
      ]
    },
    {
      "cell_type": "markdown",
      "metadata": {
        "id": "5K-K8Wn0Zfd8",
        "colab_type": "text"
      },
      "source": [
        "Thus we do not have any missing values in numerical data. No cleaning required."
      ]
    },
    {
      "cell_type": "markdown",
      "metadata": {
        "id": "vIs9wvzLGKkK",
        "colab_type": "text"
      },
      "source": [
        "### 1.3 Divide data into Train, Val, Test using Stratified Sampling"
      ]
    },
    {
      "cell_type": "code",
      "metadata": {
        "id": "kYYGJBblN2QC",
        "colab_type": "code",
        "outputId": "4668eb4d-873a-46e7-99f7-b96bf495a4e5",
        "colab": {
          "base_uri": "https://localhost:8080/"
        }
      },
      "source": [
        "train_df = resample(dataset, n_samples=40000, replace=False, stratify=dataset['project_is_approved'].values)\n",
        "\n",
        "train_df.shape"
      ],
      "execution_count": 0,
      "outputs": [
        {
          "output_type": "execute_result",
          "data": {
            "text/plain": [
              "(40000, 12)"
            ]
          },
          "metadata": {
            "tags": []
          },
          "execution_count": 17
        }
      ]
    },
    {
      "cell_type": "code",
      "metadata": {
        "id": "pXnGA18rSxFd",
        "colab_type": "code",
        "outputId": "f01fed28-1b98-4600-c7ff-87f1329489a8",
        "colab": {
          "base_uri": "https://localhost:8080/"
        }
      },
      "source": [
        "dataset_idx = pd.Index(dataset.index.values)\n",
        "train_idx = pd.Index(train_df.index.values)\n",
        "rem_idx = dataset_idx.difference(train_idx)\n",
        "test_df = dataset.iloc[rem_idx]\n",
        "\n",
        "test_df.shape"
      ],
      "execution_count": 0,
      "outputs": [
        {
          "output_type": "execute_result",
          "data": {
            "text/plain": [
              "(10000, 12)"
            ]
          },
          "metadata": {
            "tags": []
          },
          "execution_count": 18
        }
      ]
    },
    {
      "cell_type": "markdown",
      "metadata": {
        "id": "yTK2rfE0GaRr",
        "colab_type": "text"
      },
      "source": [
        "### 1.4 Balance the Train data"
      ]
    },
    {
      "cell_type": "code",
      "metadata": {
        "id": "ZcSzOc2QyhP4",
        "colab_type": "code",
        "outputId": "5276139e-72a3-4e53-cd78-08b6cddd8bdc",
        "colab": {
          "base_uri": "https://localhost:8080/"
        }
      },
      "source": [
        "train_df['project_is_approved'].value_counts()"
      ],
      "execution_count": 0,
      "outputs": [
        {
          "output_type": "execute_result",
          "data": {
            "text/plain": [
              "1    33943\n",
              "0     6057\n",
              "Name: project_is_approved, dtype: int64"
            ]
          },
          "metadata": {
            "tags": []
          },
          "execution_count": 19
        }
      ]
    },
    {
      "cell_type": "code",
      "metadata": {
        "id": "hqV1iiIYnjA7",
        "colab_type": "code",
        "colab": {}
      },
      "source": [
        "#Now we balance the dataset by upsampling the minority class points. \n",
        "\n",
        "minor_data = train_df[train_df['project_is_approved']==0]\n",
        "major_data = train_df[train_df['project_is_approved']==1]\n",
        "\n",
        "minor_data_upsampled = resample(minor_data, n_samples=33943)   #Equal to the size of major class\n",
        "\n",
        "balanced_train_df = pd.concat([major_data, minor_data_upsampled])\n",
        "\n",
        "#Now, to set the dataset to a mangeable size, we sample 100K points from the balanced train data stratified on class labels.\n",
        "train_df = resample(balanced_train_df, n_samples=40000, replace=False, stratify=balanced_train_df['project_is_approved'].values)"
      ],
      "execution_count": 0,
      "outputs": []
    },
    {
      "cell_type": "code",
      "metadata": {
        "id": "fHLEQVTXlvaa",
        "colab_type": "code",
        "outputId": "7501c9a2-db51-4b1d-816b-3c41f87d3a6a",
        "colab": {
          "base_uri": "https://localhost:8080/"
        }
      },
      "source": [
        "#Now the train dataset is exactly balanced\n",
        "\n",
        "train_df['project_is_approved'].value_counts()"
      ],
      "execution_count": 0,
      "outputs": [
        {
          "output_type": "execute_result",
          "data": {
            "text/plain": [
              "1    20000\n",
              "0    20000\n",
              "Name: project_is_approved, dtype: int64"
            ]
          },
          "metadata": {
            "tags": []
          },
          "execution_count": 21
        }
      ]
    },
    {
      "cell_type": "code",
      "metadata": {
        "id": "Sq2LR_uTp7aM",
        "colab_type": "code",
        "outputId": "90e012a7-b9a2-4626-cfca-9e94c8b86270",
        "colab": {
          "base_uri": "https://localhost:8080/"
        }
      },
      "source": [
        "train_df.head(2)"
      ],
      "execution_count": 0,
      "outputs": [
        {
          "output_type": "execute_result",
          "data": {
            "text/html": [
              "<div>\n",
              "<style scoped>\n",
              "    .dataframe tbody tr th:only-of-type {\n",
              "        vertical-align: middle;\n",
              "    }\n",
              "\n",
              "    .dataframe tbody tr th {\n",
              "        vertical-align: top;\n",
              "    }\n",
              "\n",
              "    .dataframe thead th {\n",
              "        text-align: right;\n",
              "    }\n",
              "</style>\n",
              "<table border=\"1\" class=\"dataframe\">\n",
              "  <thead>\n",
              "    <tr style=\"text-align: right;\">\n",
              "      <th></th>\n",
              "      <th>teacher_prefix</th>\n",
              "      <th>school_state</th>\n",
              "      <th>project_grade_category</th>\n",
              "      <th>project_title</th>\n",
              "      <th>project_resource_summary</th>\n",
              "      <th>teacher_number_of_previously_posted_projects</th>\n",
              "      <th>project_is_approved</th>\n",
              "      <th>price</th>\n",
              "      <th>quantity</th>\n",
              "      <th>essay</th>\n",
              "      <th>clean_categories</th>\n",
              "      <th>clean_subcategories</th>\n",
              "    </tr>\n",
              "  </thead>\n",
              "  <tbody>\n",
              "    <tr>\n",
              "      <th>26419</th>\n",
              "      <td>Teacher</td>\n",
              "      <td>NC</td>\n",
              "      <td>Grades_6_8</td>\n",
              "      <td>hand bound interactive journals</td>\n",
              "      <td>my students need f handmade book binding tools...</td>\n",
              "      <td>2</td>\n",
              "      <td>1</td>\n",
              "      <td>34.09</td>\n",
              "      <td>43</td>\n",
              "      <td>as teacher large expanding school district stu...</td>\n",
              "      <td>AppliedLearning</td>\n",
              "      <td>College_CareerPrep EarlyDevelopment</td>\n",
              "    </tr>\n",
              "    <tr>\n",
              "      <th>29100</th>\n",
              "      <td>Ms</td>\n",
              "      <td>MI</td>\n",
              "      <td>Grades_9_12</td>\n",
              "      <td>read like champion</td>\n",
              "      <td>my students need classroom library foster love...</td>\n",
              "      <td>1</td>\n",
              "      <td>1</td>\n",
              "      <td>453.96</td>\n",
              "      <td>21</td>\n",
              "      <td>this fall i walking new school first chemistry...</td>\n",
              "      <td>Math_Science Literacy_Language</td>\n",
              "      <td>AppliedSciences Literacy</td>\n",
              "    </tr>\n",
              "  </tbody>\n",
              "</table>\n",
              "</div>"
            ],
            "text/plain": [
              "      teacher_prefix  ...                  clean_subcategories\n",
              "26419        Teacher  ...  College_CareerPrep EarlyDevelopment\n",
              "29100             Ms  ...             AppliedSciences Literacy\n",
              "\n",
              "[2 rows x 12 columns]"
            ]
          },
          "metadata": {
            "tags": []
          },
          "execution_count": 22
        }
      ]
    },
    {
      "cell_type": "markdown",
      "metadata": {
        "id": "gNkaETDts87r",
        "colab_type": "text"
      },
      "source": [
        "## Features for classification"
      ]
    },
    {
      "cell_type": "markdown",
      "metadata": {
        "id": "MIutN6mctJx4",
        "colab_type": "text"
      },
      "source": [
        "For classification, we are going to consider\n",
        "\n",
        "   - school_state : categorical data (One-hot encoded)\n",
        "   - clean_categories : categorical data (One-hot encoded)\n",
        "   - clean_subcategories : categorical data (One-hot encoded)\n",
        "   - project_grade_category : categorical data (One-hot encoded)\n",
        "   - teacher_prefix : categorical data (One-hot encoded)\n",
        "\n",
        "   - **project_title : text data (BOW, TFIDF, AVG_W2V, TFIDF_W2V)**\n",
        "   - **essay : text data (BOW, TFIDF, AVG_W2V, TFIDF_W2V)**\n",
        "   - project_resource_summary: text data (optional) (TFIDF)\n",
        "\n",
        "   - quantity : numerical (optional) (Vectorized)\n",
        "   - teacher_number_of_previously_posted_projects : numerical (Vectorized)\n",
        "   - price : numerical (Vectorized)"
      ]
    },
    {
      "cell_type": "markdown",
      "metadata": {
        "id": "pWvXZF_aGkR8",
        "colab_type": "text"
      },
      "source": [
        "## 2. Encoding Data"
      ]
    },
    {
      "cell_type": "markdown",
      "metadata": {
        "id": "9CGvoMkuHEY1",
        "colab_type": "text"
      },
      "source": [
        "### 2.1 Create all encoders using Train data"
      ]
    },
    {
      "cell_type": "markdown",
      "metadata": {
        "id": "O2fsN-v1uM85",
        "colab_type": "text"
      },
      "source": [
        "#### 2.1.1 Vectorizers for categorical data (One-hot encoders)"
      ]
    },
    {
      "cell_type": "code",
      "metadata": {
        "id": "Xz-KPrtxZyt-",
        "colab_type": "code",
        "outputId": "11317553-7fad-41cd-9ca6-fe2eddd29991",
        "colab": {
          "base_uri": "https://localhost:8080/"
        }
      },
      "source": [
        "#Vectorizer for CLEAN_CATEGORIES\n",
        "\n",
        "cat_list = set()\n",
        "\n",
        "for categories in train_df['clean_categories'].values:\n",
        "  for word in categories.split():\n",
        "    cat_list.add(word)\n",
        "\n",
        "cat_vectorizer = CountVectorizer(vocabulary=list(cat_list), lowercase=False, binary=True)\n",
        "cat_vectorizer.fit(train_df['clean_categories'].values)\n",
        "print(cat_vectorizer.get_feature_names())"
      ],
      "execution_count": 0,
      "outputs": [
        {
          "output_type": "stream",
          "text": [
            "['Health_Sports', 'History_Civics', 'Care_Hunger', 'AppliedLearning', 'Math_Science', 'Literacy_Language', 'SpecialNeeds', 'Music_Arts', 'Warmth']\n"
          ],
          "name": "stdout"
        }
      ]
    },
    {
      "cell_type": "code",
      "metadata": {
        "id": "9vR4giiQ4Eda",
        "colab_type": "code",
        "outputId": "459c23be-bd0e-4d49-86c7-3083e26ebd8e",
        "colab": {
          "base_uri": "https://localhost:8080/"
        }
      },
      "source": [
        "#Vectorizer for CLEAN_SUBCATEGORIES\n",
        "\n",
        "subcat_list = set()\n",
        "\n",
        "for subcategories in train_df['clean_subcategories'].values:\n",
        "  for word in subcategories.split():\n",
        "    subcat_list.add(word)\n",
        "\n",
        "subcat_vectorizer = CountVectorizer(vocabulary=list(subcat_list), lowercase=False, binary=True)\n",
        "subcat_vectorizer.fit(train_df['clean_subcategories'].values)\n",
        "print(subcat_vectorizer.get_feature_names())"
      ],
      "execution_count": 0,
      "outputs": [
        {
          "output_type": "stream",
          "text": [
            "['VisualArts', 'CommunityService', 'College_CareerPrep', 'EnvironmentalScience', 'AppliedSciences', 'NutritionEducation', 'Warmth', 'Health_LifeScience', 'SocialSciences', 'ESL', 'Music', 'PerformingArts', 'Health_Wellness', 'Economics', 'History_Geography', 'EarlyDevelopment', 'Other', 'Civics_Government', 'TeamSports', 'ForeignLanguages', 'Mathematics', 'Care_Hunger', 'Extracurricular', 'CharacterEducation', 'FinancialLiteracy', 'SpecialNeeds', 'Gym_Fitness', 'Literature_Writing', 'Literacy', 'ParentInvolvement']\n"
          ],
          "name": "stdout"
        }
      ]
    },
    {
      "cell_type": "code",
      "metadata": {
        "id": "pkd9QIQk458V",
        "colab_type": "code",
        "outputId": "ffe450d8-e801-47cb-eae8-dcae8817b6d8",
        "colab": {
          "base_uri": "https://localhost:8080/"
        }
      },
      "source": [
        "#Vectorizer for PROJECT_GRADE_CATEGORIES\n",
        "\n",
        "grades_list = set(train_df['project_grade_category'].values)\n",
        "\n",
        "grade_vectorizer = CountVectorizer(vocabulary=list(grades_list), lowercase=False, binary=True)\n",
        "grade_vectorizer.fit(train_df['project_grade_category'].values)\n",
        "print(grade_vectorizer.get_feature_names())"
      ],
      "execution_count": 0,
      "outputs": [
        {
          "output_type": "stream",
          "text": [
            "['Grades_6_8', 'Grades_PreK_2', 'Grades_3_5', 'Grades_9_12']\n"
          ],
          "name": "stdout"
        }
      ]
    },
    {
      "cell_type": "code",
      "metadata": {
        "id": "K6tfULFG5l80",
        "colab_type": "code",
        "outputId": "3f83ae84-262d-4f57-b079-62a91e212883",
        "colab": {
          "base_uri": "https://localhost:8080/"
        }
      },
      "source": [
        "#Vectorizer for SCHOOL_STATE\n",
        "\n",
        "state_list = set(train_df['school_state'].values)\n",
        "\n",
        "state_vectorizer = CountVectorizer(vocabulary=list(state_list), lowercase=False, binary=True)\n",
        "state_vectorizer.fit(train_df['school_state'].values)\n",
        "print(state_vectorizer.get_feature_names())"
      ],
      "execution_count": 0,
      "outputs": [
        {
          "output_type": "stream",
          "text": [
            "['OH', 'NY', 'OR', 'HI', 'IN', 'MI', 'KS', 'GA', 'TX', 'MD', 'WV', 'NE', 'WY', 'ME', 'MO', 'RI', 'MS', 'FL', 'MA', 'DE', 'CO', 'MT', 'AK', 'IL', 'TN', 'PA', 'NH', 'ID', 'OK', 'KY', 'CA', 'UT', 'WA', 'AR', 'ND', 'SC', 'MN', 'VA', 'AZ', 'CT', 'NJ', 'NM', 'NC', 'VT', 'DC', 'SD', 'NV', 'WI', 'LA', 'AL', 'IA']\n"
          ],
          "name": "stdout"
        }
      ]
    },
    {
      "cell_type": "code",
      "metadata": {
        "id": "Csh465Tw6YsN",
        "colab_type": "code",
        "outputId": "19773e5d-e801-4c5b-9a1d-f16d0fb05e2d",
        "colab": {
          "base_uri": "https://localhost:8080/"
        }
      },
      "source": [
        "#Vectorizer for TEACHER_PREFIX\n",
        "\n",
        "prefix_list = set(train_df['teacher_prefix'].values)\n",
        "\n",
        "pf_vectorizer = CountVectorizer(vocabulary=list(prefix_list), lowercase=False, binary=True)\n",
        "pf_vectorizer.fit(train_df['teacher_prefix'].values)\n",
        "print(pf_vectorizer.get_feature_names())"
      ],
      "execution_count": 0,
      "outputs": [
        {
          "output_type": "stream",
          "text": [
            "['Teacher', 'Dr', 'Mr', 'Mrs', 'Ms']\n"
          ],
          "name": "stdout"
        }
      ]
    },
    {
      "cell_type": "markdown",
      "metadata": {
        "id": "bZaFrce9a_2a",
        "colab_type": "text"
      },
      "source": [
        "#### 2.1.2 Vectorizers for text data (BOW, TFIDF, AVG_W2V, TFIDF_W2V)"
      ]
    },
    {
      "cell_type": "code",
      "metadata": {
        "id": "JuJJ8HJ5bJcH",
        "colab_type": "code",
        "colab": {}
      },
      "source": [
        "#BOW vectorizer for PROJECT_TITLE\n",
        "\n",
        "vectorizer = CountVectorizer(min_df=5, max_features=200)\n",
        "bow_vectrzr_title = vectorizer.fit(train_df['project_title'].values)"
      ],
      "execution_count": 0,
      "outputs": []
    },
    {
      "cell_type": "code",
      "metadata": {
        "id": "nZFevkYg0qYW",
        "colab_type": "code",
        "colab": {}
      },
      "source": [
        "#BOW vectorizer for ESSAY\n",
        "\n",
        "vectorizer = CountVectorizer(min_df=10, max_features=5000, ngram_range=(1,2))\n",
        "bow_vectrzr_essay = vectorizer.fit(train_df['essay'].values)"
      ],
      "execution_count": 0,
      "outputs": []
    },
    {
      "cell_type": "code",
      "metadata": {
        "id": "OiTpHJu1wUhT",
        "colab_type": "code",
        "colab": {}
      },
      "source": [
        "#TFIDF vectorizer for PROJECT_TITLE\n",
        "\n",
        "vectorizer = TfidfVectorizer(min_df=5, max_features=200)\n",
        "tfidf_vectrzr_title = vectorizer.fit(train_df['project_title'].values)"
      ],
      "execution_count": 0,
      "outputs": []
    },
    {
      "cell_type": "code",
      "metadata": {
        "id": "X4NQzeOl007M",
        "colab_type": "code",
        "colab": {}
      },
      "source": [
        "#TFIDF vectorizer for ESSAY\n",
        "\n",
        "vectorizer = TfidfVectorizer(min_df=10, max_features=5000, ngram_range=(1,2))\n",
        "tfidf_vectrzr_essay = vectorizer.fit(train_df['essay'].values)"
      ],
      "execution_count": 0,
      "outputs": []
    },
    {
      "cell_type": "code",
      "metadata": {
        "id": "zkCS2Ke3wtF_",
        "colab_type": "code",
        "outputId": "6af49696-3567-4285-ce90-600f37530af6",
        "colab": {
          "base_uri": "https://localhost:8080/"
        }
      },
      "source": [
        "# W2V using pre-trained model (Glove model)\n",
        "\n",
        "def loadGloveModel(gloveFile):\n",
        "  print (\"Loading Glove Model\")\n",
        "  f = open(gloveFile,'r', encoding=\"utf8\")\n",
        "  model = {}\n",
        "  for line in tqdm(f):\n",
        "      splitLine = line.split()\n",
        "      word = splitLine[0]\n",
        "      embedding = np.array([float(val) for val in splitLine[1:]])\n",
        "      model[word] = embedding\n",
        "  print (\"Done.\",len(model),\" words loaded!\")\n",
        "  return model\n",
        "\n",
        "g_model = loadGloveModel('/content/drive/My Drive/gloVe vectors/glove.42B.300d.txt')\n",
        "\n",
        "words = []\n",
        "\n",
        "for i in train_df['project_title'].values:\n",
        "  words.extend(i.split(' '))\n",
        "    \n",
        "for i in train_df['essay'].values:\n",
        "  words.extend(i.split(' '))\n",
        "\n",
        "words = set(words)\n",
        "\n",
        "words_corpus = {}\n",
        "words_glove = set(g_model.keys())\n",
        "for i in words:\n",
        "    if i in words_glove:\n",
        "        words_corpus[i] = g_model[i]\n",
        "\n",
        "with open('glove_vectors', 'wb') as f:\n",
        "    pickle.dump(words_corpus, f)"
      ],
      "execution_count": 0,
      "outputs": [
        {
          "output_type": "stream",
          "text": [
            "\r0it [00:00, ?it/s]"
          ],
          "name": "stderr"
        },
        {
          "output_type": "stream",
          "text": [
            "Loading Glove Model\n"
          ],
          "name": "stdout"
        },
        {
          "output_type": "stream",
          "text": [
            "1917495it [03:35, 8897.83it/s] \n"
          ],
          "name": "stderr"
        },
        {
          "output_type": "stream",
          "text": [
            "Done. 1917495  words loaded!\n"
          ],
          "name": "stdout"
        }
      ]
    },
    {
      "cell_type": "code",
      "metadata": {
        "id": "m5jlRvCQC9ye",
        "colab_type": "code",
        "colab": {}
      },
      "source": [
        "title_dictionary = dict(zip(tfidf_vectrzr_title.get_feature_names(), list(tfidf_vectrzr_title.idf_)))\n",
        "tfidf_title_words = set(tfidf_vectrzr_title.get_feature_names())\n",
        "\n",
        "essay_dictionary = dict(zip(tfidf_vectrzr_essay.get_feature_names(), list(tfidf_vectrzr_essay.idf_)))\n",
        "tfidf_essay_words = set(tfidf_vectrzr_essay.get_feature_names())"
      ],
      "execution_count": 0,
      "outputs": []
    },
    {
      "cell_type": "code",
      "metadata": {
        "id": "bElk6AwcL1q9",
        "colab_type": "code",
        "colab": {}
      },
      "source": [
        "#For project_resource_summary (TFIDF)\n",
        "\n",
        "vectorizer = TfidfVectorizer(min_df=5)\n",
        "tfidf_vectrzr_summ = vectorizer.fit(train_df['project_resource_summary'].values)"
      ],
      "execution_count": 0,
      "outputs": []
    },
    {
      "cell_type": "markdown",
      "metadata": {
        "id": "cwThcXGZkpeQ",
        "colab_type": "text"
      },
      "source": [
        "#### 2.1.3 Vectorizers for numerical data"
      ]
    },
    {
      "cell_type": "code",
      "metadata": {
        "id": "TolCgwu5kzRq",
        "colab_type": "code",
        "outputId": "23349730-c67e-467a-cd1e-913207569301",
        "colab": {
          "base_uri": "https://localhost:8080/"
        }
      },
      "source": [
        "#For PRICE\n",
        "\n",
        "price_scalar = StandardScaler()\n",
        "price_scalar.fit(train_df['price'].values.reshape(-1,1))\n",
        "\n",
        "\n",
        "#For QUANTITY\n",
        "\n",
        "quantity_scalar = StandardScaler()\n",
        "quantity_scalar.fit(train_df['quantity'].values.reshape(-1,1))\n",
        "\n",
        "\n",
        "#For TEACHER_NUMBER_OF_PREVIOUSLY_POSTED_PROJECTS\n",
        "\n",
        "ppost_scalar = StandardScaler()\n",
        "ppost_scalar.fit(train_df['teacher_number_of_previously_posted_projects'].values.reshape(-1,1))"
      ],
      "execution_count": 0,
      "outputs": [
        {
          "output_type": "execute_result",
          "data": {
            "text/plain": [
              "StandardScaler(copy=True, with_mean=True, with_std=True)"
            ]
          },
          "metadata": {
            "tags": []
          },
          "execution_count": 35
        }
      ]
    },
    {
      "cell_type": "markdown",
      "metadata": {
        "id": "NtVV9iJWHMwj",
        "colab_type": "text"
      },
      "source": [
        "### 2.2 Transform Train, Validation & Test data: Generate four training sets; Four val sets; Four Test sets"
      ]
    },
    {
      "cell_type": "markdown",
      "metadata": {
        "id": "HearN_5n2E4P",
        "colab_type": "text"
      },
      "source": [
        "#### 2.2.1. Transforming categorical features"
      ]
    },
    {
      "cell_type": "code",
      "metadata": {
        "id": "9o93BO9E4BPd",
        "colab_type": "code",
        "colab": {}
      },
      "source": [
        "train_df_clean_categories = cat_vectorizer.transform(train_df['clean_categories'].values)\n",
        "test_df_clean_categories = cat_vectorizer.transform(test_df['clean_categories'].values)\n",
        "\n",
        "train_df_clean_subcategories = subcat_vectorizer.transform(train_df['clean_subcategories'].values)\n",
        "test_df_clean_subcategories = subcat_vectorizer.transform(test_df['clean_subcategories'].values)\n",
        "\n",
        "train_df_project_grade_category = grade_vectorizer.transform(train_df['project_grade_category'].values)\n",
        "test_df_project_grade_category = grade_vectorizer.transform(test_df['project_grade_category'].values)\n",
        "\n",
        "train_df_school_state = state_vectorizer.transform(train_df['school_state'].values)\n",
        "test_df_school_state = state_vectorizer.transform(test_df['school_state'].values)\n",
        "\n",
        "train_df_teacher_prefix = pf_vectorizer.transform(train_df['teacher_prefix'].values)\n",
        "test_df_teacher_prefix = pf_vectorizer.transform(test_df['teacher_prefix'].values)"
      ],
      "execution_count": 0,
      "outputs": []
    },
    {
      "cell_type": "markdown",
      "metadata": {
        "id": "93agJSeGj5xg",
        "colab_type": "text"
      },
      "source": [
        "#### 2.2.2 Transforming (vectorizing) numerical features"
      ]
    },
    {
      "cell_type": "code",
      "metadata": {
        "id": "AFhwoaAYkKX9",
        "colab_type": "code",
        "colab": {}
      },
      "source": [
        "train_df_price = price_scalar.transform(train_df['price'].values.reshape(-1, 1))\n",
        "test_df_price = price_scalar.transform(test_df['price'].values.reshape(-1, 1))\n",
        "\n",
        "train_df_quantity = quantity_scalar.transform(train_df['quantity'].values.reshape(-1, 1))\n",
        "test_df_quantity = quantity_scalar.transform(test_df['quantity'].values.reshape(-1, 1))\n",
        "\n",
        "train_df_pposts = ppost_scalar.transform(train_df['teacher_number_of_previously_posted_projects'].values.reshape(-1, 1))\n",
        "test_df_pposts = ppost_scalar.transform(test_df['teacher_number_of_previously_posted_projects'].values.reshape(-1, 1))"
      ],
      "execution_count": 0,
      "outputs": []
    },
    {
      "cell_type": "markdown",
      "metadata": {
        "colab_type": "text",
        "id": "o1SnFAsanor7"
      },
      "source": [
        "#### 2.2.3 Transforming text data"
      ]
    },
    {
      "cell_type": "code",
      "metadata": {
        "id": "JSmcm08DnsRC",
        "colab_type": "code",
        "outputId": "9b5e7db9-9041-4b9d-ffd1-ade1ee0c7e3e",
        "colab": {
          "base_uri": "https://localhost:8080/"
        }
      },
      "source": [
        "#For PROJECT_TITLE\n",
        "\n",
        "#BOW\n",
        "title_train_bow = bow_vectrzr_title.transform(train_df['project_title'].values)\n",
        "title_test_bow = bow_vectrzr_title.transform(test_df['project_title'].values)\n",
        "\n",
        "#TFIDF\n",
        "title_train_tfidf = tfidf_vectrzr_title.transform(train_df['project_title'].values)\n",
        "title_test_tfidf = tfidf_vectrzr_title.transform(test_df['project_title'].values)\n",
        "\n",
        "#AVG_W2V\n",
        "title_train_aw2v = []\n",
        "title_test_aw2v = []\n",
        "\n",
        "with open('glove_vectors', 'rb') as f:\n",
        "  g_model = pickle.load(f)\n",
        "  glove_words =  set(g_model.keys())\n",
        "\n",
        "for sentence in tqdm(train_df['project_title'].values):\n",
        "  vector = np.zeros(300)\n",
        "  cnt_words =0; \n",
        "  for word in sentence.split(): \n",
        "    if word in glove_words:\n",
        "      vector += g_model[word]\n",
        "      cnt_words += 1\n",
        "  if cnt_words != 0:\n",
        "      vector /= cnt_words\n",
        "  title_train_aw2v.append(vector)\n",
        "  \n",
        "for sentence in tqdm(test_df['project_title'].values):\n",
        "  vector = np.zeros(300)\n",
        "  cnt_words =0; \n",
        "  for word in sentence.split(): \n",
        "    if word in glove_words:\n",
        "      vector += g_model[word]\n",
        "      cnt_words += 1\n",
        "  if cnt_words != 0:\n",
        "      vector /= cnt_words\n",
        "  title_test_aw2v.append(vector)\n",
        "  \n",
        "#TFIDF_W2V\n",
        "tfidf_w2v_train_title = [];\n",
        "tfidf_w2v_test_title = [];\n",
        "\n",
        "for sentence in tqdm(train_df['project_title'].values):\n",
        "  vector = np.zeros(300) \n",
        "  tf_idf_weight =0; \n",
        "  for word in sentence.split():\n",
        "    if (word in glove_words) and (word in tfidf_title_words):\n",
        "      vec = g_model[word] \n",
        "            \n",
        "      tf_idf = title_dictionary[word]*(sentence.count(word)/len(sentence.split()))\n",
        "      vector += (vec * tf_idf)\n",
        "      tf_idf_weight += tf_idf\n",
        "  if tf_idf_weight != 0:\n",
        "    vector /= tf_idf_weight\n",
        "  tfidf_w2v_train_title.append(vector)\n",
        "\n",
        "for sentence in tqdm(test_df['project_title'].values):\n",
        "  vector = np.zeros(300) \n",
        "  tf_idf_weight =0; \n",
        "  for word in sentence.split():\n",
        "    if (word in glove_words) and (word in tfidf_title_words):\n",
        "      vec = g_model[word] \n",
        "            \n",
        "      tf_idf = title_dictionary[word]*(sentence.count(word)/len(sentence.split()))\n",
        "      vector += (vec * tf_idf)\n",
        "      tf_idf_weight += tf_idf\n",
        "  if tf_idf_weight != 0:\n",
        "    vector /= tf_idf_weight\n",
        "  tfidf_w2v_test_title.append(vector)"
      ],
      "execution_count": 0,
      "outputs": [
        {
          "output_type": "stream",
          "text": [
            "100%|██████████| 40000/40000 [00:00<00:00, 68218.42it/s]\n",
            "100%|██████████| 10000/10000 [00:00<00:00, 65965.39it/s]\n",
            "100%|██████████| 40000/40000 [00:00<00:00, 56355.13it/s]\n",
            "100%|██████████| 10000/10000 [00:00<00:00, 57209.36it/s]\n"
          ],
          "name": "stderr"
        }
      ]
    },
    {
      "cell_type": "code",
      "metadata": {
        "id": "tPq8yY98wJin",
        "colab_type": "code",
        "outputId": "12a526a6-c86b-49e3-d0ee-bc9fc3079c8c",
        "colab": {
          "base_uri": "https://localhost:8080/"
        }
      },
      "source": [
        "#For ESSAY\n",
        "\n",
        "#BOW\n",
        "essay_train_bow = bow_vectrzr_essay.transform(train_df['essay'].values)\n",
        "essay_test_bow = bow_vectrzr_essay.transform(test_df['essay'].values)\n",
        "\n",
        "#TFIDF\n",
        "essay_train_tfidf = tfidf_vectrzr_essay.transform(train_df['essay'].values)\n",
        "essay_test_tfidf = tfidf_vectrzr_essay.transform(test_df['essay'].values)\n",
        "\n",
        "#AVG_W2V\n",
        "essay_train_aw2v = []\n",
        "essay_test_aw2v = []\n",
        "\n",
        "for sentence in tqdm(train_df['essay'].values):\n",
        "  vector = np.zeros(300)\n",
        "  cnt_words =0; \n",
        "  for word in sentence.split(): \n",
        "    if word in glove_words:\n",
        "      vector += g_model[word]\n",
        "      cnt_words += 1\n",
        "  if cnt_words != 0:\n",
        "      vector /= cnt_words\n",
        "  essay_train_aw2v.append(vector)\n",
        "  \n",
        "for sentence in tqdm(test_df['essay'].values):\n",
        "  vector = np.zeros(300)\n",
        "  cnt_words =0; \n",
        "  for word in sentence.split(): \n",
        "    if word in glove_words:\n",
        "      vector += g_model[word]\n",
        "      cnt_words += 1\n",
        "  if cnt_words != 0:\n",
        "      vector /= cnt_words\n",
        "  essay_test_aw2v.append(vector)\n",
        "  \n",
        "#TFIDF_W2V\n",
        "tfidf_w2v_train_essays = [];\n",
        "tfidf_w2v_test_essays = [];\n",
        "\n",
        "for sentence in tqdm(train_df['essay'].values):\n",
        "  vector = np.zeros(300) \n",
        "  tf_idf_weight =0; \n",
        "  for word in sentence.split():\n",
        "    if (word in glove_words) and (word in tfidf_essay_words):\n",
        "      vec = g_model[word] \n",
        "            \n",
        "      tf_idf = essay_dictionary[word]*(sentence.count(word)/len(sentence.split()))\n",
        "      vector += (vec * tf_idf)\n",
        "      tf_idf_weight += tf_idf\n",
        "  if tf_idf_weight != 0:\n",
        "    vector /= tf_idf_weight\n",
        "  tfidf_w2v_train_essays.append(vector)\n",
        "\n",
        "for sentence in tqdm(test_df['essay'].values):\n",
        "  vector = np.zeros(300) \n",
        "  tf_idf_weight =0; \n",
        "  for word in sentence.split():\n",
        "    if (word in glove_words) and (word in tfidf_essay_words):\n",
        "      vec = g_model[word] \n",
        "            \n",
        "      tf_idf = essay_dictionary[word]*(sentence.count(word)/len(sentence.split()))\n",
        "      vector += (vec * tf_idf)\n",
        "      tf_idf_weight += tf_idf\n",
        "  if tf_idf_weight != 0:\n",
        "    vector /= tf_idf_weight\n",
        "  tfidf_w2v_test_essays.append(vector)"
      ],
      "execution_count": 0,
      "outputs": [
        {
          "output_type": "stream",
          "text": [
            "100%|██████████| 40000/40000 [00:11<00:00, 3401.18it/s]\n",
            "100%|██████████| 10000/10000 [00:03<00:00, 3323.09it/s]\n",
            "100%|██████████| 40000/40000 [01:03<00:00, 626.53it/s]\n",
            "100%|██████████| 10000/10000 [00:16<00:00, 621.27it/s]\n"
          ],
          "name": "stderr"
        }
      ]
    },
    {
      "cell_type": "code",
      "metadata": {
        "id": "PGb4erGbHyWE",
        "colab_type": "code",
        "colab": {}
      },
      "source": [
        "#TFIDF vectorization of project_resource_summary\n",
        "\n",
        "train_df_project_resource_summary = tfidf_vectrzr_summ.transform(train_df['project_resource_summary'].values)\n",
        "test_df_project_resource_summary = tfidf_vectrzr_summ.transform(test_df['project_resource_summary'].values)"
      ],
      "execution_count": 0,
      "outputs": []
    },
    {
      "cell_type": "markdown",
      "metadata": {
        "id": "6y0JNPwzB61i",
        "colab_type": "text"
      },
      "source": [
        "#### 2.2.4 Generating the sets of data"
      ]
    },
    {
      "cell_type": "code",
      "metadata": {
        "id": "W9IJbJM0CN5D",
        "colab_type": "code",
        "colab": {}
      },
      "source": [
        "#SET_1: categorical, numerical features + project_title(BOW) + preprocessed_essay (BOW)\n",
        "train_set_1x = sparse.hstack((train_df_teacher_prefix, train_df_school_state, train_df_project_grade_category, train_df_clean_categories, train_df_clean_subcategories, train_df_price, train_df_quantity, train_df_pposts, train_df_project_resource_summary, title_train_bow, essay_train_bow))\n",
        "train_set_1y = train_df['project_is_approved'].to_numpy()\n",
        "\n",
        "test_set_1x = sparse.hstack((test_df_teacher_prefix, test_df_school_state, test_df_project_grade_category, test_df_clean_categories, test_df_clean_subcategories, test_df_price, test_df_quantity, test_df_pposts, test_df_project_resource_summary, title_test_bow, essay_test_bow))\n",
        "test_set_1y = test_df['project_is_approved'].to_numpy()"
      ],
      "execution_count": 0,
      "outputs": []
    },
    {
      "cell_type": "code",
      "metadata": {
        "id": "yhx-V_MLUCat",
        "colab_type": "code",
        "outputId": "14f37d5f-4e6b-4af4-d182-d8b13e24d8fd",
        "colab": {
          "base_uri": "https://localhost:8080/"
        }
      },
      "source": [
        "print(train_set_1x.shape)\n",
        "print(test_set_1x.shape)"
      ],
      "execution_count": 0,
      "outputs": [
        {
          "output_type": "stream",
          "text": [
            "(40000, 10773)\n",
            "(10000, 10773)\n"
          ],
          "name": "stdout"
        }
      ]
    },
    {
      "cell_type": "code",
      "metadata": {
        "id": "vUAgyVkpZR5I",
        "colab_type": "code",
        "colab": {}
      },
      "source": [
        "#SET_2: categorical, numerical features + project_title(TFIDF) + preprocessed_essay (TFIDF)\n",
        "train_set_2x = sparse.hstack((train_df_teacher_prefix, train_df_school_state, train_df_project_grade_category, train_df_clean_categories, train_df_clean_subcategories, train_df_price, train_df_quantity, train_df_pposts, train_df_project_resource_summary, title_train_tfidf, essay_train_tfidf))\n",
        "train_set_2y = train_df['project_is_approved'].to_numpy()\n",
        "\n",
        "test_set_2x = sparse.hstack((test_df_teacher_prefix, test_df_school_state, test_df_project_grade_category, test_df_clean_categories, test_df_clean_subcategories, test_df_price, test_df_quantity, test_df_pposts, test_df_project_resource_summary, title_test_tfidf, essay_test_tfidf))\n",
        "test_set_2y = test_df['project_is_approved'].to_numpy()"
      ],
      "execution_count": 0,
      "outputs": []
    },
    {
      "cell_type": "code",
      "metadata": {
        "colab_type": "code",
        "id": "O3GMMoHaZ5QF",
        "outputId": "1d214d38-5d7d-4460-a361-78c6f5d11d85",
        "colab": {
          "base_uri": "https://localhost:8080/"
        }
      },
      "source": [
        "print(train_set_2x.shape)\n",
        "print(test_set_2x.shape)"
      ],
      "execution_count": 0,
      "outputs": [
        {
          "output_type": "stream",
          "text": [
            "(40000, 10773)\n",
            "(10000, 10773)\n"
          ],
          "name": "stdout"
        }
      ]
    },
    {
      "cell_type": "code",
      "metadata": {
        "id": "QyUft91zaEt1",
        "colab_type": "code",
        "colab": {}
      },
      "source": [
        "#SET_3: categorical, numerical features + project_title(AVG_W2V) + preprocessed_essay (AVG_W2V)\n",
        "train_set_3x = sparse.hstack((train_df_teacher_prefix, train_df_school_state, train_df_project_grade_category, train_df_clean_categories, train_df_clean_subcategories, train_df_price, train_df_quantity, train_df_pposts, train_df_project_resource_summary, title_train_aw2v, essay_train_aw2v))\n",
        "train_set_3y = train_df['project_is_approved'].to_numpy()\n",
        "\n",
        "test_set_3x = sparse.hstack((test_df_teacher_prefix, test_df_school_state, test_df_project_grade_category, test_df_clean_categories, test_df_clean_subcategories, test_df_price, test_df_quantity, test_df_pposts, test_df_project_resource_summary, title_test_aw2v, essay_test_aw2v))\n",
        "test_set_3y = test_df['project_is_approved'].to_numpy()"
      ],
      "execution_count": 0,
      "outputs": []
    },
    {
      "cell_type": "code",
      "metadata": {
        "colab_type": "code",
        "id": "2G2SKYIna41Q",
        "outputId": "f29697b9-3920-4c1e-d5bc-58fd4847df5e",
        "colab": {
          "base_uri": "https://localhost:8080/"
        }
      },
      "source": [
        "print(train_set_3x.shape)\n",
        "print(test_set_3x.shape)"
      ],
      "execution_count": 0,
      "outputs": [
        {
          "output_type": "stream",
          "text": [
            "(40000, 6173)\n",
            "(10000, 6173)\n"
          ],
          "name": "stdout"
        }
      ]
    },
    {
      "cell_type": "code",
      "metadata": {
        "colab_type": "code",
        "id": "_y1PMO7ZbIf_",
        "colab": {}
      },
      "source": [
        "#SET_4: categorical, numerical features + project_title(TFIDF_W2V) + preprocessed_essay (TFIDF_W2V)\n",
        "train_set_4x = sparse.hstack((train_df_teacher_prefix, train_df_school_state, train_df_project_grade_category, train_df_clean_categories, train_df_clean_subcategories, train_df_price, train_df_quantity, train_df_pposts, train_df_project_resource_summary, tfidf_w2v_train_title, tfidf_w2v_train_essays))\n",
        "train_set_4y = train_df['project_is_approved'].to_numpy()\n",
        "\n",
        "test_set_4x = sparse.hstack((test_df_teacher_prefix, test_df_school_state, test_df_project_grade_category, test_df_clean_categories, test_df_clean_subcategories, test_df_price, test_df_quantity, test_df_pposts, test_df_project_resource_summary, tfidf_w2v_test_title, tfidf_w2v_test_essays))\n",
        "test_set_4y = test_df['project_is_approved'].to_numpy()"
      ],
      "execution_count": 0,
      "outputs": []
    },
    {
      "cell_type": "code",
      "metadata": {
        "colab_type": "code",
        "id": "-iye9RKobIgD",
        "outputId": "a473b670-56df-4a77-a9fc-dfaa88373822",
        "colab": {
          "base_uri": "https://localhost:8080/"
        }
      },
      "source": [
        "print(train_set_4x.shape)\n",
        "print(test_set_4x.shape)"
      ],
      "execution_count": 0,
      "outputs": [
        {
          "output_type": "stream",
          "text": [
            "(40000, 6173)\n",
            "(10000, 6173)\n"
          ],
          "name": "stdout"
        }
      ]
    },
    {
      "cell_type": "code",
      "metadata": {
        "id": "aVE0Qe9whosZ",
        "colab_type": "code",
        "outputId": "fe81e5c9-57cd-4d1c-c332-785a75314450",
        "colab": {
          "base_uri": "https://localhost:8080/"
        }
      },
      "source": [
        "print(type(train_set_1x))"
      ],
      "execution_count": 0,
      "outputs": [
        {
          "output_type": "stream",
          "text": [
            "<class 'scipy.sparse.coo.coo_matrix'>\n"
          ],
          "name": "stdout"
        }
      ]
    },
    {
      "cell_type": "markdown",
      "metadata": {
        "id": "seDkQPjIM4y8",
        "colab_type": "text"
      },
      "source": [
        "## 4. Applying Logistic Regression"
      ]
    },
    {
      "cell_type": "markdown",
      "metadata": {
        "id": "IGt4579JNJZP",
        "colab_type": "text"
      },
      "source": [
        "### 4.1 Simple gridsearch cross-validation for hyperparameter tuning and selection of K (Plot AUC for each k)"
      ]
    },
    {
      "cell_type": "code",
      "metadata": {
        "id": "XZjLbaim9rxc",
        "colab_type": "code",
        "outputId": "4ceb73a6-a989-43f8-9ba3-9f3e0568a223",
        "colab": {
          "base_uri": "https://localhost:8080/",
          "height": 861
        }
      },
      "source": [
        "#For SET_1\n",
        "\n",
        "lr_model = LogisticRegression(class_weight='balanced')\n",
        "parameters = {'C':[10**x for x in range(-4, 6)]}\n",
        "clf = RandomizedSearchCV(lr_model, parameters, cv=3, n_iter=10, scoring='roc_auc', verbose=2, return_train_score=True, n_jobs=10)\n",
        "clf.fit(train_set_1x, train_set_1y)\n",
        "\n",
        "results = pd.DataFrame.from_dict(clf.cv_results_)\n",
        "results_plt = results.sort_values(['param_C'])\n",
        "results = results.sort_values(['mean_test_score'], ascending=False)\n",
        "\n",
        "train_auc= results_plt['mean_train_score']\n",
        "\n",
        "cv_auc = results_plt['mean_test_score'] \n",
        "\n",
        "K =  results_plt['param_C']\n",
        "\n",
        "K = K.map(lambda c: math.log10(1/c))\n",
        "\n",
        "plt.plot(K, train_auc, label='Train AUC')\n",
        "plt.plot(K, cv_auc, label='CV AUC')\n",
        "plt.scatter(K, train_auc, label='Train AUC points')\n",
        "plt.scatter(K, cv_auc, label='CV AUC points')\n",
        "\n",
        "plt.legend()\n",
        "plt.xlabel(\"log10(alpha): hyperparameter\")\n",
        "plt.ylabel(\"AUC\")\n",
        "plt.title(\"Hyper parameter Vs AUC plot\")\n",
        "plt.grid()\n",
        "plt.show()\n",
        "\n",
        "results.head(10)"
      ],
      "execution_count": 0,
      "outputs": [
        {
          "output_type": "stream",
          "text": [
            "Fitting 3 folds for each of 10 candidates, totalling 30 fits\n"
          ],
          "name": "stdout"
        },
        {
          "output_type": "stream",
          "text": [
            "[Parallel(n_jobs=10)]: Using backend LokyBackend with 10 concurrent workers.\n",
            "[Parallel(n_jobs=10)]: Done  27 out of  30 | elapsed:  3.8min remaining:   25.6s\n",
            "[Parallel(n_jobs=10)]: Done  30 out of  30 | elapsed:  5.2min finished\n"
          ],
          "name": "stderr"
        },
        {
          "output_type": "display_data",
          "data": {
            "image/png": "[encoded data removed]",
            "text/plain": [
              "<Figure size 432x288 with 1 Axes>"
            ]
          },
          "metadata": {
            "tags": []
          }
        },
        {
          "output_type": "execute_result",
          "data": {
            "text/html": [
              "<div>\n",
              "<style scoped>\n",
              "    .dataframe tbody tr th:only-of-type {\n",
              "        vertical-align: middle;\n",
              "    }\n",
              "\n",
              "    .dataframe tbody tr th {\n",
              "        vertical-align: top;\n",
              "    }\n",
              "\n",
              "    .dataframe thead th {\n",
              "        text-align: right;\n",
              "    }\n",
              "</style>\n",
              "<table border=\"1\" class=\"dataframe\">\n",
              "  <thead>\n",
              "    <tr style=\"text-align: right;\">\n",
              "      <th></th>\n",
              "      <th>mean_fit_time</th>\n",
              "      <th>std_fit_time</th>\n",
              "      <th>mean_score_time</th>\n",
              "      <th>std_score_time</th>\n",
              "      <th>param_C</th>\n",
              "      <th>params</th>\n",
              "      <th>split0_test_score</th>\n",
              "      <th>split1_test_score</th>\n",
              "      <th>split2_test_score</th>\n",
              "      <th>mean_test_score</th>\n",
              "      <th>std_test_score</th>\n",
              "      <th>rank_test_score</th>\n",
              "      <th>split0_train_score</th>\n",
              "      <th>split1_train_score</th>\n",
              "      <th>split2_train_score</th>\n",
              "      <th>mean_train_score</th>\n",
              "      <th>std_train_score</th>\n",
              "    </tr>\n",
              "  </thead>\n",
              "  <tbody>\n",
              "    <tr>\n",
              "      <th>5</th>\n",
              "      <td>46.433156</td>\n",
              "      <td>4.432766</td>\n",
              "      <td>0.019756</td>\n",
              "      <td>0.002807</td>\n",
              "      <td>10</td>\n",
              "      <td>{'C': 10}</td>\n",
              "      <td>0.814293</td>\n",
              "      <td>0.811844</td>\n",
              "      <td>0.813564</td>\n",
              "      <td>0.813234</td>\n",
              "      <td>0.001027</td>\n",
              "      <td>1</td>\n",
              "      <td>0.987822</td>\n",
              "      <td>0.988394</td>\n",
              "      <td>0.988138</td>\n",
              "      <td>0.988118</td>\n",
              "      <td>2.338023e-04</td>\n",
              "    </tr>\n",
              "    <tr>\n",
              "      <th>4</th>\n",
              "      <td>18.544123</td>\n",
              "      <td>1.629861</td>\n",
              "      <td>0.018022</td>\n",
              "      <td>0.000277</td>\n",
              "      <td>1</td>\n",
              "      <td>{'C': 1}</td>\n",
              "      <td>0.810941</td>\n",
              "      <td>0.809217</td>\n",
              "      <td>0.811395</td>\n",
              "      <td>0.810518</td>\n",
              "      <td>0.000938</td>\n",
              "      <td>2</td>\n",
              "      <td>0.956442</td>\n",
              "      <td>0.957646</td>\n",
              "      <td>0.957111</td>\n",
              "      <td>0.957066</td>\n",
              "      <td>4.927253e-04</td>\n",
              "    </tr>\n",
              "    <tr>\n",
              "      <th>3</th>\n",
              "      <td>7.687970</td>\n",
              "      <td>0.103806</td>\n",
              "      <td>0.019236</td>\n",
              "      <td>0.000847</td>\n",
              "      <td>0.1</td>\n",
              "      <td>{'C': 0.1}</td>\n",
              "      <td>0.808802</td>\n",
              "      <td>0.808060</td>\n",
              "      <td>0.808123</td>\n",
              "      <td>0.808329</td>\n",
              "      <td>0.000336</td>\n",
              "      <td>3</td>\n",
              "      <td>0.922974</td>\n",
              "      <td>0.923490</td>\n",
              "      <td>0.923388</td>\n",
              "      <td>0.923284</td>\n",
              "      <td>2.228994e-04</td>\n",
              "    </tr>\n",
              "    <tr>\n",
              "      <th>6</th>\n",
              "      <td>155.272289</td>\n",
              "      <td>19.881910</td>\n",
              "      <td>0.017915</td>\n",
              "      <td>0.002027</td>\n",
              "      <td>100</td>\n",
              "      <td>{'C': 100}</td>\n",
              "      <td>0.801447</td>\n",
              "      <td>0.798540</td>\n",
              "      <td>0.798807</td>\n",
              "      <td>0.799598</td>\n",
              "      <td>0.001312</td>\n",
              "      <td>4</td>\n",
              "      <td>0.999930</td>\n",
              "      <td>0.999929</td>\n",
              "      <td>0.999844</td>\n",
              "      <td>0.999901</td>\n",
              "      <td>4.009909e-05</td>\n",
              "    </tr>\n",
              "    <tr>\n",
              "      <th>9</th>\n",
              "      <td>139.686952</td>\n",
              "      <td>19.535173</td>\n",
              "      <td>0.013353</td>\n",
              "      <td>0.003346</td>\n",
              "      <td>100000</td>\n",
              "      <td>{'C': 100000}</td>\n",
              "      <td>0.800371</td>\n",
              "      <td>0.792832</td>\n",
              "      <td>0.796672</td>\n",
              "      <td>0.796625</td>\n",
              "      <td>0.003078</td>\n",
              "      <td>5</td>\n",
              "      <td>0.999885</td>\n",
              "      <td>1.000000</td>\n",
              "      <td>0.999959</td>\n",
              "      <td>0.999948</td>\n",
              "      <td>4.772676e-05</td>\n",
              "    </tr>\n",
              "    <tr>\n",
              "      <th>2</th>\n",
              "      <td>3.308968</td>\n",
              "      <td>0.049098</td>\n",
              "      <td>0.018414</td>\n",
              "      <td>0.000274</td>\n",
              "      <td>0.01</td>\n",
              "      <td>{'C': 0.01}</td>\n",
              "      <td>0.794370</td>\n",
              "      <td>0.796143</td>\n",
              "      <td>0.793856</td>\n",
              "      <td>0.794790</td>\n",
              "      <td>0.000980</td>\n",
              "      <td>6</td>\n",
              "      <td>0.869969</td>\n",
              "      <td>0.869555</td>\n",
              "      <td>0.871204</td>\n",
              "      <td>0.870243</td>\n",
              "      <td>7.006553e-04</td>\n",
              "    </tr>\n",
              "    <tr>\n",
              "      <th>7</th>\n",
              "      <td>195.329034</td>\n",
              "      <td>28.183364</td>\n",
              "      <td>0.016828</td>\n",
              "      <td>0.003587</td>\n",
              "      <td>1000</td>\n",
              "      <td>{'C': 1000}</td>\n",
              "      <td>0.794856</td>\n",
              "      <td>0.790591</td>\n",
              "      <td>0.795656</td>\n",
              "      <td>0.793701</td>\n",
              "      <td>0.002223</td>\n",
              "      <td>7</td>\n",
              "      <td>1.000000</td>\n",
              "      <td>1.000000</td>\n",
              "      <td>0.999994</td>\n",
              "      <td>0.999998</td>\n",
              "      <td>2.707064e-06</td>\n",
              "    </tr>\n",
              "    <tr>\n",
              "      <th>8</th>\n",
              "      <td>186.257724</td>\n",
              "      <td>22.993726</td>\n",
              "      <td>0.018211</td>\n",
              "      <td>0.003910</td>\n",
              "      <td>10000</td>\n",
              "      <td>{'C': 10000}</td>\n",
              "      <td>0.792665</td>\n",
              "      <td>0.795934</td>\n",
              "      <td>0.789688</td>\n",
              "      <td>0.792762</td>\n",
              "      <td>0.002551</td>\n",
              "      <td>8</td>\n",
              "      <td>1.000000</td>\n",
              "      <td>0.999999</td>\n",
              "      <td>1.000000</td>\n",
              "      <td>1.000000</td>\n",
              "      <td>6.868118e-07</td>\n",
              "    </tr>\n",
              "    <tr>\n",
              "      <th>1</th>\n",
              "      <td>1.611042</td>\n",
              "      <td>0.034265</td>\n",
              "      <td>0.017470</td>\n",
              "      <td>0.001479</td>\n",
              "      <td>0.001</td>\n",
              "      <td>{'C': 0.001}</td>\n",
              "      <td>0.754553</td>\n",
              "      <td>0.757027</td>\n",
              "      <td>0.752917</td>\n",
              "      <td>0.754832</td>\n",
              "      <td>0.001689</td>\n",
              "      <td>9</td>\n",
              "      <td>0.790471</td>\n",
              "      <td>0.789412</td>\n",
              "      <td>0.791179</td>\n",
              "      <td>0.790354</td>\n",
              "      <td>7.262197e-04</td>\n",
              "    </tr>\n",
              "    <tr>\n",
              "      <th>0</th>\n",
              "      <td>0.805178</td>\n",
              "      <td>0.009312</td>\n",
              "      <td>0.019096</td>\n",
              "      <td>0.000268</td>\n",
              "      <td>0.0001</td>\n",
              "      <td>{'C': 0.0001}</td>\n",
              "      <td>0.708403</td>\n",
              "      <td>0.711880</td>\n",
              "      <td>0.706238</td>\n",
              "      <td>0.708840</td>\n",
              "      <td>0.002324</td>\n",
              "      <td>10</td>\n",
              "      <td>0.722598</td>\n",
              "      <td>0.722169</td>\n",
              "      <td>0.724516</td>\n",
              "      <td>0.723094</td>\n",
              "      <td>1.020162e-03</td>\n",
              "    </tr>\n",
              "  </tbody>\n",
              "</table>\n",
              "</div>"
            ],
            "text/plain": [
              "   mean_fit_time  std_fit_time  ...  mean_train_score  std_train_score\n",
              "5      46.433156      4.432766  ...          0.988118     2.338023e-04\n",
              "4      18.544123      1.629861  ...          0.957066     4.927253e-04\n",
              "3       7.687970      0.103806  ...          0.923284     2.228994e-04\n",
              "6     155.272289     19.881910  ...          0.999901     4.009909e-05\n",
              "9     139.686952     19.535173  ...          0.999948     4.772676e-05\n",
              "2       3.308968      0.049098  ...          0.870243     7.006553e-04\n",
              "7     195.329034     28.183364  ...          0.999998     2.707064e-06\n",
              "8     186.257724     22.993726  ...          1.000000     6.868118e-07\n",
              "1       1.611042      0.034265  ...          0.790354     7.262197e-04\n",
              "0       0.805178      0.009312  ...          0.723094     1.020162e-03\n",
              "\n",
              "[10 rows x 17 columns]"
            ]
          },
          "metadata": {
            "tags": []
          },
          "execution_count": 50
        }
      ]
    },
    {
      "cell_type": "markdown",
      "metadata": {
        "id": "lz9LQb0uHIXw",
        "colab_type": "text"
      },
      "source": [
        "We observe that for SET_1, **C = 10^(-3)** gives a small difference between train and test AUC and a test AUC of above 75% is obtained."
      ]
    },
    {
      "cell_type": "code",
      "metadata": {
        "id": "aaS4BE5hpTpV",
        "colab_type": "code",
        "colab": {}
      },
      "source": [
        "C_1 = 10**(-3)"
      ],
      "execution_count": 0,
      "outputs": []
    },
    {
      "cell_type": "code",
      "metadata": {
        "id": "uNDdAjX8FGlg",
        "colab_type": "code",
        "outputId": "12e13597-7261-4b73-8261-397d5054dfa1",
        "colab": {
          "base_uri": "https://localhost:8080/",
          "height": 861
        }
      },
      "source": [
        "#For SET_2\n",
        "\n",
        "lr_model = LogisticRegression(class_weight='balanced')\n",
        "parameters = {'C':[10**x for x in range(-4, 6)]}\n",
        "clf = RandomizedSearchCV(lr_model, parameters, cv=3, n_iter=10, scoring='roc_auc', verbose=2, return_train_score=True, n_jobs=10)\n",
        "clf.fit(train_set_2x, train_set_2y)\n",
        "\n",
        "results = pd.DataFrame.from_dict(clf.cv_results_)\n",
        "results_plt = results.sort_values(['param_C'])\n",
        "results = results.sort_values(['mean_test_score'], ascending=False)\n",
        "\n",
        "train_auc= results_plt['mean_train_score']\n",
        "\n",
        "cv_auc = results_plt['mean_test_score'] \n",
        "\n",
        "K =  results_plt['param_C']\n",
        "\n",
        "K = K.map(lambda c: math.log10(1/c))\n",
        "\n",
        "plt.plot(K, train_auc, label='Train AUC')\n",
        "plt.plot(K, cv_auc, label='CV AUC')\n",
        "plt.scatter(K, train_auc, label='Train AUC points')\n",
        "plt.scatter(K, cv_auc, label='CV AUC points')\n",
        "\n",
        "plt.legend()\n",
        "plt.xlabel(\"C: hyperparameter\")\n",
        "plt.ylabel(\"AUC\")\n",
        "plt.title(\"Hyper parameter Vs AUC plot\")\n",
        "plt.grid()\n",
        "plt.show()\n",
        "\n",
        "results.head(10)"
      ],
      "execution_count": 0,
      "outputs": [
        {
          "output_type": "stream",
          "text": [
            "Fitting 3 folds for each of 10 candidates, totalling 30 fits\n"
          ],
          "name": "stdout"
        },
        {
          "output_type": "stream",
          "text": [
            "[Parallel(n_jobs=10)]: Using backend LokyBackend with 10 concurrent workers.\n",
            "[Parallel(n_jobs=10)]: Done  27 out of  30 | elapsed:  2.2min remaining:   14.7s\n",
            "[Parallel(n_jobs=10)]: Done  30 out of  30 | elapsed:  2.9min finished\n"
          ],
          "name": "stderr"
        },
        {
          "output_type": "display_data",
          "data": {
            "image/png": "[encoded data removed]",
            "text/plain": [
              "<Figure size 432x288 with 1 Axes>"
            ]
          },
          "metadata": {
            "tags": []
          }
        },
        {
          "output_type": "execute_result",
          "data": {
            "text/html": [
              "<div>\n",
              "<style scoped>\n",
              "    .dataframe tbody tr th:only-of-type {\n",
              "        vertical-align: middle;\n",
              "    }\n",
              "\n",
              "    .dataframe tbody tr th {\n",
              "        vertical-align: top;\n",
              "    }\n",
              "\n",
              "    .dataframe thead th {\n",
              "        text-align: right;\n",
              "    }\n",
              "</style>\n",
              "<table border=\"1\" class=\"dataframe\">\n",
              "  <thead>\n",
              "    <tr style=\"text-align: right;\">\n",
              "      <th></th>\n",
              "      <th>mean_fit_time</th>\n",
              "      <th>std_fit_time</th>\n",
              "      <th>mean_score_time</th>\n",
              "      <th>std_score_time</th>\n",
              "      <th>param_C</th>\n",
              "      <th>params</th>\n",
              "      <th>split0_test_score</th>\n",
              "      <th>split1_test_score</th>\n",
              "      <th>split2_test_score</th>\n",
              "      <th>mean_test_score</th>\n",
              "      <th>std_test_score</th>\n",
              "      <th>rank_test_score</th>\n",
              "      <th>split0_train_score</th>\n",
              "      <th>split1_train_score</th>\n",
              "      <th>split2_train_score</th>\n",
              "      <th>mean_train_score</th>\n",
              "      <th>std_train_score</th>\n",
              "    </tr>\n",
              "  </thead>\n",
              "  <tbody>\n",
              "    <tr>\n",
              "      <th>5</th>\n",
              "      <td>18.720280</td>\n",
              "      <td>0.130920</td>\n",
              "      <td>0.018356</td>\n",
              "      <td>0.000439</td>\n",
              "      <td>10</td>\n",
              "      <td>{'C': 10}</td>\n",
              "      <td>0.851928</td>\n",
              "      <td>0.849708</td>\n",
              "      <td>0.846551</td>\n",
              "      <td>0.849396</td>\n",
              "      <td>0.002206</td>\n",
              "      <td>1</td>\n",
              "      <td>0.979003</td>\n",
              "      <td>0.979144</td>\n",
              "      <td>0.978721</td>\n",
              "      <td>0.978956</td>\n",
              "      <td>1.759747e-04</td>\n",
              "    </tr>\n",
              "    <tr>\n",
              "      <th>4</th>\n",
              "      <td>7.423568</td>\n",
              "      <td>0.729095</td>\n",
              "      <td>0.019338</td>\n",
              "      <td>0.001669</td>\n",
              "      <td>1</td>\n",
              "      <td>{'C': 1}</td>\n",
              "      <td>0.833742</td>\n",
              "      <td>0.834154</td>\n",
              "      <td>0.830239</td>\n",
              "      <td>0.832712</td>\n",
              "      <td>0.001757</td>\n",
              "      <td>2</td>\n",
              "      <td>0.924087</td>\n",
              "      <td>0.924998</td>\n",
              "      <td>0.925521</td>\n",
              "      <td>0.924869</td>\n",
              "      <td>5.927322e-04</td>\n",
              "    </tr>\n",
              "    <tr>\n",
              "      <th>6</th>\n",
              "      <td>46.845203</td>\n",
              "      <td>6.312229</td>\n",
              "      <td>0.020869</td>\n",
              "      <td>0.002689</td>\n",
              "      <td>100</td>\n",
              "      <td>{'C': 100}</td>\n",
              "      <td>0.835198</td>\n",
              "      <td>0.829368</td>\n",
              "      <td>0.826148</td>\n",
              "      <td>0.830238</td>\n",
              "      <td>0.003745</td>\n",
              "      <td>3</td>\n",
              "      <td>0.998517</td>\n",
              "      <td>0.998351</td>\n",
              "      <td>0.997947</td>\n",
              "      <td>0.998272</td>\n",
              "      <td>2.395383e-04</td>\n",
              "    </tr>\n",
              "    <tr>\n",
              "      <th>7</th>\n",
              "      <td>99.280330</td>\n",
              "      <td>15.808118</td>\n",
              "      <td>0.017588</td>\n",
              "      <td>0.002752</td>\n",
              "      <td>1000</td>\n",
              "      <td>{'C': 1000}</td>\n",
              "      <td>0.816389</td>\n",
              "      <td>0.810313</td>\n",
              "      <td>0.805537</td>\n",
              "      <td>0.810747</td>\n",
              "      <td>0.004441</td>\n",
              "      <td>4</td>\n",
              "      <td>1.000000</td>\n",
              "      <td>1.000000</td>\n",
              "      <td>1.000000</td>\n",
              "      <td>1.000000</td>\n",
              "      <td>1.060554e-08</td>\n",
              "    </tr>\n",
              "    <tr>\n",
              "      <th>8</th>\n",
              "      <td>121.162537</td>\n",
              "      <td>11.365974</td>\n",
              "      <td>0.014105</td>\n",
              "      <td>0.000546</td>\n",
              "      <td>10000</td>\n",
              "      <td>{'C': 10000}</td>\n",
              "      <td>0.809442</td>\n",
              "      <td>0.803759</td>\n",
              "      <td>0.798921</td>\n",
              "      <td>0.804041</td>\n",
              "      <td>0.004300</td>\n",
              "      <td>5</td>\n",
              "      <td>1.000000</td>\n",
              "      <td>1.000000</td>\n",
              "      <td>1.000000</td>\n",
              "      <td>1.000000</td>\n",
              "      <td>0.000000e+00</td>\n",
              "    </tr>\n",
              "    <tr>\n",
              "      <th>9</th>\n",
              "      <td>112.627775</td>\n",
              "      <td>11.332671</td>\n",
              "      <td>0.015136</td>\n",
              "      <td>0.003998</td>\n",
              "      <td>100000</td>\n",
              "      <td>{'C': 100000}</td>\n",
              "      <td>0.807547</td>\n",
              "      <td>0.802415</td>\n",
              "      <td>0.796347</td>\n",
              "      <td>0.802103</td>\n",
              "      <td>0.004578</td>\n",
              "      <td>6</td>\n",
              "      <td>1.000000</td>\n",
              "      <td>1.000000</td>\n",
              "      <td>1.000000</td>\n",
              "      <td>1.000000</td>\n",
              "      <td>0.000000e+00</td>\n",
              "    </tr>\n",
              "    <tr>\n",
              "      <th>3</th>\n",
              "      <td>3.797994</td>\n",
              "      <td>0.198183</td>\n",
              "      <td>0.020011</td>\n",
              "      <td>0.001501</td>\n",
              "      <td>0.1</td>\n",
              "      <td>{'C': 0.1}</td>\n",
              "      <td>0.775334</td>\n",
              "      <td>0.772714</td>\n",
              "      <td>0.769103</td>\n",
              "      <td>0.772384</td>\n",
              "      <td>0.002555</td>\n",
              "      <td>7</td>\n",
              "      <td>0.821864</td>\n",
              "      <td>0.821747</td>\n",
              "      <td>0.822586</td>\n",
              "      <td>0.822066</td>\n",
              "      <td>3.711778e-04</td>\n",
              "    </tr>\n",
              "    <tr>\n",
              "      <th>2</th>\n",
              "      <td>1.911380</td>\n",
              "      <td>0.054228</td>\n",
              "      <td>0.018547</td>\n",
              "      <td>0.000464</td>\n",
              "      <td>0.01</td>\n",
              "      <td>{'C': 0.01}</td>\n",
              "      <td>0.707951</td>\n",
              "      <td>0.704121</td>\n",
              "      <td>0.692496</td>\n",
              "      <td>0.701523</td>\n",
              "      <td>0.006571</td>\n",
              "      <td>8</td>\n",
              "      <td>0.717836</td>\n",
              "      <td>0.719983</td>\n",
              "      <td>0.721713</td>\n",
              "      <td>0.719844</td>\n",
              "      <td>1.585904e-03</td>\n",
              "    </tr>\n",
              "    <tr>\n",
              "      <th>1</th>\n",
              "      <td>0.945710</td>\n",
              "      <td>0.055898</td>\n",
              "      <td>0.019319</td>\n",
              "      <td>0.000559</td>\n",
              "      <td>0.001</td>\n",
              "      <td>{'C': 0.001}</td>\n",
              "      <td>0.652212</td>\n",
              "      <td>0.652801</td>\n",
              "      <td>0.635394</td>\n",
              "      <td>0.646803</td>\n",
              "      <td>0.008070</td>\n",
              "      <td>9</td>\n",
              "      <td>0.648845</td>\n",
              "      <td>0.650674</td>\n",
              "      <td>0.656799</td>\n",
              "      <td>0.652106</td>\n",
              "      <td>3.401666e-03</td>\n",
              "    </tr>\n",
              "    <tr>\n",
              "      <th>0</th>\n",
              "      <td>0.515047</td>\n",
              "      <td>0.016177</td>\n",
              "      <td>0.017327</td>\n",
              "      <td>0.001395</td>\n",
              "      <td>0.0001</td>\n",
              "      <td>{'C': 0.0001}</td>\n",
              "      <td>0.638396</td>\n",
              "      <td>0.639101</td>\n",
              "      <td>0.622106</td>\n",
              "      <td>0.633202</td>\n",
              "      <td>0.007850</td>\n",
              "      <td>10</td>\n",
              "      <td>0.632265</td>\n",
              "      <td>0.633010</td>\n",
              "      <td>0.640860</td>\n",
              "      <td>0.635378</td>\n",
              "      <td>3.888265e-03</td>\n",
              "    </tr>\n",
              "  </tbody>\n",
              "</table>\n",
              "</div>"
            ],
            "text/plain": [
              "   mean_fit_time  std_fit_time  ...  mean_train_score  std_train_score\n",
              "5      18.720280      0.130920  ...          0.978956     1.759747e-04\n",
              "4       7.423568      0.729095  ...          0.924869     5.927322e-04\n",
              "6      46.845203      6.312229  ...          0.998272     2.395383e-04\n",
              "7      99.280330     15.808118  ...          1.000000     1.060554e-08\n",
              "8     121.162537     11.365974  ...          1.000000     0.000000e+00\n",
              "9     112.627775     11.332671  ...          1.000000     0.000000e+00\n",
              "3       3.797994      0.198183  ...          0.822066     3.711778e-04\n",
              "2       1.911380      0.054228  ...          0.719844     1.585904e-03\n",
              "1       0.945710      0.055898  ...          0.652106     3.401666e-03\n",
              "0       0.515047      0.016177  ...          0.635378     3.888265e-03\n",
              "\n",
              "[10 rows x 17 columns]"
            ]
          },
          "metadata": {
            "tags": []
          },
          "execution_count": 51
        }
      ]
    },
    {
      "cell_type": "markdown",
      "metadata": {
        "id": "LuuhZjP8ecqm",
        "colab_type": "text"
      },
      "source": [
        "We observe that on SET_2, **C = 10^(-2)** gives a small difference between train and test AUC and a test AUC of above 70% is obtained."
      ]
    },
    {
      "cell_type": "code",
      "metadata": {
        "id": "J49Ddv0TepHe",
        "colab_type": "code",
        "colab": {}
      },
      "source": [
        "C_2 = 10**(-2)"
      ],
      "execution_count": 0,
      "outputs": []
    },
    {
      "cell_type": "code",
      "metadata": {
        "id": "bv_DAedxF2_A",
        "colab_type": "code",
        "outputId": "ff9e7e73-66bc-4ab0-fa8d-8ad2a0899508",
        "colab": {
          "base_uri": "https://localhost:8080/",
          "height": 861
        }
      },
      "source": [
        "#For SET_3\n",
        "\n",
        "lr_model = LogisticRegression(class_weight='balanced')\n",
        "parameters = {'C':[10**x for x in range(-4, 6)]}\n",
        "clf = RandomizedSearchCV(lr_model, parameters, cv=3, n_iter=10, scoring='roc_auc', verbose=2, return_train_score=True, n_jobs=10)\n",
        "clf.fit(train_set_3x, train_set_3y)\n",
        "\n",
        "results = pd.DataFrame.from_dict(clf.cv_results_)\n",
        "results_plt = results.sort_values(['param_C'])\n",
        "results = results.sort_values(['mean_test_score'], ascending=False)\n",
        "\n",
        "train_auc= results_plt['mean_train_score']\n",
        "\n",
        "cv_auc = results_plt['mean_test_score'] \n",
        "\n",
        "K =  results_plt['param_C']\n",
        "\n",
        "K = K.map(lambda c: math.log10(1/c))\n",
        "\n",
        "plt.plot(K, train_auc, label='Train AUC')\n",
        "plt.plot(K, cv_auc, label='CV AUC')\n",
        "plt.scatter(K, train_auc, label='Train AUC points')\n",
        "plt.scatter(K, cv_auc, label='CV AUC points')\n",
        "\n",
        "plt.legend()\n",
        "plt.xlabel(\"C: hyperparameter\")\n",
        "plt.ylabel(\"AUC\")\n",
        "plt.title(\"Hyper parameter Vs AUC plot\")\n",
        "plt.grid()\n",
        "plt.show()\n",
        "\n",
        "results.head(10)"
      ],
      "execution_count": 0,
      "outputs": [
        {
          "output_type": "stream",
          "text": [
            "Fitting 3 folds for each of 10 candidates, totalling 30 fits\n"
          ],
          "name": "stdout"
        },
        {
          "output_type": "stream",
          "text": [
            "[Parallel(n_jobs=10)]: Using backend LokyBackend with 10 concurrent workers.\n",
            "[Parallel(n_jobs=10)]: Done  27 out of  30 | elapsed: 17.7min remaining:  2.0min\n",
            "[Parallel(n_jobs=10)]: Done  30 out of  30 | elapsed: 26.3min finished\n"
          ],
          "name": "stderr"
        },
        {
          "output_type": "display_data",
          "data": {
            "image/png": "[encoded data removed]",
            "text/plain": [
              "<Figure size 432x288 with 1 Axes>"
            ]
          },
          "metadata": {
            "tags": []
          }
        },
        {
          "output_type": "execute_result",
          "data": {
            "text/html": [
              "<div>\n",
              "<style scoped>\n",
              "    .dataframe tbody tr th:only-of-type {\n",
              "        vertical-align: middle;\n",
              "    }\n",
              "\n",
              "    .dataframe tbody tr th {\n",
              "        vertical-align: top;\n",
              "    }\n",
              "\n",
              "    .dataframe thead th {\n",
              "        text-align: right;\n",
              "    }\n",
              "</style>\n",
              "<table border=\"1\" class=\"dataframe\">\n",
              "  <thead>\n",
              "    <tr style=\"text-align: right;\">\n",
              "      <th></th>\n",
              "      <th>mean_fit_time</th>\n",
              "      <th>std_fit_time</th>\n",
              "      <th>mean_score_time</th>\n",
              "      <th>std_score_time</th>\n",
              "      <th>param_C</th>\n",
              "      <th>params</th>\n",
              "      <th>split0_test_score</th>\n",
              "      <th>split1_test_score</th>\n",
              "      <th>split2_test_score</th>\n",
              "      <th>mean_test_score</th>\n",
              "      <th>std_test_score</th>\n",
              "      <th>rank_test_score</th>\n",
              "      <th>split0_train_score</th>\n",
              "      <th>split1_train_score</th>\n",
              "      <th>split2_train_score</th>\n",
              "      <th>mean_train_score</th>\n",
              "      <th>std_train_score</th>\n",
              "    </tr>\n",
              "  </thead>\n",
              "  <tbody>\n",
              "    <tr>\n",
              "      <th>5</th>\n",
              "      <td>71.834579</td>\n",
              "      <td>5.586059</td>\n",
              "      <td>0.034903</td>\n",
              "      <td>0.002279</td>\n",
              "      <td>10</td>\n",
              "      <td>{'C': 10}</td>\n",
              "      <td>0.813050</td>\n",
              "      <td>0.813668</td>\n",
              "      <td>0.806623</td>\n",
              "      <td>0.811114</td>\n",
              "      <td>0.003186</td>\n",
              "      <td>1</td>\n",
              "      <td>0.913326</td>\n",
              "      <td>0.913490</td>\n",
              "      <td>0.913337</td>\n",
              "      <td>0.913384</td>\n",
              "      <td>0.000075</td>\n",
              "    </tr>\n",
              "    <tr>\n",
              "      <th>6</th>\n",
              "      <td>164.057746</td>\n",
              "      <td>21.618927</td>\n",
              "      <td>0.033057</td>\n",
              "      <td>0.002729</td>\n",
              "      <td>100</td>\n",
              "      <td>{'C': 100}</td>\n",
              "      <td>0.810711</td>\n",
              "      <td>0.810215</td>\n",
              "      <td>0.803948</td>\n",
              "      <td>0.808291</td>\n",
              "      <td>0.003078</td>\n",
              "      <td>2</td>\n",
              "      <td>0.934888</td>\n",
              "      <td>0.934860</td>\n",
              "      <td>0.934572</td>\n",
              "      <td>0.934773</td>\n",
              "      <td>0.000143</td>\n",
              "    </tr>\n",
              "    <tr>\n",
              "      <th>7</th>\n",
              "      <td>373.376314</td>\n",
              "      <td>44.417317</td>\n",
              "      <td>0.040255</td>\n",
              "      <td>0.007886</td>\n",
              "      <td>1000</td>\n",
              "      <td>{'C': 1000}</td>\n",
              "      <td>0.802631</td>\n",
              "      <td>0.802583</td>\n",
              "      <td>0.797136</td>\n",
              "      <td>0.800784</td>\n",
              "      <td>0.002579</td>\n",
              "      <td>3</td>\n",
              "      <td>0.941421</td>\n",
              "      <td>0.941867</td>\n",
              "      <td>0.941374</td>\n",
              "      <td>0.941554</td>\n",
              "      <td>0.000222</td>\n",
              "    </tr>\n",
              "    <tr>\n",
              "      <th>8</th>\n",
              "      <td>900.929040</td>\n",
              "      <td>90.922484</td>\n",
              "      <td>0.087817</td>\n",
              "      <td>0.005590</td>\n",
              "      <td>10000</td>\n",
              "      <td>{'C': 10000}</td>\n",
              "      <td>0.797851</td>\n",
              "      <td>0.798649</td>\n",
              "      <td>0.794009</td>\n",
              "      <td>0.796836</td>\n",
              "      <td>0.002026</td>\n",
              "      <td>4</td>\n",
              "      <td>0.942892</td>\n",
              "      <td>0.943669</td>\n",
              "      <td>0.942913</td>\n",
              "      <td>0.943158</td>\n",
              "      <td>0.000361</td>\n",
              "    </tr>\n",
              "    <tr>\n",
              "      <th>9</th>\n",
              "      <td>1281.639295</td>\n",
              "      <td>120.811486</td>\n",
              "      <td>0.084612</td>\n",
              "      <td>0.004543</td>\n",
              "      <td>100000</td>\n",
              "      <td>{'C': 100000}</td>\n",
              "      <td>0.796344</td>\n",
              "      <td>0.797409</td>\n",
              "      <td>0.792865</td>\n",
              "      <td>0.795539</td>\n",
              "      <td>0.001940</td>\n",
              "      <td>5</td>\n",
              "      <td>0.943128</td>\n",
              "      <td>0.944009</td>\n",
              "      <td>0.943156</td>\n",
              "      <td>0.943431</td>\n",
              "      <td>0.000409</td>\n",
              "    </tr>\n",
              "    <tr>\n",
              "      <th>4</th>\n",
              "      <td>29.242148</td>\n",
              "      <td>2.277272</td>\n",
              "      <td>0.036251</td>\n",
              "      <td>0.002311</td>\n",
              "      <td>1</td>\n",
              "      <td>{'C': 1}</td>\n",
              "      <td>0.792813</td>\n",
              "      <td>0.793786</td>\n",
              "      <td>0.786783</td>\n",
              "      <td>0.791128</td>\n",
              "      <td>0.003097</td>\n",
              "      <td>6</td>\n",
              "      <td>0.861654</td>\n",
              "      <td>0.861359</td>\n",
              "      <td>0.862233</td>\n",
              "      <td>0.861749</td>\n",
              "      <td>0.000363</td>\n",
              "    </tr>\n",
              "    <tr>\n",
              "      <th>3</th>\n",
              "      <td>13.309890</td>\n",
              "      <td>0.137541</td>\n",
              "      <td>0.035773</td>\n",
              "      <td>0.002892</td>\n",
              "      <td>0.1</td>\n",
              "      <td>{'C': 0.1}</td>\n",
              "      <td>0.756203</td>\n",
              "      <td>0.754324</td>\n",
              "      <td>0.747590</td>\n",
              "      <td>0.752706</td>\n",
              "      <td>0.003698</td>\n",
              "      <td>7</td>\n",
              "      <td>0.788807</td>\n",
              "      <td>0.788529</td>\n",
              "      <td>0.791127</td>\n",
              "      <td>0.789488</td>\n",
              "      <td>0.001165</td>\n",
              "    </tr>\n",
              "    <tr>\n",
              "      <th>2</th>\n",
              "      <td>6.288332</td>\n",
              "      <td>0.164972</td>\n",
              "      <td>0.036337</td>\n",
              "      <td>0.001855</td>\n",
              "      <td>0.01</td>\n",
              "      <td>{'C': 0.01}</td>\n",
              "      <td>0.717616</td>\n",
              "      <td>0.713548</td>\n",
              "      <td>0.706702</td>\n",
              "      <td>0.712622</td>\n",
              "      <td>0.004503</td>\n",
              "      <td>8</td>\n",
              "      <td>0.728977</td>\n",
              "      <td>0.730604</td>\n",
              "      <td>0.733463</td>\n",
              "      <td>0.731015</td>\n",
              "      <td>0.001854</td>\n",
              "    </tr>\n",
              "    <tr>\n",
              "      <th>1</th>\n",
              "      <td>2.794371</td>\n",
              "      <td>0.033788</td>\n",
              "      <td>0.034175</td>\n",
              "      <td>0.000531</td>\n",
              "      <td>0.001</td>\n",
              "      <td>{'C': 0.001}</td>\n",
              "      <td>0.676856</td>\n",
              "      <td>0.673702</td>\n",
              "      <td>0.663915</td>\n",
              "      <td>0.671492</td>\n",
              "      <td>0.005509</td>\n",
              "      <td>9</td>\n",
              "      <td>0.676548</td>\n",
              "      <td>0.679368</td>\n",
              "      <td>0.682410</td>\n",
              "      <td>0.679442</td>\n",
              "      <td>0.002394</td>\n",
              "    </tr>\n",
              "    <tr>\n",
              "      <th>0</th>\n",
              "      <td>1.832818</td>\n",
              "      <td>0.007564</td>\n",
              "      <td>0.034199</td>\n",
              "      <td>0.000288</td>\n",
              "      <td>0.0001</td>\n",
              "      <td>{'C': 0.0001}</td>\n",
              "      <td>0.653442</td>\n",
              "      <td>0.652815</td>\n",
              "      <td>0.639337</td>\n",
              "      <td>0.648532</td>\n",
              "      <td>0.006506</td>\n",
              "      <td>10</td>\n",
              "      <td>0.648745</td>\n",
              "      <td>0.651969</td>\n",
              "      <td>0.655954</td>\n",
              "      <td>0.652223</td>\n",
              "      <td>0.002949</td>\n",
              "    </tr>\n",
              "  </tbody>\n",
              "</table>\n",
              "</div>"
            ],
            "text/plain": [
              "   mean_fit_time  std_fit_time  ...  mean_train_score  std_train_score\n",
              "5      71.834579      5.586059  ...          0.913384         0.000075\n",
              "6     164.057746     21.618927  ...          0.934773         0.000143\n",
              "7     373.376314     44.417317  ...          0.941554         0.000222\n",
              "8     900.929040     90.922484  ...          0.943158         0.000361\n",
              "9    1281.639295    120.811486  ...          0.943431         0.000409\n",
              "4      29.242148      2.277272  ...          0.861749         0.000363\n",
              "3      13.309890      0.137541  ...          0.789488         0.001165\n",
              "2       6.288332      0.164972  ...          0.731015         0.001854\n",
              "1       2.794371      0.033788  ...          0.679442         0.002394\n",
              "0       1.832818      0.007564  ...          0.652223         0.002949\n",
              "\n",
              "[10 rows x 17 columns]"
            ]
          },
          "metadata": {
            "tags": []
          },
          "execution_count": 52
        }
      ]
    },
    {
      "cell_type": "markdown",
      "metadata": {
        "id": "ii_kRN38g0Rs",
        "colab_type": "text"
      },
      "source": [
        "We observe that on SET_3, **C = 10^(-2)** gives a small difference between train and test AUC and a test AUC of above 70% is obtained."
      ]
    },
    {
      "cell_type": "code",
      "metadata": {
        "id": "rY948mzLg-z9",
        "colab_type": "code",
        "colab": {}
      },
      "source": [
        "C_3 = 10**(-2)"
      ],
      "execution_count": 0,
      "outputs": []
    },
    {
      "cell_type": "code",
      "metadata": {
        "id": "f35rwRO-F4YM",
        "colab_type": "code",
        "outputId": "29257a92-d6f6-449e-d90b-78f4ad147233",
        "colab": {
          "base_uri": "https://localhost:8080/",
          "height": 861
        }
      },
      "source": [
        "#For SET_4\n",
        "\n",
        "lr_model = LogisticRegression(class_weight='balanced')\n",
        "parameters = {'C':[10**x for x in range(-4, 6)]}\n",
        "clf = RandomizedSearchCV(lr_model, parameters, cv=3, n_iter=10, scoring='roc_auc', verbose=2, return_train_score=True, n_jobs=10)\n",
        "clf.fit(train_set_4x, train_set_4y)\n",
        "\n",
        "results = pd.DataFrame.from_dict(clf.cv_results_)\n",
        "results_plt = results.sort_values(['param_C'])\n",
        "results = results.sort_values(['mean_test_score'], ascending=False)\n",
        "\n",
        "train_auc= results_plt['mean_train_score']\n",
        "\n",
        "cv_auc = results_plt['mean_test_score'] \n",
        "\n",
        "K =  results_plt['param_C']\n",
        "\n",
        "K = K.map(lambda c: math.log10(1/c))\n",
        "\n",
        "plt.plot(K, train_auc, label='Train AUC')\n",
        "plt.plot(K, cv_auc, label='CV AUC')\n",
        "plt.scatter(K, train_auc, label='Train AUC points')\n",
        "plt.scatter(K, cv_auc, label='CV AUC points')\n",
        "\n",
        "plt.legend()\n",
        "plt.xlabel(\"C: hyperparameter\")\n",
        "plt.ylabel(\"AUC\")\n",
        "plt.title(\"Hyper parameter Vs AUC plot\")\n",
        "plt.grid()\n",
        "plt.show()\n",
        "\n",
        "results.head(10)"
      ],
      "execution_count": 0,
      "outputs": [
        {
          "output_type": "stream",
          "text": [
            "Fitting 3 folds for each of 10 candidates, totalling 30 fits\n"
          ],
          "name": "stdout"
        },
        {
          "output_type": "stream",
          "text": [
            "[Parallel(n_jobs=10)]: Using backend LokyBackend with 10 concurrent workers.\n",
            "[Parallel(n_jobs=10)]: Done  27 out of  30 | elapsed: 23.5min remaining:  2.6min\n",
            "[Parallel(n_jobs=10)]: Done  30 out of  30 | elapsed: 43.4min finished\n"
          ],
          "name": "stderr"
        },
        {
          "output_type": "display_data",
          "data": {
            "image/png": "[encoded data removed]",
            "text/plain": [
              "<Figure size 432x288 with 1 Axes>"
            ]
          },
          "metadata": {
            "tags": []
          }
        },
        {
          "output_type": "execute_result",
          "data": {
            "text/html": [
              "<div>\n",
              "<style scoped>\n",
              "    .dataframe tbody tr th:only-of-type {\n",
              "        vertical-align: middle;\n",
              "    }\n",
              "\n",
              "    .dataframe tbody tr th {\n",
              "        vertical-align: top;\n",
              "    }\n",
              "\n",
              "    .dataframe thead th {\n",
              "        text-align: right;\n",
              "    }\n",
              "</style>\n",
              "<table border=\"1\" class=\"dataframe\">\n",
              "  <thead>\n",
              "    <tr style=\"text-align: right;\">\n",
              "      <th></th>\n",
              "      <th>mean_fit_time</th>\n",
              "      <th>std_fit_time</th>\n",
              "      <th>mean_score_time</th>\n",
              "      <th>std_score_time</th>\n",
              "      <th>param_C</th>\n",
              "      <th>params</th>\n",
              "      <th>split0_test_score</th>\n",
              "      <th>split1_test_score</th>\n",
              "      <th>split2_test_score</th>\n",
              "      <th>mean_test_score</th>\n",
              "      <th>std_test_score</th>\n",
              "      <th>rank_test_score</th>\n",
              "      <th>split0_train_score</th>\n",
              "      <th>split1_train_score</th>\n",
              "      <th>split2_train_score</th>\n",
              "      <th>mean_train_score</th>\n",
              "      <th>std_train_score</th>\n",
              "    </tr>\n",
              "  </thead>\n",
              "  <tbody>\n",
              "    <tr>\n",
              "      <th>5</th>\n",
              "      <td>70.371079</td>\n",
              "      <td>1.728451</td>\n",
              "      <td>0.030346</td>\n",
              "      <td>0.000485</td>\n",
              "      <td>10</td>\n",
              "      <td>{'C': 10}</td>\n",
              "      <td>0.801820</td>\n",
              "      <td>0.801944</td>\n",
              "      <td>0.797846</td>\n",
              "      <td>0.800537</td>\n",
              "      <td>0.001903</td>\n",
              "      <td>1</td>\n",
              "      <td>0.906639</td>\n",
              "      <td>0.908518</td>\n",
              "      <td>0.907504</td>\n",
              "      <td>0.907554</td>\n",
              "      <td>0.000768</td>\n",
              "    </tr>\n",
              "    <tr>\n",
              "      <th>6</th>\n",
              "      <td>184.788386</td>\n",
              "      <td>10.875989</td>\n",
              "      <td>0.031809</td>\n",
              "      <td>0.001964</td>\n",
              "      <td>100</td>\n",
              "      <td>{'C': 100}</td>\n",
              "      <td>0.800914</td>\n",
              "      <td>0.800183</td>\n",
              "      <td>0.797988</td>\n",
              "      <td>0.799695</td>\n",
              "      <td>0.001244</td>\n",
              "      <td>2</td>\n",
              "      <td>0.928633</td>\n",
              "      <td>0.929833</td>\n",
              "      <td>0.928987</td>\n",
              "      <td>0.929151</td>\n",
              "      <td>0.000503</td>\n",
              "    </tr>\n",
              "    <tr>\n",
              "      <th>7</th>\n",
              "      <td>411.277557</td>\n",
              "      <td>40.813820</td>\n",
              "      <td>0.031869</td>\n",
              "      <td>0.001738</td>\n",
              "      <td>1000</td>\n",
              "      <td>{'C': 1000}</td>\n",
              "      <td>0.794982</td>\n",
              "      <td>0.795141</td>\n",
              "      <td>0.792873</td>\n",
              "      <td>0.794332</td>\n",
              "      <td>0.001034</td>\n",
              "      <td>3</td>\n",
              "      <td>0.935408</td>\n",
              "      <td>0.936698</td>\n",
              "      <td>0.935598</td>\n",
              "      <td>0.935902</td>\n",
              "      <td>0.000569</td>\n",
              "    </tr>\n",
              "    <tr>\n",
              "      <th>8</th>\n",
              "      <td>1130.884224</td>\n",
              "      <td>172.384289</td>\n",
              "      <td>0.035075</td>\n",
              "      <td>0.002260</td>\n",
              "      <td>10000</td>\n",
              "      <td>{'C': 10000}</td>\n",
              "      <td>0.791564</td>\n",
              "      <td>0.791909</td>\n",
              "      <td>0.789719</td>\n",
              "      <td>0.791064</td>\n",
              "      <td>0.000961</td>\n",
              "      <td>4</td>\n",
              "      <td>0.936819</td>\n",
              "      <td>0.938418</td>\n",
              "      <td>0.936978</td>\n",
              "      <td>0.937405</td>\n",
              "      <td>0.000720</td>\n",
              "    </tr>\n",
              "    <tr>\n",
              "      <th>9</th>\n",
              "      <td>2052.814953</td>\n",
              "      <td>391.620336</td>\n",
              "      <td>0.036794</td>\n",
              "      <td>0.003317</td>\n",
              "      <td>100000</td>\n",
              "      <td>{'C': 100000}</td>\n",
              "      <td>0.789916</td>\n",
              "      <td>0.791038</td>\n",
              "      <td>0.789188</td>\n",
              "      <td>0.790047</td>\n",
              "      <td>0.000761</td>\n",
              "      <td>5</td>\n",
              "      <td>0.937059</td>\n",
              "      <td>0.938710</td>\n",
              "      <td>0.937208</td>\n",
              "      <td>0.937659</td>\n",
              "      <td>0.000746</td>\n",
              "    </tr>\n",
              "    <tr>\n",
              "      <th>4</th>\n",
              "      <td>33.903711</td>\n",
              "      <td>0.467776</td>\n",
              "      <td>0.029213</td>\n",
              "      <td>0.000769</td>\n",
              "      <td>1</td>\n",
              "      <td>{'C': 1}</td>\n",
              "      <td>0.780509</td>\n",
              "      <td>0.781560</td>\n",
              "      <td>0.776924</td>\n",
              "      <td>0.779665</td>\n",
              "      <td>0.001985</td>\n",
              "      <td>6</td>\n",
              "      <td>0.853656</td>\n",
              "      <td>0.854078</td>\n",
              "      <td>0.855076</td>\n",
              "      <td>0.854270</td>\n",
              "      <td>0.000595</td>\n",
              "    </tr>\n",
              "    <tr>\n",
              "      <th>3</th>\n",
              "      <td>14.029748</td>\n",
              "      <td>0.212820</td>\n",
              "      <td>0.029751</td>\n",
              "      <td>0.001980</td>\n",
              "      <td>0.1</td>\n",
              "      <td>{'C': 0.1}</td>\n",
              "      <td>0.747556</td>\n",
              "      <td>0.745381</td>\n",
              "      <td>0.740754</td>\n",
              "      <td>0.744564</td>\n",
              "      <td>0.002836</td>\n",
              "      <td>7</td>\n",
              "      <td>0.781351</td>\n",
              "      <td>0.781111</td>\n",
              "      <td>0.782985</td>\n",
              "      <td>0.781816</td>\n",
              "      <td>0.000833</td>\n",
              "    </tr>\n",
              "    <tr>\n",
              "      <th>2</th>\n",
              "      <td>6.703145</td>\n",
              "      <td>0.020657</td>\n",
              "      <td>0.031048</td>\n",
              "      <td>0.000271</td>\n",
              "      <td>0.01</td>\n",
              "      <td>{'C': 0.01}</td>\n",
              "      <td>0.716826</td>\n",
              "      <td>0.713500</td>\n",
              "      <td>0.708594</td>\n",
              "      <td>0.712973</td>\n",
              "      <td>0.003381</td>\n",
              "      <td>8</td>\n",
              "      <td>0.728146</td>\n",
              "      <td>0.728941</td>\n",
              "      <td>0.731361</td>\n",
              "      <td>0.729483</td>\n",
              "      <td>0.001368</td>\n",
              "    </tr>\n",
              "    <tr>\n",
              "      <th>1</th>\n",
              "      <td>2.926162</td>\n",
              "      <td>0.056952</td>\n",
              "      <td>0.031650</td>\n",
              "      <td>0.000589</td>\n",
              "      <td>0.001</td>\n",
              "      <td>{'C': 0.001}</td>\n",
              "      <td>0.685880</td>\n",
              "      <td>0.683310</td>\n",
              "      <td>0.674671</td>\n",
              "      <td>0.681287</td>\n",
              "      <td>0.004794</td>\n",
              "      <td>9</td>\n",
              "      <td>0.686795</td>\n",
              "      <td>0.688095</td>\n",
              "      <td>0.691175</td>\n",
              "      <td>0.688689</td>\n",
              "      <td>0.001837</td>\n",
              "    </tr>\n",
              "    <tr>\n",
              "      <th>0</th>\n",
              "      <td>2.002436</td>\n",
              "      <td>0.018149</td>\n",
              "      <td>0.030964</td>\n",
              "      <td>0.000535</td>\n",
              "      <td>0.0001</td>\n",
              "      <td>{'C': 0.0001}</td>\n",
              "      <td>0.660006</td>\n",
              "      <td>0.658565</td>\n",
              "      <td>0.645133</td>\n",
              "      <td>0.654569</td>\n",
              "      <td>0.006697</td>\n",
              "      <td>10</td>\n",
              "      <td>0.656356</td>\n",
              "      <td>0.657520</td>\n",
              "      <td>0.661198</td>\n",
              "      <td>0.658358</td>\n",
              "      <td>0.002064</td>\n",
              "    </tr>\n",
              "  </tbody>\n",
              "</table>\n",
              "</div>"
            ],
            "text/plain": [
              "   mean_fit_time  std_fit_time  ...  mean_train_score  std_train_score\n",
              "5      70.371079      1.728451  ...          0.907554         0.000768\n",
              "6     184.788386     10.875989  ...          0.929151         0.000503\n",
              "7     411.277557     40.813820  ...          0.935902         0.000569\n",
              "8    1130.884224    172.384289  ...          0.937405         0.000720\n",
              "9    2052.814953    391.620336  ...          0.937659         0.000746\n",
              "4      33.903711      0.467776  ...          0.854270         0.000595\n",
              "3      14.029748      0.212820  ...          0.781816         0.000833\n",
              "2       6.703145      0.020657  ...          0.729483         0.001368\n",
              "1       2.926162      0.056952  ...          0.688689         0.001837\n",
              "0       2.002436      0.018149  ...          0.658358         0.002064\n",
              "\n",
              "[10 rows x 17 columns]"
            ]
          },
          "metadata": {
            "tags": []
          },
          "execution_count": 53
        }
      ]
    },
    {
      "cell_type": "markdown",
      "metadata": {
        "id": "Nf60_mdJ85Z6",
        "colab_type": "text"
      },
      "source": [
        "We observe that for SET_4, **C = 10^(-2)** gives a small difference between train and test AUC and a test AUC of above 70% is obtained."
      ]
    },
    {
      "cell_type": "code",
      "metadata": {
        "id": "96fOqq8w83NA",
        "colab_type": "code",
        "colab": {}
      },
      "source": [
        "C_4 = 10**(-2)"
      ],
      "execution_count": 0,
      "outputs": []
    },
    {
      "cell_type": "markdown",
      "metadata": {
        "id": "6aq89j4kNQ8S",
        "colab_type": "text"
      },
      "source": [
        "### 4.2 Apply Logistic Regression to all four datsets"
      ]
    },
    {
      "cell_type": "code",
      "metadata": {
        "id": "J-XAD15Q-Byy",
        "colab_type": "code",
        "outputId": "5d62fe79-f606-444c-a54d-5e01412fe680",
        "colab": {
          "base_uri": "https://localhost:8080/",
          "height": 102
        }
      },
      "source": [
        "lr_1 = LogisticRegression(C=C_1, class_weight='balanced')\n",
        "lr_1.fit(train_set_1x, train_set_1y)"
      ],
      "execution_count": 0,
      "outputs": [
        {
          "output_type": "execute_result",
          "data": {
            "text/plain": [
              "LogisticRegression(C=0.001, class_weight='balanced', dual=False,\n",
              "                   fit_intercept=True, intercept_scaling=1, l1_ratio=None,\n",
              "                   max_iter=100, multi_class='warn', n_jobs=None, penalty='l2',\n",
              "                   random_state=None, solver='warn', tol=0.0001, verbose=0,\n",
              "                   warm_start=False)"
            ]
          },
          "metadata": {
            "tags": []
          },
          "execution_count": 54
        }
      ]
    },
    {
      "cell_type": "code",
      "metadata": {
        "id": "hiCZqtvw-JQR",
        "colab_type": "code",
        "outputId": "15a68d21-9ec2-47a3-f983-77f368fd1287",
        "colab": {
          "base_uri": "https://localhost:8080/",
          "height": 102
        }
      },
      "source": [
        "lr_2 = LogisticRegression(C=C_2, class_weight='balanced')\n",
        "lr_2.fit(train_set_2x, train_set_2y)"
      ],
      "execution_count": 0,
      "outputs": [
        {
          "output_type": "execute_result",
          "data": {
            "text/plain": [
              "LogisticRegression(C=0.01, class_weight='balanced', dual=False,\n",
              "                   fit_intercept=True, intercept_scaling=1, l1_ratio=None,\n",
              "                   max_iter=100, multi_class='warn', n_jobs=None, penalty='l2',\n",
              "                   random_state=None, solver='warn', tol=0.0001, verbose=0,\n",
              "                   warm_start=False)"
            ]
          },
          "metadata": {
            "tags": []
          },
          "execution_count": 55
        }
      ]
    },
    {
      "cell_type": "code",
      "metadata": {
        "id": "ibAva2Ns-Klu",
        "colab_type": "code",
        "outputId": "ccb4bd5a-fc35-445f-a4f6-65c250e81730",
        "colab": {
          "base_uri": "https://localhost:8080/",
          "height": 102
        }
      },
      "source": [
        "lr_3 = LogisticRegression(C=C_3, class_weight='balanced')\n",
        "lr_3.fit(train_set_3x, train_set_3y)"
      ],
      "execution_count": 0,
      "outputs": [
        {
          "output_type": "execute_result",
          "data": {
            "text/plain": [
              "LogisticRegression(C=0.01, class_weight='balanced', dual=False,\n",
              "                   fit_intercept=True, intercept_scaling=1, l1_ratio=None,\n",
              "                   max_iter=100, multi_class='warn', n_jobs=None, penalty='l2',\n",
              "                   random_state=None, solver='warn', tol=0.0001, verbose=0,\n",
              "                   warm_start=False)"
            ]
          },
          "metadata": {
            "tags": []
          },
          "execution_count": 56
        }
      ]
    },
    {
      "cell_type": "code",
      "metadata": {
        "id": "LW7r_pN6-MAV",
        "colab_type": "code",
        "outputId": "462e005a-297b-4287-d5c8-0b38eb390b37",
        "colab": {
          "base_uri": "https://localhost:8080/",
          "height": 102
        }
      },
      "source": [
        "lr_4 = LogisticRegression(C=C_4, class_weight='balanced')\n",
        "lr_4.fit(train_set_4x, train_set_4y)"
      ],
      "execution_count": 0,
      "outputs": [
        {
          "output_type": "execute_result",
          "data": {
            "text/plain": [
              "LogisticRegression(C=0.01, class_weight='balanced', dual=False,\n",
              "                   fit_intercept=True, intercept_scaling=1, l1_ratio=None,\n",
              "                   max_iter=100, multi_class='warn', n_jobs=None, penalty='l2',\n",
              "                   random_state=None, solver='warn', tol=0.0001, verbose=0,\n",
              "                   warm_start=False)"
            ]
          },
          "metadata": {
            "tags": []
          },
          "execution_count": 57
        }
      ]
    },
    {
      "cell_type": "markdown",
      "metadata": {
        "id": "Pkw2LAfLOc1g",
        "colab_type": "text"
      },
      "source": [
        "## 5. Test Models"
      ]
    },
    {
      "cell_type": "markdown",
      "metadata": {
        "id": "tEgoRiwwOysO",
        "colab_type": "text"
      },
      "source": [
        "### 5.1 Predict in batches on test data (Prediction in small batches)"
      ]
    },
    {
      "cell_type": "code",
      "metadata": {
        "id": "6pogAOgAS9Cg",
        "colab_type": "code",
        "colab": {}
      },
      "source": [
        "from sklearn.metrics import roc_curve, auc, confusion_matrix\n",
        "\n",
        "def find_best_threshold(threshold, fpr, tpr):\n",
        "  t = threshold[np.argmax(tpr*(1-fpr))]\n",
        "  # (tpr*(1-fpr)) will be maximum if your fpr is very low and tpr is very high\n",
        "  print(\"The maximum value of tpr*(1-fpr) is \", max(tpr*(1-fpr)), \"for threshold:\", np.round(t,3))\n",
        "  return t\n",
        "\n",
        "def predict_with_best_t(proba, threshold):\n",
        "  predictions = []\n",
        "  for i in proba:\n",
        "    if i>=threshold:\n",
        "      predictions.append(1)\n",
        "    else:\n",
        "      predictions.append(0)\n",
        "  return predictions"
      ],
      "execution_count": 0,
      "outputs": []
    },
    {
      "cell_type": "code",
      "metadata": {
        "id": "3XfEKW6QViCx",
        "colab_type": "code",
        "outputId": "54e2b69c-271a-4629-dbfc-8fc53ad19e63",
        "colab": {
          "base_uri": "https://localhost:8080/",
          "height": 867
        }
      },
      "source": [
        "y_train_pred = lr_1.predict_proba(train_set_1x)[:,1]\n",
        "y_test_pred = lr_1.predict_proba(test_set_1x)[:,1]\n",
        "\n",
        "train_fpr, train_tpr, tr_thresholds = roc_curve(train_set_1y, y_train_pred)\n",
        "test_fpr, test_tpr, te_thresholds = roc_curve(test_set_1y, y_test_pred)\n",
        "\n",
        "tr_auc_1 = auc(train_fpr, train_tpr)\n",
        "te_auc_1 = auc(test_fpr, test_tpr)\n",
        "\n",
        "plt.plot(train_fpr, train_tpr, label=\"Train AUC =\"+str(tr_auc_1))\n",
        "plt.plot(test_fpr, test_tpr, label=\"Test AUC =\"+str(te_auc_1))\n",
        "plt.legend()\n",
        "plt.xlabel(\"False Positive Rate\")\n",
        "plt.ylabel(\"True Positive Rate\")\n",
        "plt.title(\"ROC CURVE FOR Logistic Regression ON TEST SET 1\")\n",
        "plt.grid()\n",
        "plt.show()\n",
        "\n",
        "best_t = find_best_threshold(tr_thresholds, train_fpr, train_tpr)\n",
        "conf_mat = confusion_matrix(train_set_1y, predict_with_best_t(y_train_pred, best_t))\n",
        "print(\"CONFUSION MATRIX FOR TRAIN DATA:\")\n",
        "ax = sns.heatmap(conf_mat, annot=True, xticklabels=['PREDICTED: NO', 'PREDICTED: YES'], yticklabels=[\"ACTUAL NO\", \"ACTUAL YES\"])\n",
        "plt.show()\n",
        "\n",
        "best_t = find_best_threshold(te_thresholds, test_fpr, test_tpr)\n",
        "conf_mat = confusion_matrix(test_set_1y, predict_with_best_t(y_test_pred, best_t))\n",
        "print(\"CONFUSION MATRIX FOR TEST DATA:\")\n",
        "ax = sns.heatmap(conf_mat, annot=True, xticklabels=['PREDICTED: NO', 'PREDICTED: YES'], yticklabels=[\"ACTUAL NO\", \"ACTUAL YES\"])\n",
        "plt.show()"
      ],
      "execution_count": 0,
      "outputs": [
        {
          "output_type": "display_data",
          "data": {
            "image/png": "[encoded data removed]",
            "text/plain": [
              "<Figure size 432x288 with 1 Axes>"
            ]
          },
          "metadata": {
            "tags": []
          }
        },
        {
          "output_type": "stream",
          "text": [
            "The maximum value of tpr*(1-fpr) is  0.52784184 for threshold: 0.496\n",
            "CONFUSION MATRIX FOR TRAIN DATA:\n"
          ],
          "name": "stdout"
        },
        {
          "output_type": "display_data",
          "data": {
            "image/png": "[encoded data removed]",
            "text/plain": [
              "<Figure size 432x288 with 2 Axes>"
            ]
          },
          "metadata": {
            "tags": []
          }
        },
        {
          "output_type": "stream",
          "text": [
            "The maximum value of tpr*(1-fpr) is  0.4392395774406272 for threshold: 0.517\n",
            "CONFUSION MATRIX FOR TEST DATA:\n"
          ],
          "name": "stdout"
        },
        {
          "output_type": "display_data",
          "data": {
            "image/png": "[encoded data removed]",
            "text/plain": [
              "<Figure size 432x288 with 2 Axes>"
            ]
          },
          "metadata": {
            "tags": []
          }
        }
      ]
    },
    {
      "cell_type": "code",
      "metadata": {
        "id": "pL4QuAcp_CGT",
        "colab_type": "code",
        "outputId": "df72173f-1581-42d7-b164-d00b0cb6ff0e",
        "colab": {
          "base_uri": "https://localhost:8080/",
          "height": 34
        }
      },
      "source": [
        "print(y_test_pred)"
      ],
      "execution_count": 0,
      "outputs": [
        {
          "output_type": "stream",
          "text": [
            "[0.56679606 0.55891779 0.6659961  ... 0.57112278 0.86908877 0.66349254]\n"
          ],
          "name": "stdout"
        }
      ]
    },
    {
      "cell_type": "code",
      "metadata": {
        "colab_type": "code",
        "id": "AFWA58lSXVoZ",
        "outputId": "c3d037ca-b6c5-475a-a457-0d81aa8c369e",
        "colab": {
          "base_uri": "https://localhost:8080/",
          "height": 867
        }
      },
      "source": [
        "y_train_pred = lr_2.predict_proba(train_set_2x)[:,1]\n",
        "y_test_pred = lr_2.predict_proba(test_set_2x)[:,1]\n",
        "\n",
        "train_fpr, train_tpr, tr_thresholds = roc_curve(train_set_2y, y_train_pred)\n",
        "test_fpr, test_tpr, te_thresholds = roc_curve(test_set_2y, y_test_pred)\n",
        "\n",
        "tr_auc_2 = auc(train_fpr, train_tpr)\n",
        "te_auc_2 = auc(test_fpr, test_tpr)\n",
        "\n",
        "plt.plot(train_fpr, train_tpr, label=\"Train AUC =\"+str(tr_auc_2))\n",
        "plt.plot(test_fpr, test_tpr, label=\"Test AUC =\"+str(te_auc_2))\n",
        "plt.legend()\n",
        "plt.xlabel(\"False Positive Rate\")\n",
        "plt.ylabel(\"True Positive Rate\")\n",
        "plt.title(\"ROC CURVE FOR Logistic Regression ON TEST SET 2\")\n",
        "plt.grid()\n",
        "plt.show()\n",
        "\n",
        "best_t = find_best_threshold(tr_thresholds, train_fpr, train_tpr)\n",
        "conf_mat = confusion_matrix(train_set_2y, predict_with_best_t(y_train_pred, best_t))\n",
        "print(\"CONFUSION MATRIX FOR TRAIN DATA:\")\n",
        "ax = sns.heatmap(conf_mat, annot=True, xticklabels=['PREDICTED: NO', 'PREDICTED: YES'], yticklabels=[\"ACTUAL NO\", \"ACTUAL YES\"])\n",
        "plt.show()\n",
        "\n",
        "best_t = find_best_threshold(te_thresholds, test_fpr, test_tpr)\n",
        "conf_mat = confusion_matrix(test_set_2y, predict_with_best_t(y_test_pred, best_t))\n",
        "print(\"CONFUSION MATRIX FOR TEST DATA:\")\n",
        "ax = sns.heatmap(conf_mat, annot=True, xticklabels=['PREDICTED: NO', 'PREDICTED: YES'], yticklabels=[\"ACTUAL NO\", \"ACTUAL YES\"])\n",
        "plt.show()"
      ],
      "execution_count": 0,
      "outputs": [
        {
          "output_type": "display_data",
          "data": {
            "image/png": "[encoded data removed]",
            "text/plain": [
              "<Figure size 432x288 with 1 Axes>"
            ]
          },
          "metadata": {
            "tags": []
          }
        },
        {
          "output_type": "stream",
          "text": [
            "The maximum value of tpr*(1-fpr) is  0.45771475 for threshold: 0.508\n",
            "CONFUSION MATRIX FOR TRAIN DATA:\n"
          ],
          "name": "stdout"
        },
        {
          "output_type": "display_data",
          "data": {
            "image/png": "[encoded data removed]",
            "text/plain": [
              "<Figure size 432x288 with 2 Axes>"
            ]
          },
          "metadata": {
            "tags": []
          }
        },
        {
          "output_type": "stream",
          "text": [
            "The maximum value of tpr*(1-fpr) is  0.4053125343443907 for threshold: 0.507\n",
            "CONFUSION MATRIX FOR TEST DATA:\n"
          ],
          "name": "stdout"
        },
        {
          "output_type": "display_data",
          "data": {
            "image/png": "[encoded data removed]",
            "text/plain": [
              "<Figure size 432x288 with 2 Axes>"
            ]
          },
          "metadata": {
            "tags": []
          }
        }
      ]
    },
    {
      "cell_type": "code",
      "metadata": {
        "colab_type": "code",
        "id": "VGG9IHUlYSzR",
        "outputId": "fe5dc633-8936-4394-c46e-3943b69548c8",
        "colab": {
          "base_uri": "https://localhost:8080/",
          "height": 867
        }
      },
      "source": [
        "y_train_pred = lr_3.predict_proba(train_set_3x)[:,1]\n",
        "y_test_pred = lr_3.predict_proba(test_set_3x)[:,1]\n",
        "\n",
        "train_fpr, train_tpr, tr_thresholds = roc_curve(train_set_3y, y_train_pred)\n",
        "test_fpr, test_tpr, te_thresholds = roc_curve(test_set_3y, y_test_pred)\n",
        "\n",
        "tr_auc_3 = auc(train_fpr, train_tpr)\n",
        "te_auc_3 = auc(test_fpr, test_tpr)\n",
        "\n",
        "plt.plot(train_fpr, train_tpr, label=\"Train AUC =\"+str(tr_auc_3))\n",
        "plt.plot(test_fpr, test_tpr, label=\"Test AUC =\"+str(te_auc_3))\n",
        "plt.legend()\n",
        "plt.xlabel(\"False Positive Rate\")\n",
        "plt.ylabel(\"True Positive Rate\")\n",
        "plt.title(\"ROC CURVE FOR Logistic Regression ON TEST SET 3\")\n",
        "plt.grid()\n",
        "plt.show()\n",
        "\n",
        "best_t = find_best_threshold(tr_thresholds, train_fpr, train_tpr)\n",
        "conf_mat = confusion_matrix(train_set_3y, predict_with_best_t(y_train_pred, best_t))\n",
        "print(\"CONFUSION MATRIX FOR TRAIN DATA:\")\n",
        "ax = sns.heatmap(conf_mat, annot=True, xticklabels=['PREDICTED: NO', 'PREDICTED: YES'], yticklabels=[\"ACTUAL NO\", \"ACTUAL YES\"])\n",
        "plt.show()\n",
        "\n",
        "best_t = find_best_threshold(te_thresholds, test_fpr, test_tpr)\n",
        "conf_mat = confusion_matrix(test_set_3y, predict_with_best_t(y_test_pred, best_t))\n",
        "print(\"CONFUSION MATRIX FOR TEST DATA:\")\n",
        "ax = sns.heatmap(conf_mat, annot=True, xticklabels=['PREDICTED: NO', 'PREDICTED: YES'], yticklabels=[\"ACTUAL NO\", \"ACTUAL YES\"])\n",
        "plt.show()"
      ],
      "execution_count": 0,
      "outputs": [
        {
          "output_type": "display_data",
          "data": {
            "image/png": "[encoded data removed]",
            "text/plain": [
              "<Figure size 432x288 with 1 Axes>"
            ]
          },
          "metadata": {
            "tags": []
          }
        },
        {
          "output_type": "stream",
          "text": [
            "The maximum value of tpr*(1-fpr) is  0.46229247 for threshold: 0.494\n",
            "CONFUSION MATRIX FOR TRAIN DATA:\n"
          ],
          "name": "stdout"
        },
        {
          "output_type": "display_data",
          "data": {
            "image/png": "[encoded data removed]",
            "text/plain": [
              "<Figure size 432x288 with 2 Axes>"
            ]
          },
          "metadata": {
            "tags": []
          }
        },
        {
          "output_type": "stream",
          "text": [
            "The maximum value of tpr*(1-fpr) is  0.41589846794051344 for threshold: 0.508\n",
            "CONFUSION MATRIX FOR TEST DATA:\n"
          ],
          "name": "stdout"
        },
        {
          "output_type": "display_data",
          "data": {
            "image/png": "[encoded data removed]",
            "text/plain": [
              "<Figure size 432x288 with 2 Axes>"
            ]
          },
          "metadata": {
            "tags": []
          }
        }
      ]
    },
    {
      "cell_type": "code",
      "metadata": {
        "colab_type": "code",
        "id": "seFOLecPYT6Q",
        "outputId": "9555c407-0592-4612-92de-4efa679eb0b8",
        "colab": {
          "base_uri": "https://localhost:8080/",
          "height": 867
        }
      },
      "source": [
        "y_train_pred = lr_4.predict_proba(train_set_4x)[:,1]\n",
        "y_test_pred = lr_4.predict_proba(test_set_4x)[:,1]\n",
        "\n",
        "train_fpr, train_tpr, tr_thresholds = roc_curve(train_set_4y, y_train_pred)\n",
        "test_fpr, test_tpr, te_thresholds = roc_curve(test_set_4y, y_test_pred)\n",
        "\n",
        "tr_auc_4 = auc(train_fpr, train_tpr)\n",
        "te_auc_4 = auc(test_fpr, test_tpr)\n",
        "\n",
        "plt.plot(train_fpr, train_tpr, label=\"Train AUC =\"+str(tr_auc_4))\n",
        "plt.plot(test_fpr, test_tpr, label=\"Test AUC =\"+str(te_auc_4))\n",
        "plt.legend()\n",
        "plt.xlabel(\"False Positive Rate\")\n",
        "plt.ylabel(\"True Positive Rate\")\n",
        "plt.title(\"ROC CURVE FOR Logistic Regression ON TEST SET 4\")\n",
        "plt.grid()\n",
        "plt.show()\n",
        "\n",
        "best_t = find_best_threshold(tr_thresholds, train_fpr, train_tpr)\n",
        "conf_mat = confusion_matrix(train_set_4y, predict_with_best_t(y_train_pred, best_t))\n",
        "print(\"CONFUSION MATRIX FOR TRAIN DATA:\")\n",
        "ax = sns.heatmap(conf_mat, annot=True, xticklabels=['PREDICTED: NO', 'PREDICTED: YES'], yticklabels=[\"ACTUAL NO\", \"ACTUAL YES\"])\n",
        "plt.show()\n",
        "\n",
        "best_t = find_best_threshold(te_thresholds, test_fpr, test_tpr)\n",
        "conf_mat = confusion_matrix(test_set_4y, predict_with_best_t(y_test_pred, best_t))\n",
        "print(\"CONFUSION MATRIX FOR TEST DATA:\")\n",
        "ax = sns.heatmap(conf_mat, annot=True, xticklabels=['PREDICTED: NO', 'PREDICTED: YES'], yticklabels=[\"ACTUAL NO\", \"ACTUAL YES\"])\n",
        "plt.show()"
      ],
      "execution_count": 0,
      "outputs": [
        {
          "output_type": "display_data",
          "data": {
            "image/png": "[encoded data removed]",
            "text/plain": [
              "<Figure size 432x288 with 1 Axes>"
            ]
          },
          "metadata": {
            "tags": []
          }
        },
        {
          "output_type": "stream",
          "text": [
            "The maximum value of tpr*(1-fpr) is  0.46118603999999996 for threshold: 0.489\n",
            "CONFUSION MATRIX FOR TRAIN DATA:\n"
          ],
          "name": "stdout"
        },
        {
          "output_type": "display_data",
          "data": {
            "image/png": "[encoded data removed]",
            "text/plain": [
              "<Figure size 432x288 with 2 Axes>"
            ]
          },
          "metadata": {
            "tags": []
          }
        },
        {
          "output_type": "stream",
          "text": [
            "The maximum value of tpr*(1-fpr) is  0.4150891467522387 for threshold: 0.514\n",
            "CONFUSION MATRIX FOR TEST DATA:\n"
          ],
          "name": "stdout"
        },
        {
          "output_type": "display_data",
          "data": {
            "image/png": "[encoded data removed]",
            "text/plain": [
              "<Figure size 432x288 with 2 Axes>"
            ]
          },
          "metadata": {
            "tags": []
          }
        }
      ]
    },
    {
      "cell_type": "markdown",
      "metadata": {
        "id": "ON-RL1-Ievc8",
        "colab_type": "text"
      },
      "source": [
        "## 6. SET_5: Only Numerical Features"
      ]
    },
    {
      "cell_type": "markdown",
      "metadata": {
        "id": "E--62PGfe6v0",
        "colab_type": "text"
      },
      "source": [
        "### 6.1 Creating SET_5"
      ]
    },
    {
      "cell_type": "code",
      "metadata": {
        "id": "ueW6QLwenlI7",
        "colab_type": "code",
        "outputId": "890d71d0-e144-4105-b0b0-9b1e7b6df2f7",
        "colab": {
          "base_uri": "https://localhost:8080/",
          "height": 34
        }
      },
      "source": [
        "from nltk.sentiment.vader import SentimentIntensityAnalyzer\n",
        "nltk.download('vader_lexicon')\n",
        "\n",
        "def num_words(string):\n",
        "  return len(string.split())\n",
        "\n",
        "def sent_scores(string):\n",
        "\n",
        "  sid = SentimentIntensityAnalyzer()\n",
        "  scores = sid.polarity_scores(string)\n",
        "      \n",
        "  return scores"
      ],
      "execution_count": 0,
      "outputs": [
        {
          "output_type": "stream",
          "text": [
            "[nltk_data] Downloading package vader_lexicon to /root/nltk_data...\n"
          ],
          "name": "stdout"
        }
      ]
    },
    {
      "cell_type": "markdown",
      "metadata": {
        "id": "yde3aXKtJfZ1",
        "colab_type": "text"
      },
      "source": [
        "#### 6.1.1 Getting the new features"
      ]
    },
    {
      "cell_type": "code",
      "metadata": {
        "id": "-Bx-kOsnsV78",
        "colab_type": "code",
        "outputId": "6d56da75-87ae-4e6c-e852-719c88fa9438",
        "colab": {
          "base_uri": "https://localhost:8080/",
          "height": 51
        }
      },
      "source": [
        "train_n_words_title = train_df['project_title'].map(lambda s: num_words(s)).values\n",
        "test_n_words_title = test_df['project_title'].map(lambda s: num_words(s)).values\n",
        "\n",
        "train_n_words_essay = train_df['essay'].map(lambda s: num_words(s)).values\n",
        "test_n_words_essay = test_df['essay'].map(lambda s: num_words(s)).values\n",
        "\n",
        "train_essay_sents_neg = []\n",
        "train_essay_sents_neu = []\n",
        "train_essay_sents_pos = []\n",
        "train_essay_sents_com = []\n",
        "\n",
        "for essay in tqdm(train_df['essay'].values):\n",
        "  s_scores = sent_scores(essay)\n",
        "  \n",
        "  train_essay_sents_neg.append(s_scores['neg'])\n",
        "  train_essay_sents_neu.append(s_scores['neu'])\n",
        "  train_essay_sents_pos.append(s_scores['pos'])\n",
        "  train_essay_sents_com.append(s_scores['compound'])\n",
        "\n",
        "test_essay_sents_neg = []\n",
        "test_essay_sents_neu = []\n",
        "test_essay_sents_pos = []\n",
        "test_essay_sents_com = []\n",
        "\n",
        "for essay in tqdm(test_df['essay'].values):\n",
        "  s_scores = sent_scores(essay)\n",
        "  \n",
        "  test_essay_sents_neg.append(s_scores['neg'])\n",
        "  test_essay_sents_neu.append(s_scores['neu'])\n",
        "  test_essay_sents_pos.append(s_scores['pos'])\n",
        "  test_essay_sents_com.append(s_scores['compound'])"
      ],
      "execution_count": 0,
      "outputs": [
        {
          "output_type": "stream",
          "text": [
            "100%|██████████| 40000/40000 [05:05<00:00, 131.06it/s]\n",
            "100%|██████████| 10000/10000 [01:16<00:00, 129.99it/s]\n"
          ],
          "name": "stderr"
        }
      ]
    },
    {
      "cell_type": "markdown",
      "metadata": {
        "id": "LmhLIMvdLgyZ",
        "colab_type": "text"
      },
      "source": [
        "#### 6.1.2 Standardizing the new numerical features"
      ]
    },
    {
      "cell_type": "code",
      "metadata": {
        "id": "E1U18kpgJYvk",
        "colab_type": "code",
        "colab": {}
      },
      "source": [
        "title_nw_scaler = StandardScaler()\n",
        "title_nw_scaler.fit(train_n_words_title.reshape(-1, 1))\n",
        "\n",
        "train_n_words_title = title_nw_scaler.transform(train_n_words_title.reshape(-1, 1))\n",
        "test_n_words_title = title_nw_scaler.transform(test_n_words_title.reshape(-1,1))"
      ],
      "execution_count": 0,
      "outputs": []
    },
    {
      "cell_type": "code",
      "metadata": {
        "id": "UbrThxgPdd8W",
        "colab_type": "code",
        "colab": {}
      },
      "source": [
        "essay_nw_scaler = StandardScaler()\n",
        "essay_nw_scaler.fit(train_n_words_essay.reshape(-1, 1))\n",
        "\n",
        "train_n_words_essay = title_nw_scaler.transform(train_n_words_essay.reshape(-1, 1))\n",
        "test_n_words_essay = title_nw_scaler.transform(test_n_words_essay.reshape(-1, 1))"
      ],
      "execution_count": 0,
      "outputs": []
    },
    {
      "cell_type": "code",
      "metadata": {
        "id": "wpOgZmiP6Ko8",
        "colab_type": "code",
        "colab": {}
      },
      "source": [
        "train_essay_sents_neg = np.asarray(train_essay_sents_neg)\n",
        "train_essay_sents_neu = np.asarray(train_essay_sents_neu)\n",
        "train_essay_sents_pos = np.asarray(train_essay_sents_pos)\n",
        "train_essay_sents_com = np.asarray(train_essay_sents_com)\n",
        "\n",
        "test_essay_sents_neg = np.asarray(test_essay_sents_neg)\n",
        "test_essay_sents_neu = np.asarray(test_essay_sents_neu)\n",
        "test_essay_sents_pos = np.asarray(test_essay_sents_pos)\n",
        "test_essay_sents_com = np.asarray(test_essay_sents_com)"
      ],
      "execution_count": 0,
      "outputs": []
    },
    {
      "cell_type": "code",
      "metadata": {
        "id": "hZ3fqD88dybe",
        "colab_type": "code",
        "colab": {}
      },
      "source": [
        "neg_sents_scaler = StandardScaler()\n",
        "neg_sents_scaler.fit(train_essay_sents_neg.reshape(-1,1))\n",
        "\n",
        "neu_sents_scaler = StandardScaler()\n",
        "neu_sents_scaler.fit(train_essay_sents_neu.reshape(-1,1))\n",
        "\n",
        "pos_sents_scaler = StandardScaler()\n",
        "pos_sents_scaler.fit(train_essay_sents_pos.reshape(-1,1))\n",
        "\n",
        "com_sents_scaler = StandardScaler()\n",
        "com_sents_scaler.fit(train_essay_sents_com.reshape(-1,1))\n",
        "\n",
        "train_essay_sents_neg = neg_sents_scaler.transform(train_essay_sents_neg.reshape(-1,1))\n",
        "train_essay_sents_neu = neu_sents_scaler.transform(train_essay_sents_neu.reshape(-1,1))\n",
        "train_essay_sents_pos = pos_sents_scaler.transform(train_essay_sents_pos.reshape(-1,1))\n",
        "train_essay_sents_com = com_sents_scaler.transform(train_essay_sents_com.reshape(-1,1))\n",
        "\n",
        "test_essay_sents_neg = neg_sents_scaler.transform(test_essay_sents_neg.reshape(-1,1))\n",
        "test_essay_sents_neu = neu_sents_scaler.transform(test_essay_sents_neu.reshape(-1,1))\n",
        "test_essay_sents_pos = pos_sents_scaler.transform(test_essay_sents_pos.reshape(-1,1))\n",
        "test_essay_sents_com = com_sents_scaler.transform(test_essay_sents_com.reshape(-1,1))"
      ],
      "execution_count": 0,
      "outputs": []
    },
    {
      "cell_type": "code",
      "metadata": {
        "id": "tigB5XsnGIms",
        "colab_type": "code",
        "colab": {}
      },
      "source": [
        "train_set_5x = sparse.hstack((train_df_teacher_prefix, train_df_school_state, train_df_project_grade_category, train_df_clean_categories, train_df_clean_subcategories, train_df_price, train_df_quantity, train_df_pposts, train_n_words_title, train_n_words_essay, train_essay_sents_neg, train_essay_sents_neu, train_essay_sents_pos, train_essay_sents_com))\n",
        "train_set_5y = train_df['project_is_approved'].to_numpy()\n",
        "\n",
        "test_set_5x = sparse.hstack((test_df_teacher_prefix, test_df_school_state, test_df_project_grade_category, test_df_clean_categories, test_df_clean_subcategories, test_df_price, test_df_quantity, test_df_pposts, test_n_words_title, test_n_words_essay, test_essay_sents_neg, test_essay_sents_neu, test_essay_sents_pos, test_essay_sents_com))\n",
        "test_set_5y = test_df['project_is_approved'].to_numpy()"
      ],
      "execution_count": 0,
      "outputs": []
    },
    {
      "cell_type": "code",
      "metadata": {
        "id": "PuUUMsmJ2Rx5",
        "colab_type": "code",
        "outputId": "68d5b6eb-1724-4350-f90b-efbd2c066ffe",
        "colab": {
          "base_uri": "https://localhost:8080/"
        }
      },
      "source": [
        "print(train_set_5x.shape)\n",
        "print(test_set_5x.shape)\n",
        "print(train_set_5y.shape)\n",
        "print(test_set_5y.shape)"
      ],
      "execution_count": 0,
      "outputs": [
        {
          "output_type": "stream",
          "text": [
            "(40000, 108)\n",
            "(10000, 108)\n",
            "(40000,)\n",
            "(10000,)\n"
          ],
          "name": "stdout"
        }
      ]
    },
    {
      "cell_type": "markdown",
      "metadata": {
        "id": "yzHP-UUDuxfM",
        "colab_type": "text"
      },
      "source": [
        "### 6.2 Apply KNN on selected features"
      ]
    },
    {
      "cell_type": "markdown",
      "metadata": {
        "id": "9LlHYQ9CvF5N",
        "colab_type": "text"
      },
      "source": [
        "#### 6.2.1 Hyper-parameter tuning"
      ]
    },
    {
      "cell_type": "code",
      "metadata": {
        "id": "XaHquoM4uw9P",
        "colab_type": "code",
        "outputId": "e4ffae95-0717-4c42-c4f0-12b6f5dd5f9b",
        "colab": {
          "base_uri": "https://localhost:8080/",
          "height": 861
        }
      },
      "source": [
        "lr_model = LogisticRegression()\n",
        "parameters = {'C':[10**x for x in range(-4, 6)]}\n",
        "clf = RandomizedSearchCV(lr_model, parameters, cv=3, n_iter=10, scoring='roc_auc', verbose=2, return_train_score=True, n_jobs=10)\n",
        "clf.fit(train_set_5x, train_set_5y)\n",
        "\n",
        "results = pd.DataFrame.from_dict(clf.cv_results_)\n",
        "results_plt = results.sort_values(['param_C'])\n",
        "results = results.sort_values(['mean_test_score'], ascending=False)\n",
        "\n",
        "train_auc= results_plt['mean_train_score']\n",
        "\n",
        "cv_auc = results_plt['mean_test_score'] \n",
        "\n",
        "K =  results_plt['param_C']\n",
        "\n",
        "K = K.map(lambda c: math.log10(1/c))\n",
        "\n",
        "plt.plot(K, train_auc, label='Train AUC')\n",
        "plt.plot(K, cv_auc, label='CV AUC')\n",
        "plt.scatter(K, train_auc, label='Train AUC points')\n",
        "plt.scatter(K, cv_auc, label='CV AUC points')\n",
        "\n",
        "plt.legend()\n",
        "plt.xlabel(\"C: hyperparameter\")\n",
        "plt.ylabel(\"AUC\")\n",
        "plt.title(\"Hyper parameter Vs AUC plot\")\n",
        "plt.grid()\n",
        "plt.show()\n",
        "\n",
        "results.head(10)"
      ],
      "execution_count": 0,
      "outputs": [
        {
          "output_type": "stream",
          "text": [
            "Fitting 3 folds for each of 10 candidates, totalling 30 fits\n"
          ],
          "name": "stdout"
        },
        {
          "output_type": "stream",
          "text": [
            "[Parallel(n_jobs=10)]: Using backend LokyBackend with 10 concurrent workers.\n",
            "[Parallel(n_jobs=10)]: Done  27 out of  30 | elapsed:    3.5s remaining:    0.4s\n",
            "[Parallel(n_jobs=10)]: Done  30 out of  30 | elapsed:    3.6s finished\n"
          ],
          "name": "stderr"
        },
        {
          "output_type": "display_data",
          "data": {
            "image/png": "[encoded data removed]",
            "text/plain": [
              "<Figure size 432x288 with 1 Axes>"
            ]
          },
          "metadata": {
            "tags": []
          }
        },
        {
          "output_type": "execute_result",
          "data": {
            "text/html": [
              "<div>\n",
              "<style scoped>\n",
              "    .dataframe tbody tr th:only-of-type {\n",
              "        vertical-align: middle;\n",
              "    }\n",
              "\n",
              "    .dataframe tbody tr th {\n",
              "        vertical-align: top;\n",
              "    }\n",
              "\n",
              "    .dataframe thead th {\n",
              "        text-align: right;\n",
              "    }\n",
              "</style>\n",
              "<table border=\"1\" class=\"dataframe\">\n",
              "  <thead>\n",
              "    <tr style=\"text-align: right;\">\n",
              "      <th></th>\n",
              "      <th>mean_fit_time</th>\n",
              "      <th>std_fit_time</th>\n",
              "      <th>mean_score_time</th>\n",
              "      <th>std_score_time</th>\n",
              "      <th>param_C</th>\n",
              "      <th>params</th>\n",
              "      <th>split0_test_score</th>\n",
              "      <th>split1_test_score</th>\n",
              "      <th>split2_test_score</th>\n",
              "      <th>mean_test_score</th>\n",
              "      <th>std_test_score</th>\n",
              "      <th>rank_test_score</th>\n",
              "      <th>split0_train_score</th>\n",
              "      <th>split1_train_score</th>\n",
              "      <th>split2_train_score</th>\n",
              "      <th>mean_train_score</th>\n",
              "      <th>std_train_score</th>\n",
              "    </tr>\n",
              "  </thead>\n",
              "  <tbody>\n",
              "    <tr>\n",
              "      <th>2</th>\n",
              "      <td>0.233730</td>\n",
              "      <td>0.026330</td>\n",
              "      <td>0.007582</td>\n",
              "      <td>0.000110</td>\n",
              "      <td>0.01</td>\n",
              "      <td>{'C': 0.01}</td>\n",
              "      <td>0.652470</td>\n",
              "      <td>0.649077</td>\n",
              "      <td>0.639277</td>\n",
              "      <td>0.646942</td>\n",
              "      <td>0.005594</td>\n",
              "      <td>1</td>\n",
              "      <td>0.649130</td>\n",
              "      <td>0.649792</td>\n",
              "      <td>0.656472</td>\n",
              "      <td>0.651798</td>\n",
              "      <td>0.003316</td>\n",
              "    </tr>\n",
              "    <tr>\n",
              "      <th>3</th>\n",
              "      <td>0.409442</td>\n",
              "      <td>0.019403</td>\n",
              "      <td>0.007067</td>\n",
              "      <td>0.000118</td>\n",
              "      <td>0.1</td>\n",
              "      <td>{'C': 0.1}</td>\n",
              "      <td>0.653371</td>\n",
              "      <td>0.648286</td>\n",
              "      <td>0.638553</td>\n",
              "      <td>0.646737</td>\n",
              "      <td>0.006148</td>\n",
              "      <td>2</td>\n",
              "      <td>0.650868</td>\n",
              "      <td>0.651272</td>\n",
              "      <td>0.658364</td>\n",
              "      <td>0.653501</td>\n",
              "      <td>0.003442</td>\n",
              "    </tr>\n",
              "    <tr>\n",
              "      <th>4</th>\n",
              "      <td>0.678096</td>\n",
              "      <td>0.037342</td>\n",
              "      <td>0.007273</td>\n",
              "      <td>0.000370</td>\n",
              "      <td>1</td>\n",
              "      <td>{'C': 1}</td>\n",
              "      <td>0.653129</td>\n",
              "      <td>0.647739</td>\n",
              "      <td>0.637717</td>\n",
              "      <td>0.646196</td>\n",
              "      <td>0.006386</td>\n",
              "      <td>3</td>\n",
              "      <td>0.651030</td>\n",
              "      <td>0.651301</td>\n",
              "      <td>0.658418</td>\n",
              "      <td>0.653583</td>\n",
              "      <td>0.003421</td>\n",
              "    </tr>\n",
              "    <tr>\n",
              "      <th>5</th>\n",
              "      <td>0.756981</td>\n",
              "      <td>0.108140</td>\n",
              "      <td>0.007288</td>\n",
              "      <td>0.000183</td>\n",
              "      <td>10</td>\n",
              "      <td>{'C': 10}</td>\n",
              "      <td>0.653045</td>\n",
              "      <td>0.647630</td>\n",
              "      <td>0.637683</td>\n",
              "      <td>0.646120</td>\n",
              "      <td>0.006362</td>\n",
              "      <td>4</td>\n",
              "      <td>0.651020</td>\n",
              "      <td>0.651247</td>\n",
              "      <td>0.658395</td>\n",
              "      <td>0.653554</td>\n",
              "      <td>0.003424</td>\n",
              "    </tr>\n",
              "    <tr>\n",
              "      <th>8</th>\n",
              "      <td>0.792540</td>\n",
              "      <td>0.114250</td>\n",
              "      <td>0.007007</td>\n",
              "      <td>0.000552</td>\n",
              "      <td>10000</td>\n",
              "      <td>{'C': 10000}</td>\n",
              "      <td>0.653032</td>\n",
              "      <td>0.647614</td>\n",
              "      <td>0.637657</td>\n",
              "      <td>0.646101</td>\n",
              "      <td>0.006367</td>\n",
              "      <td>5</td>\n",
              "      <td>0.651012</td>\n",
              "      <td>0.651241</td>\n",
              "      <td>0.658380</td>\n",
              "      <td>0.653544</td>\n",
              "      <td>0.003421</td>\n",
              "    </tr>\n",
              "    <tr>\n",
              "      <th>7</th>\n",
              "      <td>0.928396</td>\n",
              "      <td>0.230410</td>\n",
              "      <td>0.006864</td>\n",
              "      <td>0.000282</td>\n",
              "      <td>1000</td>\n",
              "      <td>{'C': 1000}</td>\n",
              "      <td>0.653030</td>\n",
              "      <td>0.647598</td>\n",
              "      <td>0.637646</td>\n",
              "      <td>0.646092</td>\n",
              "      <td>0.006370</td>\n",
              "      <td>6</td>\n",
              "      <td>0.651014</td>\n",
              "      <td>0.651250</td>\n",
              "      <td>0.658375</td>\n",
              "      <td>0.653546</td>\n",
              "      <td>0.003416</td>\n",
              "    </tr>\n",
              "    <tr>\n",
              "      <th>9</th>\n",
              "      <td>0.754393</td>\n",
              "      <td>0.078180</td>\n",
              "      <td>0.006804</td>\n",
              "      <td>0.000070</td>\n",
              "      <td>100000</td>\n",
              "      <td>{'C': 100000}</td>\n",
              "      <td>0.653029</td>\n",
              "      <td>0.647588</td>\n",
              "      <td>0.637649</td>\n",
              "      <td>0.646089</td>\n",
              "      <td>0.006368</td>\n",
              "      <td>7</td>\n",
              "      <td>0.651012</td>\n",
              "      <td>0.651246</td>\n",
              "      <td>0.658374</td>\n",
              "      <td>0.653544</td>\n",
              "      <td>0.003417</td>\n",
              "    </tr>\n",
              "    <tr>\n",
              "      <th>6</th>\n",
              "      <td>0.784194</td>\n",
              "      <td>0.200994</td>\n",
              "      <td>0.007372</td>\n",
              "      <td>0.000166</td>\n",
              "      <td>100</td>\n",
              "      <td>{'C': 100}</td>\n",
              "      <td>0.653035</td>\n",
              "      <td>0.647616</td>\n",
              "      <td>0.637549</td>\n",
              "      <td>0.646067</td>\n",
              "      <td>0.006416</td>\n",
              "      <td>8</td>\n",
              "      <td>0.651014</td>\n",
              "      <td>0.651247</td>\n",
              "      <td>0.658379</td>\n",
              "      <td>0.653547</td>\n",
              "      <td>0.003418</td>\n",
              "    </tr>\n",
              "    <tr>\n",
              "      <th>1</th>\n",
              "      <td>0.143716</td>\n",
              "      <td>0.008825</td>\n",
              "      <td>0.007049</td>\n",
              "      <td>0.000106</td>\n",
              "      <td>0.001</td>\n",
              "      <td>{'C': 0.001}</td>\n",
              "      <td>0.644942</td>\n",
              "      <td>0.647189</td>\n",
              "      <td>0.633901</td>\n",
              "      <td>0.642011</td>\n",
              "      <td>0.005807</td>\n",
              "      <td>9</td>\n",
              "      <td>0.642731</td>\n",
              "      <td>0.642916</td>\n",
              "      <td>0.649008</td>\n",
              "      <td>0.644885</td>\n",
              "      <td>0.002916</td>\n",
              "    </tr>\n",
              "    <tr>\n",
              "      <th>0</th>\n",
              "      <td>0.107281</td>\n",
              "      <td>0.001633</td>\n",
              "      <td>0.007275</td>\n",
              "      <td>0.000231</td>\n",
              "      <td>0.0001</td>\n",
              "      <td>{'C': 0.0001}</td>\n",
              "      <td>0.630513</td>\n",
              "      <td>0.636700</td>\n",
              "      <td>0.622605</td>\n",
              "      <td>0.629940</td>\n",
              "      <td>0.005769</td>\n",
              "      <td>10</td>\n",
              "      <td>0.630497</td>\n",
              "      <td>0.629189</td>\n",
              "      <td>0.635054</td>\n",
              "      <td>0.631580</td>\n",
              "      <td>0.002514</td>\n",
              "    </tr>\n",
              "  </tbody>\n",
              "</table>\n",
              "</div>"
            ],
            "text/plain": [
              "   mean_fit_time  std_fit_time  ...  mean_train_score  std_train_score\n",
              "2       0.233730      0.026330  ...          0.651798         0.003316\n",
              "3       0.409442      0.019403  ...          0.653501         0.003442\n",
              "4       0.678096      0.037342  ...          0.653583         0.003421\n",
              "5       0.756981      0.108140  ...          0.653554         0.003424\n",
              "8       0.792540      0.114250  ...          0.653544         0.003421\n",
              "7       0.928396      0.230410  ...          0.653546         0.003416\n",
              "9       0.754393      0.078180  ...          0.653544         0.003417\n",
              "6       0.784194      0.200994  ...          0.653547         0.003418\n",
              "1       0.143716      0.008825  ...          0.644885         0.002916\n",
              "0       0.107281      0.001633  ...          0.631580         0.002514\n",
              "\n",
              "[10 rows x 17 columns]"
            ]
          },
          "metadata": {
            "tags": []
          },
          "execution_count": 82
        }
      ]
    },
    {
      "cell_type": "code",
      "metadata": {
        "id": "WyGOQ1A2wQ-l",
        "colab_type": "code",
        "colab": {}
      },
      "source": [
        "C_5 = 10**(-3)"
      ],
      "execution_count": 0,
      "outputs": []
    },
    {
      "cell_type": "markdown",
      "metadata": {
        "id": "8k37b1S2wDaZ",
        "colab_type": "text"
      },
      "source": [
        "#### 6.2.2 Test Model"
      ]
    },
    {
      "cell_type": "code",
      "metadata": {
        "id": "lvmwr0mSwCu1",
        "colab_type": "code",
        "outputId": "21fc1a99-17cd-4f9f-d951-dd1b5e600a5a",
        "colab": {
          "base_uri": "https://localhost:8080/",
          "height": 867
        }
      },
      "source": [
        "lr_5 = LogisticRegression(C=C_5, class_weight='balanced')\n",
        "lr_5.fit(train_set_5x, train_set_5y)\n",
        "\n",
        "y_train_pred = lr_5.predict_proba(train_set_5x)[:,1]\n",
        "y_test_pred = lr_5.predict_proba(test_set_5x)[:,1]\n",
        "\n",
        "train_fpr, train_tpr, tr_thresholds = roc_curve(train_set_5y, y_train_pred)\n",
        "test_fpr, test_tpr, te_thresholds = roc_curve(test_set_5y, y_test_pred)\n",
        "\n",
        "tr_auc_5 = auc(train_fpr, train_tpr)\n",
        "te_auc_5 = auc(test_fpr, test_tpr)\n",
        "\n",
        "plt.plot(train_fpr, train_tpr, label=\"Train AUC =\"+str(tr_auc_5))\n",
        "plt.plot(test_fpr, test_tpr, label=\"Test AUC =\"+str(te_auc_5))\n",
        "plt.legend()\n",
        "plt.xlabel(\"False Positive Rate\")\n",
        "plt.ylabel(\"True Positive Rate\")\n",
        "plt.title(\"ROC CURVE FOR Logistic Regression ON TEST SET 5\")\n",
        "plt.grid()\n",
        "plt.show()\n",
        "\n",
        "best_t = find_best_threshold(tr_thresholds, train_fpr, train_tpr)\n",
        "conf_mat = confusion_matrix(train_set_5y, predict_with_best_t(y_train_pred, best_t))\n",
        "print(\"CONFUSION MATRIX FOR TRAIN DATA:\")\n",
        "ax = sns.heatmap(conf_mat, annot=True, xticklabels=['PREDICTED: NO', 'PREDICTED: YES'], yticklabels=[\"ACTUAL NO\", \"ACTUAL YES\"])\n",
        "plt.show()\n",
        "\n",
        "best_t = find_best_threshold(te_thresholds, test_fpr, test_tpr)\n",
        "conf_mat = confusion_matrix(test_set_5y, predict_with_best_t(y_test_pred, best_t))\n",
        "print(\"CONFUSION MATRIX FOR TEST DATA:\")\n",
        "ax = sns.heatmap(conf_mat, annot=True, xticklabels=['PREDICTED: NO', 'PREDICTED: YES'], yticklabels=[\"ACTUAL NO\", \"ACTUAL YES\"])\n",
        "plt.show()"
      ],
      "execution_count": 0,
      "outputs": [
        {
          "output_type": "display_data",
          "data": {
            "image/png": "[encoded data removed]",
            "text/plain": [
              "<Figure size 432x288 with 1 Axes>"
            ]
          },
          "metadata": {
            "tags": []
          }
        },
        {
          "output_type": "stream",
          "text": [
            "The maximum value of tpr*(1-fpr) is  0.369493495 for threshold: 0.504\n",
            "CONFUSION MATRIX FOR TRAIN DATA:\n"
          ],
          "name": "stdout"
        },
        {
          "output_type": "display_data",
          "data": {
            "image/png": "[encoded data removed]",
            "text/plain": [
              "<Figure size 432x288 with 2 Axes>"
            ]
          },
          "metadata": {
            "tags": []
          }
        },
        {
          "output_type": "stream",
          "text": [
            "The maximum value of tpr*(1-fpr) is  0.3569022379233058 for threshold: 0.513\n",
            "CONFUSION MATRIX FOR TEST DATA:\n"
          ],
          "name": "stdout"
        },
        {
          "output_type": "display_data",
          "data": {
            "image/png": "[encoded data removed]",
            "text/plain": [
              "<Figure size 432x288 with 2 Axes>"
            ]
          },
          "metadata": {
            "tags": []
          }
        }
      ]
    },
    {
      "cell_type": "markdown",
      "metadata": {
        "id": "mXwg2WyfOWn7",
        "colab_type": "text"
      },
      "source": [
        "## 7. Summary table "
      ]
    },
    {
      "cell_type": "code",
      "metadata": {
        "id": "NxMvWhrzYxAP",
        "colab_type": "code",
        "outputId": "2bc0b4b6-ccbd-4aa8-a2f5-ca90a9c696e2",
        "colab": {
          "base_uri": "https://localhost:8080/",
          "height": 170
        }
      },
      "source": [
        "from prettytable import PrettyTable\n",
        "\n",
        "summ = PrettyTable()\n",
        "\n",
        "summ.field_names = [\"Data Set\", \"Model\", \"C: Hyperparameter\", \"AUC on Test data\"]\n",
        "\n",
        "summ.add_row([\"Text encoded as BOW\", \"Logistic Regression\", C_1, np.round(te_auc_1, 4)])\n",
        "summ.add_row([\"Text encoded as TFIDF\", \"Logistic Regression\", C_2, np.round(te_auc_2, 4)])\n",
        "summ.add_row([\"Text encoded as AVG_W2V\", \"Logistic Regression\", C_3, np.round(te_auc_3, 4)])\n",
        "summ.add_row([\"Text encoded as TFIDF_W2V\", \"Logistic Regression\", C_4, np.round(te_auc_4, 4)])\n",
        "summ.add_row([\"Numerical features of text\", \"Logistic Regression\", C_5, np.round(te_auc_5, 4)])\n",
        "\n",
        "print(summ)"
      ],
      "execution_count": 0,
      "outputs": [
        {
          "output_type": "stream",
          "text": [
            "+----------------------------+---------------------+-------------------+------------------+\n",
            "|          Data Set          |        Model        | C: Hyperparameter | AUC on Test data |\n",
            "+----------------------------+---------------------+-------------------+------------------+\n",
            "|    Text encoded as BOW     | Logistic Regression |       0.001       |      0.7141      |\n",
            "|   Text encoded as TFIDF    | Logistic Regression |        0.01       |      0.6885      |\n",
            "|  Text encoded as AVG_W2V   | Logistic Regression |        0.01       |      0.6915      |\n",
            "| Text encoded as TFIDF_W2V  | Logistic Regression |        0.01       |      0.695       |\n",
            "| Numerical features of text | Logistic Regression |       0.001       |      0.6324      |\n",
            "+----------------------------+---------------------+-------------------+------------------+\n"
          ],
          "name": "stdout"
        }
      ]
    },
    {
      "cell_type": "markdown",
      "metadata": {
        "id": "Dxmbdjlu7lI-",
        "colab_type": "text"
      },
      "source": [
        "**Conclusion:** AUC on test data using dataset with only numerical features (SET_5) is significantly lower than the AUC scores of other datasets."
      ]
    }
  ]
}