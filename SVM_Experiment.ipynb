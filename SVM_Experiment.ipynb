{
  "nbformat": 4,
  "nbformat_minor": 0,
  "metadata": {
    "colab": {
      "name": "SVM_Experiment.ipynb",
      "provenance": [],
      "collapsed_sections": [
        "9lhFHImI746N",
        "9MIW-5A78AhZ",
        "G5-jzum9MbOr",
        "Qmaj_lfFW3sE",
        "vIs9wvzLGKkK",
        "gNkaETDts87r",
        "pWvXZF_aGkR8"
      ],
      "machine_shape": "hm",
      "include_colab_link": true
    },
    "kernelspec": {
      "name": "python3",
      "display_name": "Python 3"
    },
    "accelerator": "TPU"
  },
  "cells": [
    {
      "cell_type": "markdown",
      "metadata": {
        "id": "view-in-github",
        "colab_type": "text"
      },
      "source": [
        "<a href=\"https://colab.research.google.com/github/ananda1996ai/ML-Solutions-for-Donors-Choose-Acceptance-Prediction/blob/master/SVM_Experiment.ipynb\" target=\"_parent\"><img src=\"https://colab.research.google.com/assets/colab-badge.svg\" alt=\"Open In Colab\"/></a>"
      ]
    },
    {
      "cell_type": "markdown",
      "metadata": {
        "id": "QAzddpf0F2Wm",
        "colab_type": "text"
      },
      "source": [
        "# SVM Experiment"
      ]
    },
    {
      "cell_type": "markdown",
      "metadata": {
        "id": "etNpzy7rCyl2",
        "colab_type": "text"
      },
      "source": [
        "<p>\n",
        "DonorsChoose.org receives hundreds of thousands of project proposals each year for classroom projects in need of funding. Right now, a large number of volunteers is needed to manually screen each submission before it's approved to be posted on the DonorsChoose.org website.\n",
        "</p>\n",
        "<p>\n",
        "    Next year, DonorsChoose.org expects to receive close to 500,000 project proposals. As a result, there are three main problems they need to solve:\n",
        "<ul>\n",
        "<li>\n",
        "    How to scale current manual processes and resources to screen 500,000 projects so that they can be posted as quickly and as efficiently as possible</li>\n",
        "    <li>How to increase the consistency of project vetting across different volunteers to improve the experience for teachers</li>\n",
        "    <li>How to focus volunteer time on the applications that need the most assistance</li>\n",
        "    </ul>\n",
        "</p>    \n",
        "<p>\n",
        "The goal of the competition is to predict whether or not a DonorsChoose.org project proposal submitted by a teacher will be approved, using the text of project descriptions as well as additional metadata about the project, teacher, and school. DonorsChoose.org can then use this information to identify projects most likely to need further review before approval.\n",
        "</p>"
      ]
    },
    {
      "cell_type": "markdown",
      "metadata": {
        "id": "kO2Kg7TgCyl4",
        "colab_type": "text"
      },
      "source": [
        "## About the DonorsChoose Data Set\n",
        "\n",
        "The `train.csv` data set provided by DonorsChoose contains the following features:\n",
        "\n",
        "Feature | Description \n",
        "----------|---------------\n",
        "**`project_id`** | A unique identifier for the proposed project. **Example:** `p036502`   \n",
        "**`project_title`**    | Title of the project. **Examples:**<br><ul><li><code>Art Will Make You Happy!</code></li><li><code>First Grade Fun</code></li></ul> \n",
        "**`project_grade_category`** | Grade level of students for which the project is targeted. One of the following enumerated values: <br/><ul><li><code>Grades PreK-2</code></li><li><code>Grades 3-5</code></li><li><code>Grades 6-8</code></li><li><code>Grades 9-12</code></li></ul>  \n",
        " **`project_subject_categories`** | One or more (comma-separated) subject categories for the project from the following enumerated list of values:  <br/><ul><li><code>Applied Learning</code></li><li><code>Care &amp; Hunger</code></li><li><code>Health &amp; Sports</code></li><li><code>History &amp; Civics</code></li><li><code>Literacy &amp; Language</code></li><li><code>Math &amp; Science</code></li><li><code>Music &amp; The Arts</code></li><li><code>Special Needs</code></li><li><code>Warmth</code></li></ul><br/> **Examples:** <br/><ul><li><code>Music &amp; The Arts</code></li><li><code>Literacy &amp; Language, Math &amp; Science</code></li>  \n",
        "  **`school_state`** | State where school is located ([Two-letter U.S. postal code](https://en.wikipedia.org/wiki/List_of_U.S._state_abbreviations#Postal_codes)). **Example:** `WY`\n",
        "**`project_subject_subcategories`** | One or more (comma-separated) subject subcategories for the project. **Examples:** <br/><ul><li><code>Literacy</code></li><li><code>Literature &amp; Writing, Social Sciences</code></li></ul> \n",
        "**`project_resource_summary`** | An explanation of the resources needed for the project. **Example:** <br/><ul><li><code>My students need hands on literacy materials to manage sensory needs!</code</li></ul> \n",
        "**`project_essay_1`**    | First application essay<sup>*</sup>  \n",
        "**`project_essay_2`**    | Second application essay<sup>*</sup> \n",
        "**`project_essay_3`**    | Third application essay<sup>*</sup> \n",
        "**`project_essay_4`**    | Fourth application essay<sup>*</sup> \n",
        "**`project_submitted_datetime`** | Datetime when project application was submitted. **Example:** `2016-04-28 12:43:56.245`   \n",
        "**`teacher_id`** | A unique identifier for the teacher of the proposed project. **Example:** `bdf8baa8fedef6bfeec7ae4ff1c15c56`  \n",
        "**`teacher_prefix`** | Teacher's title. One of the following enumerated values: <br/><ul><li><code>nan</code></li><li><code>Dr.</code></li><li><code>Mr.</code></li><li><code>Mrs.</code></li><li><code>Ms.</code></li><li><code>Teacher.</code></li></ul>  \n",
        "**`teacher_number_of_previously_posted_projects`** | Number of project applications previously submitted by the same teacher. **Example:** `2` \n",
        "\n",
        "<sup>*</sup> See the section <b>Notes on the Essay Data</b> for more details about these features.\n",
        "\n",
        "Additionally, the `resources.csv` data set provides more data about the resources required for each project. Each line in this file represents a resource required by a project:\n",
        "\n",
        "Feature | Description \n",
        "----------|---------------\n",
        "**`id`** | A `project_id` value from the `train.csv` file.  **Example:** `p036502`   \n",
        "**`description`** | Desciption of the resource. **Example:** `Tenor Saxophone Reeds, Box of 25`   \n",
        "**`quantity`** | Quantity of the resource required. **Example:** `3`   \n",
        "**`price`** | Price of the resource required. **Example:** `9.95`   \n",
        "\n",
        "**Note:** Many projects require multiple resources. The `id` value corresponds to a `project_id` in train.csv, so you use it as a key to retrieve all resources needed for a project:\n",
        "\n",
        "The data set contains the following label (the value you will attempt to predict):\n",
        "\n",
        "Label | Description\n",
        "----------|---------------\n",
        "`project_is_approved` | A binary flag indicating whether DonorsChoose approved the project. A value of `0` indicates the project was not approved, and a value of `1` indicates the project was approved."
      ]
    },
    {
      "cell_type": "markdown",
      "metadata": {
        "id": "dBGA_YStCyl6",
        "colab_type": "text"
      },
      "source": [
        "### Notes on the Essay Data\n",
        "\n",
        "<ul>\n",
        "Prior to May 17, 2016, the prompts for the essays were as follows:\n",
        "<li>__project_essay_1:__ \"Introduce us to your classroom\"</li>\n",
        "<li>__project_essay_2:__ \"Tell us more about your students\"</li>\n",
        "<li>__project_essay_3:__ \"Describe how your students will use the materials you're requesting\"</li>\n",
        "<li>__project_essay_3:__ \"Close by sharing why your project will make a difference\"</li>\n",
        "</ul>\n",
        "\n",
        "\n",
        "<ul>\n",
        "Starting on May 17, 2016, the number of essays was reduced from 4 to 2, and the prompts for the first 2 essays were changed to the following:<br>\n",
        "<li>__project_essay_1:__ \"Describe your students: What makes your students special? Specific details about their background, your neighborhood, and your school are all helpful.\"</li>\n",
        "<li>__project_essay_2:__ \"About your project: How will these materials make a difference in your students' learning and improve their school lives?\"</li>\n",
        "<br>For all projects with project_submitted_datetime of 2016-05-17 and later, the values of project_essay_3 and project_essay_4 will be NaN.\n",
        "</ul>\n"
      ]
    },
    {
      "cell_type": "code",
      "metadata": {
        "id": "EctBRI5OFyWq",
        "colab_type": "code",
        "outputId": "1e0729a2-a3df-471d-ed2e-422394566fbe",
        "colab": {
          "base_uri": "https://localhost:8080/",
          "height": 51
        }
      },
      "source": [
        "%matplotlib inline\n",
        "import warnings\n",
        "warnings.filterwarnings(\"ignore\")\n",
        "\n",
        "import pandas as pd\n",
        "import numpy as np\n",
        "import nltk\n",
        "import re\n",
        "import os\n",
        "import pickle\n",
        "import math\n",
        "\n",
        "nltk.download('stopwords')\n",
        "from nltk.corpus import stopwords\n",
        "\n",
        "from tqdm import tqdm\n",
        "import matplotlib.pyplot as plt\n",
        "import seaborn as sns\n",
        "from sklearn.feature_extraction.text import TfidfVectorizer\n",
        "from sklearn.feature_extraction.text import CountVectorizer\n",
        "from sklearn.preprocessing import StandardScaler\n",
        "from collections import Counter\n",
        "from tqdm import tqdm\n",
        "\n",
        "from scipy import sparse\n",
        "\n",
        "from sklearn.externals import joblib\n",
        "\n",
        "import matplotlib.pyplot as plt\n",
        "from sklearn.utils import resample\n",
        "from sklearn.model_selection import train_test_split\n",
        "\n",
        "from sklearn.linear_model import LogisticRegression\n",
        "from sklearn.linear_model import SGDClassifier\n",
        "from sklearn.calibration import CalibratedClassifierCV\n",
        "from sklearn.svm import SVC\n",
        "\n",
        "from sklearn.metrics import roc_auc_score\n",
        "from sklearn.metrics import confusion_matrix\n",
        "from sklearn import metrics\n",
        "from sklearn.metrics import roc_curve, auc\n",
        "\n",
        "from numpy.random import seed\n",
        "seed(1)\n",
        "\n",
        "from sklearn.model_selection import GridSearchCV\n",
        "from scipy.stats import randint as sp_randint\n",
        "from sklearn.model_selection import RandomizedSearchCV\n",
        "\n",
        "from prettytable import PrettyTable\n",
        "from prettytable import ALL"
      ],
      "execution_count": 0,
      "outputs": [
        {
          "output_type": "stream",
          "text": [
            "[nltk_data] Downloading package stopwords to /root/nltk_data...\n",
            "[nltk_data]   Package stopwords is already up-to-date!\n"
          ],
          "name": "stdout"
        }
      ]
    },
    {
      "cell_type": "code",
      "metadata": {
        "id": "yzfJt0fkotl_",
        "colab_type": "code",
        "outputId": "78da60b7-d94d-42cd-a5a3-26161c7d0b3a",
        "colab": {
          "base_uri": "https://localhost:8080/",
          "height": 34
        }
      },
      "source": [
        "from google.colab import drive\n",
        "drive.mount('/content/drive/')"
      ],
      "execution_count": 0,
      "outputs": [
        {
          "output_type": "stream",
          "text": [
            "Drive already mounted at /content/drive/; to attempt to forcibly remount, call drive.mount(\"/content/drive/\", force_remount=True).\n"
          ],
          "name": "stdout"
        }
      ]
    },
    {
      "cell_type": "markdown",
      "metadata": {
        "id": "6JpBeZ5CF1oM",
        "colab_type": "text"
      },
      "source": [
        "## 1. Getting Data"
      ]
    },
    {
      "cell_type": "markdown",
      "metadata": {
        "id": "49lorjooGFM-",
        "colab_type": "text"
      },
      "source": [
        "### 1.1 Load Datasets"
      ]
    },
    {
      "cell_type": "code",
      "metadata": {
        "id": "1af5E2-b1HyH",
        "colab_type": "code",
        "outputId": "781715ed-883f-49d1-d832-695c1a0f4ed2",
        "colab": {
          "base_uri": "https://localhost:8080/",
          "height": 34
        }
      },
      "source": [
        "project_data = pd.read_csv(\"/content/drive/My Drive/Assignment_2 drive dwnld/train_data.csv\")\n",
        "resource_data = pd.read_csv(\"/content/drive/My Drive/Assignment_2 drive dwnld/resources.csv\")\n",
        "\n",
        "price_data = resource_data.groupby('id').agg({'price':'sum', 'quantity':'sum'}).reset_index()\n",
        "dataset = pd.merge(project_data, price_data, on='id', how='left')\n",
        "\n",
        "dataset.shape"
      ],
      "execution_count": 0,
      "outputs": [
        {
          "output_type": "execute_result",
          "data": {
            "text/plain": [
              "(109248, 19)"
            ]
          },
          "metadata": {
            "tags": []
          },
          "execution_count": 6
        }
      ]
    },
    {
      "cell_type": "code",
      "metadata": {
        "id": "lWMgrrwTVCRW",
        "colab_type": "code",
        "outputId": "8327ea22-8013-4283-9907-7d634dd4ab59",
        "colab": {
          "base_uri": "https://localhost:8080/",
          "height": 233
        }
      },
      "source": [
        "dataset.head(2)"
      ],
      "execution_count": 0,
      "outputs": [
        {
          "output_type": "execute_result",
          "data": {
            "text/html": [
              "<div>\n",
              "<style scoped>\n",
              "    .dataframe tbody tr th:only-of-type {\n",
              "        vertical-align: middle;\n",
              "    }\n",
              "\n",
              "    .dataframe tbody tr th {\n",
              "        vertical-align: top;\n",
              "    }\n",
              "\n",
              "    .dataframe thead th {\n",
              "        text-align: right;\n",
              "    }\n",
              "</style>\n",
              "<table border=\"1\" class=\"dataframe\">\n",
              "  <thead>\n",
              "    <tr style=\"text-align: right;\">\n",
              "      <th></th>\n",
              "      <th>Unnamed: 0</th>\n",
              "      <th>id</th>\n",
              "      <th>teacher_id</th>\n",
              "      <th>teacher_prefix</th>\n",
              "      <th>school_state</th>\n",
              "      <th>project_submitted_datetime</th>\n",
              "      <th>project_grade_category</th>\n",
              "      <th>project_subject_categories</th>\n",
              "      <th>project_subject_subcategories</th>\n",
              "      <th>project_title</th>\n",
              "      <th>project_essay_1</th>\n",
              "      <th>project_essay_2</th>\n",
              "      <th>project_essay_3</th>\n",
              "      <th>project_essay_4</th>\n",
              "      <th>project_resource_summary</th>\n",
              "      <th>teacher_number_of_previously_posted_projects</th>\n",
              "      <th>project_is_approved</th>\n",
              "      <th>price</th>\n",
              "      <th>quantity</th>\n",
              "    </tr>\n",
              "  </thead>\n",
              "  <tbody>\n",
              "    <tr>\n",
              "      <th>0</th>\n",
              "      <td>160221</td>\n",
              "      <td>p253737</td>\n",
              "      <td>c90749f5d961ff158d4b4d1e7dc665fc</td>\n",
              "      <td>Mrs.</td>\n",
              "      <td>IN</td>\n",
              "      <td>2016-12-05 13:43:57</td>\n",
              "      <td>Grades PreK-2</td>\n",
              "      <td>Literacy &amp; Language</td>\n",
              "      <td>ESL, Literacy</td>\n",
              "      <td>Educational Support for English Learners at Home</td>\n",
              "      <td>My students are English learners that are work...</td>\n",
              "      <td>\\\"The limits of your language are the limits o...</td>\n",
              "      <td>NaN</td>\n",
              "      <td>NaN</td>\n",
              "      <td>My students need opportunities to practice beg...</td>\n",
              "      <td>0</td>\n",
              "      <td>0</td>\n",
              "      <td>154.6</td>\n",
              "      <td>23</td>\n",
              "    </tr>\n",
              "    <tr>\n",
              "      <th>1</th>\n",
              "      <td>140945</td>\n",
              "      <td>p258326</td>\n",
              "      <td>897464ce9ddc600bced1151f324dd63a</td>\n",
              "      <td>Mr.</td>\n",
              "      <td>FL</td>\n",
              "      <td>2016-10-25 09:22:10</td>\n",
              "      <td>Grades 6-8</td>\n",
              "      <td>History &amp; Civics, Health &amp; Sports</td>\n",
              "      <td>Civics &amp; Government, Team Sports</td>\n",
              "      <td>Wanted: Projector for Hungry Learners</td>\n",
              "      <td>Our students arrive to our school eager to lea...</td>\n",
              "      <td>The projector we need for our school is very c...</td>\n",
              "      <td>NaN</td>\n",
              "      <td>NaN</td>\n",
              "      <td>My students need a projector to help with view...</td>\n",
              "      <td>7</td>\n",
              "      <td>1</td>\n",
              "      <td>299.0</td>\n",
              "      <td>1</td>\n",
              "    </tr>\n",
              "  </tbody>\n",
              "</table>\n",
              "</div>"
            ],
            "text/plain": [
              "   Unnamed: 0       id  ...  price quantity\n",
              "0      160221  p253737  ...  154.6       23\n",
              "1      140945  p258326  ...  299.0        1\n",
              "\n",
              "[2 rows x 19 columns]"
            ]
          },
          "metadata": {
            "tags": []
          },
          "execution_count": 7
        }
      ]
    },
    {
      "cell_type": "markdown",
      "metadata": {
        "id": "nhVavBN_X_Qd",
        "colab_type": "text"
      },
      "source": [
        "### 1.2 Dataset Cleaning and pre-processing"
      ]
    },
    {
      "cell_type": "markdown",
      "metadata": {
        "id": "9lhFHImI746N",
        "colab_type": "text"
      },
      "source": [
        "#### 1.2.1 Dropping irrelevant data"
      ]
    },
    {
      "cell_type": "code",
      "metadata": {
        "id": "boa4YEYLcI08",
        "colab_type": "code",
        "colab": {}
      },
      "source": [
        "#For the purposes of classification, the columns 'unnamed', 'id', and 'teacher_id' must be dropped as they are unique for each record and will cause over-fitting.\n",
        "#For classification, we'll consider only numerical features, categorical features, and text festures. Thus we also drop date-time information.\n",
        "\n",
        "dataset.drop(['Unnamed: 0', 'id', 'teacher_id', 'project_submitted_datetime'], axis=1, inplace=True)\n",
        "\n",
        "#As KNN is not suitable for large datasets, we downsample to 50K points from the original dataset.\n",
        "\n",
        "dataset = resample(dataset, n_samples=50000, replace=False, stratify=dataset['project_is_approved'].values)\n",
        "dataset = dataset.reset_index()\n",
        "dataset.drop(['index'], axis=1, inplace=True)"
      ],
      "execution_count": 0,
      "outputs": []
    },
    {
      "cell_type": "code",
      "metadata": {
        "id": "UTbUoT__pynG",
        "colab_type": "code",
        "outputId": "d501fa85-410b-4b4b-bb1d-7c4cefdc8850",
        "colab": {
          "base_uri": "https://localhost:8080/"
        }
      },
      "source": [
        "print(dataset.shape)\n",
        "dataset.head(2)"
      ],
      "execution_count": 0,
      "outputs": [
        {
          "output_type": "stream",
          "text": [
            "(50000, 15)\n"
          ],
          "name": "stdout"
        },
        {
          "output_type": "execute_result",
          "data": {
            "text/html": [
              "<div>\n",
              "<style scoped>\n",
              "    .dataframe tbody tr th:only-of-type {\n",
              "        vertical-align: middle;\n",
              "    }\n",
              "\n",
              "    .dataframe tbody tr th {\n",
              "        vertical-align: top;\n",
              "    }\n",
              "\n",
              "    .dataframe thead th {\n",
              "        text-align: right;\n",
              "    }\n",
              "</style>\n",
              "<table border=\"1\" class=\"dataframe\">\n",
              "  <thead>\n",
              "    <tr style=\"text-align: right;\">\n",
              "      <th></th>\n",
              "      <th>teacher_prefix</th>\n",
              "      <th>school_state</th>\n",
              "      <th>project_grade_category</th>\n",
              "      <th>project_subject_categories</th>\n",
              "      <th>project_subject_subcategories</th>\n",
              "      <th>project_title</th>\n",
              "      <th>project_essay_1</th>\n",
              "      <th>project_essay_2</th>\n",
              "      <th>project_essay_3</th>\n",
              "      <th>project_essay_4</th>\n",
              "      <th>project_resource_summary</th>\n",
              "      <th>teacher_number_of_previously_posted_projects</th>\n",
              "      <th>project_is_approved</th>\n",
              "      <th>price</th>\n",
              "      <th>quantity</th>\n",
              "    </tr>\n",
              "  </thead>\n",
              "  <tbody>\n",
              "    <tr>\n",
              "      <th>0</th>\n",
              "      <td>Mrs.</td>\n",
              "      <td>TX</td>\n",
              "      <td>Grades PreK-2</td>\n",
              "      <td>Health &amp; Sports, Literacy &amp; Language</td>\n",
              "      <td>Health &amp; Wellness, Literature &amp; Writing</td>\n",
              "      <td>Wiggle While You Learn: Flexible Seating Optio...</td>\n",
              "      <td>My second graders have learned to work coopera...</td>\n",
              "      <td>In today's classroom, we as teachers cater to ...</td>\n",
              "      <td>NaN</td>\n",
              "      <td>NaN</td>\n",
              "      <td>My students need flexible seating options that...</td>\n",
              "      <td>6</td>\n",
              "      <td>1</td>\n",
              "      <td>291.30</td>\n",
              "      <td>16</td>\n",
              "    </tr>\n",
              "    <tr>\n",
              "      <th>1</th>\n",
              "      <td>Mrs.</td>\n",
              "      <td>LA</td>\n",
              "      <td>Grades PreK-2</td>\n",
              "      <td>Literacy &amp; Language, Applied Learning</td>\n",
              "      <td>Literacy, Other</td>\n",
              "      <td>Autism Listens</td>\n",
              "      <td>are completely amazing, and teach me everyday!...</td>\n",
              "      <td>In an Autism classroom we model all day to the...</td>\n",
              "      <td>NaN</td>\n",
              "      <td>NaN</td>\n",
              "      <td>My students need a Listening Center to help br...</td>\n",
              "      <td>0</td>\n",
              "      <td>1</td>\n",
              "      <td>367.99</td>\n",
              "      <td>4</td>\n",
              "    </tr>\n",
              "  </tbody>\n",
              "</table>\n",
              "</div>"
            ],
            "text/plain": [
              "  teacher_prefix school_state  ...   price quantity\n",
              "0           Mrs.           TX  ...  291.30       16\n",
              "1           Mrs.           LA  ...  367.99        4\n",
              "\n",
              "[2 rows x 15 columns]"
            ]
          },
          "metadata": {
            "tags": []
          },
          "execution_count": 9
        }
      ]
    },
    {
      "cell_type": "markdown",
      "metadata": {
        "id": "9MIW-5A78AhZ",
        "colab_type": "text"
      },
      "source": [
        "#### 1.2.2 Text pre-processing"
      ]
    },
    {
      "cell_type": "code",
      "metadata": {
        "id": "vzLI_9oFmXDx",
        "colab_type": "code",
        "outputId": "ffd8eeef-cd50-454c-8a60-0bbb784a23ce",
        "colab": {
          "base_uri": "https://localhost:8080/"
        }
      },
      "source": [
        "# https://stackoverflow.com/a/47091490/4084039\n",
        "import re\n",
        "\n",
        "def decontracted(phrase):\n",
        "  # specific\n",
        "  phrase = re.sub(r\"won't\", \"will not\", phrase)\n",
        "  phrase = re.sub(r\"can\\'t\", \"can not\", phrase)\n",
        "\n",
        "  # general\n",
        "  phrase = re.sub(r\"n\\'t\", \" not\", phrase)\n",
        "  phrase = re.sub(r\"\\'re\", \" are\", phrase)\n",
        "  phrase = re.sub(r\"\\'s\", \" is\", phrase)\n",
        "  phrase = re.sub(r\"\\'d\", \" would\", phrase)\n",
        "  phrase = re.sub(r\"\\'ll\", \" will\", phrase)\n",
        "  phrase = re.sub(r\"\\'t\", \" not\", phrase)\n",
        "  phrase = re.sub(r\"\\'ve\", \" have\", phrase)\n",
        "  phrase = re.sub(r\"\\'m\", \" am\", phrase)\n",
        "  return phrase\n",
        "\n",
        "sw = set(stopwords.words('english')) #Using NLTK list of stopwords.\n",
        "\n",
        "#PRE-PROCESSING ON ESSAYS\n",
        "\n",
        "dataset[\"essay\"] = dataset[\"project_essay_1\"].map(str) + dataset[\"project_essay_2\"].map(str) + dataset[\"project_essay_3\"].map(str) + dataset[\"project_essay_4\"].map(str)\n",
        "\n",
        "dataset.drop(['project_essay_1', 'project_essay_2', 'project_essay_3', 'project_essay_4'], axis=1, inplace=True)\n",
        "\n",
        "preprocessed_essays = []\n",
        "for sentence in tqdm(dataset['essay'].values):\n",
        "  sent = decontracted(sentence)\n",
        "  sent = sent.replace('\\\\r', ' ')\n",
        "  sent = sent.replace('\\\\\"', ' ')\n",
        "  sent = sent.replace('\\\\n', ' ')\n",
        "  sent = re.sub('[^A-Za-z0-9]+', ' ', sent)\n",
        "  # https://gist.github.com/sebleier/554280\n",
        "  sent = ' '.join(w for w in sent.split() if w not in sw)\n",
        "  preprocessed_essays.append(sent.lower().strip())\n",
        "    \n",
        "dataset[\"essay\"] = preprocessed_essays  "
      ],
      "execution_count": 0,
      "outputs": [
        {
          "output_type": "stream",
          "text": [
            "100%|██████████| 50000/50000 [00:07<00:00, 7109.79it/s]\n"
          ],
          "name": "stderr"
        }
      ]
    },
    {
      "cell_type": "code",
      "metadata": {
        "id": "LUS4ia-qFUgP",
        "colab_type": "code",
        "outputId": "0189da6c-2214-4c6b-991b-60d7ce5b52bb",
        "colab": {
          "base_uri": "https://localhost:8080/"
        }
      },
      "source": [
        "#PRE-PROCESSING ON TITLES\n",
        "\n",
        "preprocessed_titles = []\n",
        "\n",
        "for sentence in tqdm(dataset['project_title'].values):\n",
        "  sent = decontracted(sentence)\n",
        "  sent = sent.replace('\\\\r', ' ')\n",
        "  sent = sent.replace('\\\\\"', ' ')\n",
        "  sent = sent.replace('\\\\n', ' ')\n",
        "  sent = re.sub('[^A-Za-z0-9]+', ' ', sent)\n",
        "  # https://gist.github.com/sebleier/554280\n",
        "  sent = ' '.join(w for w in sent.split() if w not in sw)\n",
        "  preprocessed_titles.append(sent.lower().strip())\n",
        "  \n",
        "dataset[\"project_title\"] = preprocessed_titles"
      ],
      "execution_count": 0,
      "outputs": [
        {
          "output_type": "stream",
          "text": [
            "100%|██████████| 50000/50000 [00:00<00:00, 73368.83it/s]\n"
          ],
          "name": "stderr"
        }
      ]
    },
    {
      "cell_type": "code",
      "metadata": {
        "id": "zBbU0UzNGOFm",
        "colab_type": "code",
        "outputId": "031e2eb7-7842-4b4a-901f-3935941dc1fc",
        "colab": {
          "base_uri": "https://localhost:8080/"
        }
      },
      "source": [
        "#PRE_PROCESSING ON RESOURCE SUMMARY\n",
        "\n",
        "preprocessed_summary = []\n",
        "\n",
        "for sentence in tqdm(dataset['project_resource_summary'].values):\n",
        "  sent = decontracted(sentence)\n",
        "  sent = sent.replace('\\\\r', ' ')\n",
        "  sent = sent.replace('\\\\\"', ' ')\n",
        "  sent = sent.replace('\\\\n', ' ')\n",
        "  sent = re.sub('[^A-Za-z0-9]+', ' ', sent)\n",
        "  # https://gist.github.com/sebleier/554280\n",
        "  sent = ' '.join(w for w in sent.split() if w not in sw)\n",
        "  preprocessed_summary.append(sent.lower().strip())\n",
        "  \n",
        "dataset['project_resource_summary'] = preprocessed_summary"
      ],
      "execution_count": 0,
      "outputs": [
        {
          "output_type": "stream",
          "text": [
            "100%|██████████| 50000/50000 [00:01<00:00, 46025.00it/s]\n"
          ],
          "name": "stderr"
        }
      ]
    },
    {
      "cell_type": "markdown",
      "metadata": {
        "id": "G5-jzum9MbOr",
        "colab_type": "text"
      },
      "source": [
        "#### 1.2.3 Categorical data cleaning"
      ]
    },
    {
      "cell_type": "code",
      "metadata": {
        "id": "wUvtnwcdJZp2",
        "colab_type": "code",
        "colab": {}
      },
      "source": [
        "#Cleaning TEACHER_PREFIXES\n",
        "\n",
        "dataset['teacher_prefix'].fillna('NA', inplace=True)\n",
        "dataset['teacher_prefix'] = dataset['teacher_prefix'].apply(lambda s: s.replace('.', ''))"
      ],
      "execution_count": 0,
      "outputs": []
    },
    {
      "cell_type": "code",
      "metadata": {
        "id": "vVCF-G-MOa81",
        "colab_type": "code",
        "colab": {}
      },
      "source": [
        "#Cleaning PROJECT_GRADE_CATEGORIES\n",
        "\n",
        "dataset['project_grade_category'] = dataset['project_grade_category'].apply(lambda s: re.sub(r'[\\s\\-]+', '_', s))"
      ],
      "execution_count": 0,
      "outputs": []
    },
    {
      "cell_type": "code",
      "metadata": {
        "id": "imjoWyM0RFjr",
        "colab_type": "code",
        "outputId": "33dd96a3-b70b-49c3-ba69-4f7ed2a59089",
        "colab": {
          "base_uri": "https://localhost:8080/"
        }
      },
      "source": [
        "#Cleaning PROJECT_SUBJECT_CATEGORIES\n",
        "\n",
        "cat_list = []\n",
        "for category in tqdm(dataset['project_subject_categories'].values):\n",
        "  temp = \"\"\n",
        "  for j in category.split(','):\n",
        "    \n",
        "      if 'The' in j.split(): \n",
        "          j=j.replace('The','')\n",
        "          \n",
        "      j = j.replace(' ','')\n",
        "      \n",
        "      temp+=j.strip()+\" \"\n",
        "      \n",
        "      temp = temp.replace('&','_')\n",
        "      \n",
        "  cat_list.append(temp.strip())\n",
        "  \n",
        "dataset['clean_categories'] = cat_list\n",
        "dataset.drop('project_subject_categories', axis=1, inplace=True)"
      ],
      "execution_count": 0,
      "outputs": [
        {
          "output_type": "stream",
          "text": [
            "100%|██████████| 50000/50000 [00:00<00:00, 459791.85it/s]\n"
          ],
          "name": "stderr"
        }
      ]
    },
    {
      "cell_type": "code",
      "metadata": {
        "id": "BXtEKpTdTDhF",
        "colab_type": "code",
        "outputId": "b29b24db-b729-4988-c627-e4d0195974fc",
        "colab": {
          "base_uri": "https://localhost:8080/"
        }
      },
      "source": [
        "#Cleaning PROJECT_SUBJECT_SUBCATEGORY\n",
        "\n",
        "subcat_list = []\n",
        "for subcategory in tqdm(dataset['project_subject_subcategories'].values):\n",
        "  temp = \"\"\n",
        "  for j in subcategory.split(','):\n",
        "    \n",
        "      if 'The' in j.split(): \n",
        "          j=j.replace('The','')\n",
        "          \n",
        "      j = j.replace(' ','')\n",
        "      \n",
        "      temp+=j.strip()+\" \"\n",
        "      \n",
        "      temp = temp.replace('&','_')\n",
        "      \n",
        "  subcat_list.append(temp.strip())\n",
        "  \n",
        "dataset['clean_subcategories'] = subcat_list\n",
        "dataset.drop('project_subject_subcategories', axis=1, inplace=True)"
      ],
      "execution_count": 0,
      "outputs": [
        {
          "output_type": "stream",
          "text": [
            "100%|██████████| 50000/50000 [00:00<00:00, 436607.41it/s]\n"
          ],
          "name": "stderr"
        }
      ]
    },
    {
      "cell_type": "code",
      "metadata": {
        "id": "942CC_5ETktp",
        "colab_type": "code",
        "outputId": "7044a958-d4f5-45cd-f70d-fc0a56878d75",
        "colab": {
          "base_uri": "https://localhost:8080/"
        }
      },
      "source": [
        "dataset.head(3)"
      ],
      "execution_count": 0,
      "outputs": [
        {
          "output_type": "execute_result",
          "data": {
            "text/html": [
              "<div>\n",
              "<style scoped>\n",
              "    .dataframe tbody tr th:only-of-type {\n",
              "        vertical-align: middle;\n",
              "    }\n",
              "\n",
              "    .dataframe tbody tr th {\n",
              "        vertical-align: top;\n",
              "    }\n",
              "\n",
              "    .dataframe thead th {\n",
              "        text-align: right;\n",
              "    }\n",
              "</style>\n",
              "<table border=\"1\" class=\"dataframe\">\n",
              "  <thead>\n",
              "    <tr style=\"text-align: right;\">\n",
              "      <th></th>\n",
              "      <th>teacher_prefix</th>\n",
              "      <th>school_state</th>\n",
              "      <th>project_grade_category</th>\n",
              "      <th>project_title</th>\n",
              "      <th>project_resource_summary</th>\n",
              "      <th>teacher_number_of_previously_posted_projects</th>\n",
              "      <th>project_is_approved</th>\n",
              "      <th>price</th>\n",
              "      <th>quantity</th>\n",
              "      <th>essay</th>\n",
              "      <th>clean_categories</th>\n",
              "      <th>clean_subcategories</th>\n",
              "    </tr>\n",
              "  </thead>\n",
              "  <tbody>\n",
              "    <tr>\n",
              "      <th>0</th>\n",
              "      <td>Mrs</td>\n",
              "      <td>TX</td>\n",
              "      <td>Grades_PreK_2</td>\n",
              "      <td>wiggle while you learn flexible seating option...</td>\n",
              "      <td>my students need flexible seating options incl...</td>\n",
              "      <td>6</td>\n",
              "      <td>1</td>\n",
              "      <td>291.30</td>\n",
              "      <td>16</td>\n",
              "      <td>my second graders learned work cooperatively w...</td>\n",
              "      <td>Health_Sports Literacy_Language</td>\n",
              "      <td>Health_Wellness Literature_Writing</td>\n",
              "    </tr>\n",
              "    <tr>\n",
              "      <th>1</th>\n",
              "      <td>Mrs</td>\n",
              "      <td>LA</td>\n",
              "      <td>Grades_PreK_2</td>\n",
              "      <td>autism listens</td>\n",
              "      <td>my students need listening center help broaden...</td>\n",
              "      <td>0</td>\n",
              "      <td>1</td>\n",
              "      <td>367.99</td>\n",
              "      <td>4</td>\n",
              "      <td>completely amazing teach everyday they bravely...</td>\n",
              "      <td>Literacy_Language AppliedLearning</td>\n",
              "      <td>Literacy Other</td>\n",
              "    </tr>\n",
              "    <tr>\n",
              "      <th>2</th>\n",
              "      <td>Ms</td>\n",
              "      <td>CA</td>\n",
              "      <td>Grades_6_8</td>\n",
              "      <td>keep me active</td>\n",
              "      <td>my students need sports equipment keep active ...</td>\n",
              "      <td>33</td>\n",
              "      <td>1</td>\n",
              "      <td>78.97</td>\n",
              "      <td>16</td>\n",
              "      <td>our students come diverse backgrounds over 90 ...</td>\n",
              "      <td>Health_Sports</td>\n",
              "      <td>Gym_Fitness</td>\n",
              "    </tr>\n",
              "  </tbody>\n",
              "</table>\n",
              "</div>"
            ],
            "text/plain": [
              "  teacher_prefix  ...                 clean_subcategories\n",
              "0            Mrs  ...  Health_Wellness Literature_Writing\n",
              "1            Mrs  ...                      Literacy Other\n",
              "2             Ms  ...                         Gym_Fitness\n",
              "\n",
              "[3 rows x 12 columns]"
            ]
          },
          "metadata": {
            "tags": []
          },
          "execution_count": 17
        }
      ]
    },
    {
      "cell_type": "code",
      "metadata": {
        "id": "UYt-HGw0Tnvv",
        "colab_type": "code",
        "outputId": "99a42952-db09-4fba-c301-fbca2284c04f",
        "colab": {
          "base_uri": "https://localhost:8080/"
        }
      },
      "source": [
        "dataset.shape"
      ],
      "execution_count": 0,
      "outputs": [
        {
          "output_type": "execute_result",
          "data": {
            "text/plain": [
              "(50000, 12)"
            ]
          },
          "metadata": {
            "tags": []
          },
          "execution_count": 18
        }
      ]
    },
    {
      "cell_type": "markdown",
      "metadata": {
        "id": "Qmaj_lfFW3sE",
        "colab_type": "text"
      },
      "source": [
        "#### 1.2.4 Cleaning numerical data"
      ]
    },
    {
      "cell_type": "code",
      "metadata": {
        "id": "HhHn9goUW8vY",
        "colab_type": "code",
        "outputId": "d8a57480-2fef-4946-dfbe-faa049f31070",
        "colab": {
          "base_uri": "https://localhost:8080/"
        }
      },
      "source": [
        "#Checking if any of the numerical features have missing values...\n",
        "isnan = []\n",
        "for f in ('teacher_number_of_previously_posted_projects', 'price', 'quantity'):\n",
        "  isnan.append(dataset[f].isna().values.any())\n",
        "  \n",
        "any(isnan)"
      ],
      "execution_count": 0,
      "outputs": [
        {
          "output_type": "execute_result",
          "data": {
            "text/plain": [
              "False"
            ]
          },
          "metadata": {
            "tags": []
          },
          "execution_count": 19
        }
      ]
    },
    {
      "cell_type": "markdown",
      "metadata": {
        "id": "5K-K8Wn0Zfd8",
        "colab_type": "text"
      },
      "source": [
        "Thus we do not have any missing values in numerical data. No cleaning required."
      ]
    },
    {
      "cell_type": "markdown",
      "metadata": {
        "id": "vIs9wvzLGKkK",
        "colab_type": "text"
      },
      "source": [
        "### 1.3 Divide data into Train, Val, Test using Stratified Sampling"
      ]
    },
    {
      "cell_type": "code",
      "metadata": {
        "id": "kYYGJBblN2QC",
        "colab_type": "code",
        "outputId": "21d20da1-c638-48b1-8d73-6350961b2cc1",
        "colab": {
          "base_uri": "https://localhost:8080/"
        }
      },
      "source": [
        "train_df = resample(dataset, n_samples=40000, replace=False, stratify=dataset['project_is_approved'].values)\n",
        "\n",
        "train_df.shape"
      ],
      "execution_count": 0,
      "outputs": [
        {
          "output_type": "execute_result",
          "data": {
            "text/plain": [
              "(40000, 12)"
            ]
          },
          "metadata": {
            "tags": []
          },
          "execution_count": 20
        }
      ]
    },
    {
      "cell_type": "code",
      "metadata": {
        "id": "pXnGA18rSxFd",
        "colab_type": "code",
        "outputId": "e336d43d-45a0-4a27-b997-320486b0072e",
        "colab": {
          "base_uri": "https://localhost:8080/"
        }
      },
      "source": [
        "dataset_idx = pd.Index(dataset.index.values)\n",
        "train_idx = pd.Index(train_df.index.values)\n",
        "rem_idx = dataset_idx.difference(train_idx)\n",
        "test_df = dataset.iloc[rem_idx]\n",
        "\n",
        "test_df.shape"
      ],
      "execution_count": 0,
      "outputs": [
        {
          "output_type": "execute_result",
          "data": {
            "text/plain": [
              "(10000, 12)"
            ]
          },
          "metadata": {
            "tags": []
          },
          "execution_count": 21
        }
      ]
    },
    {
      "cell_type": "markdown",
      "metadata": {
        "id": "gNkaETDts87r",
        "colab_type": "text"
      },
      "source": [
        "## Features for classification"
      ]
    },
    {
      "cell_type": "markdown",
      "metadata": {
        "id": "MIutN6mctJx4",
        "colab_type": "text"
      },
      "source": [
        "For classification, we are going to consider\n",
        "\n",
        "   - school_state : categorical data (One-hot encoded)\n",
        "   - clean_categories : categorical data (One-hot encoded)\n",
        "   - clean_subcategories : categorical data (One-hot encoded)\n",
        "   - project_grade_category : categorical data (One-hot encoded)\n",
        "   - teacher_prefix : categorical data (One-hot encoded)\n",
        "\n",
        "   - **project_title : text data (BOW, TFIDF, AVG_W2V, TFIDF_W2V)**\n",
        "   - **essay : text data (BOW, TFIDF, AVG_W2V, TFIDF_W2V)**\n",
        "   - project_resource_summary: text data (optional) (TFIDF)\n",
        "\n",
        "   - quantity : numerical (optional) (Vectorized)\n",
        "   - teacher_number_of_previously_posted_projects : numerical (Vectorized)\n",
        "   - price : numerical (Vectorized)"
      ]
    },
    {
      "cell_type": "markdown",
      "metadata": {
        "id": "pWvXZF_aGkR8",
        "colab_type": "text"
      },
      "source": [
        "## 2. Encoding Data"
      ]
    },
    {
      "cell_type": "markdown",
      "metadata": {
        "id": "9CGvoMkuHEY1",
        "colab_type": "text"
      },
      "source": [
        "### 2.1 Create all encoders using Train data"
      ]
    },
    {
      "cell_type": "markdown",
      "metadata": {
        "id": "O2fsN-v1uM85",
        "colab_type": "text"
      },
      "source": [
        "#### 2.1.1 Vectorizers for categorical data (One-hot encoders)"
      ]
    },
    {
      "cell_type": "code",
      "metadata": {
        "id": "Xz-KPrtxZyt-",
        "colab_type": "code",
        "outputId": "2754748e-b17d-4a6f-ec0f-0dc3a293b8ce",
        "colab": {
          "base_uri": "https://localhost:8080/",
          "height": 34
        }
      },
      "source": [
        "#Vectorizer for CLEAN_CATEGORIES\n",
        "\n",
        "cat_list = set()\n",
        "\n",
        "for categories in train_df['clean_categories'].values:\n",
        "  for word in categories.split():\n",
        "    cat_list.add(word)\n",
        "\n",
        "cat_vectorizer = CountVectorizer(vocabulary=list(cat_list), lowercase=False, binary=True)\n",
        "cat_vectorizer.fit(train_df['clean_categories'].values)\n",
        "print(cat_vectorizer.get_feature_names())"
      ],
      "execution_count": 0,
      "outputs": [
        {
          "output_type": "stream",
          "text": [
            "['Warmth', 'Health_Sports', 'Music_Arts', 'Math_Science', 'SpecialNeeds', 'Care_Hunger', 'Literacy_Language', 'History_Civics', 'AppliedLearning']\n"
          ],
          "name": "stdout"
        }
      ]
    },
    {
      "cell_type": "code",
      "metadata": {
        "id": "9vR4giiQ4Eda",
        "colab_type": "code",
        "outputId": "d57ffe49-ce07-4dce-815f-ab976c12470a",
        "colab": {
          "base_uri": "https://localhost:8080/",
          "height": 54
        }
      },
      "source": [
        "#Vectorizer for CLEAN_SUBCATEGORIES\n",
        "\n",
        "subcat_list = set()\n",
        "\n",
        "for subcategories in train_df['clean_subcategories'].values:\n",
        "  for word in subcategories.split():\n",
        "    subcat_list.add(word)\n",
        "\n",
        "subcat_vectorizer = CountVectorizer(vocabulary=list(subcat_list), lowercase=False, binary=True)\n",
        "subcat_vectorizer.fit(train_df['clean_subcategories'].values)\n",
        "print(subcat_vectorizer.get_feature_names())"
      ],
      "execution_count": 0,
      "outputs": [
        {
          "output_type": "stream",
          "text": [
            "['ParentInvolvement', 'AppliedSciences', 'Gym_Fitness', 'College_CareerPrep', 'Mathematics', 'ForeignLanguages', 'TeamSports', 'CommunityService', 'CharacterEducation', 'Other', 'Warmth', 'VisualArts', 'Health_Wellness', 'Music', 'SocialSciences', 'EnvironmentalScience', 'Literature_Writing', 'Literacy', 'NutritionEducation', 'Civics_Government', 'EarlyDevelopment', 'SpecialNeeds', 'Care_Hunger', 'FinancialLiteracy', 'PerformingArts', 'Health_LifeScience', 'Extracurricular', 'History_Geography', 'Economics', 'ESL']\n"
          ],
          "name": "stdout"
        }
      ]
    },
    {
      "cell_type": "code",
      "metadata": {
        "id": "pkd9QIQk458V",
        "colab_type": "code",
        "outputId": "4312829a-bcaa-4639-b708-4b9f7970f641",
        "colab": {
          "base_uri": "https://localhost:8080/",
          "height": 34
        }
      },
      "source": [
        "#Vectorizer for PROJECT_GRADE_CATEGORIES\n",
        "\n",
        "grades_list = set(train_df['project_grade_category'].values)\n",
        "\n",
        "grade_vectorizer = CountVectorizer(vocabulary=list(grades_list), lowercase=False, binary=True)\n",
        "grade_vectorizer.fit(train_df['project_grade_category'].values)\n",
        "print(grade_vectorizer.get_feature_names())"
      ],
      "execution_count": 0,
      "outputs": [
        {
          "output_type": "stream",
          "text": [
            "['Grades_3_5', 'Grades_PreK_2', 'Grades_9_12', 'Grades_6_8']\n"
          ],
          "name": "stdout"
        }
      ]
    },
    {
      "cell_type": "code",
      "metadata": {
        "id": "K6tfULFG5l80",
        "colab_type": "code",
        "outputId": "1bda47ef-6865-4f95-e833-e89e5df918f9",
        "colab": {
          "base_uri": "https://localhost:8080/",
          "height": 54
        }
      },
      "source": [
        "#Vectorizer for SCHOOL_STATE\n",
        "\n",
        "state_list = set(train_df['school_state'].values)\n",
        "\n",
        "state_vectorizer = CountVectorizer(vocabulary=list(state_list), lowercase=False, binary=True)\n",
        "state_vectorizer.fit(train_df['school_state'].values)\n",
        "print(state_vectorizer.get_feature_names())"
      ],
      "execution_count": 0,
      "outputs": [
        {
          "output_type": "stream",
          "text": [
            "['WI', 'ME', 'OK', 'OR', 'CO', 'NE', 'PA', 'RI', 'SD', 'WV', 'SC', 'IL', 'NY', 'ND', 'NV', 'NC', 'TX', 'MS', 'MD', 'MO', 'MT', 'CT', 'KY', 'MI', 'VT', 'TN', 'NM', 'LA', 'OH', 'AZ', 'MA', 'HI', 'DE', 'FL', 'KS', 'NJ', 'ID', 'UT', 'NH', 'IA', 'MN', 'AK', 'AR', 'DC', 'CA', 'WA', 'AL', 'WY', 'GA', 'VA', 'IN']\n"
          ],
          "name": "stdout"
        }
      ]
    },
    {
      "cell_type": "code",
      "metadata": {
        "id": "Csh465Tw6YsN",
        "colab_type": "code",
        "outputId": "d14d30a4-a609-4b73-dc71-c56f9dc5cda0",
        "colab": {
          "base_uri": "https://localhost:8080/",
          "height": 34
        }
      },
      "source": [
        "#Vectorizer for TEACHER_PREFIX\n",
        "\n",
        "prefix_list = set(train_df['teacher_prefix'].values)\n",
        "\n",
        "pf_vectorizer = CountVectorizer(vocabulary=list(prefix_list), lowercase=False, binary=True)\n",
        "pf_vectorizer.fit(train_df['teacher_prefix'].values)\n",
        "print(pf_vectorizer.get_feature_names())"
      ],
      "execution_count": 0,
      "outputs": [
        {
          "output_type": "stream",
          "text": [
            "['NA', 'Ms', 'Teacher', 'Mrs', 'Dr', 'Mr']\n"
          ],
          "name": "stdout"
        }
      ]
    },
    {
      "cell_type": "markdown",
      "metadata": {
        "id": "bZaFrce9a_2a",
        "colab_type": "text"
      },
      "source": [
        "#### 2.1.2 Vectorizers for text data (BOW, TFIDF, AVG_W2V, TFIDF_W2V)"
      ]
    },
    {
      "cell_type": "code",
      "metadata": {
        "id": "JuJJ8HJ5bJcH",
        "colab_type": "code",
        "colab": {}
      },
      "source": [
        "#BOW vectorizer for PROJECT_TITLE\n",
        "\n",
        "vectorizer = CountVectorizer(min_df=5, max_features=200)\n",
        "bow_vectrzr_title = vectorizer.fit(train_df['project_title'].values)"
      ],
      "execution_count": 0,
      "outputs": []
    },
    {
      "cell_type": "code",
      "metadata": {
        "id": "nZFevkYg0qYW",
        "colab_type": "code",
        "colab": {}
      },
      "source": [
        "#BOW vectorizer for ESSAY\n",
        "\n",
        "vectorizer = CountVectorizer(min_df=10, max_features=5000, ngram_range=(1,2))\n",
        "bow_vectrzr_essay = vectorizer.fit(train_df['essay'].values)"
      ],
      "execution_count": 0,
      "outputs": []
    },
    {
      "cell_type": "code",
      "metadata": {
        "id": "OiTpHJu1wUhT",
        "colab_type": "code",
        "colab": {}
      },
      "source": [
        "#TFIDF vectorizer for PROJECT_TITLE\n",
        "\n",
        "vectorizer = TfidfVectorizer(min_df=5, max_features=200)\n",
        "tfidf_vectrzr_title = vectorizer.fit(train_df['project_title'].values)"
      ],
      "execution_count": 0,
      "outputs": []
    },
    {
      "cell_type": "code",
      "metadata": {
        "id": "X4NQzeOl007M",
        "colab_type": "code",
        "colab": {}
      },
      "source": [
        "#TFIDF vectorizer for ESSAY\n",
        "\n",
        "vectorizer = TfidfVectorizer(min_df=10, max_features=5000, ngram_range=(1,2))\n",
        "tfidf_vectrzr_essay = vectorizer.fit(train_df['essay'].values)"
      ],
      "execution_count": 0,
      "outputs": []
    },
    {
      "cell_type": "code",
      "metadata": {
        "id": "zkCS2Ke3wtF_",
        "colab_type": "code",
        "outputId": "dfa825ad-5f49-403b-bec3-3cd113990ad9",
        "colab": {
          "base_uri": "https://localhost:8080/",
          "height": 68
        }
      },
      "source": [
        "# W2V using pre-trained model (Glove model)\n",
        "\n",
        "def loadGloveModel(gloveFile):\n",
        "  print (\"Loading Glove Model\")\n",
        "  f = open(gloveFile,'r', encoding=\"utf8\")\n",
        "  model = {}\n",
        "  for line in tqdm(f):\n",
        "      splitLine = line.split()\n",
        "      word = splitLine[0]\n",
        "      embedding = np.array([float(val) for val in splitLine[1:]])\n",
        "      model[word] = embedding\n",
        "  print (\"Done.\",len(model),\" words loaded!\")\n",
        "  return model\n",
        "\n",
        "g_model = loadGloveModel('/content/drive/My Drive/gloVe vectors/glove.42B.300d.txt')\n",
        "\n",
        "words = []\n",
        "\n",
        "for i in train_df['project_title'].values:\n",
        "  words.extend(i.split(' '))\n",
        "    \n",
        "for i in train_df['essay'].values:\n",
        "  words.extend(i.split(' '))\n",
        "\n",
        "words = set(words)\n",
        "\n",
        "words_corpus = {}\n",
        "words_glove = set(g_model.keys())\n",
        "for i in words:\n",
        "    if i in words_glove:\n",
        "        words_corpus[i] = g_model[i]\n",
        "\n",
        "with open('glove_vectors', 'wb') as f:\n",
        "    pickle.dump(words_corpus, f)"
      ],
      "execution_count": 0,
      "outputs": [
        {
          "output_type": "stream",
          "text": [
            "\r0it [00:00, ?it/s]"
          ],
          "name": "stderr"
        },
        {
          "output_type": "stream",
          "text": [
            "Loading Glove Model\n"
          ],
          "name": "stdout"
        },
        {
          "output_type": "stream",
          "text": [
            "1917495it [03:18, 9679.61it/s] \n"
          ],
          "name": "stderr"
        },
        {
          "output_type": "stream",
          "text": [
            "Done. 1917495  words loaded!\n"
          ],
          "name": "stdout"
        }
      ]
    },
    {
      "cell_type": "code",
      "metadata": {
        "id": "m5jlRvCQC9ye",
        "colab_type": "code",
        "colab": {}
      },
      "source": [
        "title_dictionary = dict(zip(tfidf_vectrzr_title.get_feature_names(), list(tfidf_vectrzr_title.idf_)))\n",
        "tfidf_title_words = set(tfidf_vectrzr_title.get_feature_names())\n",
        "\n",
        "essay_dictionary = dict(zip(tfidf_vectrzr_essay.get_feature_names(), list(tfidf_vectrzr_essay.idf_)))\n",
        "tfidf_essay_words = set(tfidf_vectrzr_essay.get_feature_names())"
      ],
      "execution_count": 0,
      "outputs": []
    },
    {
      "cell_type": "code",
      "metadata": {
        "id": "bElk6AwcL1q9",
        "colab_type": "code",
        "colab": {}
      },
      "source": [
        "#For project_resource_summary (TFIDF)\n",
        "\n",
        "vectorizer = TfidfVectorizer(min_df=5)\n",
        "tfidf_vectrzr_summ = vectorizer.fit(train_df['project_resource_summary'].values)"
      ],
      "execution_count": 0,
      "outputs": []
    },
    {
      "cell_type": "markdown",
      "metadata": {
        "id": "cwThcXGZkpeQ",
        "colab_type": "text"
      },
      "source": [
        "#### 2.1.3 Vectorizers for numerical data"
      ]
    },
    {
      "cell_type": "code",
      "metadata": {
        "id": "TolCgwu5kzRq",
        "colab_type": "code",
        "outputId": "5201285f-8f53-4119-b024-81bd68173bbd",
        "colab": {
          "base_uri": "https://localhost:8080/",
          "height": 34
        }
      },
      "source": [
        "#For PRICE\n",
        "\n",
        "price_scalar = StandardScaler()\n",
        "price_scalar.fit(train_df['price'].values.reshape(-1,1))\n",
        "\n",
        "\n",
        "#For QUANTITY\n",
        "\n",
        "quantity_scalar = StandardScaler()\n",
        "quantity_scalar.fit(train_df['quantity'].values.reshape(-1,1))\n",
        "\n",
        "\n",
        "#For TEACHER_NUMBER_OF_PREVIOUSLY_POSTED_PROJECTS\n",
        "\n",
        "ppost_scalar = StandardScaler()\n",
        "ppost_scalar.fit(train_df['teacher_number_of_previously_posted_projects'].values.reshape(-1,1))"
      ],
      "execution_count": 0,
      "outputs": [
        {
          "output_type": "execute_result",
          "data": {
            "text/plain": [
              "StandardScaler(copy=True, with_mean=True, with_std=True)"
            ]
          },
          "metadata": {
            "tags": []
          },
          "execution_count": 34
        }
      ]
    },
    {
      "cell_type": "markdown",
      "metadata": {
        "id": "NtVV9iJWHMwj",
        "colab_type": "text"
      },
      "source": [
        "### 2.2 Transform Train, Validation & Test data: Generate four training sets; Four val sets; Four Test sets"
      ]
    },
    {
      "cell_type": "markdown",
      "metadata": {
        "id": "HearN_5n2E4P",
        "colab_type": "text"
      },
      "source": [
        "#### 2.2.1. Transforming categorical features"
      ]
    },
    {
      "cell_type": "code",
      "metadata": {
        "id": "9o93BO9E4BPd",
        "colab_type": "code",
        "colab": {}
      },
      "source": [
        "train_df_clean_categories = cat_vectorizer.transform(train_df['clean_categories'].values)\n",
        "test_df_clean_categories = cat_vectorizer.transform(test_df['clean_categories'].values)\n",
        "\n",
        "train_df_clean_subcategories = subcat_vectorizer.transform(train_df['clean_subcategories'].values)\n",
        "test_df_clean_subcategories = subcat_vectorizer.transform(test_df['clean_subcategories'].values)\n",
        "\n",
        "train_df_project_grade_category = grade_vectorizer.transform(train_df['project_grade_category'].values)\n",
        "test_df_project_grade_category = grade_vectorizer.transform(test_df['project_grade_category'].values)\n",
        "\n",
        "train_df_school_state = state_vectorizer.transform(train_df['school_state'].values)\n",
        "test_df_school_state = state_vectorizer.transform(test_df['school_state'].values)\n",
        "\n",
        "train_df_teacher_prefix = pf_vectorizer.transform(train_df['teacher_prefix'].values)\n",
        "test_df_teacher_prefix = pf_vectorizer.transform(test_df['teacher_prefix'].values)"
      ],
      "execution_count": 0,
      "outputs": []
    },
    {
      "cell_type": "markdown",
      "metadata": {
        "id": "93agJSeGj5xg",
        "colab_type": "text"
      },
      "source": [
        "#### 2.2.2 Transforming (vectorizing) numerical features"
      ]
    },
    {
      "cell_type": "code",
      "metadata": {
        "id": "AFhwoaAYkKX9",
        "colab_type": "code",
        "colab": {}
      },
      "source": [
        "train_df_price = price_scalar.transform(train_df['price'].values.reshape(-1, 1))\n",
        "test_df_price = price_scalar.transform(test_df['price'].values.reshape(-1, 1))\n",
        "\n",
        "train_df_quantity = quantity_scalar.transform(train_df['quantity'].values.reshape(-1, 1))\n",
        "test_df_quantity = quantity_scalar.transform(test_df['quantity'].values.reshape(-1, 1))\n",
        "\n",
        "train_df_pposts = ppost_scalar.transform(train_df['teacher_number_of_previously_posted_projects'].values.reshape(-1, 1))\n",
        "test_df_pposts = ppost_scalar.transform(test_df['teacher_number_of_previously_posted_projects'].values.reshape(-1, 1))"
      ],
      "execution_count": 0,
      "outputs": []
    },
    {
      "cell_type": "markdown",
      "metadata": {
        "colab_type": "text",
        "id": "o1SnFAsanor7"
      },
      "source": [
        "#### 2.2.3 Transforming text data"
      ]
    },
    {
      "cell_type": "code",
      "metadata": {
        "id": "JSmcm08DnsRC",
        "colab_type": "code",
        "outputId": "ac831455-cc0e-48f4-e733-7a40932f3c0a",
        "colab": {
          "base_uri": "https://localhost:8080/",
          "height": 85
        }
      },
      "source": [
        "#For PROJECT_TITLE\n",
        "\n",
        "#BOW\n",
        "title_train_bow = bow_vectrzr_title.transform(train_df['project_title'].values)\n",
        "title_test_bow = bow_vectrzr_title.transform(test_df['project_title'].values)\n",
        "\n",
        "#TFIDF\n",
        "title_train_tfidf = tfidf_vectrzr_title.transform(train_df['project_title'].values)\n",
        "title_test_tfidf = tfidf_vectrzr_title.transform(test_df['project_title'].values)\n",
        "\n",
        "#AVG_W2V\n",
        "title_train_aw2v = []\n",
        "title_test_aw2v = []\n",
        "\n",
        "with open('glove_vectors', 'rb') as f:\n",
        "  g_model = pickle.load(f)\n",
        "  glove_words =  set(g_model.keys())\n",
        "\n",
        "for sentence in tqdm(train_df['project_title'].values):\n",
        "  vector = np.zeros(300)\n",
        "  cnt_words =0; \n",
        "  for word in sentence.split(): \n",
        "    if word in glove_words:\n",
        "      vector += g_model[word]\n",
        "      cnt_words += 1\n",
        "  if cnt_words != 0:\n",
        "      vector /= cnt_words\n",
        "  title_train_aw2v.append(vector)\n",
        "  \n",
        "for sentence in tqdm(test_df['project_title'].values):\n",
        "  vector = np.zeros(300)\n",
        "  cnt_words =0; \n",
        "  for word in sentence.split(): \n",
        "    if word in glove_words:\n",
        "      vector += g_model[word]\n",
        "      cnt_words += 1\n",
        "  if cnt_words != 0:\n",
        "      vector /= cnt_words\n",
        "  title_test_aw2v.append(vector)\n",
        "  \n",
        "#TFIDF_W2V\n",
        "tfidf_w2v_train_title = [];\n",
        "tfidf_w2v_test_title = [];\n",
        "\n",
        "for sentence in tqdm(train_df['project_title'].values):\n",
        "  vector = np.zeros(300) \n",
        "  tf_idf_weight =0; \n",
        "  for word in sentence.split():\n",
        "    if (word in glove_words) and (word in tfidf_title_words):\n",
        "      vec = g_model[word] \n",
        "            \n",
        "      tf_idf = title_dictionary[word]*(sentence.count(word)/len(sentence.split()))\n",
        "      vector += (vec * tf_idf)\n",
        "      tf_idf_weight += tf_idf\n",
        "  if tf_idf_weight != 0:\n",
        "    vector /= tf_idf_weight\n",
        "  tfidf_w2v_train_title.append(vector)\n",
        "\n",
        "for sentence in tqdm(test_df['project_title'].values):\n",
        "  vector = np.zeros(300) \n",
        "  tf_idf_weight =0; \n",
        "  for word in sentence.split():\n",
        "    if (word in glove_words) and (word in tfidf_title_words):\n",
        "      vec = g_model[word] \n",
        "            \n",
        "      tf_idf = title_dictionary[word]*(sentence.count(word)/len(sentence.split()))\n",
        "      vector += (vec * tf_idf)\n",
        "      tf_idf_weight += tf_idf\n",
        "  if tf_idf_weight != 0:\n",
        "    vector /= tf_idf_weight\n",
        "  tfidf_w2v_test_title.append(vector)"
      ],
      "execution_count": 0,
      "outputs": [
        {
          "output_type": "stream",
          "text": [
            "100%|██████████| 40000/40000 [00:00<00:00, 67509.85it/s]\n",
            "100%|██████████| 10000/10000 [00:00<00:00, 67780.82it/s]\n",
            "100%|██████████| 40000/40000 [00:00<00:00, 55373.49it/s]\n",
            "100%|██████████| 10000/10000 [00:00<00:00, 54719.92it/s]\n"
          ],
          "name": "stderr"
        }
      ]
    },
    {
      "cell_type": "code",
      "metadata": {
        "id": "tPq8yY98wJin",
        "colab_type": "code",
        "outputId": "a93dde88-4874-42cf-d0f9-97c47f8593aa",
        "colab": {
          "base_uri": "https://localhost:8080/",
          "height": 85
        }
      },
      "source": [
        "#For ESSAY\n",
        "\n",
        "#BOW\n",
        "essay_train_bow = bow_vectrzr_essay.transform(train_df['essay'].values)\n",
        "essay_test_bow = bow_vectrzr_essay.transform(test_df['essay'].values)\n",
        "\n",
        "#TFIDF\n",
        "essay_train_tfidf = tfidf_vectrzr_essay.transform(train_df['essay'].values)\n",
        "essay_test_tfidf = tfidf_vectrzr_essay.transform(test_df['essay'].values)\n",
        "\n",
        "#AVG_W2V\n",
        "essay_train_aw2v = []\n",
        "essay_test_aw2v = []\n",
        "\n",
        "for sentence in tqdm(train_df['essay'].values):\n",
        "  vector = np.zeros(300)\n",
        "  cnt_words =0; \n",
        "  for word in sentence.split(): \n",
        "    if word in glove_words:\n",
        "      vector += g_model[word]\n",
        "      cnt_words += 1\n",
        "  if cnt_words != 0:\n",
        "      vector /= cnt_words\n",
        "  essay_train_aw2v.append(vector)\n",
        "  \n",
        "for sentence in tqdm(test_df['essay'].values):\n",
        "  vector = np.zeros(300)\n",
        "  cnt_words =0; \n",
        "  for word in sentence.split(): \n",
        "    if word in glove_words:\n",
        "      vector += g_model[word]\n",
        "      cnt_words += 1\n",
        "  if cnt_words != 0:\n",
        "      vector /= cnt_words\n",
        "  essay_test_aw2v.append(vector)\n",
        "  \n",
        "#TFIDF_W2V\n",
        "tfidf_w2v_train_essays = [];\n",
        "tfidf_w2v_test_essays = [];\n",
        "\n",
        "for sentence in tqdm(train_df['essay'].values):\n",
        "  vector = np.zeros(300) \n",
        "  tf_idf_weight =0; \n",
        "  for word in sentence.split():\n",
        "    if (word in glove_words) and (word in tfidf_essay_words):\n",
        "      vec = g_model[word] \n",
        "            \n",
        "      tf_idf = essay_dictionary[word]*(sentence.count(word)/len(sentence.split()))\n",
        "      vector += (vec * tf_idf)\n",
        "      tf_idf_weight += tf_idf\n",
        "  if tf_idf_weight != 0:\n",
        "    vector /= tf_idf_weight\n",
        "  tfidf_w2v_train_essays.append(vector)\n",
        "\n",
        "for sentence in tqdm(test_df['essay'].values):\n",
        "  vector = np.zeros(300) \n",
        "  tf_idf_weight =0; \n",
        "  for word in sentence.split():\n",
        "    if (word in glove_words) and (word in tfidf_essay_words):\n",
        "      vec = g_model[word] \n",
        "            \n",
        "      tf_idf = essay_dictionary[word]*(sentence.count(word)/len(sentence.split()))\n",
        "      vector += (vec * tf_idf)\n",
        "      tf_idf_weight += tf_idf\n",
        "  if tf_idf_weight != 0:\n",
        "    vector /= tf_idf_weight\n",
        "  tfidf_w2v_test_essays.append(vector)"
      ],
      "execution_count": 0,
      "outputs": [
        {
          "output_type": "stream",
          "text": [
            "100%|██████████| 40000/40000 [00:12<00:00, 3097.24it/s]\n",
            "100%|██████████| 10000/10000 [00:03<00:00, 3133.13it/s]\n",
            "100%|██████████| 40000/40000 [01:07<00:00, 594.71it/s]\n",
            "100%|██████████| 10000/10000 [00:16<00:00, 594.74it/s]\n"
          ],
          "name": "stderr"
        }
      ]
    },
    {
      "cell_type": "code",
      "metadata": {
        "id": "PGb4erGbHyWE",
        "colab_type": "code",
        "colab": {}
      },
      "source": [
        "#TFIDF vectorization of project_resource_summary\n",
        "\n",
        "train_df_project_resource_summary = tfidf_vectrzr_summ.transform(train_df['project_resource_summary'].values)\n",
        "test_df_project_resource_summary = tfidf_vectrzr_summ.transform(test_df['project_resource_summary'].values)"
      ],
      "execution_count": 0,
      "outputs": []
    },
    {
      "cell_type": "markdown",
      "metadata": {
        "id": "6y0JNPwzB61i",
        "colab_type": "text"
      },
      "source": [
        "#### 2.2.4 Generating the sets of data"
      ]
    },
    {
      "cell_type": "code",
      "metadata": {
        "id": "W9IJbJM0CN5D",
        "colab_type": "code",
        "colab": {}
      },
      "source": [
        "#SET_1: categorical, numerical features + project_title(BOW) + preprocessed_essay (BOW)\n",
        "train_set_1x = sparse.hstack((train_df_teacher_prefix, train_df_school_state, train_df_project_grade_category, train_df_clean_categories, train_df_clean_subcategories, train_df_price, train_df_quantity, train_df_pposts, train_df_project_resource_summary, title_train_bow, essay_train_bow))\n",
        "train_set_1y = train_df['project_is_approved'].to_numpy()\n",
        "\n",
        "test_set_1x = sparse.hstack((test_df_teacher_prefix, test_df_school_state, test_df_project_grade_category, test_df_clean_categories, test_df_clean_subcategories, test_df_price, test_df_quantity, test_df_pposts, test_df_project_resource_summary, title_test_bow, essay_test_bow))\n",
        "test_set_1y = test_df['project_is_approved'].to_numpy()"
      ],
      "execution_count": 0,
      "outputs": []
    },
    {
      "cell_type": "code",
      "metadata": {
        "id": "yhx-V_MLUCat",
        "colab_type": "code",
        "outputId": "605195e6-fca7-4c5c-cc20-efeb93e6d3fe",
        "colab": {
          "base_uri": "https://localhost:8080/",
          "height": 51
        }
      },
      "source": [
        "print(train_set_1x.shape)\n",
        "print(test_set_1x.shape)"
      ],
      "execution_count": 0,
      "outputs": [
        {
          "output_type": "stream",
          "text": [
            "(40000, 10478)\n",
            "(10000, 10478)\n"
          ],
          "name": "stdout"
        }
      ]
    },
    {
      "cell_type": "code",
      "metadata": {
        "id": "vUAgyVkpZR5I",
        "colab_type": "code",
        "colab": {}
      },
      "source": [
        "#SET_2: categorical, numerical features + project_title(TFIDF) + preprocessed_essay (TFIDF)\n",
        "train_set_2x = sparse.hstack((train_df_teacher_prefix, train_df_school_state, train_df_project_grade_category, train_df_clean_categories, train_df_clean_subcategories, train_df_price, train_df_quantity, train_df_pposts, train_df_project_resource_summary, title_train_tfidf, essay_train_tfidf))\n",
        "train_set_2y = train_df['project_is_approved'].to_numpy()\n",
        "\n",
        "test_set_2x = sparse.hstack((test_df_teacher_prefix, test_df_school_state, test_df_project_grade_category, test_df_clean_categories, test_df_clean_subcategories, test_df_price, test_df_quantity, test_df_pposts, test_df_project_resource_summary, title_test_tfidf, essay_test_tfidf))\n",
        "test_set_2y = test_df['project_is_approved'].to_numpy()"
      ],
      "execution_count": 0,
      "outputs": []
    },
    {
      "cell_type": "code",
      "metadata": {
        "colab_type": "code",
        "id": "O3GMMoHaZ5QF",
        "outputId": "8a35af03-e67a-4393-f843-94b0519edb15",
        "colab": {
          "base_uri": "https://localhost:8080/",
          "height": 51
        }
      },
      "source": [
        "print(train_set_2x.shape)\n",
        "print(test_set_2x.shape)"
      ],
      "execution_count": 0,
      "outputs": [
        {
          "output_type": "stream",
          "text": [
            "(40000, 10478)\n",
            "(10000, 10478)\n"
          ],
          "name": "stdout"
        }
      ]
    },
    {
      "cell_type": "code",
      "metadata": {
        "id": "QyUft91zaEt1",
        "colab_type": "code",
        "colab": {}
      },
      "source": [
        "#SET_3: categorical, numerical features + project_title(AVG_W2V) + preprocessed_essay (AVG_W2V)\n",
        "train_set_3x = sparse.hstack((train_df_teacher_prefix, train_df_school_state, train_df_project_grade_category, train_df_clean_categories, train_df_clean_subcategories, train_df_price, train_df_quantity, train_df_pposts, train_df_project_resource_summary, title_train_aw2v, essay_train_aw2v))\n",
        "train_set_3y = train_df['project_is_approved'].to_numpy()\n",
        "\n",
        "test_set_3x = sparse.hstack((test_df_teacher_prefix, test_df_school_state, test_df_project_grade_category, test_df_clean_categories, test_df_clean_subcategories, test_df_price, test_df_quantity, test_df_pposts, test_df_project_resource_summary, title_test_aw2v, essay_test_aw2v))\n",
        "test_set_3y = test_df['project_is_approved'].to_numpy()"
      ],
      "execution_count": 0,
      "outputs": []
    },
    {
      "cell_type": "code",
      "metadata": {
        "colab_type": "code",
        "id": "2G2SKYIna41Q",
        "outputId": "7d91da29-d833-4862-db97-38537ac82c8a",
        "colab": {
          "base_uri": "https://localhost:8080/",
          "height": 51
        }
      },
      "source": [
        "print(train_set_3x.shape)\n",
        "print(test_set_3x.shape)"
      ],
      "execution_count": 0,
      "outputs": [
        {
          "output_type": "stream",
          "text": [
            "(40000, 5878)\n",
            "(10000, 5878)\n"
          ],
          "name": "stdout"
        }
      ]
    },
    {
      "cell_type": "code",
      "metadata": {
        "colab_type": "code",
        "id": "_y1PMO7ZbIf_",
        "colab": {}
      },
      "source": [
        "#SET_4: categorical, numerical features + project_title(TFIDF_W2V) + preprocessed_essay (TFIDF_W2V)\n",
        "train_set_4x = sparse.hstack((train_df_teacher_prefix, train_df_school_state, train_df_project_grade_category, train_df_clean_categories, train_df_clean_subcategories, train_df_price, train_df_quantity, train_df_pposts, train_df_project_resource_summary, tfidf_w2v_train_title, tfidf_w2v_train_essays))\n",
        "train_set_4y = train_df['project_is_approved'].to_numpy()\n",
        "\n",
        "test_set_4x = sparse.hstack((test_df_teacher_prefix, test_df_school_state, test_df_project_grade_category, test_df_clean_categories, test_df_clean_subcategories, test_df_price, test_df_quantity, test_df_pposts, test_df_project_resource_summary, tfidf_w2v_test_title, tfidf_w2v_test_essays))\n",
        "test_set_4y = test_df['project_is_approved'].to_numpy()"
      ],
      "execution_count": 0,
      "outputs": []
    },
    {
      "cell_type": "code",
      "metadata": {
        "colab_type": "code",
        "id": "-iye9RKobIgD",
        "outputId": "1b191855-90bd-46aa-eab6-5d7ab5627470",
        "colab": {
          "base_uri": "https://localhost:8080/",
          "height": 51
        }
      },
      "source": [
        "print(train_set_4x.shape)\n",
        "print(test_set_4x.shape)"
      ],
      "execution_count": 0,
      "outputs": [
        {
          "output_type": "stream",
          "text": [
            "(40000, 5878)\n",
            "(10000, 5878)\n"
          ],
          "name": "stdout"
        }
      ]
    },
    {
      "cell_type": "code",
      "metadata": {
        "id": "aVE0Qe9whosZ",
        "colab_type": "code",
        "outputId": "2db7bb9b-ebe4-4ee7-895d-35f2fcefdd0b",
        "colab": {
          "base_uri": "https://localhost:8080/",
          "height": 34
        }
      },
      "source": [
        "print(type(train_set_1x))"
      ],
      "execution_count": 0,
      "outputs": [
        {
          "output_type": "stream",
          "text": [
            "<class 'scipy.sparse.coo.coo_matrix'>\n"
          ],
          "name": "stdout"
        }
      ]
    },
    {
      "cell_type": "markdown",
      "metadata": {
        "id": "seDkQPjIM4y8",
        "colab_type": "text"
      },
      "source": [
        "## 4. Applying SVM"
      ]
    },
    {
      "cell_type": "markdown",
      "metadata": {
        "id": "IGt4579JNJZP",
        "colab_type": "text"
      },
      "source": [
        "### 4.1 Randomized search cross-validation for hyperparameter tuning"
      ]
    },
    {
      "cell_type": "code",
      "metadata": {
        "id": "XZjLbaim9rxc",
        "colab_type": "code",
        "outputId": "3a19d99a-cb52-42be-9c0a-100c58b41f40",
        "colab": {
          "base_uri": "https://localhost:8080/",
          "height": 709
        }
      },
      "source": [
        "#For SET_1\n",
        "\n",
        "#With penalty L1\n",
        "svm_model = SGDClassifier(loss='hinge', penalty='l1', class_weight='balanced')\n",
        "parameters = {'alpha':[10**x for x in range(-4, 5)]}\n",
        "clf = RandomizedSearchCV(svm_model, parameters, cv=3, n_iter=9, scoring='roc_auc', verbose=2, return_train_score=True, n_jobs=10)\n",
        "clf.fit(train_set_1x, train_set_1y)\n",
        "\n",
        "results = pd.DataFrame.from_dict(clf.cv_results_)\n",
        "results_plt = results.sort_values(['param_alpha'])\n",
        "\n",
        "train_auc= results_plt['mean_train_score']\n",
        "\n",
        "cv_auc = results_plt['mean_test_score'] \n",
        "\n",
        "K = results_plt['param_alpha']\n",
        "\n",
        "K = K.map(lambda a: math.log10(1/a))\n",
        "\n",
        "plt.plot(K, train_auc, label='Train AUC')\n",
        "plt.plot(K, cv_auc, label='CV AUC')\n",
        "plt.scatter(K, train_auc, label='Train AUC points')\n",
        "plt.scatter(K, cv_auc, label='CV AUC points')\n",
        "\n",
        "plt.legend()\n",
        "plt.xlabel(\"log10(alpha): hyperparameter\")\n",
        "plt.ylabel(\"AUC\")\n",
        "plt.title(\"Hyper parameter Vs AUC plot with L1 penalty\")\n",
        "plt.grid()\n",
        "plt.show()\n",
        "\n",
        "#With penalty L2\n",
        "svm_model = SGDClassifier(loss='hinge', penalty='l2', class_weight='balanced')\n",
        "parameters = {'alpha':[10**x for x in range(-4, 5)]}\n",
        "clf = RandomizedSearchCV(svm_model, parameters, cv=3, n_iter=9, scoring='roc_auc', verbose=2, return_train_score=True, n_jobs=10)\n",
        "clf.fit(train_set_1x, train_set_1y)\n",
        "\n",
        "results = pd.DataFrame.from_dict(clf.cv_results_)\n",
        "results_plt = results.sort_values(['param_alpha'])\n",
        "\n",
        "train_auc= results_plt['mean_train_score']\n",
        "\n",
        "cv_auc = results_plt['mean_test_score'] \n",
        "\n",
        "K = results_plt['param_alpha']\n",
        "\n",
        "K = K.map(lambda a: math.log10(a))\n",
        "\n",
        "plt.plot(K, train_auc, label='Train AUC')\n",
        "plt.plot(K, cv_auc, label='CV AUC')\n",
        "plt.scatter(K, train_auc, label='Train AUC points')\n",
        "plt.scatter(K, cv_auc, label='CV AUC points')\n",
        "\n",
        "plt.legend()\n",
        "plt.xlabel(\"log10(alpha): hyperparameter\")\n",
        "plt.ylabel(\"AUC\")\n",
        "plt.title(\"Hyper parameter Vs AUC plot with L2 penalty\")\n",
        "plt.grid()\n",
        "plt.show()"
      ],
      "execution_count": 0,
      "outputs": [
        {
          "output_type": "stream",
          "text": [
            "Fitting 3 folds for each of 9 candidates, totalling 27 fits\n"
          ],
          "name": "stdout"
        },
        {
          "output_type": "stream",
          "text": [
            "[Parallel(n_jobs=10)]: Using backend LokyBackend with 10 concurrent workers.\n",
            "[Parallel(n_jobs=10)]: Done  22 out of  27 | elapsed:   23.4s remaining:    5.3s\n",
            "[Parallel(n_jobs=10)]: Done  27 out of  27 | elapsed:  1.2min finished\n"
          ],
          "name": "stderr"
        },
        {
          "output_type": "display_data",
          "data": {
            "image/png": "[encoded data removed]",
            "text/plain": [
              "<Figure size 432x288 with 1 Axes>"
            ]
          },
          "metadata": {
            "tags": []
          }
        },
        {
          "output_type": "stream",
          "text": [
            "Fitting 3 folds for each of 9 candidates, totalling 27 fits\n"
          ],
          "name": "stdout"
        },
        {
          "output_type": "stream",
          "text": [
            "[Parallel(n_jobs=10)]: Using backend LokyBackend with 10 concurrent workers.\n",
            "[Parallel(n_jobs=10)]: Done  22 out of  27 | elapsed:    4.2s remaining:    1.0s\n",
            "[Parallel(n_jobs=10)]: Done  27 out of  27 | elapsed:    6.3s finished\n"
          ],
          "name": "stderr"
        },
        {
          "output_type": "display_data",
          "data": {
            "image/png": "[encoded data removed]",
            "text/plain": [
              "<Figure size 432x288 with 1 Axes>"
            ]
          },
          "metadata": {
            "tags": []
          }
        }
      ]
    },
    {
      "cell_type": "markdown",
      "metadata": {
        "id": "lz9LQb0uHIXw",
        "colab_type": "text"
      },
      "source": [
        "We observe that for SET_1, **alpha = 10^(-1)** with **penalty=L2** gives a small difference between train and test AUC and a test AUC of above 75% is obtained."
      ]
    },
    {
      "cell_type": "code",
      "metadata": {
        "id": "aaS4BE5hpTpV",
        "colab_type": "code",
        "colab": {}
      },
      "source": [
        "A_1 = 10**(-1)\n",
        "P_1 = 'l2'"
      ],
      "execution_count": 0,
      "outputs": []
    },
    {
      "cell_type": "code",
      "metadata": {
        "id": "uNDdAjX8FGlg",
        "colab_type": "code",
        "outputId": "d5e7b26e-1da7-4825-af04-61cd9de06aeb",
        "colab": {
          "base_uri": "https://localhost:8080/",
          "height": 709
        }
      },
      "source": [
        "#For SET_2\n",
        "\n",
        "#With penalty L1\n",
        "svm_model = SGDClassifier(loss='hinge', penalty='l1', class_weight='balanced')\n",
        "parameters = {'alpha':[10**x for x in range(-4, 5)]}\n",
        "clf = RandomizedSearchCV(svm_model, parameters, cv=3, n_iter=9, scoring='roc_auc', verbose=2, return_train_score=True, n_jobs=10)\n",
        "clf.fit(train_set_2x, train_set_2y)\n",
        "\n",
        "results = pd.DataFrame.from_dict(clf.cv_results_)\n",
        "results_plt = results.sort_values(['param_alpha'])\n",
        "\n",
        "train_auc= results_plt['mean_train_score']\n",
        "\n",
        "cv_auc = results_plt['mean_test_score'] \n",
        "\n",
        "K = results_plt['param_alpha']\n",
        "\n",
        "K = K.map(lambda a: math.log10(1/a))\n",
        "\n",
        "plt.plot(K, train_auc, label='Train AUC')\n",
        "plt.plot(K, cv_auc, label='CV AUC')\n",
        "plt.scatter(K, train_auc, label='Train AUC points')\n",
        "plt.scatter(K, cv_auc, label='CV AUC points')\n",
        "\n",
        "plt.legend()\n",
        "plt.xlabel(\"log10(alpha): hyperparameter\")\n",
        "plt.ylabel(\"AUC\")\n",
        "plt.title(\"Hyper parameter Vs AUC plot with L1 penalty\")\n",
        "plt.grid()\n",
        "plt.show()\n",
        "\n",
        "#With penalty L2\n",
        "svm_model = SGDClassifier(loss='hinge', penalty='l2', class_weight='balanced')\n",
        "parameters = {'alpha':[10**x for x in range(-4, 5)]}\n",
        "clf = RandomizedSearchCV(svm_model, parameters, cv=3, n_iter=9, scoring='roc_auc', verbose=2, return_train_score=True, n_jobs=10)\n",
        "clf.fit(train_set_2x, train_set_2y)\n",
        "\n",
        "results = pd.DataFrame.from_dict(clf.cv_results_)\n",
        "results_plt = results.sort_values(['param_alpha'])\n",
        "\n",
        "train_auc= results_plt['mean_train_score']\n",
        "\n",
        "cv_auc = results_plt['mean_test_score'] \n",
        "\n",
        "K = results_plt['param_alpha']\n",
        "\n",
        "K = K.map(lambda a: math.log10(a))\n",
        "\n",
        "plt.plot(K, train_auc, label='Train AUC')\n",
        "plt.plot(K, cv_auc, label='CV AUC')\n",
        "plt.scatter(K, train_auc, label='Train AUC points')\n",
        "plt.scatter(K, cv_auc, label='CV AUC points')\n",
        "\n",
        "plt.legend()\n",
        "plt.xlabel(\"log10(alpha): hyperparameter\")\n",
        "plt.ylabel(\"AUC\")\n",
        "plt.title(\"Hyper parameter Vs AUC plot with L2 penalty\")\n",
        "plt.grid()\n",
        "plt.show()"
      ],
      "execution_count": 0,
      "outputs": [
        {
          "output_type": "stream",
          "text": [
            "Fitting 3 folds for each of 9 candidates, totalling 27 fits\n"
          ],
          "name": "stdout"
        },
        {
          "output_type": "stream",
          "text": [
            "[Parallel(n_jobs=10)]: Using backend LokyBackend with 10 concurrent workers.\n",
            "[Parallel(n_jobs=10)]: Done  22 out of  27 | elapsed:    4.1s remaining:    0.9s\n",
            "[Parallel(n_jobs=10)]: Done  27 out of  27 | elapsed:    5.5s finished\n"
          ],
          "name": "stderr"
        },
        {
          "output_type": "display_data",
          "data": {
            "image/png": "[encoded data removed]",
            "text/plain": [
              "<Figure size 432x288 with 1 Axes>"
            ]
          },
          "metadata": {
            "tags": []
          }
        },
        {
          "output_type": "stream",
          "text": [
            "Fitting 3 folds for each of 9 candidates, totalling 27 fits\n"
          ],
          "name": "stdout"
        },
        {
          "output_type": "stream",
          "text": [
            "[Parallel(n_jobs=10)]: Using backend LokyBackend with 10 concurrent workers.\n",
            "[Parallel(n_jobs=10)]: Done  22 out of  27 | elapsed:    3.2s remaining:    0.7s\n",
            "[Parallel(n_jobs=10)]: Done  27 out of  27 | elapsed:    3.4s finished\n"
          ],
          "name": "stderr"
        },
        {
          "output_type": "display_data",
          "data": {
            "image/png": "[encoded data removed]",
            "text/plain": [
              "<Figure size 432x288 with 1 Axes>"
            ]
          },
          "metadata": {
            "tags": []
          }
        }
      ]
    },
    {
      "cell_type": "markdown",
      "metadata": {
        "id": "LuuhZjP8ecqm",
        "colab_type": "text"
      },
      "source": [
        "We observe that on SET_2,  **alpha = 10^(-3)** with **penalty=L2** gives a small difference between train and test AUC and a test AUC of above 75% is obtained."
      ]
    },
    {
      "cell_type": "code",
      "metadata": {
        "id": "J49Ddv0TepHe",
        "colab_type": "code",
        "colab": {}
      },
      "source": [
        "A_2 = 10**(-3)\n",
        "P_2 = 'l2'"
      ],
      "execution_count": 0,
      "outputs": []
    },
    {
      "cell_type": "code",
      "metadata": {
        "id": "bv_DAedxF2_A",
        "colab_type": "code",
        "outputId": "4956da2d-3e86-4738-c99b-11b3294149d6",
        "colab": {
          "base_uri": "https://localhost:8080/",
          "height": 709
        }
      },
      "source": [
        "#For SET_3\n",
        "\n",
        "#With penalty L1\n",
        "svm_model = SGDClassifier(loss='hinge', penalty='l1', class_weight='balanced')\n",
        "parameters = {'alpha':[10**x for x in range(-4, 5)]}\n",
        "clf = RandomizedSearchCV(svm_model, parameters, cv=3, n_iter=9, scoring='roc_auc', verbose=2, return_train_score=True, n_jobs=10)\n",
        "clf.fit(train_set_3x, train_set_3y)\n",
        "\n",
        "results = pd.DataFrame.from_dict(clf.cv_results_)\n",
        "results_plt = results.sort_values(['param_alpha'])\n",
        "\n",
        "train_auc= results_plt['mean_train_score']\n",
        "\n",
        "cv_auc = results_plt['mean_test_score'] \n",
        "\n",
        "K = results_plt['param_alpha']\n",
        "\n",
        "K = K.map(lambda a: math.log10(1/a))\n",
        "\n",
        "plt.plot(K, train_auc, label='Train AUC')\n",
        "plt.plot(K, cv_auc, label='CV AUC')\n",
        "plt.scatter(K, train_auc, label='Train AUC points')\n",
        "plt.scatter(K, cv_auc, label='CV AUC points')\n",
        "\n",
        "plt.legend()\n",
        "plt.xlabel(\"log10(alpha): hyperparameter\")\n",
        "plt.ylabel(\"AUC\")\n",
        "plt.title(\"Hyper parameter Vs AUC plot with L1 penalty\")\n",
        "plt.grid()\n",
        "plt.show()\n",
        "\n",
        "#With penalty L2\n",
        "svm_model = SGDClassifier(loss='hinge', penalty='l2', class_weight='balanced')\n",
        "parameters = {'alpha':[10**x for x in range(-4, 5)]}\n",
        "clf = RandomizedSearchCV(svm_model, parameters, cv=3, n_iter=9, scoring='roc_auc', verbose=2, return_train_score=True, n_jobs=10)\n",
        "clf.fit(train_set_3x, train_set_3y)\n",
        "\n",
        "results = pd.DataFrame.from_dict(clf.cv_results_)\n",
        "results_plt = results.sort_values(['param_alpha'])\n",
        "\n",
        "train_auc= results_plt['mean_train_score']\n",
        "\n",
        "cv_auc = results_plt['mean_test_score'] \n",
        "\n",
        "K = results_plt['param_alpha']\n",
        "\n",
        "K = K.map(lambda a: math.log10(a))\n",
        "\n",
        "plt.plot(K, train_auc, label='Train AUC')\n",
        "plt.plot(K, cv_auc, label='CV AUC')\n",
        "plt.scatter(K, train_auc, label='Train AUC points')\n",
        "plt.scatter(K, cv_auc, label='CV AUC points')\n",
        "\n",
        "plt.legend()\n",
        "plt.xlabel(\"log10(alpha): hyperparameter\")\n",
        "plt.ylabel(\"AUC\")\n",
        "plt.title(\"Hyper parameter Vs AUC plot with L2 penalty\")\n",
        "plt.grid()\n",
        "plt.show()"
      ],
      "execution_count": 0,
      "outputs": [
        {
          "output_type": "stream",
          "text": [
            "Fitting 3 folds for each of 9 candidates, totalling 27 fits\n"
          ],
          "name": "stdout"
        },
        {
          "output_type": "stream",
          "text": [
            "[Parallel(n_jobs=10)]: Using backend LokyBackend with 10 concurrent workers.\n",
            "[Parallel(n_jobs=10)]: Done  22 out of  27 | elapsed:    9.8s remaining:    2.2s\n",
            "[Parallel(n_jobs=10)]: Done  27 out of  27 | elapsed:   14.6s finished\n"
          ],
          "name": "stderr"
        },
        {
          "output_type": "display_data",
          "data": {
            "image/png": "[encoded data removed]",
            "text/plain": [
              "<Figure size 432x288 with 1 Axes>"
            ]
          },
          "metadata": {
            "tags": []
          }
        },
        {
          "output_type": "stream",
          "text": [
            "Fitting 3 folds for each of 9 candidates, totalling 27 fits\n"
          ],
          "name": "stdout"
        },
        {
          "output_type": "stream",
          "text": [
            "[Parallel(n_jobs=10)]: Using backend LokyBackend with 10 concurrent workers.\n",
            "[Parallel(n_jobs=10)]: Done  22 out of  27 | elapsed:    7.3s remaining:    1.7s\n",
            "[Parallel(n_jobs=10)]: Done  27 out of  27 | elapsed:    8.6s finished\n"
          ],
          "name": "stderr"
        },
        {
          "output_type": "display_data",
          "data": {
            "image/png": "[encoded data removed]",
            "text/plain": [
              "<Figure size 432x288 with 1 Axes>"
            ]
          },
          "metadata": {
            "tags": []
          }
        }
      ]
    },
    {
      "cell_type": "markdown",
      "metadata": {
        "id": "ii_kRN38g0Rs",
        "colab_type": "text"
      },
      "source": [
        "We observe that on SET_3,  **alpha = 10^(-3)** with **penalty=L2** gives a small difference between train and test AUC and a test AUC of above 70% is obtained."
      ]
    },
    {
      "cell_type": "code",
      "metadata": {
        "id": "rY948mzLg-z9",
        "colab_type": "code",
        "colab": {}
      },
      "source": [
        "A_3 = 10**(-3)\n",
        "P_3 = 'l2'"
      ],
      "execution_count": 0,
      "outputs": []
    },
    {
      "cell_type": "code",
      "metadata": {
        "id": "f35rwRO-F4YM",
        "colab_type": "code",
        "outputId": "4edcdd97-ddc5-450d-96ed-507e0ab3211f",
        "colab": {
          "base_uri": "https://localhost:8080/",
          "height": 709
        }
      },
      "source": [
        "#For SET_4\n",
        "\n",
        "#With penalty L1\n",
        "svm_model = SGDClassifier(loss='hinge', penalty='l1', class_weight='balanced')\n",
        "parameters = {'alpha':[10**x for x in range(-4, 5)]}\n",
        "clf = RandomizedSearchCV(svm_model, parameters, cv=3, n_iter=9, scoring='roc_auc', verbose=2, return_train_score=True, n_jobs=10)\n",
        "clf.fit(train_set_4x, train_set_4y)\n",
        "\n",
        "results = pd.DataFrame.from_dict(clf.cv_results_)\n",
        "results_plt = results.sort_values(['param_alpha'])\n",
        "\n",
        "train_auc= results_plt['mean_train_score']\n",
        "\n",
        "cv_auc = results_plt['mean_test_score'] \n",
        "\n",
        "K = results_plt['param_alpha']\n",
        "\n",
        "K = K.map(lambda a: math.log10(1/a))\n",
        "\n",
        "plt.plot(K, train_auc, label='Train AUC')\n",
        "plt.plot(K, cv_auc, label='CV AUC')\n",
        "plt.scatter(K, train_auc, label='Train AUC points')\n",
        "plt.scatter(K, cv_auc, label='CV AUC points')\n",
        "\n",
        "plt.legend()\n",
        "plt.xlabel(\"log10(alpha): hyperparameter\")\n",
        "plt.ylabel(\"AUC\")\n",
        "plt.title(\"Hyper parameter Vs AUC plot with L1 penalty\")\n",
        "plt.grid()\n",
        "plt.show()\n",
        "\n",
        "#With penalty L2\n",
        "svm_model = SGDClassifier(loss='hinge', penalty='l2', class_weight='balanced')\n",
        "parameters = {'alpha':[10**x for x in range(-4, 5)]}\n",
        "clf = RandomizedSearchCV(svm_model, parameters, cv=3, n_iter=9, scoring='roc_auc', verbose=2, return_train_score=True, n_jobs=10)\n",
        "clf.fit(train_set_4x, train_set_4y)\n",
        "\n",
        "results = pd.DataFrame.from_dict(clf.cv_results_)\n",
        "results_plt = results.sort_values(['param_alpha'])\n",
        "\n",
        "train_auc= results_plt['mean_train_score']\n",
        "\n",
        "cv_auc = results_plt['mean_test_score'] \n",
        "\n",
        "K = results_plt['param_alpha']\n",
        "\n",
        "K = K.map(lambda a: math.log10(a))\n",
        "\n",
        "plt.plot(K, train_auc, label='Train AUC')\n",
        "plt.plot(K, cv_auc, label='CV AUC')\n",
        "plt.scatter(K, train_auc, label='Train AUC points')\n",
        "plt.scatter(K, cv_auc, label='CV AUC points')\n",
        "\n",
        "plt.legend()\n",
        "plt.xlabel(\"log10(alpha): hyperparameter\")\n",
        "plt.ylabel(\"AUC\")\n",
        "plt.title(\"Hyper parameter Vs AUC plot with L2 penalty\")\n",
        "plt.grid()\n",
        "plt.show()"
      ],
      "execution_count": 0,
      "outputs": [
        {
          "output_type": "stream",
          "text": [
            "Fitting 3 folds for each of 9 candidates, totalling 27 fits\n"
          ],
          "name": "stdout"
        },
        {
          "output_type": "stream",
          "text": [
            "[Parallel(n_jobs=10)]: Using backend LokyBackend with 10 concurrent workers.\n",
            "[Parallel(n_jobs=10)]: Done  22 out of  27 | elapsed:    9.7s remaining:    2.2s\n",
            "[Parallel(n_jobs=10)]: Done  27 out of  27 | elapsed:   12.8s finished\n"
          ],
          "name": "stderr"
        },
        {
          "output_type": "display_data",
          "data": {
            "image/png": "[encoded data removed]",
            "text/plain": [
              "<Figure size 432x288 with 1 Axes>"
            ]
          },
          "metadata": {
            "tags": []
          }
        },
        {
          "output_type": "stream",
          "text": [
            "Fitting 3 folds for each of 9 candidates, totalling 27 fits\n"
          ],
          "name": "stdout"
        },
        {
          "output_type": "stream",
          "text": [
            "[Parallel(n_jobs=10)]: Using backend LokyBackend with 10 concurrent workers.\n",
            "[Parallel(n_jobs=10)]: Done  22 out of  27 | elapsed:    6.8s remaining:    1.5s\n",
            "[Parallel(n_jobs=10)]: Done  27 out of  27 | elapsed:    9.3s finished\n"
          ],
          "name": "stderr"
        },
        {
          "output_type": "display_data",
          "data": {
            "image/png": "[encoded data removed]",
            "text/plain": [
              "<Figure size 432x288 with 1 Axes>"
            ]
          },
          "metadata": {
            "tags": []
          }
        }
      ]
    },
    {
      "cell_type": "markdown",
      "metadata": {
        "id": "Nf60_mdJ85Z6",
        "colab_type": "text"
      },
      "source": [
        "We observe that for SET_4,  **alpha = 10^(-3)** with **penalty=L2** gives a small difference between train and test AUC and a test AUC of above 70% is obtained."
      ]
    },
    {
      "cell_type": "code",
      "metadata": {
        "id": "96fOqq8w83NA",
        "colab_type": "code",
        "colab": {}
      },
      "source": [
        "A_4 = 10**(-3)\n",
        "P_4 = 'l2'"
      ],
      "execution_count": 0,
      "outputs": []
    },
    {
      "cell_type": "markdown",
      "metadata": {
        "id": "6aq89j4kNQ8S",
        "colab_type": "text"
      },
      "source": [
        "### 4.2 Apply SVM to all four datsets"
      ]
    },
    {
      "cell_type": "code",
      "metadata": {
        "id": "J-XAD15Q-Byy",
        "colab_type": "code",
        "outputId": "c03c456c-ceb3-4baf-e2f0-9f876258bf98",
        "colab": {
          "base_uri": "https://localhost:8080/",
          "height": 306
        }
      },
      "source": [
        "svm_1 = SGDClassifier(loss='hinge', alpha=A_2, penalty=P_1, class_weight='balanced')\n",
        "svm_1_c = CalibratedClassifierCV(base_estimator=svm_1, method='sigmoid', cv=3)\n",
        "svm_1_c.fit(train_set_1x, train_set_1y)"
      ],
      "execution_count": 0,
      "outputs": [
        {
          "output_type": "execute_result",
          "data": {
            "text/plain": [
              "CalibratedClassifierCV(base_estimator=SGDClassifier(alpha=0.001, average=False,\n",
              "                                                    class_weight='balanced',\n",
              "                                                    early_stopping=False,\n",
              "                                                    epsilon=0.1, eta0=0.0,\n",
              "                                                    fit_intercept=True,\n",
              "                                                    l1_ratio=0.15,\n",
              "                                                    learning_rate='optimal',\n",
              "                                                    loss='hinge', max_iter=1000,\n",
              "                                                    n_iter_no_change=5,\n",
              "                                                    n_jobs=None, penalty='l2',\n",
              "                                                    power_t=0.5,\n",
              "                                                    random_state=None,\n",
              "                                                    shuffle=True, tol=0.001,\n",
              "                                                    validation_fraction=0.1,\n",
              "                                                    verbose=0,\n",
              "                                                    warm_start=False),\n",
              "                       cv=3, method='sigmoid')"
            ]
          },
          "metadata": {
            "tags": []
          },
          "execution_count": 57
        }
      ]
    },
    {
      "cell_type": "code",
      "metadata": {
        "id": "hiCZqtvw-JQR",
        "colab_type": "code",
        "outputId": "56144b09-7529-40fa-9973-261b715767a0",
        "colab": {
          "base_uri": "https://localhost:8080/",
          "height": 306
        }
      },
      "source": [
        "svm_2 = SGDClassifier(loss='hinge', alpha=A_2, penalty=P_2, class_weight='balanced')\n",
        "svm_2_c = CalibratedClassifierCV(base_estimator=svm_1, method='sigmoid', cv=3)\n",
        "svm_2_c.fit(train_set_2x, train_set_2y)"
      ],
      "execution_count": 0,
      "outputs": [
        {
          "output_type": "execute_result",
          "data": {
            "text/plain": [
              "CalibratedClassifierCV(base_estimator=SGDClassifier(alpha=0.001, average=False,\n",
              "                                                    class_weight='balanced',\n",
              "                                                    early_stopping=False,\n",
              "                                                    epsilon=0.1, eta0=0.0,\n",
              "                                                    fit_intercept=True,\n",
              "                                                    l1_ratio=0.15,\n",
              "                                                    learning_rate='optimal',\n",
              "                                                    loss='hinge', max_iter=1000,\n",
              "                                                    n_iter_no_change=5,\n",
              "                                                    n_jobs=None, penalty='l2',\n",
              "                                                    power_t=0.5,\n",
              "                                                    random_state=None,\n",
              "                                                    shuffle=True, tol=0.001,\n",
              "                                                    validation_fraction=0.1,\n",
              "                                                    verbose=0,\n",
              "                                                    warm_start=False),\n",
              "                       cv=3, method='sigmoid')"
            ]
          },
          "metadata": {
            "tags": []
          },
          "execution_count": 58
        }
      ]
    },
    {
      "cell_type": "code",
      "metadata": {
        "id": "ibAva2Ns-Klu",
        "colab_type": "code",
        "outputId": "55f01712-e1bd-4c30-86e1-0087b234f524",
        "colab": {
          "base_uri": "https://localhost:8080/",
          "height": 306
        }
      },
      "source": [
        "svm_3 = SGDClassifier(loss='hinge', alpha=A_3, penalty=P_3, class_weight='balanced')\n",
        "svm_3_c = CalibratedClassifierCV(base_estimator=svm_1, method='sigmoid', cv=3)\n",
        "svm_3_c.fit(train_set_3x, train_set_3y)"
      ],
      "execution_count": 0,
      "outputs": [
        {
          "output_type": "execute_result",
          "data": {
            "text/plain": [
              "CalibratedClassifierCV(base_estimator=SGDClassifier(alpha=0.001, average=False,\n",
              "                                                    class_weight='balanced',\n",
              "                                                    early_stopping=False,\n",
              "                                                    epsilon=0.1, eta0=0.0,\n",
              "                                                    fit_intercept=True,\n",
              "                                                    l1_ratio=0.15,\n",
              "                                                    learning_rate='optimal',\n",
              "                                                    loss='hinge', max_iter=1000,\n",
              "                                                    n_iter_no_change=5,\n",
              "                                                    n_jobs=None, penalty='l2',\n",
              "                                                    power_t=0.5,\n",
              "                                                    random_state=None,\n",
              "                                                    shuffle=True, tol=0.001,\n",
              "                                                    validation_fraction=0.1,\n",
              "                                                    verbose=0,\n",
              "                                                    warm_start=False),\n",
              "                       cv=3, method='sigmoid')"
            ]
          },
          "metadata": {
            "tags": []
          },
          "execution_count": 59
        }
      ]
    },
    {
      "cell_type": "code",
      "metadata": {
        "id": "LW7r_pN6-MAV",
        "colab_type": "code",
        "outputId": "06ef6c52-8473-4712-9a1f-0c76e348d701",
        "colab": {
          "base_uri": "https://localhost:8080/",
          "height": 306
        }
      },
      "source": [
        "svm_4 = SGDClassifier(loss='hinge', alpha=A_4, penalty=P_4, class_weight='balanced')\n",
        "svm_4_c = CalibratedClassifierCV(base_estimator=svm_1, method='sigmoid', cv=3)\n",
        "svm_4_c.fit(train_set_4x, train_set_4y)"
      ],
      "execution_count": 0,
      "outputs": [
        {
          "output_type": "execute_result",
          "data": {
            "text/plain": [
              "CalibratedClassifierCV(base_estimator=SGDClassifier(alpha=0.001, average=False,\n",
              "                                                    class_weight='balanced',\n",
              "                                                    early_stopping=False,\n",
              "                                                    epsilon=0.1, eta0=0.0,\n",
              "                                                    fit_intercept=True,\n",
              "                                                    l1_ratio=0.15,\n",
              "                                                    learning_rate='optimal',\n",
              "                                                    loss='hinge', max_iter=1000,\n",
              "                                                    n_iter_no_change=5,\n",
              "                                                    n_jobs=None, penalty='l2',\n",
              "                                                    power_t=0.5,\n",
              "                                                    random_state=None,\n",
              "                                                    shuffle=True, tol=0.001,\n",
              "                                                    validation_fraction=0.1,\n",
              "                                                    verbose=0,\n",
              "                                                    warm_start=False),\n",
              "                       cv=3, method='sigmoid')"
            ]
          },
          "metadata": {
            "tags": []
          },
          "execution_count": 60
        }
      ]
    },
    {
      "cell_type": "markdown",
      "metadata": {
        "id": "Pkw2LAfLOc1g",
        "colab_type": "text"
      },
      "source": [
        "## 5. Test Models"
      ]
    },
    {
      "cell_type": "code",
      "metadata": {
        "id": "6pogAOgAS9Cg",
        "colab_type": "code",
        "colab": {}
      },
      "source": [
        "from sklearn.metrics import roc_curve, auc, confusion_matrix\n",
        "\n",
        "def find_best_threshold(threshold, fpr, tpr):\n",
        "  t = threshold[np.argmax(tpr*(1-fpr))]\n",
        "  # (tpr*(1-fpr)) will be maximum if your fpr is very low and tpr is very high\n",
        "  print(\"The maximum value of tpr*(1-fpr) is \", max(tpr*(1-fpr)), \"for threshold:\", np.round(t,3))\n",
        "  return t\n",
        "\n",
        "def predict_with_best_t(proba, threshold):\n",
        "  predictions = []\n",
        "  for i in proba:\n",
        "    if i>=threshold:\n",
        "      predictions.append(1)\n",
        "    else:\n",
        "      predictions.append(0)\n",
        "  return predictions"
      ],
      "execution_count": 0,
      "outputs": []
    },
    {
      "cell_type": "code",
      "metadata": {
        "id": "3XfEKW6QViCx",
        "colab_type": "code",
        "outputId": "7b8bad76-689f-4fc5-f8b2-3cc14a9e1838",
        "colab": {
          "base_uri": "https://localhost:8080/",
          "height": 669
        }
      },
      "source": [
        "y_train_pred = svm_1_c.predict_proba(train_set_1x)[:,1]\n",
        "y_test_pred = svm_1_c.predict_proba(test_set_1x)[:,1]\n",
        "\n",
        "train_fpr, train_tpr, tr_thresholds = roc_curve(train_set_1y, y_train_pred)\n",
        "test_fpr, test_tpr, te_thresholds = roc_curve(test_set_1y, y_test_pred)\n",
        "\n",
        "tr_auc_1 = auc(train_fpr, train_tpr)\n",
        "te_auc_1 = auc(test_fpr, test_tpr)\n",
        "\n",
        "plt.plot(train_fpr, train_tpr, label=\"Train AUC =\"+str(tr_auc_1))\n",
        "plt.plot(test_fpr, test_tpr, label=\"Test AUC =\"+str(te_auc_1))\n",
        "plt.legend()\n",
        "plt.xlabel(\"False Positive Rate\")\n",
        "plt.ylabel(\"True Positive Rate\")\n",
        "plt.title(\"ROC CURVE FOR SVM ON TEST SET 1\")\n",
        "plt.grid()\n",
        "plt.show()\n",
        "\n",
        "print(\"*\"*100+'\\n')\n",
        "print(\"CONFUSION MATRIX FOR TRAIN DATA:\")\n",
        "best_t = find_best_threshold(tr_thresholds, train_fpr, train_tpr)\n",
        "conf_mat = confusion_matrix(train_set_1y, predict_with_best_t(y_train_pred, best_t))\n",
        "conf_table = PrettyTable()\n",
        "conf_table.hrules = ALL\n",
        "conf_table.field_names = ['', 'PREDICTED NO', 'PREDICTED YES']\n",
        "conf_table.add_row(['ACTUAL NO', conf_mat[0][0], conf_mat[0][1]])\n",
        "conf_table.add_row(['ACTUAL YES', conf_mat[1][0], conf_mat[1][1]])\n",
        "print(conf_table)\n",
        "print(\"*\"*100+'\\n')\n",
        "print(\"CONFUSION MATRIX FOR TEST DATA:\")\n",
        "best_t = find_best_threshold(te_thresholds, test_fpr, test_tpr)\n",
        "conf_mat = confusion_matrix(test_set_1y, predict_with_best_t(y_test_pred, best_t))\n",
        "conf_table = PrettyTable()\n",
        "conf_table.hrules = ALL\n",
        "conf_table.field_names = ['', 'PREDICTED NO', 'PREDICTED YES']\n",
        "conf_table.add_row(['ACTUAL NO', conf_mat[0][0], conf_mat[0][1]])\n",
        "conf_table.add_row(['ACTUAL YES', conf_mat[1][0], conf_mat[1][1]])\n",
        "print(conf_table)\n"
      ],
      "execution_count": 0,
      "outputs": [
        {
          "output_type": "display_data",
          "data": {
            "image/png": "[encoded data removed]",
            "text/plain": [
              "<Figure size 432x288 with 1 Axes>"
            ]
          },
          "metadata": {
            "tags": []
          }
        },
        {
          "output_type": "stream",
          "text": [
            "****************************************************************************************************\n",
            "\n",
            "CONFUSION MATRIX FOR TRAIN DATA:\n",
            "The maximum value of tpr*(1-fpr) is  0.6555407685555995 for threshold: 0.824\n",
            "+------------+--------------+---------------+\n",
            "|            | PREDICTED NO | PREDICTED YES |\n",
            "+------------+--------------+---------------+\n",
            "| ACTUAL NO  |     5061     |      996      |\n",
            "+------------+--------------+---------------+\n",
            "| ACTUAL YES |     7313     |     26630     |\n",
            "+------------+--------------+---------------+\n",
            "****************************************************************************************************\n",
            "\n",
            "CONFUSION MATRIX FOR TEST DATA:\n",
            "The maximum value of tpr*(1-fpr) is  0.41302155605736207 for threshold: 0.846\n",
            "+------------+--------------+---------------+\n",
            "|            | PREDICTED NO | PREDICTED YES |\n",
            "+------------+--------------+---------------+\n",
            "| ACTUAL NO  |     1015     |      499      |\n",
            "+------------+--------------+---------------+\n",
            "| ACTUAL YES |     3258     |      5228     |\n",
            "+------------+--------------+---------------+\n"
          ],
          "name": "stdout"
        }
      ]
    },
    {
      "cell_type": "code",
      "metadata": {
        "colab_type": "code",
        "id": "AFWA58lSXVoZ",
        "outputId": "0fbab796-40d4-47b2-9983-0f03531fec43",
        "colab": {
          "base_uri": "https://localhost:8080/",
          "height": 669
        }
      },
      "source": [
        "y_train_pred = svm_2_c.predict_proba(train_set_2x)[:,1]\n",
        "y_test_pred = svm_2_c.predict_proba(test_set_2x)[:,1]\n",
        "\n",
        "train_fpr, train_tpr, tr_thresholds = roc_curve(train_set_2y, y_train_pred)\n",
        "test_fpr, test_tpr, te_thresholds = roc_curve(test_set_2y, y_test_pred)\n",
        "\n",
        "tr_auc_2 = auc(train_fpr, train_tpr)\n",
        "te_auc_2 = auc(test_fpr, test_tpr)\n",
        "\n",
        "plt.plot(train_fpr, train_tpr, label=\"Train AUC =\"+str(tr_auc_2))\n",
        "plt.plot(test_fpr, test_tpr, label=\"Test AUC =\"+str(te_auc_2))\n",
        "plt.legend()\n",
        "plt.xlabel(\"False Positive Rate\")\n",
        "plt.ylabel(\"True Positive Rate\")\n",
        "plt.title(\"ROC CURVE FOR SVM ON TEST SET 2\")\n",
        "plt.grid()\n",
        "plt.show()\n",
        "\n",
        "print(\"*\"*100+'\\n')\n",
        "print(\"CONFUSION MATRIX FOR TRAIN DATA:\")\n",
        "best_t = find_best_threshold(tr_thresholds, train_fpr, train_tpr)\n",
        "conf_mat = confusion_matrix(train_set_2y, predict_with_best_t(y_train_pred, best_t))\n",
        "conf_table = PrettyTable()\n",
        "conf_table.hrules = ALL\n",
        "conf_table.field_names = ['', 'PREDICTED NO', 'PREDICTED YES']\n",
        "conf_table.add_row(['ACTUAL NO', conf_mat[0][0], conf_mat[0][1]])\n",
        "conf_table.add_row(['ACTUAL YES', conf_mat[1][0], conf_mat[1][1]])\n",
        "print(conf_table)\n",
        "print(\"*\"*100+'\\n')\n",
        "print(\"CONFUSION MATRIX FOR TEST DATA:\")\n",
        "best_t = find_best_threshold(te_thresholds, test_fpr, test_tpr)\n",
        "conf_mat = confusion_matrix(test_set_2y, predict_with_best_t(y_test_pred, best_t))\n",
        "conf_table = PrettyTable()\n",
        "conf_table.hrules = ALL\n",
        "conf_table.field_names = ['', 'PREDICTED NO', 'PREDICTED YES']\n",
        "conf_table.add_row(['ACTUAL NO', conf_mat[0][0], conf_mat[0][1]])\n",
        "conf_table.add_row(['ACTUAL YES', conf_mat[1][0], conf_mat[1][1]])\n",
        "print(conf_table)"
      ],
      "execution_count": 0,
      "outputs": [
        {
          "output_type": "display_data",
          "data": {
            "image/png": "[encoded data removed]",
            "text/plain": [
              "<Figure size 432x288 with 1 Axes>"
            ]
          },
          "metadata": {
            "tags": []
          }
        },
        {
          "output_type": "stream",
          "text": [
            "****************************************************************************************************\n",
            "\n",
            "CONFUSION MATRIX FOR TRAIN DATA:\n",
            "The maximum value of tpr*(1-fpr) is  0.5057988498826012 for threshold: 0.843\n",
            "+------------+--------------+---------------+\n",
            "|            | PREDICTED NO | PREDICTED YES |\n",
            "+------------+--------------+---------------+\n",
            "| ACTUAL NO  |     4389     |      1668     |\n",
            "+------------+--------------+---------------+\n",
            "| ACTUAL YES |    10250     |     23693     |\n",
            "+------------+--------------+---------------+\n",
            "****************************************************************************************************\n",
            "\n",
            "CONFUSION MATRIX FOR TEST DATA:\n",
            "The maximum value of tpr*(1-fpr) is  0.43558050854449526 for threshold: 0.84\n",
            "+------------+--------------+---------------+\n",
            "|            | PREDICTED NO | PREDICTED YES |\n",
            "+------------+--------------+---------------+\n",
            "| ACTUAL NO  |     949      |      565      |\n",
            "+------------+--------------+---------------+\n",
            "| ACTUAL YES |     2589     |      5897     |\n",
            "+------------+--------------+---------------+\n"
          ],
          "name": "stdout"
        }
      ]
    },
    {
      "cell_type": "code",
      "metadata": {
        "colab_type": "code",
        "id": "VGG9IHUlYSzR",
        "outputId": "f009bc65-efd2-44ec-e53d-37203886467f",
        "colab": {
          "base_uri": "https://localhost:8080/",
          "height": 669
        }
      },
      "source": [
        "y_train_pred = svm_3_c.predict_proba(train_set_3x)[:,1]\n",
        "y_test_pred = svm_3_c.predict_proba(test_set_3x)[:,1]\n",
        "\n",
        "train_fpr, train_tpr, tr_thresholds = roc_curve(train_set_3y, y_train_pred)\n",
        "test_fpr, test_tpr, te_thresholds = roc_curve(test_set_3y, y_test_pred)\n",
        "\n",
        "tr_auc_3 = auc(train_fpr, train_tpr)\n",
        "te_auc_3 = auc(test_fpr, test_tpr)\n",
        "\n",
        "plt.plot(train_fpr, train_tpr, label=\"Train AUC =\"+str(tr_auc_3))\n",
        "plt.plot(test_fpr, test_tpr, label=\"Test AUC =\"+str(te_auc_3))\n",
        "plt.legend()\n",
        "plt.xlabel(\"False Positive Rate\")\n",
        "plt.ylabel(\"True Positive Rate\")\n",
        "plt.title(\"ROC CURVE FOR Logistic Regression ON TEST SET 3\")\n",
        "plt.grid()\n",
        "plt.show()\n",
        "\n",
        "print(\"*\"*100+'\\n')\n",
        "print(\"CONFUSION MATRIX FOR TRAIN DATA:\")\n",
        "best_t = find_best_threshold(tr_thresholds, train_fpr, train_tpr)\n",
        "conf_mat = confusion_matrix(train_set_3y, predict_with_best_t(y_train_pred, best_t))\n",
        "conf_table = PrettyTable()\n",
        "conf_table.hrules = ALL\n",
        "conf_table.field_names = ['', 'PREDICTED NO', 'PREDICTED YES']\n",
        "conf_table.add_row(['ACTUAL NO', conf_mat[0][0], conf_mat[0][1]])\n",
        "conf_table.add_row(['ACTUAL YES', conf_mat[1][0], conf_mat[1][1]])\n",
        "print(conf_table)\n",
        "print(\"*\"*100+'\\n')\n",
        "print(\"CONFUSION MATRIX FOR TEST DATA:\")\n",
        "best_t = find_best_threshold(te_thresholds, test_fpr, test_tpr)\n",
        "conf_mat = confusion_matrix(test_set_3y, predict_with_best_t(y_test_pred, best_t))\n",
        "conf_table = PrettyTable()\n",
        "conf_table.hrules = ALL\n",
        "conf_table.field_names = ['', 'PREDICTED NO', 'PREDICTED YES']\n",
        "conf_table.add_row(['ACTUAL NO', conf_mat[0][0], conf_mat[0][1]])\n",
        "conf_table.add_row(['ACTUAL YES', conf_mat[1][0], conf_mat[1][1]])\n",
        "print(conf_table)"
      ],
      "execution_count": 0,
      "outputs": [
        {
          "output_type": "display_data",
          "data": {
            "image/png": "[encoded data removed]",
            "text/plain": [
              "<Figure size 432x288 with 1 Axes>"
            ]
          },
          "metadata": {
            "tags": []
          }
        },
        {
          "output_type": "stream",
          "text": [
            "****************************************************************************************************\n",
            "\n",
            "CONFUSION MATRIX FOR TRAIN DATA:\n",
            "The maximum value of tpr*(1-fpr) is  0.4907241209102747 for threshold: 0.838\n",
            "+------------+--------------+---------------+\n",
            "|            | PREDICTED NO | PREDICTED YES |\n",
            "+------------+--------------+---------------+\n",
            "| ACTUAL NO  |     4206     |      1851     |\n",
            "+------------+--------------+---------------+\n",
            "| ACTUAL YES |     9956     |     23987     |\n",
            "+------------+--------------+---------------+\n",
            "****************************************************************************************************\n",
            "\n",
            "CONFUSION MATRIX FOR TEST DATA:\n",
            "The maximum value of tpr*(1-fpr) is  0.4321088646744611 for threshold: 0.845\n",
            "+------------+--------------+---------------+\n",
            "|            | PREDICTED NO | PREDICTED YES |\n",
            "+------------+--------------+---------------+\n",
            "| ACTUAL NO  |     975      |      539      |\n",
            "+------------+--------------+---------------+\n",
            "| ACTUAL YES |     2792     |      5694     |\n",
            "+------------+--------------+---------------+\n"
          ],
          "name": "stdout"
        }
      ]
    },
    {
      "cell_type": "code",
      "metadata": {
        "colab_type": "code",
        "id": "seFOLecPYT6Q",
        "outputId": "dc885e2f-78ea-4d51-cd29-d0cb7d11bbde",
        "colab": {
          "base_uri": "https://localhost:8080/",
          "height": 669
        }
      },
      "source": [
        "y_train_pred = svm_4_c.predict_proba(train_set_4x)[:,1]\n",
        "y_test_pred = svm_4_c.predict_proba(test_set_4x)[:,1]\n",
        "\n",
        "train_fpr, train_tpr, tr_thresholds = roc_curve(train_set_4y, y_train_pred)\n",
        "test_fpr, test_tpr, te_thresholds = roc_curve(test_set_4y, y_test_pred)\n",
        "\n",
        "tr_auc_4 = auc(train_fpr, train_tpr)\n",
        "te_auc_4 = auc(test_fpr, test_tpr)\n",
        "\n",
        "plt.plot(train_fpr, train_tpr, label=\"Train AUC =\"+str(tr_auc_4))\n",
        "plt.plot(test_fpr, test_tpr, label=\"Test AUC =\"+str(te_auc_4))\n",
        "plt.legend()\n",
        "plt.xlabel(\"False Positive Rate\")\n",
        "plt.ylabel(\"True Positive Rate\")\n",
        "plt.title(\"ROC CURVE FOR Logistic Regression ON TEST SET 4\")\n",
        "plt.grid()\n",
        "plt.show()\n",
        "\n",
        "print(\"*\"*100+'\\n')\n",
        "print(\"CONFUSION MATRIX FOR TRAIN DATA:\")\n",
        "best_t = find_best_threshold(tr_thresholds, train_fpr, train_tpr)\n",
        "conf_mat = confusion_matrix(train_set_4y, predict_with_best_t(y_train_pred, best_t))\n",
        "conf_table = PrettyTable()\n",
        "conf_table.hrules = ALL\n",
        "conf_table.field_names = ['', 'PREDICTED NO', 'PREDICTED YES']\n",
        "conf_table.add_row(['ACTUAL NO', conf_mat[0][0], conf_mat[0][1]])\n",
        "conf_table.add_row(['ACTUAL YES', conf_mat[1][0], conf_mat[1][1]])\n",
        "print(conf_table)\n",
        "print(\"*\"*100+'\\n')\n",
        "print(\"CONFUSION MATRIX FOR TEST DATA:\")\n",
        "best_t = find_best_threshold(te_thresholds, test_fpr, test_tpr)\n",
        "conf_mat = confusion_matrix(test_set_4y, predict_with_best_t(y_test_pred, best_t))\n",
        "conf_table = PrettyTable()\n",
        "conf_table.hrules = ALL\n",
        "conf_table.field_names = ['', 'PREDICTED NO', 'PREDICTED YES']\n",
        "conf_table.add_row(['ACTUAL NO', conf_mat[0][0], conf_mat[0][1]])\n",
        "conf_table.add_row(['ACTUAL YES', conf_mat[1][0], conf_mat[1][1]])\n",
        "print(conf_table)"
      ],
      "execution_count": 0,
      "outputs": [
        {
          "output_type": "display_data",
          "data": {
            "image/png": "[encoded data removed]",
            "text/plain": [
              "<Figure size 432x288 with 1 Axes>"
            ]
          },
          "metadata": {
            "tags": []
          }
        },
        {
          "output_type": "stream",
          "text": [
            "****************************************************************************************************\n",
            "\n",
            "CONFUSION MATRIX FOR TRAIN DATA:\n",
            "The maximum value of tpr*(1-fpr) is  0.4822320121588334 for threshold: 0.83\n",
            "+------------+--------------+---------------+\n",
            "|            | PREDICTED NO | PREDICTED YES |\n",
            "+------------+--------------+---------------+\n",
            "| ACTUAL NO  |     4047     |      2010     |\n",
            "+------------+--------------+---------------+\n",
            "| ACTUAL YES |     9445     |     24498     |\n",
            "+------------+--------------+---------------+\n",
            "****************************************************************************************************\n",
            "\n",
            "CONFUSION MATRIX FOR TEST DATA:\n",
            "The maximum value of tpr*(1-fpr) is  0.4226688078367323 for threshold: 0.835\n",
            "+------------+--------------+---------------+\n",
            "|            | PREDICTED NO | PREDICTED YES |\n",
            "+------------+--------------+---------------+\n",
            "| ACTUAL NO  |     927      |      587      |\n",
            "+------------+--------------+---------------+\n",
            "| ACTUAL YES |     2628     |      5858     |\n",
            "+------------+--------------+---------------+\n"
          ],
          "name": "stdout"
        }
      ]
    },
    {
      "cell_type": "markdown",
      "metadata": {
        "id": "ON-RL1-Ievc8",
        "colab_type": "text"
      },
      "source": [
        "## 6. SET_5: Only Numerical Features with Truncated SVD on TFIDF"
      ]
    },
    {
      "cell_type": "markdown",
      "metadata": {
        "id": "E--62PGfe6v0",
        "colab_type": "text"
      },
      "source": [
        "### 6.1 Creating SET_5"
      ]
    },
    {
      "cell_type": "code",
      "metadata": {
        "id": "ueW6QLwenlI7",
        "colab_type": "code",
        "outputId": "2421bd1b-2bc3-4151-ddb6-d81ded114359",
        "colab": {
          "base_uri": "https://localhost:8080/",
          "height": 34
        }
      },
      "source": [
        "from nltk.sentiment.vader import SentimentIntensityAnalyzer\n",
        "nltk.download('vader_lexicon')\n",
        "\n",
        "def num_words(string):\n",
        "  return len(string.split())\n",
        "\n",
        "def sent_scores(string):\n",
        "\n",
        "  sid = SentimentIntensityAnalyzer()\n",
        "  scores = sid.polarity_scores(string)\n",
        "      \n",
        "  return scores"
      ],
      "execution_count": 0,
      "outputs": [
        {
          "output_type": "stream",
          "text": [
            "[nltk_data] Downloading package vader_lexicon to /root/nltk_data...\n"
          ],
          "name": "stdout"
        }
      ]
    },
    {
      "cell_type": "markdown",
      "metadata": {
        "id": "yde3aXKtJfZ1",
        "colab_type": "text"
      },
      "source": [
        "#### 6.1.1 Getting the new features"
      ]
    },
    {
      "cell_type": "code",
      "metadata": {
        "id": "-Bx-kOsnsV78",
        "colab_type": "code",
        "outputId": "240725b5-d1e0-40db-c562-87ec6fcdb760",
        "colab": {
          "base_uri": "https://localhost:8080/",
          "height": 51
        }
      },
      "source": [
        "train_n_words_title = train_df['project_title'].map(lambda s: num_words(s)).values\n",
        "test_n_words_title = test_df['project_title'].map(lambda s: num_words(s)).values\n",
        "\n",
        "train_n_words_essay = train_df['essay'].map(lambda s: num_words(s)).values\n",
        "test_n_words_essay = test_df['essay'].map(lambda s: num_words(s)).values\n",
        "\n",
        "train_essay_sents_neg = []\n",
        "train_essay_sents_neu = []\n",
        "train_essay_sents_pos = []\n",
        "train_essay_sents_com = []\n",
        "\n",
        "for essay in tqdm(train_df['essay'].values):\n",
        "  s_scores = sent_scores(essay)\n",
        "  \n",
        "  train_essay_sents_neg.append(s_scores['neg'])\n",
        "  train_essay_sents_neu.append(s_scores['neu'])\n",
        "  train_essay_sents_pos.append(s_scores['pos'])\n",
        "  train_essay_sents_com.append(s_scores['compound'])\n",
        "\n",
        "test_essay_sents_neg = []\n",
        "test_essay_sents_neu = []\n",
        "test_essay_sents_pos = []\n",
        "test_essay_sents_com = []\n",
        "\n",
        "for essay in tqdm(test_df['essay'].values):\n",
        "  s_scores = sent_scores(essay)\n",
        "  \n",
        "  test_essay_sents_neg.append(s_scores['neg'])\n",
        "  test_essay_sents_neu.append(s_scores['neu'])\n",
        "  test_essay_sents_pos.append(s_scores['pos'])\n",
        "  test_essay_sents_com.append(s_scores['compound'])"
      ],
      "execution_count": 0,
      "outputs": [
        {
          "output_type": "stream",
          "text": [
            "100%|██████████| 40000/40000 [06:30<00:00, 102.55it/s]\n",
            "100%|██████████| 10000/10000 [01:45<00:00, 94.74it/s]\n"
          ],
          "name": "stderr"
        }
      ]
    },
    {
      "cell_type": "markdown",
      "metadata": {
        "id": "LmhLIMvdLgyZ",
        "colab_type": "text"
      },
      "source": [
        "#### 6.1.2 Standardizing the new numerical features"
      ]
    },
    {
      "cell_type": "code",
      "metadata": {
        "id": "E1U18kpgJYvk",
        "colab_type": "code",
        "colab": {}
      },
      "source": [
        "title_nw_scaler = StandardScaler()\n",
        "title_nw_scaler.fit(train_n_words_title.reshape(-1, 1))\n",
        "\n",
        "train_n_words_title = title_nw_scaler.transform(train_n_words_title.reshape(-1, 1))\n",
        "test_n_words_title = title_nw_scaler.transform(test_n_words_title.reshape(-1,1))"
      ],
      "execution_count": 0,
      "outputs": []
    },
    {
      "cell_type": "code",
      "metadata": {
        "id": "UbrThxgPdd8W",
        "colab_type": "code",
        "colab": {}
      },
      "source": [
        "essay_nw_scaler = StandardScaler()\n",
        "essay_nw_scaler.fit(train_n_words_essay.reshape(-1, 1))\n",
        "\n",
        "train_n_words_essay = title_nw_scaler.transform(train_n_words_essay.reshape(-1, 1))\n",
        "test_n_words_essay = title_nw_scaler.transform(test_n_words_essay.reshape(-1, 1))"
      ],
      "execution_count": 0,
      "outputs": []
    },
    {
      "cell_type": "code",
      "metadata": {
        "id": "wpOgZmiP6Ko8",
        "colab_type": "code",
        "colab": {}
      },
      "source": [
        "train_essay_sents_neg = np.asarray(train_essay_sents_neg)\n",
        "train_essay_sents_neu = np.asarray(train_essay_sents_neu)\n",
        "train_essay_sents_pos = np.asarray(train_essay_sents_pos)\n",
        "train_essay_sents_com = np.asarray(train_essay_sents_com)\n",
        "\n",
        "test_essay_sents_neg = np.asarray(test_essay_sents_neg)\n",
        "test_essay_sents_neu = np.asarray(test_essay_sents_neu)\n",
        "test_essay_sents_pos = np.asarray(test_essay_sents_pos)\n",
        "test_essay_sents_com = np.asarray(test_essay_sents_com)"
      ],
      "execution_count": 0,
      "outputs": []
    },
    {
      "cell_type": "code",
      "metadata": {
        "id": "hZ3fqD88dybe",
        "colab_type": "code",
        "colab": {}
      },
      "source": [
        "neg_sents_scaler = StandardScaler()\n",
        "neg_sents_scaler.fit(train_essay_sents_neg.reshape(-1,1))\n",
        "\n",
        "neu_sents_scaler = StandardScaler()\n",
        "neu_sents_scaler.fit(train_essay_sents_neu.reshape(-1,1))\n",
        "\n",
        "pos_sents_scaler = StandardScaler()\n",
        "pos_sents_scaler.fit(train_essay_sents_pos.reshape(-1,1))\n",
        "\n",
        "com_sents_scaler = StandardScaler()\n",
        "com_sents_scaler.fit(train_essay_sents_com.reshape(-1,1))\n",
        "\n",
        "train_essay_sents_neg = neg_sents_scaler.transform(train_essay_sents_neg.reshape(-1,1))\n",
        "train_essay_sents_neu = neu_sents_scaler.transform(train_essay_sents_neu.reshape(-1,1))\n",
        "train_essay_sents_pos = pos_sents_scaler.transform(train_essay_sents_pos.reshape(-1,1))\n",
        "train_essay_sents_com = com_sents_scaler.transform(train_essay_sents_com.reshape(-1,1))\n",
        "\n",
        "test_essay_sents_neg = neg_sents_scaler.transform(test_essay_sents_neg.reshape(-1,1))\n",
        "test_essay_sents_neu = neu_sents_scaler.transform(test_essay_sents_neu.reshape(-1,1))\n",
        "test_essay_sents_pos = pos_sents_scaler.transform(test_essay_sents_pos.reshape(-1,1))\n",
        "test_essay_sents_com = com_sents_scaler.transform(test_essay_sents_com.reshape(-1,1))"
      ],
      "execution_count": 0,
      "outputs": []
    },
    {
      "cell_type": "code",
      "metadata": {
        "id": "s5AkvbS7_iIh",
        "colab_type": "code",
        "colab": {}
      },
      "source": [
        "from sklearn.decomposition import TruncatedSVD\n",
        "\n",
        "svd = TruncatedSVD(n_components=4999, random_state=41)\n",
        "svd.fit(essay_train_tfidf)\n",
        "\n",
        "cum_var_explained = np.cumsum(svd.explained_variance_ratio_)"
      ],
      "execution_count": 0,
      "outputs": []
    },
    {
      "cell_type": "code",
      "metadata": {
        "id": "C2FswEG-EiQl",
        "colab_type": "code",
        "outputId": "885d3a78-5c55-49b0-a457-fb5b745bd6f1",
        "colab": {
          "base_uri": "https://localhost:8080/",
          "height": 295
        }
      },
      "source": [
        "components = [x for x in range(4999)]\n",
        "\n",
        "plt.plot(components, cum_var_explained, label=\"Explained Variance\")\n",
        "plt.legend()\n",
        "plt.xlabel(\"Number of components\")\n",
        "plt.ylabel(\"Cumulative Explained Variance\")\n",
        "plt.title(\"Elbow graph for dimensionality reduction\")\n",
        "plt.grid()\n",
        "plt.show()"
      ],
      "execution_count": 0,
      "outputs": [
        {
          "output_type": "display_data",
          "data": {
            "image/png": "[encoded data removed]",
            "text/plain": [
              "<Figure size 432x288 with 1 Axes>"
            ]
          },
          "metadata": {
            "tags": []
          }
        }
      ]
    },
    {
      "cell_type": "markdown",
      "metadata": {
        "id": "7v9EcbyRHBiC",
        "colab_type": "text"
      },
      "source": [
        "Let us take **n_components = 2000** which explains 80% of the variance in TFIDF data."
      ]
    },
    {
      "cell_type": "code",
      "metadata": {
        "id": "3QCR6iROHQGz",
        "colab_type": "code",
        "colab": {}
      },
      "source": [
        "svd = TruncatedSVD(n_components=2000, random_state=41)\n",
        "svd.fit(essay_train_tfidf)\n",
        "reduced_tfidf_train = svd.transform(essay_train_tfidf)\n",
        "reduced_tfidf_test = svd.transform(essay_test_tfidf)"
      ],
      "execution_count": 0,
      "outputs": []
    },
    {
      "cell_type": "code",
      "metadata": {
        "id": "2ECP331tI6xC",
        "colab_type": "code",
        "outputId": "1ccee8a8-4d41-4d26-e58f-be4b6a8e003b",
        "colab": {
          "base_uri": "https://localhost:8080/",
          "height": 51
        }
      },
      "source": [
        "print(reduced_tfidf_train.shape)\n",
        "print(reduced_tfidf_test.shape)"
      ],
      "execution_count": 0,
      "outputs": [
        {
          "output_type": "stream",
          "text": [
            "(40000, 2000)\n",
            "(10000, 2000)\n"
          ],
          "name": "stdout"
        }
      ]
    },
    {
      "cell_type": "code",
      "metadata": {
        "id": "tigB5XsnGIms",
        "colab_type": "code",
        "colab": {}
      },
      "source": [
        "train_set_5x = sparse.hstack((train_df_teacher_prefix, train_df_school_state, train_df_project_grade_category, train_df_clean_categories, train_df_clean_subcategories, train_df_price, train_df_quantity, train_df_pposts, train_n_words_title, train_n_words_essay, train_essay_sents_neg, train_essay_sents_neu, train_essay_sents_pos, train_essay_sents_com, reduced_tfidf_train))\n",
        "train_set_5y = train_df['project_is_approved'].to_numpy()\n",
        "\n",
        "test_set_5x = sparse.hstack((test_df_teacher_prefix, test_df_school_state, test_df_project_grade_category, test_df_clean_categories, test_df_clean_subcategories, test_df_price, test_df_quantity, test_df_pposts, test_n_words_title, test_n_words_essay, test_essay_sents_neg, test_essay_sents_neu, test_essay_sents_pos, test_essay_sents_com, reduced_tfidf_test))\n",
        "test_set_5y = test_df['project_is_approved'].to_numpy()"
      ],
      "execution_count": 0,
      "outputs": []
    },
    {
      "cell_type": "code",
      "metadata": {
        "id": "PuUUMsmJ2Rx5",
        "colab_type": "code",
        "outputId": "80c16caf-579b-4691-a5f7-85aeb5ef4690",
        "colab": {
          "base_uri": "https://localhost:8080/",
          "height": 85
        }
      },
      "source": [
        "print(train_set_5x.shape)\n",
        "print(test_set_5x.shape)\n",
        "print(train_set_5y.shape)\n",
        "print(test_set_5y.shape)"
      ],
      "execution_count": 0,
      "outputs": [
        {
          "output_type": "stream",
          "text": [
            "(40000, 2109)\n",
            "(10000, 2109)\n",
            "(40000,)\n",
            "(10000,)\n"
          ],
          "name": "stdout"
        }
      ]
    },
    {
      "cell_type": "markdown",
      "metadata": {
        "id": "yzHP-UUDuxfM",
        "colab_type": "text"
      },
      "source": [
        "### 6.2 Apply KNN on SET_5"
      ]
    },
    {
      "cell_type": "markdown",
      "metadata": {
        "id": "9LlHYQ9CvF5N",
        "colab_type": "text"
      },
      "source": [
        "#### 6.2.1 Hyper-parameter tuning"
      ]
    },
    {
      "cell_type": "code",
      "metadata": {
        "id": "XaHquoM4uw9P",
        "colab_type": "code",
        "outputId": "03b34177-d08d-49dc-f66f-5d295c475b83",
        "colab": {
          "base_uri": "https://localhost:8080/",
          "height": 709
        }
      },
      "source": [
        "#For SET_5\n",
        "\n",
        "#With penalty L1\n",
        "svm_model = SGDClassifier(loss='hinge', penalty='l1', class_weight='balanced')\n",
        "parameters = {'alpha':[10**x for x in range(-4, 5)]}\n",
        "clf = RandomizedSearchCV(svm_model, parameters, cv=3, n_iter=9, scoring='roc_auc', verbose=2, return_train_score=True, n_jobs=10)\n",
        "clf.fit(train_set_5x, train_set_5y)\n",
        "\n",
        "results = pd.DataFrame.from_dict(clf.cv_results_)\n",
        "results_plt = results.sort_values(['param_alpha'])\n",
        "\n",
        "train_auc= results_plt['mean_train_score']\n",
        "\n",
        "cv_auc = results_plt['mean_test_score'] \n",
        "\n",
        "K = results_plt['param_alpha']\n",
        "\n",
        "K = K.map(lambda a: math.log10(1/a))\n",
        "\n",
        "plt.plot(K, train_auc, label='Train AUC')\n",
        "plt.plot(K, cv_auc, label='CV AUC')\n",
        "plt.scatter(K, train_auc, label='Train AUC points')\n",
        "plt.scatter(K, cv_auc, label='CV AUC points')\n",
        "\n",
        "plt.legend()\n",
        "plt.xlabel(\"log10(alpha): hyperparameter\")\n",
        "plt.ylabel(\"AUC\")\n",
        "plt.title(\"Hyper parameter Vs AUC plot with L1 penalty\")\n",
        "plt.grid()\n",
        "plt.show()\n",
        "\n",
        "#With penalty L2\n",
        "svm_model = SGDClassifier(loss='hinge', penalty='l2', class_weight='balanced')\n",
        "parameters = {'alpha':[10**x for x in range(-4, 5)]}\n",
        "clf = RandomizedSearchCV(svm_model, parameters, cv=3, n_iter=9, scoring='roc_auc', verbose=2, return_train_score=True, n_jobs=10)\n",
        "clf.fit(train_set_5x, train_set_5y)\n",
        "\n",
        "results = pd.DataFrame.from_dict(clf.cv_results_)\n",
        "results_plt = results.sort_values(['param_alpha'])\n",
        "\n",
        "train_auc= results_plt['mean_train_score']\n",
        "\n",
        "cv_auc = results_plt['mean_test_score'] \n",
        "\n",
        "K = results_plt['param_alpha']\n",
        "\n",
        "K = K.map(lambda a: math.log10(a))\n",
        "\n",
        "plt.plot(K, train_auc, label='Train AUC')\n",
        "plt.plot(K, cv_auc, label='CV AUC')\n",
        "plt.scatter(K, train_auc, label='Train AUC points')\n",
        "plt.scatter(K, cv_auc, label='CV AUC points')\n",
        "\n",
        "plt.legend()\n",
        "plt.xlabel(\"log10(alpha): hyperparameter\")\n",
        "plt.ylabel(\"AUC\")\n",
        "plt.title(\"Hyper parameter Vs AUC plot with L2 penalty\")\n",
        "plt.grid()\n",
        "plt.show()"
      ],
      "execution_count": 0,
      "outputs": [
        {
          "output_type": "stream",
          "text": [
            "Fitting 3 folds for each of 9 candidates, totalling 27 fits\n"
          ],
          "name": "stdout"
        },
        {
          "output_type": "stream",
          "text": [
            "[Parallel(n_jobs=10)]: Using backend LokyBackend with 10 concurrent workers.\n",
            "[Parallel(n_jobs=10)]: Done  22 out of  27 | elapsed:  1.4min remaining:   19.6s\n",
            "[Parallel(n_jobs=10)]: Done  27 out of  27 | elapsed: 11.6min finished\n"
          ],
          "name": "stderr"
        },
        {
          "output_type": "display_data",
          "data": {
            "image/png": "[encoded data removed]",
            "text/plain": [
              "<Figure size 432x288 with 1 Axes>"
            ]
          },
          "metadata": {
            "tags": []
          }
        },
        {
          "output_type": "stream",
          "text": [
            "Fitting 3 folds for each of 9 candidates, totalling 27 fits\n"
          ],
          "name": "stdout"
        },
        {
          "output_type": "stream",
          "text": [
            "[Parallel(n_jobs=10)]: Using backend LokyBackend with 10 concurrent workers.\n",
            "[Parallel(n_jobs=10)]: Done  22 out of  27 | elapsed:   37.4s remaining:    8.5s\n",
            "[Parallel(n_jobs=10)]: Done  27 out of  27 | elapsed:   54.3s finished\n"
          ],
          "name": "stderr"
        },
        {
          "output_type": "display_data",
          "data": {
            "image/png": "[encoded data removed]",
            "text/plain": [
              "<Figure size 432x288 with 1 Axes>"
            ]
          },
          "metadata": {
            "tags": []
          }
        }
      ]
    },
    {
      "cell_type": "code",
      "metadata": {
        "id": "WyGOQ1A2wQ-l",
        "colab_type": "code",
        "colab": {}
      },
      "source": [
        "A_5 = 10**(4)\n",
        "P_5 = 'l1'"
      ],
      "execution_count": 0,
      "outputs": []
    },
    {
      "cell_type": "markdown",
      "metadata": {
        "id": "8k37b1S2wDaZ",
        "colab_type": "text"
      },
      "source": [
        "#### 6.2.2 Test Model"
      ]
    },
    {
      "cell_type": "code",
      "metadata": {
        "id": "lvmwr0mSwCu1",
        "colab_type": "code",
        "outputId": "c6fb06a7-c9af-44cd-94f7-7648210cb357",
        "colab": {
          "base_uri": "https://localhost:8080/",
          "height": 669
        }
      },
      "source": [
        "svm_5 = SGDClassifier(loss='hinge', alpha=A_5, penalty=P_5, class_weight='balanced')\n",
        "svm_5_c = CalibratedClassifierCV(base_estimator=svm_1, method='sigmoid', cv=3)\n",
        "svm_5_c.fit(train_set_5x, train_set_5y)\n",
        "\n",
        "y_train_pred = svm_5_c.predict_proba(train_set_5x)[:,1]\n",
        "y_test_pred = svm_5_c.predict_proba(test_set_5x)[:,1]\n",
        "\n",
        "train_fpr, train_tpr, tr_thresholds = roc_curve(train_set_5y, y_train_pred)\n",
        "test_fpr, test_tpr, te_thresholds = roc_curve(test_set_5y, y_test_pred)\n",
        "\n",
        "tr_auc_5 = auc(train_fpr, train_tpr)\n",
        "te_auc_5 = auc(test_fpr, test_tpr)\n",
        "\n",
        "plt.plot(train_fpr, train_tpr, label=\"Train AUC =\"+str(tr_auc_5))\n",
        "plt.plot(test_fpr, test_tpr, label=\"Test AUC =\"+str(te_auc_5))\n",
        "plt.legend()\n",
        "plt.xlabel(\"False Positive Rate\")\n",
        "plt.ylabel(\"True Positive Rate\")\n",
        "plt.title(\"ROC CURVE FOR SVM ON TEST SET 1\")\n",
        "plt.grid()\n",
        "plt.show()\n",
        "\n",
        "print(\"*\"*100+'\\n')\n",
        "print(\"CONFUSION MATRIX FOR TRAIN DATA:\")\n",
        "best_t = find_best_threshold(tr_thresholds, train_fpr, train_tpr)\n",
        "conf_mat = confusion_matrix(train_set_5y, predict_with_best_t(y_train_pred, best_t))\n",
        "conf_table = PrettyTable()\n",
        "conf_table.hrules = ALL\n",
        "conf_table.field_names = ['', 'PREDICTED NO', 'PREDICTED YES']\n",
        "conf_table.add_row(['ACTUAL NO', conf_mat[0][0], conf_mat[0][1]])\n",
        "conf_table.add_row(['ACTUAL YES', conf_mat[1][0], conf_mat[1][1]])\n",
        "print(conf_table)\n",
        "print(\"*\"*100+'\\n')\n",
        "print(\"CONFUSION MATRIX FOR TEST DATA:\")\n",
        "best_t = find_best_threshold(te_thresholds, test_fpr, test_tpr)\n",
        "conf_mat = confusion_matrix(test_set_5y, predict_with_best_t(y_test_pred, best_t))\n",
        "conf_table = PrettyTable()\n",
        "conf_table.hrules = ALL\n",
        "conf_table.field_names = ['', 'PREDICTED NO', 'PREDICTED YES']\n",
        "conf_table.add_row(['ACTUAL NO', conf_mat[0][0], conf_mat[0][1]])\n",
        "conf_table.add_row(['ACTUAL YES', conf_mat[1][0], conf_mat[1][1]])\n",
        "print(conf_table)\n"
      ],
      "execution_count": 0,
      "outputs": [
        {
          "output_type": "display_data",
          "data": {
            "image/png": "[encoded data removed]",
            "text/plain": [
              "<Figure size 432x288 with 1 Axes>"
            ]
          },
          "metadata": {
            "tags": []
          }
        },
        {
          "output_type": "stream",
          "text": [
            "****************************************************************************************************\n",
            "\n",
            "CONFUSION MATRIX FOR TRAIN DATA:\n",
            "The maximum value of tpr*(1-fpr) is  0.4138378108477181 for threshold: 0.847\n",
            "+------------+--------------+---------------+\n",
            "|            | PREDICTED NO | PREDICTED YES |\n",
            "+------------+--------------+---------------+\n",
            "| ACTUAL NO  |     3943     |      2114     |\n",
            "+------------+--------------+---------------+\n",
            "| ACTUAL YES |    12365     |     21578     |\n",
            "+------------+--------------+---------------+\n",
            "****************************************************************************************************\n",
            "\n",
            "CONFUSION MATRIX FOR TEST DATA:\n",
            "The maximum value of tpr*(1-fpr) is  0.3892600634318519 for threshold: 0.844\n",
            "+------------+--------------+---------------+\n",
            "|            | PREDICTED NO | PREDICTED YES |\n",
            "+------------+--------------+---------------+\n",
            "| ACTUAL NO  |     899      |      615      |\n",
            "+------------+--------------+---------------+\n",
            "| ACTUAL YES |     2923     |      5563     |\n",
            "+------------+--------------+---------------+\n"
          ],
          "name": "stdout"
        }
      ]
    },
    {
      "cell_type": "markdown",
      "metadata": {
        "id": "mXwg2WyfOWn7",
        "colab_type": "text"
      },
      "source": [
        "## 7. Summary table "
      ]
    },
    {
      "cell_type": "code",
      "metadata": {
        "id": "NxMvWhrzYxAP",
        "colab_type": "code",
        "outputId": "52fb9c8a-441d-4427-bd05-25407afbf485",
        "colab": {
          "base_uri": "https://localhost:8080/",
          "height": 170
        }
      },
      "source": [
        "summ = PrettyTable()\n",
        "\n",
        "summ.field_names = [\"Data Set\", \"Model\", \"C: Hyperparameter\", \"Penalty: Hyperparamter\", \"AUC on Test data\"]\n",
        "\n",
        "summ.add_row([\"Text encoded as BOW\", \"SVM with calibration\", A_1, P_1, np.round(te_auc_1, 4)])\n",
        "summ.add_row([\"Text encoded as TFIDF\", \"SVM with calibration\", A_2, P_2, np.round(te_auc_2, 4)])\n",
        "summ.add_row([\"Text encoded as AVG_W2V\", \"SVM with calibration\", A_3, P_3, np.round(te_auc_3, 4)])\n",
        "summ.add_row([\"Text encoded as TFIDF_W2V\", \"SVM with calibration\", A_4, P_4, np.round(te_auc_4, 4)])\n",
        "summ.add_row([\"Numerical features of text\", \"SVM with calibration\", A_5, P_5, np.round(te_auc_5, 4)])\n",
        "\n",
        "print(summ)"
      ],
      "execution_count": 0,
      "outputs": [
        {
          "output_type": "stream",
          "text": [
            "+----------------------------+----------------------+-------------------+------------------------+------------------+\n",
            "|          Data Set          |        Model         | C: Hyperparameter | Penalty: Hyperparamter | AUC on Test data |\n",
            "+----------------------------+----------------------+-------------------+------------------------+------------------+\n",
            "|    Text encoded as BOW     | SVM with calibration |        0.1        |           l2           |      0.6902      |\n",
            "|   Text encoded as TFIDF    | SVM with calibration |       0.001       |           l2           |      0.7137      |\n",
            "|  Text encoded as AVG_W2V   | SVM with calibration |       0.001       |           l2           |      0.7091      |\n",
            "| Text encoded as TFIDF_W2V  | SVM with calibration |       0.001       |           l2           |      0.706       |\n",
            "| Numerical features of text | SVM with calibration |       10000       |           l1           |      0.6722      |\n",
            "+----------------------------+----------------------+-------------------+------------------------+------------------+\n"
          ],
          "name": "stdout"
        }
      ]
    }
  ]
}